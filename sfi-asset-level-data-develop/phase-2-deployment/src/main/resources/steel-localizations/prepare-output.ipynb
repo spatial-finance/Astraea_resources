{
 "cells": [
  {
   "cell_type": "code",
   "execution_count": 1,
   "metadata": {},
   "outputs": [],
   "source": [
    "import os\n",
    "import geopandas as gpd\n",
    "import pandas as pd\n",
    "import fiona"
   ]
  },
  {
   "cell_type": "code",
   "execution_count": 2,
   "metadata": {},
   "outputs": [],
   "source": [
    "# Enable fiona driver\n",
    "gpd.io.file.fiona.drvsupport.supported_drivers['KML'] = 'rw'"
   ]
  },
  {
   "cell_type": "markdown",
   "metadata": {},
   "source": [
    "### Read in Data"
   ]
  },
  {
   "cell_type": "code",
   "execution_count": 3,
   "metadata": {},
   "outputs": [],
   "source": [
    "# read in annotations\n",
    "df_annotations = pd.DataFrame()\n",
    "\n",
    "for path, subdirs, files in os.walk('Completed'):\n",
    "    for name in files:\n",
    "        if name.endswith(\".kml\"): \n",
    "            full_path = os.path.join(path, name)\n",
    "            name = full_path.split(\"/\")[-2]\n",
    "            plant = full_path.split(\"/\")[-1]\n",
    "            \n",
    "            # Read file\n",
    "            tmp = gpd.read_file(full_path, driver='KML')               \n",
    "            tmp['Processed By'] = name.strip()\n",
    "            tmp['tile_id'] = plant.split(\".\")[0].strip()\n",
    "\n",
    "            df_annotations = df_annotations.append(tmp, ignore_index=True)"
   ]
  },
  {
   "cell_type": "code",
   "execution_count": 4,
   "metadata": {},
   "outputs": [],
   "source": [
    "# read in statuses\n",
    "df_status = pd.DataFrame()\n",
    "\n",
    "sets=['Annotation Tab']\n",
    "for s in sets:\n",
    "    tmp = pd.read_excel(\"Steel Plant Localization - Group One Worksheet.xlsx\", sheet_name=s)\n",
    "    tmp = tmp[['tile_id','plant_found','class', 'level','imagery_date','Processed By','status', 'Confidence']]\n",
    "    \n",
    "    df_status = df_status.append(tmp, ignore_index=True)\n",
    "    \n",
    "# convert to string\n",
    "df_status['Processed By'] = df_status['Processed By'].astype(str)\n",
    "df_status['tile_id'] = df_status['tile_id'].astype(str)\n",
    "\n",
    "# to lower case\n",
    "df_status['Processed By'] = df_status['Processed By'].str.lower()\n",
    "\n",
    "# remove any leading/trailing spaces\n",
    "df_status['tile_id'] = df_status['tile_id'].str.strip()\n",
    "df_status['Processed By'] = df_status['Processed By'].str.strip()\n",
    "\n",
    "# fix status\n",
    "df_status.status = df_status.status.fillna('')\n",
    "df_status.status = df_status.status.str.lower()\n",
    "df_status.status = df_status.status.str.strip()\n",
    "\n",
    "# fix status\n",
    "df_status.plant_found = df_status.plant_found.fillna('')\n",
    "df_status.plant_found = df_status.plant_found.str.lower()\n",
    "df_status.plant_found = df_status.plant_found.str.strip()"
   ]
  },
  {
   "cell_type": "markdown",
   "metadata": {},
   "source": [
    "### Output for SFI"
   ]
  },
  {
   "cell_type": "code",
   "execution_count": 5,
   "metadata": {},
   "outputs": [],
   "source": [
    "df = pd.merge(df_annotations, df_status, how='left', left_on=['tile_id', 'Processed By'], right_on=['tile_id', 'Processed By'])\n",
    "df = df.drop_duplicates(subset='Name')"
   ]
  },
  {
   "cell_type": "code",
   "execution_count": 6,
   "metadata": {},
   "outputs": [],
   "source": [
    "output_df = df[['Name', 'Confidence', 'class', 'level', 'imagery_date', 'geometry']]\n",
    "output_df.columns = [\"tile_id\", \"confidence\", \"class\", \"level\", 'imagery_date', 'geometry']"
   ]
  },
  {
   "cell_type": "code",
   "execution_count": 7,
   "metadata": {},
   "outputs": [],
   "source": [
    "output_df.to_file(\"output/steel_localization_sites.geojson\", driver='GeoJSON')"
   ]
  },
  {
   "cell_type": "code",
   "execution_count": 8,
   "metadata": {},
   "outputs": [
    {
     "data": {
      "text/plain": [
       "450"
      ]
     },
     "execution_count": 8,
     "metadata": {},
     "output_type": "execute_result"
    }
   ],
   "source": [
    "len(output_df)"
   ]
  },
  {
   "cell_type": "code",
   "execution_count": 9,
   "metadata": {},
   "outputs": [
    {
     "data": {
      "text/html": [
       "<div>\n",
       "<style scoped>\n",
       "    .dataframe tbody tr th:only-of-type {\n",
       "        vertical-align: middle;\n",
       "    }\n",
       "\n",
       "    .dataframe tbody tr th {\n",
       "        vertical-align: top;\n",
       "    }\n",
       "\n",
       "    .dataframe thead th {\n",
       "        text-align: right;\n",
       "    }\n",
       "</style>\n",
       "<table border=\"1\" class=\"dataframe\">\n",
       "  <thead>\n",
       "    <tr style=\"text-align: right;\">\n",
       "      <th></th>\n",
       "      <th>tile_id</th>\n",
       "      <th>confidence</th>\n",
       "      <th>class</th>\n",
       "      <th>level</th>\n",
       "      <th>imagery_date</th>\n",
       "      <th>geometry</th>\n",
       "    </tr>\n",
       "  </thead>\n",
       "  <tbody>\n",
       "    <tr>\n",
       "      <th>0</th>\n",
       "      <td>MGRS-50TQL-0266-2020-01</td>\n",
       "      <td>High</td>\n",
       "      <td>Developed</td>\n",
       "      <td>Medium</td>\n",
       "      <td>2020-07-16</td>\n",
       "      <td>POINT Z (119.41041 41.27221 0.00000)</td>\n",
       "    </tr>\n",
       "    <tr>\n",
       "      <th>1</th>\n",
       "      <td>MGRS-48RUS-0059-2020-01</td>\n",
       "      <td>NaN</td>\n",
       "      <td>Undeveloped</td>\n",
       "      <td>High</td>\n",
       "      <td>2020-05-27</td>\n",
       "      <td>POINT Z (114.13608 38.38305 0.00000)</td>\n",
       "    </tr>\n",
       "    <tr>\n",
       "      <th>2</th>\n",
       "      <td>MGRS-49TCF-0402-2020-01</td>\n",
       "      <td>High</td>\n",
       "      <td>Developed</td>\n",
       "      <td>Medium</td>\n",
       "      <td>2020-04-13</td>\n",
       "      <td>POINT Z (109.72749 40.62312 0.00000)</td>\n",
       "    </tr>\n",
       "    <tr>\n",
       "      <th>3</th>\n",
       "      <td>MGRS-49REL-0231-2020-01-1</td>\n",
       "      <td>High</td>\n",
       "      <td>Developed</td>\n",
       "      <td>High</td>\n",
       "      <td>2020-10-24</td>\n",
       "      <td>POINT Z (111.95033 27.74783 0.00000)</td>\n",
       "    </tr>\n",
       "    <tr>\n",
       "      <th>4</th>\n",
       "      <td>MGRS-49REL-0231-2020-01-2</td>\n",
       "      <td>High</td>\n",
       "      <td>Developed</td>\n",
       "      <td>High</td>\n",
       "      <td>2020-10-24</td>\n",
       "      <td>POINT Z (111.96565 27.74744 0.00000)</td>\n",
       "    </tr>\n",
       "  </tbody>\n",
       "</table>\n",
       "</div>"
      ],
      "text/markdown": [
       "|    | tile_id                   | confidence   | class       | level   | imagery_date        | geometry                                      |\n",
       "|---:|:--------------------------|:-------------|:------------|:--------|:--------------------|:----------------------------------------------|\n",
       "|  0 | MGRS-50TQL-0266-2020-01   | High         | Developed   | Medium  | 2020-07-16 00:00:00 | POINT Z (119.410411392117 41.2722087120937 0) |\n",
       "|  1 | MGRS-48RUS-0059-2020-01   | nan          | Undeveloped | High    | 2020-05-27 00:00:00 | POINT Z (114.136077848938 38.383050328938 0)  |\n",
       "|  2 | MGRS-49TCF-0402-2020-01   | High         | Developed   | Medium  | 2020-04-13 00:00:00 | POINT Z (109.72749127253 40.6231181651658 0)  |\n",
       "|  3 | MGRS-49REL-0231-2020-01-1 | High         | Developed   | High    | 2020-10-24 00:00:00 | POINT Z (111.950328314126 27.7478282927286 0) |\n",
       "|  4 | MGRS-49REL-0231-2020-01-2 | High         | Developed   | High    | 2020-10-24 00:00:00 | POINT Z (111.965647912006 27.7474376325329 0) |"
      ],
      "text/plain": [
       "                     tile_id confidence        class   level imagery_date  \\\n",
       "0    MGRS-50TQL-0266-2020-01       High    Developed  Medium   2020-07-16   \n",
       "1    MGRS-48RUS-0059-2020-01        NaN  Undeveloped    High   2020-05-27   \n",
       "2    MGRS-49TCF-0402-2020-01       High    Developed  Medium   2020-04-13   \n",
       "3  MGRS-49REL-0231-2020-01-1       High    Developed    High   2020-10-24   \n",
       "4  MGRS-49REL-0231-2020-01-2       High    Developed    High   2020-10-24   \n",
       "\n",
       "                               geometry  \n",
       "0  POINT Z (119.41041 41.27221 0.00000)  \n",
       "1  POINT Z (114.13608 38.38305 0.00000)  \n",
       "2  POINT Z (109.72749 40.62312 0.00000)  \n",
       "3  POINT Z (111.95033 27.74783 0.00000)  \n",
       "4  POINT Z (111.96565 27.74744 0.00000)  "
      ]
     },
     "execution_count": 9,
     "metadata": {},
     "output_type": "execute_result"
    }
   ],
   "source": [
    "output_df.head()"
   ]
  },
  {
   "cell_type": "markdown",
   "metadata": {},
   "source": [
    "### Output for SecureWatch"
   ]
  },
  {
   "cell_type": "code",
   "execution_count": 10,
   "metadata": {},
   "outputs": [],
   "source": [
    "df_status = df_status.drop_duplicates(subset='tile_id')\n",
    "df_status = df_status[df_status.status.isin(['no imagery', 'unclear imagery', 'cloudy imagery'])]\n",
    "df_status = df_status[['tile_id']]"
   ]
  },
  {
   "cell_type": "code",
   "execution_count": 11,
   "metadata": {},
   "outputs": [],
   "source": [
    "geom_df1 = gpd.read_file('chip_predictions_steel (1).kml', driver='KML')  \n",
    "geom_df2 = gpd.read_file('chip_predictions_steel (2).kml', driver='KML')  \n",
    "geom_df = pd.concat([geom_df1, geom_df2])"
   ]
  },
  {
   "cell_type": "code",
   "execution_count": 12,
   "metadata": {},
   "outputs": [],
   "source": [
    "review_df = pd.merge(df_status, geom_df, left_on='tile_id', right_on='Name')\n",
    "review_df = review_df[['tile_id', 'geometry']]\n",
    "review_gdf = gpd.GeoDataFrame(review_df, geometry='geometry')\n",
    "review_gdf = review_gdf.drop_duplicates()"
   ]
  },
  {
   "cell_type": "code",
   "execution_count": 13,
   "metadata": {},
   "outputs": [],
   "source": [
    "review_gdf.to_file(\"output/sw_steel_localization_sites.geojson\", driver='GeoJSON')"
   ]
  },
  {
   "cell_type": "code",
   "execution_count": 14,
   "metadata": {},
   "outputs": [
    {
     "data": {
      "text/plain": [
       "417"
      ]
     },
     "execution_count": 14,
     "metadata": {},
     "output_type": "execute_result"
    }
   ],
   "source": [
    "len(review_gdf)"
   ]
  },
  {
   "cell_type": "code",
   "execution_count": 15,
   "metadata": {},
   "outputs": [
    {
     "data": {
      "text/html": [
       "<div>\n",
       "<style scoped>\n",
       "    .dataframe tbody tr th:only-of-type {\n",
       "        vertical-align: middle;\n",
       "    }\n",
       "\n",
       "    .dataframe tbody tr th {\n",
       "        vertical-align: top;\n",
       "    }\n",
       "\n",
       "    .dataframe thead th {\n",
       "        text-align: right;\n",
       "    }\n",
       "</style>\n",
       "<table border=\"1\" class=\"dataframe\">\n",
       "  <thead>\n",
       "    <tr style=\"text-align: right;\">\n",
       "      <th></th>\n",
       "      <th>tile_id</th>\n",
       "      <th>geometry</th>\n",
       "    </tr>\n",
       "  </thead>\n",
       "  <tbody>\n",
       "    <tr>\n",
       "      <th>0</th>\n",
       "      <td>MGRS-45TXH-0436-2020-12</td>\n",
       "      <td>POLYGON ((88.51712 42.82952, 88.51778 42.85653...</td>\n",
       "    </tr>\n",
       "    <tr>\n",
       "      <th>2</th>\n",
       "      <td>MGRS-45TVG-0531-2020-01</td>\n",
       "      <td>POLYGON ((86.98743 42.04741, 86.98743 42.07443...</td>\n",
       "    </tr>\n",
       "    <tr>\n",
       "      <th>4</th>\n",
       "      <td>MGRS-46SDD-0167-2020-01</td>\n",
       "      <td>POLYGON ((92.43398 34.37607, 92.43379 34.40312...</td>\n",
       "    </tr>\n",
       "    <tr>\n",
       "      <th>6</th>\n",
       "      <td>MGRS-43SED-0240-2020-01</td>\n",
       "      <td>POLYGON ((76.14285 38.98777, 76.14329 39.01479...</td>\n",
       "    </tr>\n",
       "    <tr>\n",
       "      <th>8</th>\n",
       "      <td>MGRS-45RWN-0096-2020-01</td>\n",
       "      <td>POLYGON ((87.15435 29.37010, 87.15439 29.39717...</td>\n",
       "    </tr>\n",
       "  </tbody>\n",
       "</table>\n",
       "</div>"
      ],
      "text/markdown": [
       "|    | tile_id                 | geometry                                                                                                                                                                                   |\n",
       "|---:|:------------------------|:-------------------------------------------------------------------------------------------------------------------------------------------------------------------------------------------|\n",
       "|  0 | MGRS-45TXH-0436-2020-12 | POLYGON ((88.5171152053541 42.829522299024, 88.51777629531939 42.8565288218089, 88.5544836501961 42.8560362312306, 88.5538065872973 42.8290301708027, 88.5171152053541 42.829522299024))   |\n",
       "|  2 | MGRS-45TVG-0531-2020-01 | POLYGON ((86.9874329537261 42.0474081896397, 86.9874276248086 42.074427904417, 87.02369409100289 42.0744261471589, 87.0236840480441 42.047406434036, 86.9874329537261 42.0474081896397))   |\n",
       "|  4 | MGRS-46SDD-0167-2020-01 | POLYGON ((92.433975176513 34.3760673637354, 92.4337930490435 34.4031210787739, 92.4664324405642 34.4032677855189, 92.4666040704201 34.3762139228005, 92.433975176513 34.3760673637354))    |\n",
       "|  6 | MGRS-43SED-0240-2020-01 | POLYGON ((76.1428522040797 38.9877652554451, 76.1432871725857 39.0147939282036, 76.17793251050399 39.0144492187853, 76.1774843683462 38.9874208762203, 76.1428522040797 38.9877652554451)) |\n",
       "|  8 | MGRS-45RWN-0096-2020-01 | POLYGON ((87.154351812738 29.3700950068347, 87.15439268240679 29.3971712619715, 87.18531232222441 29.3971318619891, 87.185263267846 29.3700556501652, 87.154351812738 29.3700950068347))   |"
      ],
      "text/plain": [
       "                   tile_id                                           geometry\n",
       "0  MGRS-45TXH-0436-2020-12  POLYGON ((88.51712 42.82952, 88.51778 42.85653...\n",
       "2  MGRS-45TVG-0531-2020-01  POLYGON ((86.98743 42.04741, 86.98743 42.07443...\n",
       "4  MGRS-46SDD-0167-2020-01  POLYGON ((92.43398 34.37607, 92.43379 34.40312...\n",
       "6  MGRS-43SED-0240-2020-01  POLYGON ((76.14285 38.98777, 76.14329 39.01479...\n",
       "8  MGRS-45RWN-0096-2020-01  POLYGON ((87.15435 29.37010, 87.15439 29.39717..."
      ]
     },
     "execution_count": 15,
     "metadata": {},
     "output_type": "execute_result"
    }
   ],
   "source": [
    "review_gdf.head()"
   ]
  },
  {
   "cell_type": "code",
   "execution_count": null,
   "metadata": {},
   "outputs": [],
   "source": []
  }
 ],
 "metadata": {
  "kernelspec": {
   "display_name": "EarthAI Environment",
   "language": "python",
   "name": "python3"
  },
  "language_info": {
   "codemirror_mode": {
    "name": "ipython",
    "version": 3
   },
   "file_extension": ".py",
   "mimetype": "text/x-python",
   "name": "python",
   "nbconvert_exporter": "python",
   "pygments_lexer": "ipython3",
   "version": "3.7.9"
  }
 },
 "nbformat": 4,
 "nbformat_minor": 4
}
