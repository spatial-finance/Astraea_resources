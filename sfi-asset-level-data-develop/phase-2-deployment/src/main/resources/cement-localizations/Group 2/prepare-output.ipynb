{
 "cells": [
  {
   "cell_type": "code",
   "execution_count": 1,
   "metadata": {},
   "outputs": [],
   "source": [
    "import os\n",
    "import geopandas as gpd\n",
    "import pandas as pd\n",
    "import fiona"
   ]
  },
  {
   "cell_type": "code",
   "execution_count": 2,
   "metadata": {},
   "outputs": [],
   "source": [
    "# Enable fiona driver\n",
    "gpd.io.file.fiona.drvsupport.supported_drivers['KML'] = 'rw'"
   ]
  },
  {
   "cell_type": "markdown",
   "metadata": {},
   "source": [
    "### Read in Data"
   ]
  },
  {
   "cell_type": "code",
   "execution_count": 3,
   "metadata": {},
   "outputs": [],
   "source": [
    "# read in annotations\n",
    "df_annotations = pd.DataFrame()\n",
    "\n",
    "for path, subdirs, files in os.walk('Completed'):\n",
    "    for name in files:\n",
    "        if name.endswith(\".kml\"): \n",
    "            full_path = os.path.join(path, name)\n",
    "            name = full_path.split(\"/\")[-2]\n",
    "            plant = full_path.split(\"/\")[-1]\n",
    "            \n",
    "            # Read file\n",
    "            tmp = gpd.read_file(full_path, driver='KML')               \n",
    "            tmp['Processed By'] = name.strip()\n",
    "            tmp['tile_id'] = plant.split(\".\")[0].strip()\n",
    "\n",
    "            df_annotations = df_annotations.append(tmp, ignore_index=True)"
   ]
  },
  {
   "cell_type": "code",
   "execution_count": 4,
   "metadata": {},
   "outputs": [],
   "source": [
    "# read in statuses\n",
    "df_status = pd.DataFrame()\n",
    "\n",
    "sets=['Annotator 1']\n",
    "for s in sets:\n",
    "    tmp = pd.read_excel(\"Cement Plant Localization - Group 2 (Refresh) - 5th March 2021.xlsx\", sheet_name=s)\n",
    "    tmp = tmp[['tile_id','Plant_found','Class', 'Level','imagery_date','Processed By','Status']]\n",
    "    \n",
    "    df_status = df_status.append(tmp, ignore_index=True)\n",
    "    \n",
    "# convert to string\n",
    "df_status['Processed By'] = df_status['Processed By'].astype(str)\n",
    "df_status['tile_id'] = df_status['tile_id'].astype(str)\n",
    "\n",
    "# to lower case\n",
    "df_status['Processed By'] = df_status['Processed By'].str.lower()\n",
    "\n",
    "# remove any leading/trailing spaces\n",
    "df_status['tile_id'] = df_status['tile_id'].str.strip()\n",
    "df_status['Processed By'] = df_status['Processed By'].str.strip()\n",
    "\n",
    "# fix status\n",
    "df_status.Status = df_status.Status.fillna('')\n",
    "df_status.Status = df_status.Status.str.lower()\n",
    "df_status.Status = df_status.Status.str.strip()\n",
    "\n",
    "# fix status\n",
    "df_status.Plant_found = df_status.Plant_found.fillna('')\n",
    "df_status.Plant_found = df_status.Plant_found.str.lower()\n",
    "df_status.Plant_found = df_status.Plant_found.str.strip()"
   ]
  },
  {
   "cell_type": "markdown",
   "metadata": {},
   "source": [
    "### Output for SFI"
   ]
  },
  {
   "cell_type": "code",
   "execution_count": 5,
   "metadata": {},
   "outputs": [],
   "source": [
    "df = pd.merge(df_annotations, df_status, how='left', left_on=['tile_id', 'Processed By'], right_on=['tile_id', 'Processed By'])\n",
    "df = df.drop_duplicates(subset='Name')"
   ]
  },
  {
   "cell_type": "code",
   "execution_count": 6,
   "metadata": {},
   "outputs": [],
   "source": [
    "output_df = df[['Name', 'Class', 'Level', 'imagery_date', 'geometry']]\n",
    "output_df.columns = [\"tile_id\", \"class\", \"level\", 'imagery_date', 'geometry']"
   ]
  },
  {
   "cell_type": "code",
   "execution_count": 7,
   "metadata": {},
   "outputs": [],
   "source": [
    "output_df.to_file(\"output/cement_localization_sites.geojson\", driver='GeoJSON')"
   ]
  },
  {
   "cell_type": "code",
   "execution_count": 8,
   "metadata": {},
   "outputs": [
    {
     "data": {
      "text/plain": [
       "1667"
      ]
     },
     "execution_count": 8,
     "metadata": {},
     "output_type": "execute_result"
    }
   ],
   "source": [
    "len(output_df)"
   ]
  },
  {
   "cell_type": "code",
   "execution_count": 9,
   "metadata": {},
   "outputs": [
    {
     "data": {
      "text/html": [
       "<div>\n",
       "<style scoped>\n",
       "    .dataframe tbody tr th:only-of-type {\n",
       "        vertical-align: middle;\n",
       "    }\n",
       "\n",
       "    .dataframe tbody tr th {\n",
       "        vertical-align: top;\n",
       "    }\n",
       "\n",
       "    .dataframe thead th {\n",
       "        text-align: right;\n",
       "    }\n",
       "</style>\n",
       "<table border=\"1\" class=\"dataframe\">\n",
       "  <thead>\n",
       "    <tr style=\"text-align: right;\">\n",
       "      <th></th>\n",
       "      <th>tile_id</th>\n",
       "      <th>class</th>\n",
       "      <th>level</th>\n",
       "      <th>imagery_date</th>\n",
       "      <th>geometry</th>\n",
       "    </tr>\n",
       "  </thead>\n",
       "  <tbody>\n",
       "    <tr>\n",
       "      <th>0</th>\n",
       "      <td>MGRS-49QDF-0488-2020-01</td>\n",
       "      <td>Developed</td>\n",
       "      <td>Medium</td>\n",
       "      <td>2020-12-04</td>\n",
       "      <td>POINT Z (110.42073 22.76761 0.00000)</td>\n",
       "    </tr>\n",
       "    <tr>\n",
       "      <th>1</th>\n",
       "      <td>MGRS-49QHG-0075-2020-04</td>\n",
       "      <td>Developed</td>\n",
       "      <td>Low</td>\n",
       "      <td>2020-04-28</td>\n",
       "      <td>POINT Z (114.20534 23.60882 0.00000)</td>\n",
       "    </tr>\n",
       "    <tr>\n",
       "      <th>2</th>\n",
       "      <td>MGRS-50RNN-0143-2020-02</td>\n",
       "      <td>Developed</td>\n",
       "      <td>Low</td>\n",
       "      <td>2020-11-25</td>\n",
       "      <td>POINT Z (117.10950 24.95032 0.00000)</td>\n",
       "    </tr>\n",
       "    <tr>\n",
       "      <th>3</th>\n",
       "      <td>MGRS-49QEF-0289-2020-01</td>\n",
       "      <td>Developed</td>\n",
       "      <td>Low</td>\n",
       "      <td>2021-01-12</td>\n",
       "      <td>POINT Z (111.77041 23.12824 0.00000)</td>\n",
       "    </tr>\n",
       "    <tr>\n",
       "      <th>4</th>\n",
       "      <td>MGRS-49QDE-0544-2020-01</td>\n",
       "      <td>Developed</td>\n",
       "      <td>Medium</td>\n",
       "      <td>2020-11-25</td>\n",
       "      <td>POINT Z (110.87099 21.69254 0.00000)</td>\n",
       "    </tr>\n",
       "  </tbody>\n",
       "</table>\n",
       "</div>"
      ],
      "text/markdown": [
       "|    | tile_id                 | class     | level   | imagery_date        | geometry                                      |\n",
       "|---:|:------------------------|:----------|:--------|:--------------------|:----------------------------------------------|\n",
       "|  0 | MGRS-49QDF-0488-2020-01 | Developed | Medium  | 2020-12-04 00:00:00 | POINT Z (110.420733929106 22.7676100967003 0) |\n",
       "|  1 | MGRS-49QHG-0075-2020-04 | Developed | Low     | 2020-04-28 00:00:00 | POINT Z (114.205338778268 23.6088151473166 0) |\n",
       "|  2 | MGRS-50RNN-0143-2020-02 | Developed | Low     | 2020-11-25 00:00:00 | POINT Z (117.109496134785 24.9503208339288 0) |\n",
       "|  3 | MGRS-49QEF-0289-2020-01 | Developed | Low     | 2021-01-12 00:00:00 | POINT Z (111.770410079502 23.1282418388097 0) |\n",
       "|  4 | MGRS-49QDE-0544-2020-01 | Developed | Medium  | 2020-11-25 00:00:00 | POINT Z (110.870988138334 21.6925425177325 0) |"
      ],
      "text/plain": [
       "                   tile_id      class   level imagery_date  \\\n",
       "0  MGRS-49QDF-0488-2020-01  Developed  Medium   2020-12-04   \n",
       "1  MGRS-49QHG-0075-2020-04  Developed     Low   2020-04-28   \n",
       "2  MGRS-50RNN-0143-2020-02  Developed     Low   2020-11-25   \n",
       "3  MGRS-49QEF-0289-2020-01  Developed     Low   2021-01-12   \n",
       "4  MGRS-49QDE-0544-2020-01  Developed  Medium   2020-11-25   \n",
       "\n",
       "                               geometry  \n",
       "0  POINT Z (110.42073 22.76761 0.00000)  \n",
       "1  POINT Z (114.20534 23.60882 0.00000)  \n",
       "2  POINT Z (117.10950 24.95032 0.00000)  \n",
       "3  POINT Z (111.77041 23.12824 0.00000)  \n",
       "4  POINT Z (110.87099 21.69254 0.00000)  "
      ]
     },
     "execution_count": 9,
     "metadata": {},
     "output_type": "execute_result"
    }
   ],
   "source": [
    "output_df.head()"
   ]
  },
  {
   "cell_type": "markdown",
   "metadata": {},
   "source": [
    "### Output for Second Cement Annotation Task"
   ]
  },
  {
   "cell_type": "code",
   "execution_count": 10,
   "metadata": {},
   "outputs": [
    {
     "data": {
      "text/plain": [
       "geopandas.geodataframe.GeoDataFrame"
      ]
     },
     "execution_count": 10,
     "metadata": {},
     "output_type": "execute_result"
    }
   ],
   "source": [
    "type(output_df)"
   ]
  },
  {
   "cell_type": "code",
   "execution_count": 11,
   "metadata": {},
   "outputs": [],
   "source": [
    "with fiona.drivers():\n",
    "    output_df[['tile_id', 'geometry']].to_crs(\"EPSG:4326\").rename(columns={'tile_id':'name'}).to_file(\"output/new_cement_plants.kml\", driver='KML')"
   ]
  },
  {
   "cell_type": "code",
   "execution_count": 12,
   "metadata": {},
   "outputs": [],
   "source": [
    "output_df = output_df[['tile_id', 'geometry']]\n",
    "output_df['date processed'] = \"\"\n",
    "output_df['processed by'] = \"\"\n",
    "output_df['status'] = \"\"\n",
    "output_df['notes'] = \"\"\n",
    "output_df.drop('geometry', axis=1).to_csv(\"output/new_cement_plants.csv\", index=False)"
   ]
  },
  {
   "cell_type": "markdown",
   "metadata": {},
   "source": [
    "### Output for SecureWatch"
   ]
  },
  {
   "cell_type": "code",
   "execution_count": 13,
   "metadata": {},
   "outputs": [],
   "source": [
    "df_status = df_status.drop_duplicates(subset='tile_id')\n",
    "df_status = df_status[df_status.Status.isin(['no imagery', 'unclear imagery', 'cloudy imagery'])]\n",
    "df_status = df_status[['tile_id']]"
   ]
  },
  {
   "cell_type": "code",
   "execution_count": 14,
   "metadata": {},
   "outputs": [],
   "source": [
    "geom_df1 = gpd.read_file('chip_predictions_cement_v2.kml', driver='KML')  \n",
    "geom_df2 = gpd.read_file('chip_predictions_cement.kml', driver='KML')  \n",
    "geom_df = pd.concat([geom_df1, geom_df2])"
   ]
  },
  {
   "cell_type": "code",
   "execution_count": 15,
   "metadata": {},
   "outputs": [],
   "source": [
    "review_df = pd.merge(df_status, geom_df, left_on='tile_id', right_on='Name')\n",
    "review_df = review_df[['tile_id', 'geometry']]\n",
    "review_gdf = gpd.GeoDataFrame(review_df, geometry='geometry')\n",
    "review_gdf = review_gdf.drop_duplicates()"
   ]
  },
  {
   "cell_type": "code",
   "execution_count": 16,
   "metadata": {},
   "outputs": [],
   "source": [
    "review_gdf.to_file(\"output/sw_cement_localization_sites.geojson\", driver='GeoJSON')"
   ]
  },
  {
   "cell_type": "code",
   "execution_count": 17,
   "metadata": {},
   "outputs": [
    {
     "data": {
      "text/plain": [
       "128"
      ]
     },
     "execution_count": 17,
     "metadata": {},
     "output_type": "execute_result"
    }
   ],
   "source": [
    "len(review_gdf)"
   ]
  },
  {
   "cell_type": "code",
   "execution_count": 18,
   "metadata": {},
   "outputs": [
    {
     "data": {
      "text/html": [
       "<div>\n",
       "<style scoped>\n",
       "    .dataframe tbody tr th:only-of-type {\n",
       "        vertical-align: middle;\n",
       "    }\n",
       "\n",
       "    .dataframe tbody tr th {\n",
       "        vertical-align: top;\n",
       "    }\n",
       "\n",
       "    .dataframe thead th {\n",
       "        text-align: right;\n",
       "    }\n",
       "</style>\n",
       "<table border=\"1\" class=\"dataframe\">\n",
       "  <thead>\n",
       "    <tr style=\"text-align: right;\">\n",
       "      <th></th>\n",
       "      <th>tile_id</th>\n",
       "      <th>geometry</th>\n",
       "    </tr>\n",
       "  </thead>\n",
       "  <tbody>\n",
       "    <tr>\n",
       "      <th>0</th>\n",
       "      <td>MGRS-49TFJ-0108-2020-01</td>\n",
       "      <td>POLYGON ((112.95183 43.80458, 112.95271 43.831...</td>\n",
       "    </tr>\n",
       "    <tr>\n",
       "      <th>1</th>\n",
       "      <td>MGRS-49TFJ-0161-2020-01</td>\n",
       "      <td>POLYGON ((112.65210 43.75529, 112.65285 43.782...</td>\n",
       "    </tr>\n",
       "    <tr>\n",
       "      <th>2</th>\n",
       "      <td>MGRS-49TFH-0071-2020-01</td>\n",
       "      <td>POLYGON ((112.85867 43.20268, 112.85949 43.229...</td>\n",
       "    </tr>\n",
       "    <tr>\n",
       "      <th>3</th>\n",
       "      <td>MGRS-45TYK-0137-2020-01</td>\n",
       "      <td>POLYGON ((90.23303 44.51391, 90.23452 44.54088...</td>\n",
       "    </tr>\n",
       "    <tr>\n",
       "      <th>4</th>\n",
       "      <td>MGRS-45TYK-0063-2020-01</td>\n",
       "      <td>POLYGON ((90.16644 44.67782, 90.16791 44.70479...</td>\n",
       "    </tr>\n",
       "  </tbody>\n",
       "</table>\n",
       "</div>"
      ],
      "text/markdown": [
       "|    | tile_id                 | geometry                                                                                                                                                                                  |\n",
       "|---:|:------------------------|:------------------------------------------------------------------------------------------------------------------------------------------------------------------------------------------|\n",
       "|  0 | MGRS-49TFJ-0108-2020-01 | POLYGON ((112.951826815649 43.804582051324, 112.952706721283 43.8315777368076, 112.989997570649 43.8309342417657, 112.989100888217 43.8039391588238, 112.951826815649 43.804582051324))   |\n",
       "|  1 | MGRS-49TFJ-0161-2020-01 | POLYGON ((112.652104001721 43.7552871134011, 112.652847549815 43.7822874859408, 112.690113991952 43.7817423297219, 112.689353698446 43.7547424677705, 112.652104001721 43.7552871134011)) |\n",
       "|  2 | MGRS-49TFH-0071-2020-01 | POLYGON ((112.858670986739 43.2026848879815, 112.859491492118 43.2296848891618, 112.896415380195 43.2290785478896, 112.895578605613 43.2020791151797, 112.858670986739 43.2026848879815)) |\n",
       "|  3 | MGRS-45TYK-0137-2020-01 | POLYGON ((90.2330304054482 44.5139129111623, 90.2345238907877 44.5408778566181, 90.2722258885199 44.5398027688903, 90.27071507021751 44.512838828219, 90.2330304054482 44.5139129111623)) |\n",
       "|  4 | MGRS-45TYK-0063-2020-01 | POLYGON ((90.1664384392034 44.6778228664473, 90.16790957594419 44.7047887914044, 90.2057202883465 44.7037326489549, 90.204231665658 44.6767677110339, 90.1664384392034 44.6778228664473)) |"
      ],
      "text/plain": [
       "                   tile_id                                           geometry\n",
       "0  MGRS-49TFJ-0108-2020-01  POLYGON ((112.95183 43.80458, 112.95271 43.831...\n",
       "1  MGRS-49TFJ-0161-2020-01  POLYGON ((112.65210 43.75529, 112.65285 43.782...\n",
       "2  MGRS-49TFH-0071-2020-01  POLYGON ((112.85867 43.20268, 112.85949 43.229...\n",
       "3  MGRS-45TYK-0137-2020-01  POLYGON ((90.23303 44.51391, 90.23452 44.54088...\n",
       "4  MGRS-45TYK-0063-2020-01  POLYGON ((90.16644 44.67782, 90.16791 44.70479..."
      ]
     },
     "execution_count": 18,
     "metadata": {},
     "output_type": "execute_result"
    }
   ],
   "source": [
    "review_gdf.head()"
   ]
  }
 ],
 "metadata": {
  "kernelspec": {
   "display_name": "EarthAI Environment",
   "language": "python",
   "name": "python3"
  },
  "language_info": {
   "codemirror_mode": {
    "name": "ipython",
    "version": 3
   },
   "file_extension": ".py",
   "mimetype": "text/x-python",
   "name": "python",
   "nbconvert_exporter": "python",
   "pygments_lexer": "ipython3",
   "version": "3.7.9"
  }
 },
 "nbformat": 4,
 "nbformat_minor": 4
}
