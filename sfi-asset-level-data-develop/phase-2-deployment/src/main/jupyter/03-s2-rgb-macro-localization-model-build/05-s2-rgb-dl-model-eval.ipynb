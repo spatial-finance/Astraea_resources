{
 "cells": [
  {
   "cell_type": "code",
   "execution_count": null,
   "metadata": {},
   "outputs": [],
   "source": [
    "!pip install fastai==1.0.61"
   ]
  },
  {
   "cell_type": "markdown",
   "metadata": {},
   "source": [
    "## Import libraries"
   ]
  },
  {
   "cell_type": "code",
   "execution_count": null,
   "metadata": {},
   "outputs": [],
   "source": [
    "import os\n",
    "import boto3\n",
    "from earthai.ml import *\n",
    "import statistics\n",
    "import glob\n",
    "\n",
    "from fastai import *\n",
    "from fastai.vision import *"
   ]
  },
  {
   "cell_type": "markdown",
   "metadata": {},
   "source": [
    "## Download final models and .tar file from S3 bucket and extract contents"
   ]
  },
  {
   "cell_type": "code",
   "execution_count": null,
   "metadata": {},
   "outputs": [],
   "source": [
    "s3 = boto3.resource('s3')\n",
    "bucket = s3.Bucket('sfi-shared-assets')"
   ]
  },
  {
   "cell_type": "code",
   "execution_count": null,
   "metadata": {},
   "outputs": [],
   "source": [
    "def download_model(MODEL_PATH):\n",
    "    if not os.path.exists(LOCAL_DIR + MODEL_PATH.split(\"/\")[-1].replace(\".pkl\", \"\")):\n",
    "        os.makedirs(LOCAL_DIR + MODEL_PATH.split(\"/\")[-1].replace(\".pkl\", \"\"))\n",
    "    bucket.download_file(MODEL_PATH, LOCAL_DIR + MODEL_PATH.split(\"/\")[-1].replace(\".pkl\", \"\") + \"/export.pkl\")"
   ]
  },
  {
   "cell_type": "code",
   "execution_count": null,
   "metadata": {},
   "outputs": [],
   "source": [
    "def get_classwise_counts(items, classes):\n",
    "    series = pd.value_counts(items).sort_index()\n",
    "    series.index = classes\n",
    "    \n",
    "    return series"
   ]
  },
  {
   "cell_type": "code",
   "execution_count": null,
   "metadata": {},
   "outputs": [],
   "source": [
    "def get_mode(p1, p2, p3):\n",
    "    try:\n",
    "        return statistics.mode([str(p1[0]), str(p2[0]), str(p3[0])])\n",
    "    except:\n",
    "        mx = max(p1[2].max(), p2[2].max(), p3[2].max())\n",
    "        if mx == p1[2].max():\n",
    "            return str(p1[0])\n",
    "        elif mx == p2[2].max():\n",
    "            return str(p2[0])\n",
    "        elif mx == p3[2].max():\n",
    "            return str(p3[0])"
   ]
  },
  {
   "cell_type": "markdown",
   "metadata": {},
   "source": [
    "## Read in image data"
   ]
  },
  {
   "cell_type": "code",
   "execution_count": null,
   "metadata": {},
   "outputs": [],
   "source": [
    "DATA_PATH = 'S2-RGB-macro-localization-model-build4/ALD_S2_RGB_chips_v4p1_train4.tar'\n",
    "LOCAL_DIR = '/scratch/'"
   ]
  },
  {
   "cell_type": "code",
   "execution_count": null,
   "metadata": {},
   "outputs": [],
   "source": [
    "bucket.download_file(DATA_PATH, LOCAL_DIR + DATA_PATH.split(\"/\")[-1])\n",
    "unix_code = 'tar -C /scratch/ -xf '+LOCAL_DIR + DATA_PATH.split(\"/\")[-1]\n",
    "os.system(unix_code)"
   ]
  },
  {
   "cell_type": "code",
   "execution_count": null,
   "metadata": {},
   "outputs": [],
   "source": [
    "data = (ImageDataBunch.from_folder(LOCAL_DIR + DATA_PATH.split(\"/\")[-1].replace(\".tar\", \"\"), train='train', valid='validate', \n",
    "                                   bs=16, num_workers=0, seed=42)\n",
    "        .normalize(imagenet_stats))"
   ]
  },
  {
   "cell_type": "markdown",
   "metadata": {},
   "source": [
    "### Display class-wise counts for training and validation sets."
   ]
  },
  {
   "cell_type": "code",
   "execution_count": null,
   "metadata": {},
   "outputs": [],
   "source": [
    "for subset, label in zip((data.train_ds, data.valid_ds), ('Training set', 'Validation set')):\n",
    "    print('--- {} ---'.format(label))\n",
    "    print(get_classwise_counts(subset.y.items, subset.classes))"
   ]
  },
  {
   "cell_type": "markdown",
   "metadata": {},
   "source": [
    "## Multiclass Models - Download"
   ]
  },
  {
   "cell_type": "code",
   "execution_count": null,
   "metadata": {},
   "outputs": [],
   "source": [
    "DENSENET161_MODEL_PATH = 'S2-RGB-macro-localization-model-build4/S2-RGB-model-results4/densenet161_multiclass_final.pkl'\n",
    "RESNET50_MODEL_PATH = 'S2-RGB-macro-localization-model-build4/S2-RGB-model-results4/resnet50_multiclass_final.pkl'\n",
    "VGG13_MODEL_PATH = 'S2-RGB-macro-localization-model-build4/S2-RGB-model-results4/vgg13_multiclass_final.pkl'"
   ]
  },
  {
   "cell_type": "code",
   "execution_count": null,
   "metadata": {},
   "outputs": [],
   "source": [
    "download_model(DENSENET161_MODEL_PATH)\n",
    "download_model(RESNET50_MODEL_PATH)\n",
    "download_model(VGG13_MODEL_PATH)"
   ]
  },
  {
   "cell_type": "code",
   "execution_count": null,
   "metadata": {},
   "outputs": [],
   "source": [
    "densenet161_multi_model = load_learner(LOCAL_DIR + DENSENET161_MODEL_PATH.split(\"/\")[-1].replace(\".pkl\", \"\"))\n",
    "resnet50_multi_model = load_learner(LOCAL_DIR + RESNET50_MODEL_PATH.split(\"/\")[-1].replace(\".pkl\", \"\"))\n",
    "vgg13_multi_model = load_learner(LOCAL_DIR + VGG13_MODEL_PATH.split(\"/\")[-1].replace(\".pkl\", \"\"))"
   ]
  },
  {
   "cell_type": "markdown",
   "metadata": {},
   "source": [
    "## Cement Binary Models - Download"
   ]
  },
  {
   "cell_type": "code",
   "execution_count": null,
   "metadata": {},
   "outputs": [],
   "source": [
    "DENSENET161_MODEL_PATH = 'S2-RGB-macro-localization-model-build4/S2-RGB-model-results4/densenet161_cement_binary_final.pkl'\n",
    "RESNET50_MODEL_PATH = 'S2-RGB-macro-localization-model-build4/S2-RGB-model-results4/resnet50_cement_binary_final.pkl'\n",
    "VGG13_MODEL_PATH = 'S2-RGB-macro-localization-model-build4/S2-RGB-model-results4/vgg13_cement_binary_final.pkl'"
   ]
  },
  {
   "cell_type": "code",
   "execution_count": null,
   "metadata": {},
   "outputs": [],
   "source": [
    "download_model(DENSENET161_MODEL_PATH)\n",
    "download_model(RESNET50_MODEL_PATH)\n",
    "download_model(VGG13_MODEL_PATH)"
   ]
  },
  {
   "cell_type": "code",
   "execution_count": null,
   "metadata": {},
   "outputs": [],
   "source": [
    "densenet161_cement_model = load_learner(LOCAL_DIR + DENSENET161_MODEL_PATH.split(\"/\")[-1].replace(\".pkl\", \"\"))\n",
    "resnet50_cement_model = load_learner(LOCAL_DIR + RESNET50_MODEL_PATH.split(\"/\")[-1].replace(\".pkl\", \"\"))\n",
    "vgg13_cement_model = load_learner(LOCAL_DIR + VGG13_MODEL_PATH.split(\"/\")[-1].replace(\".pkl\", \"\"))"
   ]
  },
  {
   "cell_type": "markdown",
   "metadata": {},
   "source": [
    "## Steel Binary Models - Download"
   ]
  },
  {
   "cell_type": "code",
   "execution_count": null,
   "metadata": {},
   "outputs": [],
   "source": [
    "DENSENET161_MODEL_PATH = 'S2-RGB-macro-localization-model-build4/S2-RGB-model-results4/densenet161_steel_binary_final.pkl'\n",
    "RESNET50_MODEL_PATH = 'S2-RGB-macro-localization-model-build4/S2-RGB-model-results4/resnet50_steel_binary_final.pkl'\n",
    "VGG13_MODEL_PATH = 'S2-RGB-macro-localization-model-build4/S2-RGB-model-results4/vgg13_steel_binary_final.pkl'"
   ]
  },
  {
   "cell_type": "code",
   "execution_count": null,
   "metadata": {},
   "outputs": [],
   "source": [
    "download_model(DENSENET161_MODEL_PATH)\n",
    "download_model(RESNET50_MODEL_PATH)\n",
    "download_model(VGG13_MODEL_PATH)"
   ]
  },
  {
   "cell_type": "code",
   "execution_count": null,
   "metadata": {},
   "outputs": [],
   "source": [
    "densenet161_steel_model = load_learner(LOCAL_DIR + DENSENET161_MODEL_PATH.split(\"/\")[-1].replace(\".pkl\", \"\"))\n",
    "resnet50_steel_model = load_learner(LOCAL_DIR + RESNET50_MODEL_PATH.split(\"/\")[-1].replace(\".pkl\", \"\"))\n",
    "vgg13_steel_model = load_learner(LOCAL_DIR + VGG13_MODEL_PATH.split(\"/\")[-1].replace(\".pkl\", \"\"))"
   ]
  },
  {
   "cell_type": "markdown",
   "metadata": {},
   "source": [
    "## Score models on validation sets"
   ]
  },
  {
   "cell_type": "code",
   "execution_count": null,
   "metadata": {},
   "outputs": [],
   "source": [
    "# Multiclass results\n",
    "valid_preds_densenet161_multi = []\n",
    "valid_preds_resnet50_multi = []\n",
    "valid_preds_vgg13_multi = []\n",
    "valid_preds_ensemble_multi = []\n",
    "valid_y_multi = []\n",
    "\n",
    "# Cement binary results\n",
    "valid_preds_densenet161_cement = []\n",
    "valid_preds_resnet50_cement = []\n",
    "valid_preds_vgg13_cement = []\n",
    "valid_preds_ensemble_cement = []\n",
    "valid_y_cement = []\n",
    "\n",
    "# Steel binary results\n",
    "valid_preds_densenet161_steel = []\n",
    "valid_preds_resnet50_steel = []\n",
    "valid_preds_vgg13_steel = []\n",
    "valid_preds_ensemble_steel = []\n",
    "valid_y_steel = []\n",
    "\n",
    "for i in range(0, len(data.valid_ds.x)):\n",
    "    \n",
    "    # Multiclass\n",
    "    valid_y_multi.append(str(data.valid_ds.y[i]))\n",
    "    p1 = densenet161_multi_model.predict(data.valid_ds.x[i])\n",
    "    valid_preds_densenet161_multi.append(str(p1[0]))\n",
    "    p2 = resnet50_multi_model.predict(data.valid_ds.x[i])\n",
    "    valid_preds_resnet50_multi.append(str(p2[0]))\n",
    "    p3 = vgg13_multi_model.predict(data.valid_ds.x[i])\n",
    "    valid_preds_vgg13_multi.append(str(p3[0]))\n",
    "    valid_preds_ensemble_multi.append(get_mode(p1, p2, p3))\n",
    "    \n",
    "    # Cement binary\n",
    "    valid_y_cement.append(str(data.valid_ds.y[i]))\n",
    "    p1 = densenet161_cement_model.predict(data.valid_ds.x[i])\n",
    "    valid_preds_densenet161_cement.append(str(p1[0]))\n",
    "    p2 = resnet50_cement_model.predict(data.valid_ds.x[i])\n",
    "    valid_preds_resnet50_cement.append(str(p2[0]))\n",
    "    p3 = vgg13_cement_model.predict(data.valid_ds.x[i])\n",
    "    valid_preds_vgg13_cement.append(str(p3[0]))\n",
    "    valid_preds_ensemble_cement.append(get_mode(p1, p2, p3))\n",
    "    \n",
    "    # Steel binary\n",
    "    valid_y_steel.append(str(data.valid_ds.y[i]))\n",
    "    p1 = densenet161_steel_model.predict(data.valid_ds.x[i])\n",
    "    valid_preds_densenet161_steel.append(str(p1[0]))\n",
    "    p2 = resnet50_steel_model.predict(data.valid_ds.x[i])\n",
    "    valid_preds_resnet50_steel.append(str(p2[0]))\n",
    "    p3 = vgg13_steel_model.predict(data.valid_ds.x[i])\n",
    "    valid_preds_vgg13_steel.append(str(p3[0]))\n",
    "    valid_preds_ensemble_steel.append(get_mode(p1, p2, p3))\n",
    "    \n",
    "    print('Done with ', i+1, ' out of ', len(data.valid_ds.x))"
   ]
  },
  {
   "cell_type": "markdown",
   "metadata": {},
   "source": [
    "## Print results"
   ]
  },
  {
   "cell_type": "markdown",
   "metadata": {},
   "source": [
    "### DenseNet161 MultiClass Model Results"
   ]
  },
  {
   "cell_type": "code",
   "execution_count": null,
   "metadata": {},
   "outputs": [],
   "source": [
    "print(\"\\033[1m\\033[4m\" + \"VALIDATION RESULTS:\" + \"\\033[0m\\n\")\n",
    "\n",
    "showConfusionMatrix(np.array(valid_preds_densenet161_multi), np.array(valid_y_multi))\n",
    "printOverallStats(np.array(valid_preds_densenet161_multi), np.array(valid_y_multi))\n",
    "printClassStats(np.array(valid_preds_densenet161_multi), np.array(valid_y_multi))"
   ]
  },
  {
   "cell_type": "markdown",
   "metadata": {},
   "source": [
    "### ResNet50 MultiClass Model Results"
   ]
  },
  {
   "cell_type": "code",
   "execution_count": null,
   "metadata": {},
   "outputs": [],
   "source": [
    "print(\"\\033[1m\\033[4m\" + \"VALIDATION RESULTS:\" + \"\\033[0m\\n\")\n",
    "\n",
    "showConfusionMatrix(np.array(valid_preds_resnet50_multi), np.array(valid_y_multi))\n",
    "printOverallStats(np.array(valid_preds_resnet50_multi), np.array(valid_y_multi))\n",
    "printClassStats(np.array(valid_preds_resnet50_multi), np.array(valid_y_multi))"
   ]
  },
  {
   "cell_type": "markdown",
   "metadata": {},
   "source": [
    "### VGG13 MultiClass Model Results"
   ]
  },
  {
   "cell_type": "code",
   "execution_count": null,
   "metadata": {},
   "outputs": [],
   "source": [
    "print(\"\\033[1m\\033[4m\" + \"VALIDATION RESULTS:\" + \"\\033[0m\\n\")\n",
    "\n",
    "showConfusionMatrix(np.array(valid_preds_vgg13_multi), np.array(valid_y_multi))\n",
    "printOverallStats(np.array(valid_preds_vgg13_multi), np.array(valid_y_multi))\n",
    "printClassStats(np.array(valid_preds_vgg13_multi), np.array(valid_y_multi))"
   ]
  },
  {
   "cell_type": "markdown",
   "metadata": {},
   "source": [
    "### Ensemble MultiClass Model Results"
   ]
  },
  {
   "cell_type": "code",
   "execution_count": null,
   "metadata": {},
   "outputs": [],
   "source": [
    "print(\"\\033[1m\\033[4m\" + \"VALIDATION RESULTS:\" + \"\\033[0m\\n\")\n",
    "\n",
    "showConfusionMatrix(np.array(valid_preds_ensemble_multi), np.array(valid_y_multi))\n",
    "printOverallStats(np.array(valid_preds_ensemble_multi), np.array(valid_y_multi))\n",
    "printClassStats(np.array(valid_preds_ensemble_multi), np.array(valid_y_multi))"
   ]
  },
  {
   "cell_type": "markdown",
   "metadata": {},
   "source": [
    "### DenseNet161 Cement Binary Model Results"
   ]
  },
  {
   "cell_type": "code",
   "execution_count": null,
   "metadata": {},
   "outputs": [],
   "source": [
    "valid_y_cement = ['landcover' if y == 'steel' else y for y in valid_y_cement]"
   ]
  },
  {
   "cell_type": "code",
   "execution_count": null,
   "metadata": {},
   "outputs": [],
   "source": [
    "print(\"\\033[1m\\033[4m\" + \"VALIDATION RESULTS:\" + \"\\033[0m\\n\")\n",
    "\n",
    "showConfusionMatrix(np.array(valid_preds_densenet161_cement), np.array(valid_y_cement))\n",
    "printOverallStats(np.array(valid_preds_densenet161_cement), np.array(valid_y_cement))\n",
    "printClassStats(np.array(valid_preds_densenet161_cement), np.array(valid_y_cement))"
   ]
  },
  {
   "cell_type": "markdown",
   "metadata": {},
   "source": [
    "### ResNet50 Cement Binary Model Results"
   ]
  },
  {
   "cell_type": "code",
   "execution_count": null,
   "metadata": {},
   "outputs": [],
   "source": [
    "print(\"\\033[1m\\033[4m\" + \"VALIDATION RESULTS:\" + \"\\033[0m\\n\")\n",
    "\n",
    "showConfusionMatrix(np.array(valid_preds_resnet50_cement), np.array(valid_y_cement))\n",
    "printOverallStats(np.array(valid_preds_resnet50_cement), np.array(valid_y_cement))\n",
    "printClassStats(np.array(valid_preds_resnet50_cement), np.array(valid_y_cement))"
   ]
  },
  {
   "cell_type": "markdown",
   "metadata": {},
   "source": [
    "### VGG13 Cement Binary Model Results"
   ]
  },
  {
   "cell_type": "code",
   "execution_count": null,
   "metadata": {},
   "outputs": [],
   "source": [
    "print(\"\\033[1m\\033[4m\" + \"VALIDATION RESULTS:\" + \"\\033[0m\\n\")\n",
    "\n",
    "showConfusionMatrix(np.array(valid_preds_vgg13_cement), np.array(valid_y_cement))\n",
    "printOverallStats(np.array(valid_preds_vgg13_cement), np.array(valid_y_cement))\n",
    "printClassStats(np.array(valid_preds_vgg13_cement), np.array(valid_y_cement))"
   ]
  },
  {
   "cell_type": "markdown",
   "metadata": {},
   "source": [
    "### Ensemble Cement Binary Model Results"
   ]
  },
  {
   "cell_type": "code",
   "execution_count": null,
   "metadata": {},
   "outputs": [],
   "source": [
    "print(\"\\033[1m\\033[4m\" + \"VALIDATION RESULTS:\" + \"\\033[0m\\n\")\n",
    "\n",
    "showConfusionMatrix(np.array(valid_preds_ensemble_cement), np.array(valid_y_cement))\n",
    "printOverallStats(np.array(valid_preds_ensemble_cement), np.array(valid_y_cement))\n",
    "printClassStats(np.array(valid_preds_ensemble_cement), np.array(valid_y_cement))"
   ]
  },
  {
   "cell_type": "markdown",
   "metadata": {},
   "source": [
    "### DenseNet161 Steel Binary Model Results"
   ]
  },
  {
   "cell_type": "code",
   "execution_count": null,
   "metadata": {},
   "outputs": [],
   "source": [
    "valid_y_steel = ['landcover' if y == 'cement' else y for y in valid_y_steel]"
   ]
  },
  {
   "cell_type": "code",
   "execution_count": null,
   "metadata": {},
   "outputs": [],
   "source": [
    "print(\"\\033[1m\\033[4m\" + \"VALIDATION RESULTS:\" + \"\\033[0m\\n\")\n",
    "\n",
    "showConfusionMatrix(np.array(valid_preds_densenet161_steel), np.array(valid_y_steel))\n",
    "printOverallStats(np.array(valid_preds_densenet161_steel), np.array(valid_y_steel))\n",
    "printClassStats(np.array(valid_preds_densenet161_steel), np.array(valid_y_steel))"
   ]
  },
  {
   "cell_type": "markdown",
   "metadata": {},
   "source": [
    "### ResNet50 Steel Binary Model Results"
   ]
  },
  {
   "cell_type": "code",
   "execution_count": null,
   "metadata": {},
   "outputs": [],
   "source": [
    "print(\"\\033[1m\\033[4m\" + \"VALIDATION RESULTS:\" + \"\\033[0m\\n\")\n",
    "\n",
    "showConfusionMatrix(np.array(valid_preds_resnet50_steel), np.array(valid_y_steel))\n",
    "printOverallStats(np.array(valid_preds_resnet50_steel), np.array(valid_y_steel))\n",
    "printClassStats(np.array(valid_preds_resnet50_steel), np.array(valid_y_steel))"
   ]
  },
  {
   "cell_type": "markdown",
   "metadata": {},
   "source": [
    "### VGG13 Steel Binary Model Results"
   ]
  },
  {
   "cell_type": "code",
   "execution_count": null,
   "metadata": {},
   "outputs": [],
   "source": [
    "print(\"\\033[1m\\033[4m\" + \"VALIDATION RESULTS:\" + \"\\033[0m\\n\")\n",
    "\n",
    "showConfusionMatrix(np.array(valid_preds_vgg13_steel), np.array(valid_y_steel))\n",
    "printOverallStats(np.array(valid_preds_vgg13_steel), np.array(valid_y_steel))\n",
    "printClassStats(np.array(valid_preds_vgg13_steel), np.array(valid_y_steel))"
   ]
  },
  {
   "cell_type": "markdown",
   "metadata": {},
   "source": [
    "### Ensemble Steel Binary Model Results"
   ]
  },
  {
   "cell_type": "code",
   "execution_count": null,
   "metadata": {},
   "outputs": [],
   "source": [
    "print(\"\\033[1m\\033[4m\" + \"VALIDATION RESULTS:\" + \"\\033[0m\\n\")\n",
    "\n",
    "showConfusionMatrix(np.array(valid_preds_ensemble_steel), np.array(valid_y_steel))\n",
    "printOverallStats(np.array(valid_preds_ensemble_steel), np.array(valid_y_steel))\n",
    "printClassStats(np.array(valid_preds_ensemble_steel), np.array(valid_y_steel))"
   ]
  },
  {
   "cell_type": "code",
   "execution_count": null,
   "metadata": {},
   "outputs": [],
   "source": []
  }
 ],
 "metadata": {
  "kernelspec": {
   "display_name": "EarthAI Environment",
   "language": "python",
   "name": "python3"
  },
  "language_info": {
   "codemirror_mode": {
    "name": "ipython",
    "version": 3
   },
   "file_extension": ".py",
   "mimetype": "text/x-python",
   "name": "python",
   "nbconvert_exporter": "python",
   "pygments_lexer": "ipython3",
   "version": "3.7.9"
  }
 },
 "nbformat": 4,
 "nbformat_minor": 4
}
