{
 "cells": [
  {
   "cell_type": "markdown",
   "metadata": {},
   "source": [
    "# Create vector datasets for cement, steel, and landcover classes\n",
    "\n",
    "This notebook creates points for chip centers that contain known cement and steel plants. It also\n",
    "creates landcover classes offset from the plants for use as negative examples for the macro-localization model training.\n",
    "\n",
    "## Import libraries"
   ]
  },
  {
   "cell_type": "code",
   "execution_count": null,
   "metadata": {},
   "outputs": [],
   "source": [
    "import os\n",
    "import pandas as pd\n",
    "from shapely.geometry import Point\n",
    "import geopandas as gpd\n",
    "import numpy as np"
   ]
  },
  {
   "cell_type": "markdown",
   "metadata": {},
   "source": [
    "## Define input and output files\n",
    "\n",
    "* Input: Cement and steel plants (v4.1) with exact locations in China (csv)\n",
    "* Output:\n",
    "    * Points centered on cement and steel plants, with full attributes\n",
    "    * Chip centers and extents for cement, steel, and landcover classes for use in macro-localization model building"
   ]
  },
  {
   "cell_type": "markdown",
   "metadata": {},
   "source": [
    "### Input files"
   ]
  },
  {
   "cell_type": "code",
   "execution_count": null,
   "metadata": {},
   "outputs": [],
   "source": [
    "cement_input_csv = '../../resources/asset-subsets-v4p1/cement_exact_china_v4.1.csv'\n",
    "steel_input_csv = '../../resources/asset-subsets-v4p1/steel_exact_china_v4.1.csv'"
   ]
  },
  {
   "cell_type": "markdown",
   "metadata": {},
   "source": [
    "### Output files"
   ]
  },
  {
   "cell_type": "code",
   "execution_count": null,
   "metadata": {},
   "outputs": [],
   "source": [
    "output_path = '../../resources/macro-loc-model-build4'"
   ]
  },
  {
   "cell_type": "code",
   "execution_count": null,
   "metadata": {},
   "outputs": [],
   "source": [
    "if not os.path.exists(output_path):\n",
    "    os.mkdir(output_path)"
   ]
  },
  {
   "cell_type": "code",
   "execution_count": null,
   "metadata": {},
   "outputs": [],
   "source": [
    "cement_output_gjson = ouput_path+\"/cement_exact_china_v4.1_s2.geojson\"\n",
    "steel_output_gjson = output_path+\"/steel_exact_china_v4.1_s2.geojson\""
   ]
  },
  {
   "cell_type": "code",
   "execution_count": null,
   "metadata": {},
   "outputs": [],
   "source": [
    "cement_chip_cntr_gjson = output_path+\"/cement_chip_cntr_china_v4.1_s2.geojson\"\n",
    "cement_chip_ext_gjson = output_path+\"/cement_chip_ext_china_v4.1_s2.geojson\"\n",
    "\n",
    "steel_chip_cntr_gjson = output_path+\"/steel_chip_cntr_china_v4.1_s2.geojson\"\n",
    "steel_chip_ext_gjson = output_path+\"/steel_chip_ext_china_v4.1_s2.geojson\"\n",
    "\n",
    "landcover_chip_cntr_gjson = output_path+\"/landcover_chip_cntr_china_v4.1_s2.geojson\"\n",
    "landcover_chip_ext_gjson = output_path+\"/landcover_chip_ext_china_v4.1_s2.geojson\""
   ]
  },
  {
   "cell_type": "markdown",
   "metadata": {},
   "source": [
    "## Define parameters\n",
    "\n",
    "* `buffer_size`: 0.5*length of chips centered on steel, cement, or landcover\n",
    "* `calc_crs`: coordinate system in m to use for buffer, offset calculations\n",
    "* `n_chips`: number of chips per plant to create; landcover class creates 8 chips per plant"
   ]
  },
  {
   "cell_type": "code",
   "execution_count": null,
   "metadata": {},
   "outputs": [],
   "source": [
    "buffer_size = 1500 # in m\n",
    "calc_crs = \"EPSG:3395\"\n",
    "n_chips = 4"
   ]
  },
  {
   "cell_type": "markdown",
   "metadata": {},
   "source": [
    "## Create cement plant geojson file"
   ]
  },
  {
   "cell_type": "code",
   "execution_count": null,
   "metadata": {},
   "outputs": [],
   "source": [
    "cement_pdf = pd.read_csv(cement_input_csv, index_col=False)"
   ]
  },
  {
   "cell_type": "markdown",
   "metadata": {},
   "source": [
    "### Statistics and quality checks"
   ]
  },
  {
   "cell_type": "code",
   "execution_count": null,
   "metadata": {},
   "outputs": [],
   "source": [
    "# Number of plants\n",
    "tot_cement_cnt = len(cement_pdf)\n",
    "print(\"Count of cement plants: \", tot_cement_cnt)\n",
    "\n",
    "# Number of plants with null positions\n",
    "null_cnt = sum(cement_pdf['latitude'].isnull())\n",
    "print(\"Count of cement plants will null position values: \", null_cnt)"
   ]
  },
  {
   "cell_type": "markdown",
   "metadata": {},
   "source": [
    "### Create GeoDataFrame (define geometry and crs)"
   ]
  },
  {
   "cell_type": "code",
   "execution_count": null,
   "metadata": {},
   "outputs": [],
   "source": [
    "cement_gdf = gpd.GeoDataFrame(cement_pdf,\n",
    "                              geometry=gpd.points_from_xy(cement_pdf.longitude, \n",
    "                                                          cement_pdf.latitude),\n",
    "                              crs=\"EPSG:4326\")"
   ]
  },
  {
   "cell_type": "markdown",
   "metadata": {},
   "source": [
    "### Write GeoJson file"
   ]
  },
  {
   "cell_type": "code",
   "execution_count": null,
   "metadata": {},
   "outputs": [],
   "source": [
    "cement_gdf.to_file(cement_output_gjson, driver='GeoJSON')"
   ]
  },
  {
   "cell_type": "markdown",
   "metadata": {},
   "source": [
    "## Create steel plant geojson file"
   ]
  },
  {
   "cell_type": "code",
   "execution_count": null,
   "metadata": {},
   "outputs": [],
   "source": [
    "steel_pdf = pd.read_csv(steel_input_csv, index_col=False)"
   ]
  },
  {
   "cell_type": "markdown",
   "metadata": {},
   "source": [
    "### Statistics and quality checks"
   ]
  },
  {
   "cell_type": "code",
   "execution_count": null,
   "metadata": {},
   "outputs": [],
   "source": [
    "# Number of plants\n",
    "tot_steel_cnt = len(steel_pdf)\n",
    "print(\"Count of steel plants: \", tot_steel_cnt)\n",
    "\n",
    "# Number of plants with null positions\n",
    "null_cnt = sum(steel_pdf['latitude'].isnull())\n",
    "print(\"Count of steel plants will null position values: \", null_cnt)"
   ]
  },
  {
   "cell_type": "markdown",
   "metadata": {},
   "source": [
    "### Create GeoDataFrame (define geometry and crs)"
   ]
  },
  {
   "cell_type": "code",
   "execution_count": null,
   "metadata": {},
   "outputs": [],
   "source": [
    "steel_gdf = gpd.GeoDataFrame(steel_pdf,\n",
    "                             geometry=gpd.points_from_xy(steel_pdf.longitude, \n",
    "                                                         steel_pdf.latitude),\n",
    "                              crs=\"EPSG:4326\")"
   ]
  },
  {
   "cell_type": "markdown",
   "metadata": {},
   "source": [
    "### Write GeoJson file"
   ]
  },
  {
   "cell_type": "code",
   "execution_count": null,
   "metadata": {},
   "outputs": [],
   "source": [
    "steel_gdf.to_file(steel_output_gjson, driver='GeoJSON')"
   ]
  },
  {
   "cell_type": "markdown",
   "metadata": {},
   "source": [
    "## Create Cement Chip Centroids"
   ]
  },
  {
   "cell_type": "markdown",
   "metadata": {},
   "source": [
    "### Convert to physical crs"
   ]
  },
  {
   "cell_type": "code",
   "execution_count": null,
   "metadata": {},
   "outputs": [],
   "source": [
    "cement_phys_gdf = cement_gdf.to_crs(calc_crs)\n",
    "cement_phys_gdf = cement_phys_gdf[['uid', 'geometry']]"
   ]
  },
  {
   "cell_type": "markdown",
   "metadata": {},
   "source": [
    "### Create chip centroids randomly offset from plant center"
   ]
  },
  {
   "cell_type": "code",
   "execution_count": null,
   "metadata": {},
   "outputs": [],
   "source": [
    "# Loop over all cement plants\n",
    "for ind in list(range(0, tot_cement_cnt)):\n",
    "    \n",
    "    # Loop over number of chips per plant to create\n",
    "    for n in list(range(1, n_chips+1)):\n",
    "        \n",
    "        # Spread chips centers evenly in four quandrants split by plant center\n",
    "        if np.mod(n, 4) == 1:\n",
    "            dx = np.random.uniform(low = 0, high = buffer_size)\n",
    "            dy = np.random.uniform(low = 0, high = buffer_size)\n",
    "        if np.mod(n, 4) == 2:\n",
    "            dx = np.random.uniform(low = -buffer_size, high = 0)\n",
    "            dy = np.random.uniform(low = 0, high = buffer_size)\n",
    "        if np.mod(n, 4) == 3:\n",
    "            dx = np.random.uniform(low = -buffer_size, high = 0)\n",
    "            dy = np.random.uniform(low = -buffer_size, high = 0)\n",
    "        if np.mod(n, 4) == 0:\n",
    "            dx = np.random.uniform(low = 0, high = buffer_size)\n",
    "            dy = np.random.uniform(low = -buffer_size, high = 0)\n",
    "        \n",
    "        # Shift points by random number\n",
    "        shifted_geom = cement_phys_gdf.iloc[[ind]].geometry.translate(dx, dy)\n",
    "        shifted_geom_gdf = gpd.GeoDataFrame({'uid': cement_phys_gdf.iloc[[ind]].uid,\n",
    "                                             'tile_id': cement_phys_gdf.iloc[[ind]].uid+'-'+str(n).zfill(2)},\n",
    "                                            geometry=shifted_geom,\n",
    "                                            crs=calc_crs)\n",
    "        shifted_geom_gdf['dist_m'] = shifted_geom_gdf.distance(cement_phys_gdf.iloc[[ind]])\n",
    "        \n",
    "        # Append to new DataFrame\n",
    "        if 'cement_chip_cntr_gdf' in locals():            \n",
    "            cement_chip_cntr_gdf = pd.concat([cement_chip_cntr_gdf, shifted_geom_gdf], \n",
    "                                             ignore_index=True)\n",
    "            \n",
    "        else:\n",
    "            cement_chip_cntr_gdf = shifted_geom_gdf"
   ]
  },
  {
   "cell_type": "markdown",
   "metadata": {},
   "source": [
    "### Write chip centroids and extents out to GeoJson"
   ]
  },
  {
   "cell_type": "code",
   "execution_count": null,
   "metadata": {},
   "outputs": [],
   "source": [
    "cement_chip_ext_gdf = gpd.GeoDataFrame(cement_chip_cntr_gdf[['uid', 'tile_id', 'dist_m']],\n",
    "                                       geometry=cement_chip_cntr_gdf.buffer(buffer_size).envelope,\n",
    "                                       crs=calc_crs)\n",
    "cement_chip_ext_gdf = cement_chip_ext_gdf.to_crs('EPSG:4326')\n",
    "cement_chip_ext_gdf.to_file(cement_chip_ext_gjson, driver='GeoJSON')"
   ]
  },
  {
   "cell_type": "code",
   "execution_count": null,
   "metadata": {},
   "outputs": [],
   "source": [
    "cement_chip_cntr_gdf = cement_chip_cntr_gdf.to_crs('EPSG:4326')\n",
    "cement_chip_cntr_gdf.to_file(cement_chip_cntr_gjson, driver='GeoJSON')"
   ]
  },
  {
   "cell_type": "markdown",
   "metadata": {},
   "source": [
    "## Create Steel Chip Centroids"
   ]
  },
  {
   "cell_type": "markdown",
   "metadata": {},
   "source": [
    "### Convert to physical crs"
   ]
  },
  {
   "cell_type": "code",
   "execution_count": null,
   "metadata": {},
   "outputs": [],
   "source": [
    "steel_phys_gdf = steel_gdf.to_crs(calc_crs)\n",
    "steel_phys_gdf = steel_phys_gdf[['uid', 'geometry']]"
   ]
  },
  {
   "cell_type": "markdown",
   "metadata": {},
   "source": [
    "### Create chip centroids randomly offset from plant center"
   ]
  },
  {
   "cell_type": "code",
   "execution_count": null,
   "metadata": {},
   "outputs": [],
   "source": [
    "# Loop over all steel plants\n",
    "for ind in list(range(0, tot_steel_cnt)):\n",
    "    \n",
    "    # Loop over number of chips per plant to create\n",
    "    for n in list(range(1, n_chips+1)):\n",
    "        \n",
    "        # Spread chips centers evenly in four quandrants split by plant center\n",
    "        if np.mod(n, 4) == 1:\n",
    "            dx = np.random.uniform(low = 0, high = buffer_size)\n",
    "            dy = np.random.uniform(low = 0, high = buffer_size)\n",
    "        if np.mod(n, 4) == 2:\n",
    "            dx = np.random.uniform(low = -buffer_size, high = 0)\n",
    "            dy = np.random.uniform(low = 0, high = buffer_size)\n",
    "        if np.mod(n, 4) == 3:\n",
    "            dx = np.random.uniform(low = -buffer_size, high = 0)\n",
    "            dy = np.random.uniform(low = -buffer_size, high = 0)\n",
    "        if np.mod(n, 4) == 0:\n",
    "            dx = np.random.uniform(low = 0, high = buffer_size)\n",
    "            dy = np.random.uniform(low = -buffer_size, high = 0)\n",
    "        \n",
    "        # Shift points by random number\n",
    "        shifted_geom = steel_phys_gdf.iloc[[ind]].geometry.translate(dx, dy)\n",
    "        shifted_geom_gdf = gpd.GeoDataFrame({'uid': steel_phys_gdf.iloc[[ind]].uid,\n",
    "                                             'tile_id': steel_phys_gdf.iloc[[ind]].uid+'-'+str(n).zfill(2)},\n",
    "                                            geometry=shifted_geom,\n",
    "                                            crs=calc_crs)\n",
    "        shifted_geom_gdf['dist_m'] = shifted_geom_gdf.distance(steel_phys_gdf.iloc[[ind]])\n",
    "        \n",
    "        # Append to new DataFrame\n",
    "        if 'steel_chip_cntr_gdf' in locals():            \n",
    "            steel_chip_cntr_gdf = pd.concat([steel_chip_cntr_gdf, shifted_geom_gdf], \n",
    "                                             ignore_index=True)\n",
    "            \n",
    "        else:\n",
    "            steel_chip_cntr_gdf = shifted_geom_gdf"
   ]
  },
  {
   "cell_type": "markdown",
   "metadata": {},
   "source": [
    "### Write chip centroids and extents out to GeoJson"
   ]
  },
  {
   "cell_type": "code",
   "execution_count": null,
   "metadata": {},
   "outputs": [],
   "source": [
    "steel_chip_ext_gdf = gpd.GeoDataFrame(steel_chip_cntr_gdf[['uid', 'tile_id', 'dist_m']],\n",
    "                                       geometry=steel_chip_cntr_gdf.buffer(buffer_size).envelope,\n",
    "                                       crs=calc_crs)\n",
    "steel_chip_ext_gdf = steel_chip_ext_gdf.to_crs('EPSG:4326')\n",
    "steel_chip_ext_gdf.to_file(steel_chip_ext_gjson, driver='GeoJSON')"
   ]
  },
  {
   "cell_type": "code",
   "execution_count": null,
   "metadata": {},
   "outputs": [],
   "source": [
    "steel_chip_cntr_gdf = steel_chip_cntr_gdf.to_crs('EPSG:4326')\n",
    "steel_chip_cntr_gdf.to_file(steel_chip_cntr_gjson, driver='GeoJSON')"
   ]
  },
  {
   "cell_type": "markdown",
   "metadata": {},
   "source": [
    "## Create Landcover Chip Centroids\n",
    "\n",
    "* Take cement and steel plant locations\n",
    "* Shift coordinates by large factors of buffer_size, so that get ring of landcover chips surrounding by not including the plant\n",
    "* Remove landcover chips that would intersect with other cement and steel plants"
   ]
  },
  {
   "cell_type": "markdown",
   "metadata": {},
   "source": [
    "### Merge cement and steel plant centers"
   ]
  },
  {
   "cell_type": "code",
   "execution_count": null,
   "metadata": {},
   "outputs": [],
   "source": [
    "plant_gdf = cement_phys_gdf[['geometry']].append(steel_phys_gdf[['geometry']])"
   ]
  },
  {
   "cell_type": "markdown",
   "metadata": {},
   "source": [
    "### Create landcover chip centers"
   ]
  },
  {
   "cell_type": "code",
   "execution_count": null,
   "metadata": {},
   "outputs": [],
   "source": [
    "dx_fac = [3, 2, 0, -2, -3, -2, 0, 2]\n",
    "dy_fac = [0, 2, 3, 2, 0, -2, -3, -2]"
   ]
  },
  {
   "cell_type": "code",
   "execution_count": null,
   "metadata": {},
   "outputs": [],
   "source": [
    "for dxf, dyf in zip(dx_fac, dy_fac):\n",
    "        \n",
    "    # Shift plant locations by buffer size factor\n",
    "    shifted_geom = plant_gdf.translate(dxf*buffer_size, dyf*buffer_size)\n",
    "    shifted_geom_gdf = gpd.GeoDataFrame(geometry=shifted_geom,\n",
    "                                        crs=calc_crs)\n",
    "        \n",
    "    # Append to new DataFrame\n",
    "    if 'landcover_chip_cntr_gdf' in locals():\n",
    "        landcover_chip_cntr_gdf = pd.concat([landcover_chip_cntr_gdf, shifted_geom_gdf],\n",
    "                                            ignore_index=True)\n",
    "            \n",
    "    else:\n",
    "        landcover_chip_cntr_gdf = shifted_geom_gdf"
   ]
  },
  {
   "cell_type": "code",
   "execution_count": null,
   "metadata": {},
   "outputs": [],
   "source": [
    "landcover_chip_cntr_gdf['tile_id'] = [\"CHN\"+str(row).zfill(4)+'-LC' for row in list(range(1,len(landcover_chip_cntr_gdf)+1))]"
   ]
  },
  {
   "cell_type": "markdown",
   "metadata": {},
   "source": [
    "### Compute tile extents and convert to EPSG:4346"
   ]
  },
  {
   "cell_type": "code",
   "execution_count": null,
   "metadata": {},
   "outputs": [],
   "source": [
    "landcover_chip_ext_gdf = gpd.GeoDataFrame(landcover_chip_cntr_gdf[['tile_id']],\n",
    "                                          geometry=landcover_chip_cntr_gdf.buffer(buffer_size).envelope,\n",
    "                                          crs=calc_crs)\n",
    "landcover_chip_ext_gdf = landcover_chip_ext_gdf.to_crs('EPSG:4326')"
   ]
  },
  {
   "cell_type": "code",
   "execution_count": null,
   "metadata": {},
   "outputs": [],
   "source": [
    "landcover_chip_cntr_gdf = landcover_chip_cntr_gdf.to_crs(\"EPSG:4326\")"
   ]
  },
  {
   "cell_type": "markdown",
   "metadata": {},
   "source": [
    "### Remove landcover chips that intersect with known plants"
   ]
  },
  {
   "cell_type": "code",
   "execution_count": null,
   "metadata": {},
   "outputs": [],
   "source": [
    "lc_intsct_cement_gdf = gpd.sjoin(landcover_chip_ext_gdf, cement_gdf, how='inner', op='intersects')\n",
    "landcover_chip_ext_gdf = landcover_chip_ext_gdf[~landcover_chip_ext_gdf.tile_id.isin(lc_intsct_cement_gdf.tile_id)]\n",
    "landcover_chip_cntr_gdf = landcover_chip_cntr_gdf[~landcover_chip_cntr_gdf.tile_id.isin(lc_intsct_cement_gdf.tile_id)]"
   ]
  },
  {
   "cell_type": "code",
   "execution_count": null,
   "metadata": {},
   "outputs": [],
   "source": [
    "lc_intsct_steel_gdf = gpd.sjoin(landcover_chip_ext_gdf, steel_gdf, how='inner', op='intersects')\n",
    "landcover_chip_ext_gdf = landcover_chip_ext_gdf[~landcover_chip_ext_gdf.tile_id.isin(lc_intsct_steel_gdf.tile_id)]\n",
    "landcover_chip_cntr_gdf = landcover_chip_cntr_gdf[~landcover_chip_cntr_gdf.tile_id.isin(lc_intsct_steel_gdf.tile_id)]"
   ]
  },
  {
   "cell_type": "markdown",
   "metadata": {},
   "source": [
    "### Write landcover chips to GeoJSON"
   ]
  },
  {
   "cell_type": "code",
   "execution_count": null,
   "metadata": {},
   "outputs": [],
   "source": [
    "landcover_chip_cntr_gdf.to_file(landcover_chip_cntr_gjson, driver='GeoJSON')\n",
    "landcover_chip_ext_gdf.to_file(landcover_chip_ext_gjson, driver='GeoJSON')"
   ]
  }
 ],
 "metadata": {
  "kernelspec": {
   "display_name": "EarthAI Environment",
   "language": "python",
   "name": "python3"
  },
  "language_info": {
   "codemirror_mode": {
    "name": "ipython",
    "version": 3
   },
   "file_extension": ".py",
   "mimetype": "text/x-python",
   "name": "python",
   "nbconvert_exporter": "python",
   "pygments_lexer": "ipython3",
   "version": "3.7.9"
  }
 },
 "nbformat": 4,
 "nbformat_minor": 4
}
