{
 "cells": [
  {
   "cell_type": "code",
   "execution_count": 1,
   "metadata": {
    "collapsed": true,
    "jupyter": {
     "outputs_hidden": true
    }
   },
   "outputs": [
    {
     "name": "stdout",
     "output_type": "stream",
     "text": [
      "Requirement already satisfied: xmltodict in /opt/conda/envs/earthai/lib/python3.7/site-packages (0.12.0)\n",
      "Requirement already satisfied: requests_toolbelt in /opt/conda/envs/earthai/lib/python3.7/site-packages (0.9.1)\n",
      "Requirement already satisfied: owslib in /opt/conda/envs/earthai/lib/python3.7/site-packages (0.20.0)\n",
      "Requirement already satisfied: requests<3.0.0,>=2.0.1 in /opt/conda/envs/earthai/lib/python3.7/site-packages (from requests_toolbelt) (2.24.0)\n",
      "Requirement already satisfied: python-dateutil>=1.5 in /opt/conda/envs/earthai/lib/python3.7/site-packages (from owslib) (2.8.1)\n",
      "Requirement already satisfied: pyproj>=2 in /opt/conda/envs/earthai/lib/python3.7/site-packages (from owslib) (2.6.1.post1)\n",
      "Requirement already satisfied: pyyaml in /opt/conda/envs/earthai/lib/python3.7/site-packages (from owslib) (5.3.1)\n",
      "Requirement already satisfied: pytz in /opt/conda/envs/earthai/lib/python3.7/site-packages (from owslib) (2020.1)\n",
      "Requirement already satisfied: idna<3,>=2.5 in /opt/conda/envs/earthai/lib/python3.7/site-packages (from requests<3.0.0,>=2.0.1->requests_toolbelt) (2.10)\n",
      "Requirement already satisfied: urllib3!=1.25.0,!=1.25.1,<1.26,>=1.21.1 in /opt/conda/envs/earthai/lib/python3.7/site-packages (from requests<3.0.0,>=2.0.1->requests_toolbelt) (1.25.10)\n",
      "Requirement already satisfied: certifi>=2017.4.17 in /opt/conda/envs/earthai/lib/python3.7/site-packages (from requests<3.0.0,>=2.0.1->requests_toolbelt) (2020.6.20)\n",
      "Requirement already satisfied: chardet<4,>=3.0.2 in /opt/conda/envs/earthai/lib/python3.7/site-packages (from requests<3.0.0,>=2.0.1->requests_toolbelt) (3.0.4)\n",
      "Requirement already satisfied: six>=1.5 in /opt/conda/envs/earthai/lib/python3.7/site-packages (from python-dateutil>=1.5->owslib) (1.15.0)\n"
     ]
    }
   ],
   "source": [
    "!pip install xmltodict requests_toolbelt owslib"
   ]
  },
  {
   "cell_type": "code",
   "execution_count": null,
   "metadata": {},
   "outputs": [],
   "source": [
    "import requests\n",
    "import os\n",
    "import urllib\n",
    "import json\n",
    "import re\n",
    "import string\n",
    "import xmltodict\n",
    "from requests_toolbelt.multipart.decoder import MultipartDecoder\n",
    "from tqdm.auto import tqdm"
   ]
  },
  {
   "cell_type": "code",
   "execution_count": null,
   "metadata": {},
   "outputs": [],
   "source": [
    "import logging\n",
    "logging.basicConfig(level=logging.INFO)"
   ]
  },
  {
   "cell_type": "code",
   "execution_count": null,
   "metadata": {},
   "outputs": [],
   "source": [
    "connectId = \"228b427a-fded-4f00-9602-1225879e86a6\""
   ]
  },
  {
   "cell_type": "code",
   "execution_count": null,
   "metadata": {},
   "outputs": [],
   "source": [
    "def getImage(payload):\n",
    "    baseurl = \"https://securewatch.maxar.com/mapservice/wmsaccess?\"\n",
    "    url = baseurl+urllib.parse.urlencode(payload)\n",
    "    headers = {}\n",
    "    r = requests.request(\"GET\", url, headers=headers, data=payload)\n",
    "    return(r.content)\n",
    "\n",
    "def getBbox(coord_dict):\n",
    "    bbox_list = list()\n",
    "    for feature in coord_dict[\"features\"]:\n",
    "        coord_list = feature[\"geometry\"][\"coordinates\"][0][0]\n",
    "        uid = feature[\"properties\"][\"uid\"]\n",
    "        lat = list()\n",
    "        lon = list()\n",
    "        for coord in coord_list:\n",
    "            lon.append(coord[0])\n",
    "            lat.append(coord[1])\n",
    "\n",
    "        maxlat = max(lat)\n",
    "        minlat = min(lat)\n",
    "        maxlon = max(lon)\n",
    "        minlon = min(lon)\n",
    "        bbox_list.append([[minlat, minlon],[maxlat,maxlon],uid])\n",
    "        \n",
    "    return bbox_list\n",
    "\n",
    "def getImageWCS(payload):\n",
    "    baseurl = \"https://securewatch.maxar.com/deliveryservice/wcsaccess?\"\n",
    "    url = baseurl+urllib.parse.urlencode(payload)\n",
    "    headers = {}\n",
    "    r = requests.request(\"GET\", url, headers=headers, data=payload)\n",
    "    return(r)\n",
    "\n",
    "def getFeaturesWFS(payload):\n",
    "    base_url = 'https://securewatch.maxar.com/catalogservice/wfsaccess?'\n",
    "    url = base_url+urllib.parse.urlencode(payload)\n",
    "    headers = {}\n",
    "    r = requests.request(\"GET\", url, headers=headers, data=payload)\n",
    "    return(r.content)\n",
    "\n",
    "def selectBestImage(short_list):\n",
    "    id = short_list[0][\"id\"]\n",
    "    return id"
   ]
  },
  {
   "cell_type": "markdown",
   "metadata": {},
   "source": [
    "Import .Json File"
   ]
  },
  {
   "cell_type": "markdown",
   "metadata": {},
   "source": [
    "# Get list AOI\n",
    " - read in json file\n",
    " - parse file to get list of bounding boxes\n",
    " - convert to [minlat, minlon, maxlat, maxlon] format"
   ]
  },
  {
   "cell_type": "code",
   "execution_count": null,
   "metadata": {},
   "outputs": [],
   "source": [
    "file = open('./5_sites.geojson','r')\n",
    "json_file = file.read()\n",
    "coord_dict = json.loads(json_file)"
   ]
  },
  {
   "cell_type": "code",
   "execution_count": null,
   "metadata": {},
   "outputs": [],
   "source": [
    "coord_dict[\"features\"][0][\"properties\"][\"uid\"]"
   ]
  },
  {
   "cell_type": "code",
   "execution_count": null,
   "metadata": {},
   "outputs": [],
   "source": [
    "bboxes = getBbox(coord_dict)\n",
    "bboxes"
   ]
  },
  {
   "cell_type": "markdown",
   "metadata": {},
   "source": [
    "# Get images using WFS and WCS\n",
    "- get image id's using WFS Service\n",
    "- parse and simplify WFS response\n",
    "- select image based on priorities\n",
    "- return get image id for selected image\n",
    "- pull image using WCS\n",
    "- save in file with uid as name"
   ]
  },
  {
   "cell_type": "code",
   "execution_count": null,
   "metadata": {},
   "outputs": [],
   "source": [
    "bboxes"
   ]
  },
  {
   "cell_type": "code",
   "execution_count": null,
   "metadata": {},
   "outputs": [],
   "source": [
    "for bbox in tqdm(bboxes):\n",
    "    #get list of images from WFS Service\n",
    "    payload={\n",
    "    \"connectId\": connectId,\n",
    "    \"Service\":\"WFS\",\n",
    "    \"Request\":\"GetFeature\",\n",
    "    \"version\":\"1.1.0\",\n",
    "    \"srsName\":\"EPSG:4326\"\n",
    "    }\n",
    "    \n",
    "    bbox_coords = str(bbox[0][0]) + \",\" + str(bbox[0][1]) + \",\" + str(bbox[1][0]) + \",\" + str(bbox[1][1])\n",
    "\n",
    "    # apparently the order matters of parameters\n",
    "    payload[\"BBOX\"]= bbox_coords\n",
    "    payload[\"typeName\"] = \"FinishedFeature\"\n",
    "    payload[\"WIDTH\"] = \"1102\"\n",
    "    payload[\"HEIGHT\"] = \"712\"\n",
    "    FeatureCollectionXML = getFeaturesWFS(payload)\n",
    "    FeatureCollection = xmltodict.parse(FeatureCollectionXML)\n",
    "    \n",
    "    #Translate resulting list into simplified list\n",
    "    short_list = list()\n",
    "    for item in FeatureCollection[\"wfs:FeatureCollection\"]['gml:featureMembers']['DigitalGlobe:FinishedFeature']:\n",
    "        if item['DigitalGlobe:productType'] == \"Pan Sharpened Natural Color\":\n",
    "            image_details = dict()b\n",
    "            image_details[\"id\"] = item['@gml:id']\n",
    "            image_details[\"date\"] = item[\"DigitalGlobe:acquisitionDate\"]\n",
    "            image_details[\"type\"] = item[\"DigitalGlobe:productType\"]\n",
    "            image_details[\"cloud_covers\"] = item[\"DigitalGlobe:cloudCover\"]\n",
    "            image_details[\"offNadir\"] = item[\"DigitalGlobe:offNadirAngle\"]\n",
    "            image_details[\"gsd\"] = item[\"DigitalGlobe:groundSampleDistance\"]\n",
    "            short_list.append(image_details)\n",
    "    logging.info(\"Short List: \" + str(short_list))\n",
    "    \n",
    "    #if there are images in the list\n",
    "    if len(short_list) > 0:\n",
    "        #select best image\n",
    "        image_id = selectBestImage(short_list)\n",
    "        logging.info(\"Selected Image ID:\" + str(image_id))\n",
    "\n",
    "        #go get this images from WCS Service\n",
    "        WCSpayload={\n",
    "            \"connectId\":connectId,\n",
    "            \"Service\":\"WCS\",\n",
    "            \"Request\":\"GetCoverage\",\n",
    "            \"version\":\"1.1.0\",\n",
    "            \"srsName\":\"EPSG:4326\",\n",
    "            \"typeName\":\"FinishedFeature\",\n",
    "            \"WIDTH\":\"1102\",\n",
    "            \"HEIGHT\":\"712\",\n",
    "            \"format\":\"image/geotiff\"}\n",
    "\n",
    "        WCSpayload[\"Identifier\"] = image_id\n",
    "        WCSpayload[\"boundingBox\"] = bbox_coords\n",
    "        \n",
    "        response = getImageWCS(WCSpayload)\n",
    "        decoder = MultipartDecoder.from_response(response)\n",
    "        parts = decoder.parts\n",
    "        basename = str(bbox[2])\n",
    "\n",
    "        with open(basename + '.xml', 'wb') as f:\n",
    "            f.write(parts[0].content)\n",
    "        with open(basename + '.tiff', 'wb') as f:\n",
    "            f.write(parts[1].content)\n",
    "        \n"
   ]
  }
 ],
 "metadata": {
  "kernelspec": {
   "display_name": "EarthAI Environment",
   "language": "python",
   "name": "python3"
  },
  "language_info": {
   "codemirror_mode": {
    "name": "ipython",
    "version": 3
   },
   "file_extension": ".py",
   "mimetype": "text/x-python",
   "name": "python",
   "nbconvert_exporter": "python",
   "pygments_lexer": "ipython3",
   "version": "3.7.9"
  },
  "widgets": {
   "application/vnd.jupyter.widget-state+json": {
    "state": {},
    "version_major": 2,
    "version_minor": 0
   }
  }
 },
 "nbformat": 4,
 "nbformat_minor": 4
}
