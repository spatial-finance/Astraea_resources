{
 "cells": [
  {
   "cell_type": "code",
   "execution_count": 1,
   "metadata": {},
   "outputs": [],
   "source": [
    "import pandas as pd\n",
    "import requests\n",
    "from tqdm.auto import tqdm\n",
    "from requests_toolbelt.multipart.decoder import MultipartDecoder\n",
    "import sys\n"
   ]
  },
  {
   "cell_type": "code",
   "execution_count": 2,
   "metadata": {},
   "outputs": [],
   "source": [
    "import logging\n",
    "logging.basicConfig(level=logging.INFO)\n",
    "pd.options.display.max_colwidth = 300"
   ]
  },
  {
   "cell_type": "code",
   "execution_count": 3,
   "metadata": {},
   "outputs": [],
   "source": [
    "connectId = \"228b427a-fded-4f00-9602-1225879e86a6\"\n",
    "wcs_path = 'https://securewatch.maxar.com/deliveryservice/wcsaccess'\n",
    "order = './order.csv'"
   ]
  },
  {
   "cell_type": "code",
   "execution_count": 4,
   "metadata": {},
   "outputs": [],
   "source": [
    "from pathlib import Path\n",
    "Path('./metadata').mkdir(exist_ok=True)\n",
    "Path('./images').mkdir(exist_ok=True)"
   ]
  },
  {
   "cell_type": "code",
   "execution_count": 5,
   "metadata": {},
   "outputs": [
    {
     "name": "stdout",
     "output_type": "stream",
     "text": [
      "order size 188\n"
     ]
    }
   ],
   "source": [
    "order_df = pd.read_csv('./order.csv')\n",
    "print(\"order size\", len(order_df))"
   ]
  },
  {
   "cell_type": "code",
   "execution_count": null,
   "metadata": {},
   "outputs": [],
   "source": [
    "%%time\n",
    "\n",
    "debug = False\n",
    "\n",
    "fmt, ext = ('image/jpeg', '.jpeg') if debug else ('image/geotiff', '.tiff')\n",
    "order = order_df[4:5].iterrows() if debug else order_df.iterrows()\n",
    "\n",
    "for (index, row) in tqdm(order):\n",
    "    image_id = row['featureId']\n",
    "    bbox = row['bbox']\n",
    "    basename = row['uid']\n",
    "\n",
    "    with open(\"./images/\" + basename + '-metadata.json', 'w') as f:\n",
    "        f.write(row.to_json())\n",
    "        \n",
    "    payload={\n",
    "        \"connectId\": connectId,\n",
    "        \"Service\": \"WCS\",\n",
    "        \"Request\": \"GetCoverage\",\n",
    "        \"version\": \"1.1.0\",\n",
    "        \"srsName\": \"EPSG:4326\",\n",
    "        \"typeName\": \"FinishedFeature\",\n",
    "        \"WIDTH\": \"1\",\n",
    "        \"HEIGHT\": \"1\",\n",
    "        \"format\": fmt,\n",
    "        \"Identifier\": image_id,\n",
    "        \"boundingBox\": bbox\n",
    "    }\n",
    "\n",
    "    try: \n",
    "        logging.info(f\"Fetching {image_id} for {basename}\")\n",
    "        resp = requests.get(wcs_path, payload)\n",
    "        # resp.raise_for_status()\n",
    "        logging.debug(str(resp.request))\n",
    "        decoder = MultipartDecoder.from_response(resp)\n",
    "        parts = decoder.parts\n",
    "    except Exception as e:\n",
    "        logger.error(e)\n",
    "        with open(\"./images/\" + basename + \"-error.log\", 'w') as f:\n",
    "            tpe, value, traceback = sys.exc_info()\n",
    "            f.write(f\"{str(tpe)}\\n{str(value)}\\n{str(traceback)}\")\n",
    "        continue\n",
    "\n",
    "    with open(\"./images/\" + basename + ext, 'wb') as f:\n",
    "        f.write(parts[1].content)"
   ]
  }
 ],
 "metadata": {
  "kernelspec": {
   "display_name": "EarthAI Environment",
   "language": "python",
   "name": "python3"
  },
  "language_info": {
   "codemirror_mode": {
    "name": "ipython",
    "version": 3
   },
   "file_extension": ".py",
   "mimetype": "text/x-python",
   "name": "python",
   "nbconvert_exporter": "python",
   "pygments_lexer": "ipython3",
   "version": "3.7.9"
  },
  "widgets": {
   "application/vnd.jupyter.widget-state+json": {
    "state": {
     "077f609c8f3b42aba808179a84c5c409": {
      "model_module": "@jupyter-widgets/controls",
      "model_module_version": "1.5.0",
      "model_name": "ProgressStyleModel",
      "state": {
       "description_width": "initial"
      }
     },
     "5fbe3610c7b14c6e93dd4d916ea6d28c": {
      "model_module": "@jupyter-widgets/base",
      "model_module_version": "1.2.0",
      "model_name": "LayoutModel",
      "state": {}
     },
     "6197aac6c9ec45bc9f2daf8f2be1edb5": {
      "model_module": "@jupyter-widgets/controls",
      "model_module_version": "1.5.0",
      "model_name": "FloatProgressModel",
      "state": {
       "bar_style": "success",
       "layout": "IPY_MODEL_68801ea1bfa54aae8e4373abd3ea9171",
       "max": 1,
       "style": "IPY_MODEL_077f609c8f3b42aba808179a84c5c409",
       "value": 1
      }
     },
     "648af3cbcc934d33a953d85b42971a7b": {
      "model_module": "@jupyter-widgets/controls",
      "model_module_version": "1.5.0",
      "model_name": "HTMLModel",
      "state": {
       "layout": "IPY_MODEL_fe1ecac69401447f8f4c658e6cd2e01f",
       "style": "IPY_MODEL_ef8944e7024f4af8b1f0df4e4589065b",
       "value": "188it [26:04,  8.32s/it]"
      }
     },
     "68801ea1bfa54aae8e4373abd3ea9171": {
      "model_module": "@jupyter-widgets/base",
      "model_module_version": "1.2.0",
      "model_name": "LayoutModel",
      "state": {
       "width": "20px"
      }
     },
     "e38612ba4bf74bd0a2c980936b81de97": {
      "model_module": "@jupyter-widgets/controls",
      "model_module_version": "1.5.0",
      "model_name": "HBoxModel",
      "state": {
       "children": [
        "IPY_MODEL_6197aac6c9ec45bc9f2daf8f2be1edb5",
        "IPY_MODEL_648af3cbcc934d33a953d85b42971a7b"
       ],
       "layout": "IPY_MODEL_5fbe3610c7b14c6e93dd4d916ea6d28c"
      }
     },
     "ef8944e7024f4af8b1f0df4e4589065b": {
      "model_module": "@jupyter-widgets/controls",
      "model_module_version": "1.5.0",
      "model_name": "DescriptionStyleModel",
      "state": {
       "description_width": ""
      }
     },
     "fe1ecac69401447f8f4c658e6cd2e01f": {
      "model_module": "@jupyter-widgets/base",
      "model_module_version": "1.2.0",
      "model_name": "LayoutModel",
      "state": {}
     }
    },
    "version_major": 2,
    "version_minor": 0
   }
  }
 },
 "nbformat": 4,
 "nbformat_minor": 4
}
