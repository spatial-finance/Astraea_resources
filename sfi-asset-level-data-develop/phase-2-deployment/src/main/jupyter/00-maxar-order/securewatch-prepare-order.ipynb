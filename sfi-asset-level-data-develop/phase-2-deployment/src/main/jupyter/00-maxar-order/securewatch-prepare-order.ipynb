{
 "cells": [
  {
   "cell_type": "raw",
   "metadata": {},
   "source": [
    "!pip install xmltodict requests_toolbelt owslib xlwt haversine"
   ]
  },
  {
   "cell_type": "code",
   "execution_count": null,
   "metadata": {},
   "outputs": [],
   "source": [
    "import requests\n",
    "import os\n",
    "import urllib\n",
    "import json\n",
    "import re\n",
    "import string\n",
    "import xmltodict\n",
    "from tqdm.auto import tqdm\n",
    "import geopandas as gpd\n",
    "from pandas import Series\n",
    "import xml.etree.ElementTree as ET\n",
    "from shapely.geometry import box\n",
    "import math"
   ]
  },
  {
   "cell_type": "code",
   "execution_count": 2,
   "metadata": {},
   "outputs": [],
   "source": [
    "import logging\n",
    "logging.basicConfig(level=logging.INFO)\n",
    "gpd.pd.options.display.max_colwidth = 300"
   ]
  },
  {
   "cell_type": "code",
   "execution_count": 3,
   "metadata": {},
   "outputs": [],
   "source": [
    "connectId = \"228b427a-fded-4f00-9602-1225879e86a6\"\n",
    "#aoi_file = './5_sites.geojson'\n",
    "aoi_file = './sw_cement_annotations.geojson'\n",
    "\n",
    "wfs_path = 'https://securewatch.maxar.com/catalogservice/wfsaccess'\n",
    "xml_ns = {\n",
    "    'dg': 'http://www.digitalglobe.com',\n",
    "    'wfs': 'http://www.opengis.net/wfs',\n",
    "    'gml': 'http://www.opengis.net/gml'\n",
    "}\n"
   ]
  },
  {
   "cell_type": "code",
   "execution_count": 4,
   "metadata": {},
   "outputs": [],
   "source": [
    "def xml_key(prefix, name):\n",
    "    return \"{\" + xml_ns[prefix] + \"}\" + name"
   ]
  },
  {
   "cell_type": "code",
   "execution_count": 5,
   "metadata": {},
   "outputs": [],
   "source": [
    "from pathlib import Path\n",
    "Path('./metadata').mkdir(exist_ok=True)\n",
    "Path('./images').mkdir(exist_ok=True)"
   ]
  },
  {
   "cell_type": "markdown",
   "metadata": {},
   "source": [
    "# Buffer Geometry if Needed"
   ]
  },
  {
   "cell_type": "code",
   "execution_count": 6,
   "metadata": {},
   "outputs": [
    {
     "name": "stdout",
     "output_type": "stream",
     "text": [
      "CPU times: user 162 ms, sys: 11.4 ms, total: 173 ms\n",
      "Wall time: 196 ms\n"
     ]
    }
   ],
   "source": [
    "%%time\n",
    "df = gpd.read_file(aoi_file)\n",
    "\n",
    "buf_radius_m = math.sqrt(2 * 1000 * 1000)/2\n",
    "\n",
    "def box_buf(g):\n",
    "    return box(*g.buffer(buf_radius_m).bounds).buffer(0)\n",
    "\n",
    "g_types = df.geom_type.unique()\n",
    "if len(g_types) == 1 and g_types[0] == 'Point':\n",
    "    df['geometry'] = df.geometry \\\n",
    "        .to_crs(epsg=3395) \\\n",
    "        .apply(box_buf) \\\n",
    "        .to_crs(epsg=4326) \n",
    "    with open('./metadata/buffered.geojson', 'w') as f:\n",
    "        f.write(df.to_json())\n",
    "\n",
    "# Check areas    \n",
    "#df.to_crs(epsg=3395).geometry.apply(lambda g: g.area)"
   ]
  },
  {
   "cell_type": "markdown",
   "metadata": {},
   "source": [
    "# Construct Features DataFrame\n",
    "This constructs a multiindex (`uid`, `featureId`) dataframe containing properties describing each available imagery asset for each AOI."
   ]
  },
  {
   "cell_type": "code",
   "execution_count": 7,
   "metadata": {},
   "outputs": [
    {
     "name": "stdout",
     "output_type": "stream",
     "text": [
      "CPU times: user 7.97 s, sys: 208 ms, total: 8.18 s\n",
      "Wall time: 16.2 s\n"
     ]
    }
   ],
   "source": [
    "%%time\n",
    "# NB, per Maxar:  minimum Y, minimum X, maximum Y, and maximum X\n",
    "# cf: https://securewatchdocs.maxar.com/en-us/Miscellaneous/DevGuides/WFS/WFS_Feature.htm#BBOX\n",
    "def mk_bounds(bounds) -> str:\n",
    "    return f\"{bounds[1]},{bounds[0]},{bounds[3]},{bounds[2]}\"\n",
    "\n",
    "def mk_query_payload(row: Series) -> dict:\n",
    "    bbox = mk_bounds(row.geometry.bounds)\n",
    "    payload = {\n",
    "        \"connectId\": connectId,\n",
    "        \"Service\": \"WFS\",\n",
    "        \"Request\": \"GetFeature\",\n",
    "        \"version\": \"1.1.0\",\n",
    "        \"srsName\": \"EPSG:4326\",\n",
    "        \"typeName\": \"FinishedFeature\",\n",
    "        \"BBOX\": bbox,\n",
    "        \"WIDTH\": 1,\n",
    "        \"HEIGHT\": 1\n",
    "    }\n",
    "    return payload\n",
    "\n",
    "\n",
    "def feature(row: Series):\n",
    "    query = mk_query_payload(row)\n",
    "    resp = requests.get(wfs_path, query)\n",
    "    basename = row.uid\n",
    "    try:\n",
    "        with open(f'./images/{basename}-feature.xml', 'w') as f:\n",
    "            f.write(resp.text)\n",
    "        result = ET.fromstring(resp.text)\n",
    "        rows = []\n",
    "        for f in result.findall('.//dg:FinishedFeature', xml_ns):\n",
    "            rows.append({\n",
    "                **{re.sub('{.+}', '', c.tag): str(c.text) for c in f}, \n",
    "                **{'uid': basename, 'bbox': query[\"BBOX\"]}\n",
    "            })\n",
    "        result = rows\n",
    "    except Exception as e:\n",
    "        result = str(e)\n",
    "    return result\n",
    "\n",
    "feature_set = df.apply(feature, axis=1)\n",
    "\n",
    "all_features_df = gpd.pd.DataFrame(feature_set.explode().to_list()).set_index(['uid', 'featureId'])\n",
    "all_features_df.to_excel('./metadata/all-features.xls')"
   ]
  },
  {
   "cell_type": "code",
   "execution_count": 8,
   "metadata": {},
   "outputs": [
    {
     "name": "stderr",
     "output_type": "stream",
     "text": [
      "INFO:numexpr.utils:NumExpr defaulting to 8 threads.\n"
     ]
    },
    {
     "name": "stdout",
     "output_type": "stream",
     "text": [
      "CPU times: user 2.62 s, sys: 11.9 ms, total: 2.63 s\n",
      "Wall time: 2.69 s\n"
     ]
    }
   ],
   "source": [
    "%%time\n",
    "\n",
    "off_nadir_limit = 30.0\n",
    "cloud_cover_limit = 0.4\n",
    "\n",
    "def image_criteria(row):\n",
    "    return ((row.productType == 'Pan Sharpened Natural Color') &\n",
    "            (row.offNadirAngle.astype(float) < off_nadir_limit) &\n",
    "            (row.cloudCover.astype(float) < cloud_cover_limit)\n",
    "           )\n",
    "\n",
    "viz_feature_df = all_features_df[image_criteria]\n",
    "\n",
    "viz_feature_df.to_excel('./metadata/image-features.xls')"
   ]
  },
  {
   "cell_type": "markdown",
   "metadata": {},
   "source": [
    "# Construct Order"
   ]
  },
  {
   "cell_type": "code",
   "execution_count": 9,
   "metadata": {},
   "outputs": [
    {
     "name": "stdout",
     "output_type": "stream",
     "text": [
      "off_nadir_limit| cloud_cover_limit| Order size\n",
      "30.0 | 0.4 | 188\n"
     ]
    }
   ],
   "source": [
    "# This should be doable with multi-index slices, but couldn't figure out how \n",
    "rows = []\n",
    "for uid, aoi_feature in viz_feature_df.groupby(by='uid', as_index=False):\n",
    "    first = aoi_feature.sort_values(by='acquisitionDate', axis=0, ascending=False).reset_index().iloc[0]\n",
    "    rows.append(first)\n",
    "    \n",
    "order_df = gpd.pd.DataFrame(rows)\n",
    "order_df.to_csv('./order.csv')\n",
    "\n",
    "print(\"off_nadir_limit|\", \"cloud_cover_limit|\", \"Order size\")\n",
    "print(off_nadir_limit, \"|\", cloud_cover_limit, \"|\", len(order_df))"
   ]
  },
  {
   "cell_type": "markdown",
   "metadata": {},
   "source": [
    "AOIs: 203\n",
    "\n",
    "off_nadir_limit|cloud_cover_limit|Order size\n",
    "---|---|---\n",
    "25.0 | 0.3 | 181\n",
    "30.0 | 0.4 | 188\n",
    "25.0 | 0.5 | 184\n",
    "35.0 | 0.5 | 188\n",
    "15.0 | 0.4 | 131\n",
    "35.0 | 0.6 | 188\n",
    "45.0 | 0.8 | 188\n",
    "30.0 | 0.4 | 188\n"
   ]
  }
 ],
 "metadata": {
  "kernelspec": {
   "display_name": "EarthAI Environment",
   "language": "python",
   "name": "python3"
  },
  "language_info": {
   "codemirror_mode": {
    "name": "ipython",
    "version": 3
   },
   "file_extension": ".py",
   "mimetype": "text/x-python",
   "name": "python",
   "nbconvert_exporter": "python",
   "pygments_lexer": "ipython3",
   "version": "3.7.9"
  },
  "widgets": {
   "application/vnd.jupyter.widget-state+json": {
    "state": {},
    "version_major": 2,
    "version_minor": 0
   }
  }
 },
 "nbformat": 4,
 "nbformat_minor": 4
}
