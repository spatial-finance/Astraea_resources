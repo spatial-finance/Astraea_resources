{
 "cells": [
  {
   "cell_type": "markdown",
   "metadata": {},
   "source": [
    "# Compare Multiclass Landsat 8 TIR Model Performance on Two PNG Workflows\n",
    "\n",
    "* Original chip generation creates GeoTIFFs, then uses rasterio to normalize and create PNGs of type uint16 for use in deep learning\n",
    "* New workflow uses RasterFrames for normalization, and rasterio to create PNGs.\n",
    "\n",
    "Trained the same multi-class models on two sets of PNGS. Checking to see that they produce similar results.\n",
    "\n",
    "**Results:** It does appear as if 8-bit PNG model suffers a bit in accuracy and recall.\n",
    "\n",
    "## Install Fastai version 1.0.61"
   ]
  },
  {
   "cell_type": "code",
   "execution_count": 1,
   "metadata": {},
   "outputs": [
    {
     "name": "stdout",
     "output_type": "stream",
     "text": [
      "Requirement already satisfied: fastai==1.0.61 in /opt/conda/envs/earthai/lib/python3.7/site-packages (1.0.61)\n",
      "Requirement already satisfied: numpy>=1.15 in /opt/conda/envs/earthai/lib/python3.7/site-packages (from fastai==1.0.61) (1.19.1)\n",
      "Requirement already satisfied: scipy in /opt/conda/envs/earthai/lib/python3.7/site-packages (from fastai==1.0.61) (1.5.2)\n",
      "Requirement already satisfied: numexpr in /opt/conda/envs/earthai/lib/python3.7/site-packages (from fastai==1.0.61) (2.7.1)\n",
      "Requirement already satisfied: pandas in /opt/conda/envs/earthai/lib/python3.7/site-packages (from fastai==1.0.61) (1.1.2)\n",
      "Requirement already satisfied: torch>=1.0.0 in /opt/conda/envs/earthai/lib/python3.7/site-packages (from fastai==1.0.61) (1.6.0)\n",
      "Requirement already satisfied: torchvision in /opt/conda/envs/earthai/lib/python3.7/site-packages (from fastai==1.0.61) (0.7.0)\n",
      "Requirement already satisfied: beautifulsoup4 in /opt/conda/envs/earthai/lib/python3.7/site-packages (from fastai==1.0.61) (4.9.1)\n",
      "Requirement already satisfied: bottleneck in /opt/conda/envs/earthai/lib/python3.7/site-packages (from fastai==1.0.61) (1.3.2)\n",
      "Requirement already satisfied: matplotlib in /opt/conda/envs/earthai/lib/python3.7/site-packages (from fastai==1.0.61) (3.3.2)\n",
      "Requirement already satisfied: nvidia-ml-py3 in /opt/conda/envs/earthai/lib/python3.7/site-packages (from fastai==1.0.61) (7.352.0)\n",
      "Requirement already satisfied: pyyaml in /opt/conda/envs/earthai/lib/python3.7/site-packages (from fastai==1.0.61) (5.3.1)\n",
      "Requirement already satisfied: requests in /opt/conda/envs/earthai/lib/python3.7/site-packages (from fastai==1.0.61) (2.24.0)\n",
      "Requirement already satisfied: fastprogress>=0.2.1 in /opt/conda/envs/earthai/lib/python3.7/site-packages (from fastai==1.0.61) (1.0.0)\n",
      "Requirement already satisfied: spacy>=2.0.18; python_version < \"3.8\" in /opt/conda/envs/earthai/lib/python3.7/site-packages (from fastai==1.0.61) (2.3.2)\n",
      "Requirement already satisfied: packaging in /opt/conda/envs/earthai/lib/python3.7/site-packages (from fastai==1.0.61) (20.4)\n",
      "Requirement already satisfied: Pillow in /opt/conda/envs/earthai/lib/python3.7/site-packages (from fastai==1.0.61) (7.2.0)\n",
      "Requirement already satisfied: python-dateutil>=2.7.3 in /opt/conda/envs/earthai/lib/python3.7/site-packages (from pandas->fastai==1.0.61) (2.8.1)\n",
      "Requirement already satisfied: pytz>=2017.2 in /opt/conda/envs/earthai/lib/python3.7/site-packages (from pandas->fastai==1.0.61) (2020.1)\n",
      "Requirement already satisfied: future in /home/jovyan/.local/lib/python3.7/site-packages (from torch>=1.0.0->fastai==1.0.61) (0.18.2)\n",
      "Requirement already satisfied: soupsieve>1.2 in /opt/conda/envs/earthai/lib/python3.7/site-packages (from beautifulsoup4->fastai==1.0.61) (2.0.1)\n",
      "Requirement already satisfied: certifi>=2020.06.20 in /opt/conda/envs/earthai/lib/python3.7/site-packages (from matplotlib->fastai==1.0.61) (2020.6.20)\n",
      "Requirement already satisfied: pyparsing!=2.0.4,!=2.1.2,!=2.1.6,>=2.0.3 in /opt/conda/envs/earthai/lib/python3.7/site-packages (from matplotlib->fastai==1.0.61) (2.4.7)\n",
      "Requirement already satisfied: kiwisolver>=1.0.1 in /opt/conda/envs/earthai/lib/python3.7/site-packages (from matplotlib->fastai==1.0.61) (1.2.0)\n",
      "Requirement already satisfied: cycler>=0.10 in /opt/conda/envs/earthai/lib/python3.7/site-packages (from matplotlib->fastai==1.0.61) (0.10.0)\n",
      "Requirement already satisfied: urllib3!=1.25.0,!=1.25.1,<1.26,>=1.21.1 in /opt/conda/envs/earthai/lib/python3.7/site-packages (from requests->fastai==1.0.61) (1.25.10)\n",
      "Requirement already satisfied: idna<3,>=2.5 in /opt/conda/envs/earthai/lib/python3.7/site-packages (from requests->fastai==1.0.61) (2.10)\n",
      "Requirement already satisfied: chardet<4,>=3.0.2 in /opt/conda/envs/earthai/lib/python3.7/site-packages (from requests->fastai==1.0.61) (3.0.4)\n",
      "Requirement already satisfied: murmurhash<1.1.0,>=0.28.0 in /opt/conda/envs/earthai/lib/python3.7/site-packages (from spacy>=2.0.18; python_version < \"3.8\"->fastai==1.0.61) (1.0.2)\n",
      "Requirement already satisfied: setuptools in /opt/conda/envs/earthai/lib/python3.7/site-packages (from spacy>=2.0.18; python_version < \"3.8\"->fastai==1.0.61) (49.6.0.post20200814)\n",
      "Requirement already satisfied: srsly<1.1.0,>=1.0.2 in /opt/conda/envs/earthai/lib/python3.7/site-packages (from spacy>=2.0.18; python_version < \"3.8\"->fastai==1.0.61) (1.0.2)\n",
      "Requirement already satisfied: catalogue<1.1.0,>=0.0.7 in /opt/conda/envs/earthai/lib/python3.7/site-packages (from spacy>=2.0.18; python_version < \"3.8\"->fastai==1.0.61) (1.0.0)\n",
      "Requirement already satisfied: preshed<3.1.0,>=3.0.2 in /opt/conda/envs/earthai/lib/python3.7/site-packages (from spacy>=2.0.18; python_version < \"3.8\"->fastai==1.0.61) (3.0.2)\n",
      "Requirement already satisfied: wasabi<1.1.0,>=0.4.0 in /opt/conda/envs/earthai/lib/python3.7/site-packages (from spacy>=2.0.18; python_version < \"3.8\"->fastai==1.0.61) (0.8.0)\n",
      "Requirement already satisfied: tqdm<5.0.0,>=4.38.0 in /opt/conda/envs/earthai/lib/python3.7/site-packages (from spacy>=2.0.18; python_version < \"3.8\"->fastai==1.0.61) (4.49.0)\n",
      "Requirement already satisfied: cymem<2.1.0,>=2.0.2 in /opt/conda/envs/earthai/lib/python3.7/site-packages (from spacy>=2.0.18; python_version < \"3.8\"->fastai==1.0.61) (2.0.3)\n",
      "Requirement already satisfied: plac<1.2.0,>=0.9.6 in /opt/conda/envs/earthai/lib/python3.7/site-packages (from spacy>=2.0.18; python_version < \"3.8\"->fastai==1.0.61) (1.1.3)\n",
      "Requirement already satisfied: thinc==7.4.1 in /opt/conda/envs/earthai/lib/python3.7/site-packages (from spacy>=2.0.18; python_version < \"3.8\"->fastai==1.0.61) (7.4.1)\n",
      "Requirement already satisfied: blis<0.5.0,>=0.4.0 in /opt/conda/envs/earthai/lib/python3.7/site-packages (from spacy>=2.0.18; python_version < \"3.8\"->fastai==1.0.61) (0.4.1)\n",
      "Requirement already satisfied: six in /opt/conda/envs/earthai/lib/python3.7/site-packages (from packaging->fastai==1.0.61) (1.15.0)\n",
      "Requirement already satisfied: importlib-metadata>=0.20; python_version < \"3.8\" in /opt/conda/envs/earthai/lib/python3.7/site-packages (from catalogue<1.1.0,>=0.0.7->spacy>=2.0.18; python_version < \"3.8\"->fastai==1.0.61) (1.7.0)\n",
      "Requirement already satisfied: zipp>=0.5 in /opt/conda/envs/earthai/lib/python3.7/site-packages (from importlib-metadata>=0.20; python_version < \"3.8\"->catalogue<1.1.0,>=0.0.7->spacy>=2.0.18; python_version < \"3.8\"->fastai==1.0.61) (3.1.0)\n"
     ]
    }
   ],
   "source": [
    "!pip install fastai==1.0.61"
   ]
  },
  {
   "cell_type": "markdown",
   "metadata": {},
   "source": [
    "## Import libraries"
   ]
  },
  {
   "cell_type": "code",
   "execution_count": 2,
   "metadata": {},
   "outputs": [],
   "source": [
    "import os\n",
    "import boto3\n",
    "from earthai.ml import *\n",
    "import statistics\n",
    "\n",
    "from fastai import *\n",
    "from fastai.vision import *"
   ]
  },
  {
   "cell_type": "markdown",
   "metadata": {},
   "source": [
    "## Download final models and .tar file from S3 bucket and extract contents\n",
    "\n",
    "These tar files contains normalized PNGs for cement, steel, and landcover, divided into train and validate sets.\n",
    "\n",
    "* Original model using rasterio for noramlization and PNG generation is denoted by `1`\n",
    "* Refactored model using RasterFrames for normalization and rasterio for PNG generation is denoted by `2`"
   ]
  },
  {
   "cell_type": "code",
   "execution_count": 9,
   "metadata": {},
   "outputs": [],
   "source": [
    "DATA_1_PATH = 'L8-TIR-macro-localization-model-build/ALD_L8_TIR_chips_v4p1_train.tar'\n",
    "DATA_2_PATH = 'L8-TIR-macro-localization-model-build3/ALD_L8_TIR_chips_v4p1_train3.tar'\n",
    "\n",
    "DENSENET161_1_MODEL_PATH = 'L8-TIR-macro-localization-model-build/L8-TIR-model-results/densenet161_multiclass_final.pkl'\n",
    "RESNET50_1_MODEL_PATH = 'L8-TIR-macro-localization-model-build/L8-TIR-model-results/resnet50_multiclass_final.pkl'\n",
    "VGG13_1_MODEL_PATH = 'L8-TIR-macro-localization-model-build/L8-TIR-model-results/vgg13_multiclass_final.pkl'\n",
    "\n",
    "DENSENET161_2_MODEL_PATH = 'L8-TIR-macro-localization-model-build3/L8-TIR-model-results3/densenet161_multiclass_final.pkl'\n",
    "RESNET50_2_MODEL_PATH = 'L8-TIR-macro-localization-model-build3/L8-TIR-model-results3/resnet50_multiclass_final.pkl'\n",
    "VGG13_2_MODEL_PATH = 'L8-TIR-macro-localization-model-build3/L8-TIR-model-results3/vgg13_multiclass_final.pkl'\n",
    "\n",
    "LOCAL_DIR = '/scratch/'"
   ]
  },
  {
   "cell_type": "code",
   "execution_count": 10,
   "metadata": {},
   "outputs": [
    {
     "data": {
      "text/plain": [
       "0"
      ]
     },
     "execution_count": 10,
     "metadata": {},
     "output_type": "execute_result"
    }
   ],
   "source": [
    "s3 = boto3.resource('s3')\n",
    "bucket = s3.Bucket('sfi-shared-assets')\n",
    "\n",
    "# download data\n",
    "bucket.download_file(DATA_1_PATH, LOCAL_DIR + DATA_1_PATH.split(\"/\")[-1])\n",
    "bucket.download_file(DATA_2_PATH, LOCAL_DIR + DATA_2_PATH.split(\"/\")[-1])\n",
    "\n",
    "# unzip data\n",
    "unix_code = 'tar -C /scratch/ -xf '+LOCAL_DIR + DATA_1_PATH.split(\"/\")[-1]\n",
    "os.system(unix_code)\n",
    "unix_code = 'tar -C /scratch/ -xf '+LOCAL_DIR + DATA_2_PATH.split(\"/\")[-1]\n",
    "os.system(unix_code)"
   ]
  },
  {
   "cell_type": "code",
   "execution_count": 11,
   "metadata": {},
   "outputs": [],
   "source": [
    "# download models\n",
    "def download_model(MODEL_PATH):\n",
    "    if not os.path.exists(LOCAL_DIR + MODEL_PATH.split(\"/\")[-1].replace(\".pkl\", \"\")):\n",
    "        os.makedirs(LOCAL_DIR + MODEL_PATH.split(\"/\")[-1].replace(\".pkl\", \"\"))\n",
    "    bucket.download_file(MODEL_PATH, LOCAL_DIR + MODEL_PATH.split(\"/\")[-1].replace(\".pkl\", \"\") + \"/export.pkl\")\n",
    "\n",
    "download_model(DENSENET161_1_MODEL_PATH)\n",
    "download_model(RESNET50_1_MODEL_PATH)\n",
    "download_model(VGG13_1_MODEL_PATH)\n",
    "\n",
    "download_model(DENSENET161_2_MODEL_PATH)\n",
    "download_model(RESNET50_2_MODEL_PATH)\n",
    "download_model(VGG13_2_MODEL_PATH)"
   ]
  },
  {
   "cell_type": "code",
   "execution_count": 12,
   "metadata": {},
   "outputs": [],
   "source": [
    "# load models\n",
    "densenet161_1_model = load_learner(LOCAL_DIR + DENSENET161_1_MODEL_PATH.split(\"/\")[-1].replace(\".pkl\", \"\"))\n",
    "resnet50_1_model = load_learner(LOCAL_DIR + RESNET50_1_MODEL_PATH.split(\"/\")[-1].replace(\".pkl\", \"\"))\n",
    "vgg13_1_model = load_learner(LOCAL_DIR + VGG13_1_MODEL_PATH.split(\"/\")[-1].replace(\".pkl\", \"\"))\n",
    "\n",
    "densenet161_2_model = load_learner(LOCAL_DIR + DENSENET161_2_MODEL_PATH.split(\"/\")[-1].replace(\".pkl\", \"\"))\n",
    "resnet50_2_model = load_learner(LOCAL_DIR + RESNET50_2_MODEL_PATH.split(\"/\")[-1].replace(\".pkl\", \"\"))\n",
    "vgg13_2_model = load_learner(LOCAL_DIR + VGG13_2_MODEL_PATH.split(\"/\")[-1].replace(\".pkl\", \"\"))"
   ]
  },
  {
   "cell_type": "markdown",
   "metadata": {},
   "source": [
    "## Read in image data"
   ]
  },
  {
   "cell_type": "markdown",
   "metadata": {},
   "source": [
    "Function to display class-wise counts for training and validation sets."
   ]
  },
  {
   "cell_type": "code",
   "execution_count": 13,
   "metadata": {},
   "outputs": [],
   "source": [
    "def get_classwise_counts(items, classes):\n",
    "    series = pd.value_counts(items).sort_index()\n",
    "    series.index = classes\n",
    "    \n",
    "    return series"
   ]
  },
  {
   "cell_type": "code",
   "execution_count": 14,
   "metadata": {},
   "outputs": [],
   "source": [
    "data_1 = (ImageDataBunch.from_folder(LOCAL_DIR + DATA_1_PATH.split(\"/\")[-1].replace(\".tar\", \"\"), train='train', valid='validate', \n",
    "                                   bs=16, num_workers=0, seed=42)\n",
    "        .normalize(imagenet_stats))"
   ]
  },
  {
   "cell_type": "code",
   "execution_count": 15,
   "metadata": {},
   "outputs": [
    {
     "name": "stdout",
     "output_type": "stream",
     "text": [
      "--- Training set ---\n",
      "cement        910\n",
      "landcover    1882\n",
      "steel         234\n",
      "dtype: int64\n",
      "--- Validation set ---\n",
      "cement       228\n",
      "landcover    471\n",
      "steel         58\n",
      "dtype: int64\n"
     ]
    }
   ],
   "source": [
    "for subset, label in zip((data_1.train_ds, data_1.valid_ds), ('Training set', 'Validation set')):\n",
    "    print('--- {} ---'.format(label))\n",
    "    print(get_classwise_counts(subset.y.items, subset.classes))"
   ]
  },
  {
   "cell_type": "code",
   "execution_count": 16,
   "metadata": {},
   "outputs": [],
   "source": [
    "data_2 = (ImageDataBunch.from_folder(LOCAL_DIR + DATA_2_PATH.split(\"/\")[-1].replace(\".tar\", \"\"), train='train', valid='validate', \n",
    "                                   bs=16, num_workers=0, seed=42)\n",
    "        .normalize(imagenet_stats))"
   ]
  },
  {
   "cell_type": "code",
   "execution_count": 17,
   "metadata": {},
   "outputs": [
    {
     "name": "stdout",
     "output_type": "stream",
     "text": [
      "--- Training set ---\n",
      "cement        910\n",
      "landcover    1882\n",
      "steel         234\n",
      "dtype: int64\n",
      "--- Validation set ---\n",
      "cement       228\n",
      "landcover    471\n",
      "steel         58\n",
      "dtype: int64\n"
     ]
    }
   ],
   "source": [
    "for subset, label in zip((data_2.train_ds, data_2.valid_ds), ('Training set', 'Validation set')):\n",
    "    print('--- {} ---'.format(label))\n",
    "    print(get_classwise_counts(subset.y.items, subset.classes))"
   ]
  },
  {
   "cell_type": "markdown",
   "metadata": {},
   "source": [
    "## Score model on train and validation sets"
   ]
  },
  {
   "cell_type": "code",
   "execution_count": 18,
   "metadata": {},
   "outputs": [],
   "source": [
    "def get_mode(p1, p2, p3):\n",
    "    try:\n",
    "        return statistics.mode([str(p1[0]), str(p2[0]), str(p3[0])])\n",
    "    except:\n",
    "        mx = max(p1[2].max(), p2[2].max(), p3[2].max())\n",
    "        if mx == p1[2].max():\n",
    "            return str(p1[0])\n",
    "        elif mx == p2[2].max():\n",
    "            return str(p2[0])\n",
    "        elif mx == p3[2].max():\n",
    "            return str(p3[0])"
   ]
  },
  {
   "cell_type": "code",
   "execution_count": 19,
   "metadata": {},
   "outputs": [],
   "source": [
    "valid_preds_densenet161_1 = []\n",
    "valid_preds_resnet50_1 = []\n",
    "valid_preds_vgg13_1 = []\n",
    "valid_preds_ensemble_1 = []\n",
    "valid_y_1 = []\n",
    "\n",
    "for i in range(0, len(data_1.valid_ds.x)):\n",
    "    valid_y_1.append(str(data_1.valid_ds.y[i]))\n",
    "    \n",
    "    p1 = densenet161_1_model.predict(data_1.valid_ds.x[i])\n",
    "    valid_preds_densenet161_1.append(str(p1[0]))\n",
    "    \n",
    "    p2 = resnet50_1_model.predict(data_1.valid_ds.x[i])\n",
    "    valid_preds_resnet50_1.append(str(p2[0]))\n",
    "    \n",
    "    p3 = vgg13_1_model.predict(data_1.valid_ds.x[i])\n",
    "    valid_preds_vgg13_1.append(str(p3[0]))\n",
    "    \n",
    "    valid_preds_ensemble_1.append(get_mode(p1, p2, p3))"
   ]
  },
  {
   "cell_type": "code",
   "execution_count": 20,
   "metadata": {},
   "outputs": [],
   "source": [
    "valid_preds_densenet161_2 = []\n",
    "valid_preds_resnet50_2 = []\n",
    "valid_preds_vgg13_2 = []\n",
    "valid_preds_ensemble_2 = []\n",
    "valid_y_2 = []\n",
    "\n",
    "for i in range(0, len(data_2.valid_ds.x)):\n",
    "    valid_y_2.append(str(data_2.valid_ds.y[i]))\n",
    "    \n",
    "    p1 = densenet161_2_model.predict(data_2.valid_ds.x[i])\n",
    "    valid_preds_densenet161_2.append(str(p1[0]))\n",
    "    \n",
    "    p2 = resnet50_2_model.predict(data_2.valid_ds.x[i])\n",
    "    valid_preds_resnet50_2.append(str(p2[0]))\n",
    "    \n",
    "    p3 = vgg13_2_model.predict(data_2.valid_ds.x[i])\n",
    "    valid_preds_vgg13_2.append(str(p3[0]))\n",
    "    \n",
    "    valid_preds_ensemble_2.append(get_mode(p1, p2, p3))"
   ]
  },
  {
   "cell_type": "markdown",
   "metadata": {},
   "source": [
    "## Compare 16-bit to 8-bit Model Results"
   ]
  },
  {
   "cell_type": "markdown",
   "metadata": {},
   "source": [
    "### DenseNet161 MultiClass Model Results"
   ]
  },
  {
   "cell_type": "code",
   "execution_count": 21,
   "metadata": {},
   "outputs": [
    {
     "name": "stdout",
     "output_type": "stream",
     "text": [
      "\u001b[1m\u001b[4mVALIDATION RESULTS - 1:\u001b[0m\n",
      "\n",
      "\u001b[1mConfusion matrix:\u001b[0;0m\n",
      "\n",
      "Predicted  cement  landcover  steel  All\n",
      "Actual                                  \n",
      "cement        204         20      4  228\n",
      "landcover      83        370     18  471\n",
      "steel          12          5     41   58\n",
      "All           299        395     63  757\n",
      "\n",
      "\n"
     ]
    },
    {
     "data": {
      "image/png": "[encoded data removed]",
      "text/plain": [
       "<Figure size 432x288 with 2 Axes>"
      ]
     },
     "metadata": {
      "needs_background": "light"
     },
     "output_type": "display_data"
    },
    {
     "name": "stdout",
     "output_type": "stream",
     "text": [
      "\u001b[1mOverall Statistics:\u001b[0;0m\n",
      "\n",
      "Accuracy: 0.8124174372523117\n",
      "Population: 757\n",
      "\n",
      "\u001b[1mClass Statistics:\u001b[0;0m\n",
      "\n",
      "       label   TP  FP   FN  Population  Precision    Recall\n",
      "0     cement  204  95   24         228   0.682274  0.894737\n",
      "1  landcover  370  25  101         471   0.936709  0.785563\n",
      "2      steel   41  22   17          58   0.650794  0.706897\n"
     ]
    }
   ],
   "source": [
    "print(\"\\033[1m\\033[4m\" + \"VALIDATION RESULTS - 1:\" + \"\\033[0m\\n\")\n",
    "\n",
    "showConfusionMatrix(np.array(valid_preds_densenet161_1), np.array(valid_y_1))\n",
    "printOverallStats(np.array(valid_preds_densenet161_1), np.array(valid_y_1))\n",
    "printClassStats(np.array(valid_preds_densenet161_1), np.array(valid_y_1))"
   ]
  },
  {
   "cell_type": "code",
   "execution_count": 22,
   "metadata": {},
   "outputs": [
    {
     "name": "stdout",
     "output_type": "stream",
     "text": [
      "\u001b[1m\u001b[4mVALIDATION RESULTS - 2:\u001b[0m\n",
      "\n",
      "\u001b[1mConfusion matrix:\u001b[0;0m\n",
      "\n",
      "Predicted  cement  landcover  steel  All\n",
      "Actual                                  \n",
      "cement        181         35     12  228\n",
      "landcover     102        336     33  471\n",
      "steel           6          6     46   58\n",
      "All           289        377     91  757\n",
      "\n",
      "\n"
     ]
    },
    {
     "data": {
      "image/png": "[encoded data removed]",
      "text/plain": [
       "<Figure size 432x288 with 2 Axes>"
      ]
     },
     "metadata": {
      "needs_background": "light"
     },
     "output_type": "display_data"
    },
    {
     "name": "stdout",
     "output_type": "stream",
     "text": [
      "\u001b[1mOverall Statistics:\u001b[0;0m\n",
      "\n",
      "Accuracy: 0.7437252311756936\n",
      "Population: 757\n",
      "\n",
      "\u001b[1mClass Statistics:\u001b[0;0m\n",
      "\n",
      "       label   TP   FP   FN  Population  Precision    Recall\n",
      "0     cement  181  108   47         228   0.626298  0.793860\n",
      "1  landcover  336   41  135         471   0.891247  0.713376\n",
      "2      steel   46   45   12          58   0.505495  0.793103\n"
     ]
    }
   ],
   "source": [
    "print(\"\\033[1m\\033[4m\" + \"VALIDATION RESULTS - 2:\" + \"\\033[0m\\n\")\n",
    "\n",
    "showConfusionMatrix(np.array(valid_preds_densenet161_2), np.array(valid_y_2))\n",
    "printOverallStats(np.array(valid_preds_densenet161_2), np.array(valid_y_2))\n",
    "printClassStats(np.array(valid_preds_densenet161_2), np.array(valid_y_2))"
   ]
  },
  {
   "cell_type": "markdown",
   "metadata": {},
   "source": [
    "### ResNet50 MultiClass Model Results"
   ]
  },
  {
   "cell_type": "code",
   "execution_count": 23,
   "metadata": {},
   "outputs": [
    {
     "name": "stdout",
     "output_type": "stream",
     "text": [
      "\u001b[1m\u001b[4mVALIDATION RESULTS - 1:\u001b[0m\n",
      "\n",
      "\u001b[1mConfusion matrix:\u001b[0;0m\n",
      "\n",
      "Predicted  cement  landcover  steel  All\n",
      "Actual                                  \n",
      "cement        195         26      7  228\n",
      "landcover      79        371     21  471\n",
      "steel           7          5     46   58\n",
      "All           281        402     74  757\n",
      "\n",
      "\n"
     ]
    },
    {
     "data": {
      "image/png": "[encoded data removed]",
      "text/plain": [
       "<Figure size 432x288 with 2 Axes>"
      ]
     },
     "metadata": {
      "needs_background": "light"
     },
     "output_type": "display_data"
    },
    {
     "name": "stdout",
     "output_type": "stream",
     "text": [
      "\u001b[1mOverall Statistics:\u001b[0;0m\n",
      "\n",
      "Accuracy: 0.808454425363276\n",
      "Population: 757\n",
      "\n",
      "\u001b[1mClass Statistics:\u001b[0;0m\n",
      "\n",
      "       label   TP  FP   FN  Population  Precision    Recall\n",
      "0     cement  195  86   33         228   0.693950  0.855263\n",
      "1  landcover  371  31  100         471   0.922886  0.787686\n",
      "2      steel   46  28   12          58   0.621622  0.793103\n"
     ]
    }
   ],
   "source": [
    "print(\"\\033[1m\\033[4m\" + \"VALIDATION RESULTS - 1:\" + \"\\033[0m\\n\")\n",
    "\n",
    "showConfusionMatrix(np.array(valid_preds_resnet50_1), np.array(valid_y_1))\n",
    "printOverallStats(np.array(valid_preds_resnet50_1), np.array(valid_y_1))\n",
    "printClassStats(np.array(valid_preds_resnet50_1), np.array(valid_y_1))"
   ]
  },
  {
   "cell_type": "code",
   "execution_count": 24,
   "metadata": {},
   "outputs": [
    {
     "name": "stdout",
     "output_type": "stream",
     "text": [
      "\u001b[1m\u001b[4mVALIDATION RESULTS - 2:\u001b[0m\n",
      "\n",
      "\u001b[1mConfusion matrix:\u001b[0;0m\n",
      "\n",
      "Predicted  cement  landcover  steel  All\n",
      "Actual                                  \n",
      "cement        192         26     10  228\n",
      "landcover      83        362     26  471\n",
      "steel           4         10     44   58\n",
      "All           279        398     80  757\n",
      "\n",
      "\n"
     ]
    },
    {
     "data": {
      "image/png": "[encoded data removed]",
      "text/plain": [
       "<Figure size 432x288 with 2 Axes>"
      ]
     },
     "metadata": {
      "needs_background": "light"
     },
     "output_type": "display_data"
    },
    {
     "name": "stdout",
     "output_type": "stream",
     "text": [
      "\u001b[1mOverall Statistics:\u001b[0;0m\n",
      "\n",
      "Accuracy: 0.7899603698811096\n",
      "Population: 757\n",
      "\n",
      "\u001b[1mClass Statistics:\u001b[0;0m\n",
      "\n",
      "       label   TP  FP   FN  Population  Precision    Recall\n",
      "0     cement  192  87   36         228   0.688172  0.842105\n",
      "1  landcover  362  36  109         471   0.909548  0.768577\n",
      "2      steel   44  36   14          58   0.550000  0.758621\n"
     ]
    }
   ],
   "source": [
    "print(\"\\033[1m\\033[4m\" + \"VALIDATION RESULTS - 2:\" + \"\\033[0m\\n\")\n",
    "\n",
    "showConfusionMatrix(np.array(valid_preds_resnet50_2), np.array(valid_y_2))\n",
    "printOverallStats(np.array(valid_preds_resnet50_2), np.array(valid_y_2))\n",
    "printClassStats(np.array(valid_preds_resnet50_2), np.array(valid_y_2))"
   ]
  },
  {
   "cell_type": "markdown",
   "metadata": {},
   "source": [
    "### VGG13 MultiClass Model Results"
   ]
  },
  {
   "cell_type": "code",
   "execution_count": 25,
   "metadata": {},
   "outputs": [
    {
     "name": "stdout",
     "output_type": "stream",
     "text": [
      "\u001b[1m\u001b[4mVALIDATION RESULTS - 1:\u001b[0m\n",
      "\n",
      "\u001b[1mConfusion matrix:\u001b[0;0m\n",
      "\n",
      "Predicted  cement  landcover  steel  All\n",
      "Actual                                  \n",
      "cement        205         20      3  228\n",
      "landcover      83        370     18  471\n",
      "steel          10          4     44   58\n",
      "All           298        394     65  757\n",
      "\n",
      "\n"
     ]
    },
    {
     "data": {
      "image/png": "[encoded data removed]",
      "text/plain": [
       "<Figure size 432x288 with 2 Axes>"
      ]
     },
     "metadata": {
      "needs_background": "light"
     },
     "output_type": "display_data"
    },
    {
     "name": "stdout",
     "output_type": "stream",
     "text": [
      "\u001b[1mOverall Statistics:\u001b[0;0m\n",
      "\n",
      "Accuracy: 0.8177014531043593\n",
      "Population: 757\n",
      "\n",
      "\u001b[1mClass Statistics:\u001b[0;0m\n",
      "\n",
      "       label   TP  FP   FN  Population  Precision    Recall\n",
      "0     cement  205  93   23         228   0.687919  0.899123\n",
      "1  landcover  370  24  101         471   0.939086  0.785563\n",
      "2      steel   44  21   14          58   0.676923  0.758621\n"
     ]
    }
   ],
   "source": [
    "print(\"\\033[1m\\033[4m\" + \"VALIDATION RESULTS - 1:\" + \"\\033[0m\\n\")\n",
    "\n",
    "showConfusionMatrix(np.array(valid_preds_vgg13_1), np.array(valid_y_1))\n",
    "printOverallStats(np.array(valid_preds_vgg13_1), np.array(valid_y_1))\n",
    "printClassStats(np.array(valid_preds_vgg13_1), np.array(valid_y_1))"
   ]
  },
  {
   "cell_type": "code",
   "execution_count": 26,
   "metadata": {},
   "outputs": [
    {
     "name": "stdout",
     "output_type": "stream",
     "text": [
      "\u001b[1m\u001b[4mVALIDATION RESULTS - 2:\u001b[0m\n",
      "\n",
      "\u001b[1mConfusion matrix:\u001b[0;0m\n",
      "\n",
      "Predicted  cement  landcover  steel  All\n",
      "Actual                                  \n",
      "cement        195         26      7  228\n",
      "landcover     101        350     20  471\n",
      "steel           5         10     43   58\n",
      "All           301        386     70  757\n",
      "\n",
      "\n"
     ]
    },
    {
     "data": {
      "image/png": "[encoded data removed]",
      "text/plain": [
       "<Figure size 432x288 with 2 Axes>"
      ]
     },
     "metadata": {
      "needs_background": "light"
     },
     "output_type": "display_data"
    },
    {
     "name": "stdout",
     "output_type": "stream",
     "text": [
      "\u001b[1mOverall Statistics:\u001b[0;0m\n",
      "\n",
      "Accuracy: 0.7767503302509907\n",
      "Population: 757\n",
      "\n",
      "\u001b[1mClass Statistics:\u001b[0;0m\n",
      "\n",
      "       label   TP   FP   FN  Population  Precision    Recall\n",
      "0     cement  195  106   33         228   0.647841  0.855263\n",
      "1  landcover  350   36  121         471   0.906736  0.743100\n",
      "2      steel   43   27   15          58   0.614286  0.741379\n"
     ]
    }
   ],
   "source": [
    "print(\"\\033[1m\\033[4m\" + \"VALIDATION RESULTS - 2:\" + \"\\033[0m\\n\")\n",
    "\n",
    "showConfusionMatrix(np.array(valid_preds_vgg13_2), np.array(valid_y_2))\n",
    "printOverallStats(np.array(valid_preds_vgg13_2), np.array(valid_y_2))\n",
    "printClassStats(np.array(valid_preds_vgg13_2), np.array(valid_y_2))"
   ]
  },
  {
   "cell_type": "markdown",
   "metadata": {},
   "source": [
    "### Ensemble MultiClass Model Results"
   ]
  },
  {
   "cell_type": "code",
   "execution_count": 27,
   "metadata": {},
   "outputs": [
    {
     "name": "stdout",
     "output_type": "stream",
     "text": [
      "\u001b[1m\u001b[4mVALIDATION RESULTS - 1:\u001b[0m\n",
      "\n",
      "\u001b[1mConfusion matrix:\u001b[0;0m\n",
      "\n",
      "Predicted  cement  landcover  steel  All\n",
      "Actual                                  \n",
      "cement        208         17      3  228\n",
      "landcover      76        381     14  471\n",
      "steel           9          5     44   58\n",
      "All           293        403     61  757\n",
      "\n",
      "\n"
     ]
    },
    {
     "data": {
      "image/png": "[encoded data removed]",
      "text/plain": [
       "<Figure size 432x288 with 2 Axes>"
      ]
     },
     "metadata": {
      "needs_background": "light"
     },
     "output_type": "display_data"
    },
    {
     "name": "stdout",
     "output_type": "stream",
     "text": [
      "\u001b[1mOverall Statistics:\u001b[0;0m\n",
      "\n",
      "Accuracy: 0.8361955085865258\n",
      "Population: 757\n",
      "\n",
      "\u001b[1mClass Statistics:\u001b[0;0m\n",
      "\n",
      "       label   TP  FP  FN  Population  Precision    Recall\n",
      "0     cement  208  85  20         228   0.709898  0.912281\n",
      "1  landcover  381  22  90         471   0.945409  0.808917\n",
      "2      steel   44  17  14          58   0.721311  0.758621\n"
     ]
    }
   ],
   "source": [
    "print(\"\\033[1m\\033[4m\" + \"VALIDATION RESULTS - 1:\" + \"\\033[0m\\n\")\n",
    "\n",
    "showConfusionMatrix(np.array(valid_preds_ensemble_1), np.array(valid_y_1))\n",
    "printOverallStats(np.array(valid_preds_ensemble_1), np.array(valid_y_1))\n",
    "printClassStats(np.array(valid_preds_ensemble_1), np.array(valid_y_1))"
   ]
  },
  {
   "cell_type": "code",
   "execution_count": 28,
   "metadata": {},
   "outputs": [
    {
     "name": "stdout",
     "output_type": "stream",
     "text": [
      "\u001b[1m\u001b[4mVALIDATION RESULTS: - 2\u001b[0m\n",
      "\n",
      "\u001b[1mConfusion matrix:\u001b[0;0m\n",
      "\n",
      "Predicted  cement  landcover  steel  All\n",
      "Actual                                  \n",
      "cement        190         31      7  228\n",
      "landcover      87        360     24  471\n",
      "steel           5         10     43   58\n",
      "All           282        401     74  757\n",
      "\n",
      "\n"
     ]
    },
    {
     "data": {
      "image/png": "[encoded data removed]",
      "text/plain": [
       "<Figure size 432x288 with 2 Axes>"
      ]
     },
     "metadata": {
      "needs_background": "light"
     },
     "output_type": "display_data"
    },
    {
     "name": "stdout",
     "output_type": "stream",
     "text": [
      "\u001b[1mOverall Statistics:\u001b[0;0m\n",
      "\n",
      "Accuracy: 0.7833553500660502\n",
      "Population: 757\n",
      "\n",
      "\u001b[1mClass Statistics:\u001b[0;0m\n",
      "\n",
      "       label   TP  FP   FN  Population  Precision    Recall\n",
      "0     cement  190  92   38         228   0.673759  0.833333\n",
      "1  landcover  360  41  111         471   0.897756  0.764331\n",
      "2      steel   43  31   15          58   0.581081  0.741379\n"
     ]
    }
   ],
   "source": [
    "print(\"\\033[1m\\033[4m\" + \"VALIDATION RESULTS: - 2\" + \"\\033[0m\\n\")\n",
    "\n",
    "showConfusionMatrix(np.array(valid_preds_ensemble_2), np.array(valid_y_2))\n",
    "printOverallStats(np.array(valid_preds_ensemble_2), np.array(valid_y_2))\n",
    "printClassStats(np.array(valid_preds_ensemble_2), np.array(valid_y_2))"
   ]
  },
  {
   "cell_type": "code",
   "execution_count": null,
   "metadata": {},
   "outputs": [],
   "source": []
  }
 ],
 "metadata": {
  "kernelspec": {
   "display_name": "EarthAI Environment",
   "language": "python",
   "name": "python3"
  },
  "language_info": {
   "codemirror_mode": {
    "name": "ipython",
    "version": 3
   },
   "file_extension": ".py",
   "mimetype": "text/x-python",
   "name": "python",
   "nbconvert_exporter": "python",
   "pygments_lexer": "ipython3",
   "version": "3.7.9"
  }
 },
 "nbformat": 4,
 "nbformat_minor": 4
}
