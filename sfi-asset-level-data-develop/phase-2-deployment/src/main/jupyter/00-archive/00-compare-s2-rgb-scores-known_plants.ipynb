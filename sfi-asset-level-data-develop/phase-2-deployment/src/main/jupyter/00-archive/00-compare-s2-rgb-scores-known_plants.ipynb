{
 "cells": [
  {
   "cell_type": "markdown",
   "metadata": {},
   "source": [
    "# Compare Scores from RGB Sentinel-2 Macrolocalization Model Derived in Different Ways"
   ]
  },
  {
   "cell_type": "markdown",
   "metadata": {},
   "source": [
    "## Import required libraries"
   ]
  },
  {
   "cell_type": "code",
   "execution_count": null,
   "metadata": {},
   "outputs": [],
   "source": [
    "!pip install fastai==1.0.61"
   ]
  },
  {
   "cell_type": "code",
   "execution_count": null,
   "metadata": {},
   "outputs": [],
   "source": [
    "import geopandas as gpd\n",
    "import pandas as pd\n",
    "\n",
    "import os\n",
    "import shutil\n",
    "import boto3\n",
    "\n",
    "from matplotlib import pyplot as plt\n",
    "\n",
    "from fastai import *\n",
    "from fastai.vision import *"
   ]
  },
  {
   "cell_type": "markdown",
   "metadata": {},
   "source": [
    "## Define input/output files and paths, and parameters"
   ]
  },
  {
   "cell_type": "markdown",
   "metadata": {},
   "source": [
    "### Parameters\n",
    "\n",
    "* `year` defines the year of selected scenes\n",
    "* `month` defines the month of selected scenes (format: January = \"01\", Februaray = \"02\", etc.)"
   ]
  },
  {
   "cell_type": "code",
   "execution_count": null,
   "metadata": {},
   "outputs": [],
   "source": [
    "year = '2020'\n",
    "month = '06'"
   ]
  },
  {
   "cell_type": "markdown",
   "metadata": {},
   "source": [
    "### Input files and paths\n",
    "\n",
    "* `s3_path` defines S3 high-level folder for S2 RGB macro-localization data\n",
    "* `MODEL_PATH` is the path on S3 to the Densenet161 multiclass model\n",
    "* `LOCAL_DIR` specifies where to keep put files locally for analysis"
   ]
  },
  {
   "cell_type": "code",
   "execution_count": null,
   "metadata": {},
   "outputs": [],
   "source": [
    "s3_path = 'S2-RGB-macro-localization-model-deployment'\n",
    "MODEL_PATH = 'S2-RGB-macro-localization-model-build3/S2-RGB-model-results3/densenet161_multiclass_final.pkl'\n",
    "LOCAL_DIR = '/scratch/'"
   ]
  },
  {
   "cell_type": "code",
   "execution_count": null,
   "metadata": {},
   "outputs": [],
   "source": [
    "DATA_PATH = 'S2-RGB-macro-localization-model-build3/ALD_S2_RGB_chips_v4p1_train3.tar'"
   ]
  },
  {
   "cell_type": "code",
   "execution_count": null,
   "metadata": {},
   "outputs": [],
   "source": [
    "png_score_file = '../../resources/macro-loc-model-deployment/S2-known-plant-chip-fastai-scores-CHN-10km-pthsh0.002_'+year+month+'.geojson'"
   ]
  },
  {
   "cell_type": "markdown",
   "metadata": {},
   "source": [
    "## Download Models and Define Scoring Functions"
   ]
  },
  {
   "cell_type": "code",
   "execution_count": null,
   "metadata": {},
   "outputs": [],
   "source": [
    "s3 = boto3.resource('s3')\n",
    "bucket = s3.Bucket('sfi-shared-assets')"
   ]
  },
  {
   "cell_type": "markdown",
   "metadata": {},
   "source": [
    "### Download models and load learners"
   ]
  },
  {
   "cell_type": "code",
   "execution_count": null,
   "metadata": {},
   "outputs": [],
   "source": [
    "def download_model(MODEL_PATH):\n",
    "    if not os.path.exists(LOCAL_DIR+MODEL_PATH.split(\"/\")[-1].replace(\".pkl\", \"\")):\n",
    "        os.makedirs(LOCAL_DIR + MODEL_PATH.split(\"/\")[-1].replace(\".pkl\", \"\"))\n",
    "    bucket.download_file(MODEL_PATH, LOCAL_DIR+MODEL_PATH.split(\"/\")[-1].replace(\".pkl\", \"\") + \"/export.pkl\")"
   ]
  },
  {
   "cell_type": "code",
   "execution_count": null,
   "metadata": {},
   "outputs": [],
   "source": [
    "download_model(MODEL_PATH)"
   ]
  },
  {
   "cell_type": "code",
   "execution_count": null,
   "metadata": {},
   "outputs": [],
   "source": [
    "multi_model = load_learner(LOCAL_DIR + MODEL_PATH.split(\"/\")[-1].replace(\".pkl\", \"\"))"
   ]
  },
  {
   "cell_type": "code",
   "execution_count": null,
   "metadata": {},
   "outputs": [],
   "source": [
    "bucket.download_file(DATA_PATH, LOCAL_DIR + DATA_PATH.split(\"/\")[-1])"
   ]
  },
  {
   "cell_type": "code",
   "execution_count": null,
   "metadata": {},
   "outputs": [],
   "source": [
    "unix_code = 'tar -C /scratch/ -xf '+LOCAL_DIR + DATA_PATH.split(\"/\")[-1]\n",
    "os.system(unix_code)"
   ]
  },
  {
   "cell_type": "markdown",
   "metadata": {},
   "source": [
    "## Get Scores from Saved Models"
   ]
  },
  {
   "cell_type": "markdown",
   "metadata": {},
   "source": [
    "### Cement"
   ]
  },
  {
   "cell_type": "code",
   "execution_count": null,
   "metadata": {},
   "outputs": [],
   "source": [
    "cement_only_path = LOCAL_DIR+'cement_'+year+month\n",
    "os.mkdir(cement_only_path)\n",
    "os.mkdir(cement_only_path+'/train')\n",
    "os.mkdir(cement_only_path+'/train/cement')"
   ]
  },
  {
   "cell_type": "code",
   "execution_count": null,
   "metadata": {},
   "outputs": [],
   "source": [
    "cement_image_list1 = ! find {LOCAL_DIR+DATA_PATH.split(\"/\")[-1].replace(\".tar\", \"/\")+'train/cement'} | grep png$\n",
    "cement_image_list2 = ! find {LOCAL_DIR+DATA_PATH.split(\"/\")[-1].replace(\".tar\", \"/\")+'validate/cement'} | grep png$"
   ]
  },
  {
   "cell_type": "code",
   "execution_count": null,
   "metadata": {},
   "outputs": [],
   "source": [
    "cement_image_year_list = []\n",
    "for f in cement_image_list1:\n",
    "    if f.split('/')[-1].split('_')[3] == year+month:\n",
    "        cement_image_year_list.append(f)\n",
    "for f in cement_image_list2:\n",
    "    if f.split('/')[-1].split('_')[3] == year+month:\n",
    "        cement_image_year_list.append(f)"
   ]
  },
  {
   "cell_type": "code",
   "execution_count": null,
   "metadata": {},
   "outputs": [],
   "source": [
    "for f in cement_image_year_list:\n",
    "    shutil.move(f, cement_only_path+'/train/cement/')"
   ]
  },
  {
   "cell_type": "code",
   "execution_count": null,
   "metadata": {},
   "outputs": [],
   "source": [
    "data_cement = (ImageDataBunch.from_folder(cement_only_path, train='train', \n",
    "                                   bs=16, num_workers=0, seed=42)\n",
    "        .normalize(imagenet_stats))"
   ]
  },
  {
   "cell_type": "code",
   "execution_count": null,
   "metadata": {},
   "outputs": [],
   "source": [
    "prob_cement = []\n",
    "uid_cement = []\n",
    "cement_cnt = len(data_cement.train_ds)\n",
    "\n",
    "for i in range(0, cement_cnt):\n",
    " \n",
    "    p1 = multi_model.predict(data_cement.train_ds.x[i])\n",
    "    prob_cement.append(to_np(p1[2])[0].item())\n",
    "    \n",
    "    uid_cement.append(str(data_cement.items[i]).split('/')[-1].split('_')[0])"
   ]
  },
  {
   "cell_type": "code",
   "execution_count": null,
   "metadata": {},
   "outputs": [],
   "source": [
    "fastai_cement_pdf = pd.DataFrame({'uid': uid_cement,\n",
    "                                  'site_type': 'cement',\n",
    "                                  'fastai_prob': prob_cement})"
   ]
  },
  {
   "cell_type": "code",
   "execution_count": null,
   "metadata": {},
   "outputs": [],
   "source": [
    "print(\"Count of cement plants in training set: \", len(fastai_cement_pdf))"
   ]
  },
  {
   "cell_type": "markdown",
   "metadata": {},
   "source": [
    "### Steel"
   ]
  },
  {
   "cell_type": "code",
   "execution_count": null,
   "metadata": {},
   "outputs": [],
   "source": [
    "steel_only_path = LOCAL_DIR+'steel_'+year+month\n",
    "os.mkdir(steel_only_path)\n",
    "os.mkdir(steel_only_path+'/train')\n",
    "os.mkdir(steel_only_path+'/train/steel')"
   ]
  },
  {
   "cell_type": "code",
   "execution_count": null,
   "metadata": {},
   "outputs": [],
   "source": [
    "steel_image_list1 = ! find {LOCAL_DIR+DATA_PATH.split(\"/\")[-1].replace(\".tar\", \"/\")+'train/steel'} | grep png$\n",
    "steel_image_list2 = ! find {LOCAL_DIR+DATA_PATH.split(\"/\")[-1].replace(\".tar\", \"/\")+'validate/steel'} | grep png$"
   ]
  },
  {
   "cell_type": "code",
   "execution_count": null,
   "metadata": {},
   "outputs": [],
   "source": [
    "steel_image_year_list = []\n",
    "for f in steel_image_list1:\n",
    "    if f.split('/')[-1].split('_')[3] == year+month:\n",
    "        steel_image_year_list.append(f)\n",
    "for f in steel_image_list2:\n",
    "    if f.split('/')[-1].split('_')[3] == year+month:\n",
    "        steel_image_year_list.append(f)"
   ]
  },
  {
   "cell_type": "code",
   "execution_count": null,
   "metadata": {},
   "outputs": [],
   "source": [
    "for f in steel_image_year_list:\n",
    "    shutil.move(f, steel_only_path+'/train/steel/')"
   ]
  },
  {
   "cell_type": "code",
   "execution_count": null,
   "metadata": {},
   "outputs": [],
   "source": [
    "data_steel = (ImageDataBunch.from_folder(steel_only_path, train='train', \n",
    "                                   bs=16, num_workers=0, seed=42)\n",
    "        .normalize(imagenet_stats))"
   ]
  },
  {
   "cell_type": "code",
   "execution_count": null,
   "metadata": {},
   "outputs": [],
   "source": [
    "prob_steel = []\n",
    "uid_steel = []\n",
    "steel_cnt = len(data_steel.train_ds)\n",
    "\n",
    "for i in range(0, steel_cnt):\n",
    "  \n",
    "    p1 = multi_model.predict(data_steel.train_ds.x[i])\n",
    "    prob_steel.append(to_np(p1[2])[2].item())\n",
    "    \n",
    "    uid_steel.append(str(data_steel.items[i]).split('/')[-1].split('_')[0])"
   ]
  },
  {
   "cell_type": "code",
   "execution_count": null,
   "metadata": {},
   "outputs": [],
   "source": [
    "fastai_steel_pdf = pd.DataFrame({'uid': uid_steel,\n",
    "                                 'site_type': 'steel',\n",
    "                                 'fastai_prob': prob_steel})"
   ]
  },
  {
   "cell_type": "code",
   "execution_count": null,
   "metadata": {},
   "outputs": [],
   "source": [
    "print(\"Count of steel plants in training set: \", len(fastai_steel_pdf))"
   ]
  },
  {
   "cell_type": "markdown",
   "metadata": {},
   "source": [
    "## Get Scores from Deployment Script (PNG)"
   ]
  },
  {
   "cell_type": "code",
   "execution_count": null,
   "metadata": {},
   "outputs": [],
   "source": [
    "png_scores_gdf = gpd.read_file(png_score_file)"
   ]
  },
  {
   "cell_type": "code",
   "execution_count": null,
   "metadata": {},
   "outputs": [],
   "source": [
    "tmp = png_scores_gdf[png_scores_gdf['site_type'] == 'cement']\n",
    "png_cement_pdf = pd.DataFrame({'uid': tmp['uid'],\n",
    "                               'site_type': tmp['site_type'],\n",
    "                               'png_prob': tmp['cement_prob']})"
   ]
  },
  {
   "cell_type": "code",
   "execution_count": null,
   "metadata": {},
   "outputs": [],
   "source": [
    "print(\"Count of cement plants in png scored set: \", len(png_cement_pdf))"
   ]
  },
  {
   "cell_type": "code",
   "execution_count": null,
   "metadata": {},
   "outputs": [],
   "source": [
    "tmp = png_scores_gdf[png_scores_gdf['site_type'] == 'steel']\n",
    "png_steel_pdf = pd.DataFrame({'uid': tmp['uid'],\n",
    "                               'site_type': tmp['site_type'],\n",
    "                               'png_prob': tmp['steel_prob']})"
   ]
  },
  {
   "cell_type": "code",
   "execution_count": null,
   "metadata": {},
   "outputs": [],
   "source": [
    "print(\"Count of steel plants in png scored set: \", len(png_steel_pdf))"
   ]
  },
  {
   "cell_type": "markdown",
   "metadata": {},
   "source": [
    "## Compare"
   ]
  },
  {
   "cell_type": "code",
   "execution_count": null,
   "metadata": {},
   "outputs": [],
   "source": [
    "cement_compare_pdf = pd.merge(fastai_cement_pdf, png_cement_pdf, how='outer', on='uid')\n",
    "steel_compare_pdf = pd.merge(fastai_steel_pdf, png_steel_pdf, how='outer', on='uid')"
   ]
  },
  {
   "cell_type": "code",
   "execution_count": null,
   "metadata": {},
   "outputs": [],
   "source": [
    "plt.title(\"Cement: Landsat-8 Model Score Comparison\") \n",
    "plt.xlabel(\"Fastai Model Score\") \n",
    "plt.ylabel(\"Comparison Model Score\") \n",
    "plt.plot(cement_compare_pdf.fastai_prob, cement_compare_pdf.png_prob, 'gx', label='PNG Model Scores')\n",
    "plt.legend()\n",
    "plt.show()"
   ]
  },
  {
   "cell_type": "code",
   "execution_count": null,
   "metadata": {},
   "outputs": [],
   "source": [
    "plt.title(\"Steel: Landsat-8 Model Score Comparison\") \n",
    "plt.xlabel(\"Fastai Model Score\") \n",
    "plt.ylabel(\"Comparison Model Score\") \n",
    "plt.plot(steel_compare_pdf.fastai_prob, steel_compare_pdf.png_prob, 'gx', label='PNG Model Scores')\n",
    "plt.legend()\n",
    "plt.show()"
   ]
  },
  {
   "cell_type": "code",
   "execution_count": null,
   "metadata": {},
   "outputs": [],
   "source": []
  }
 ],
 "metadata": {
  "kernelspec": {
   "display_name": "EarthAI Environment",
   "language": "python",
   "name": "python3"
  },
  "language_info": {
   "codemirror_mode": {
    "name": "ipython",
    "version": 3
   },
   "file_extension": ".py",
   "mimetype": "text/x-python",
   "name": "python",
   "nbconvert_exporter": "python",
   "pygments_lexer": "ipython3",
   "version": "3.7.9"
  }
 },
 "nbformat": 4,
 "nbformat_minor": 4
}
