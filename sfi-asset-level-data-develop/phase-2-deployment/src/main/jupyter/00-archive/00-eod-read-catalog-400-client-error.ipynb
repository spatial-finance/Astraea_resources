{
 "cells": [
  {
   "cell_type": "markdown",
   "metadata": {},
   "source": [
    "## Import required libraries"
   ]
  },
  {
   "cell_type": "code",
   "execution_count": null,
   "metadata": {},
   "outputs": [],
   "source": [
    "from earthai.init import *\n",
    "import geopandas as gpd"
   ]
  },
  {
   "cell_type": "markdown",
   "metadata": {},
   "source": [
    "## Input file"
   ]
  },
  {
   "cell_type": "code",
   "execution_count": null,
   "metadata": {},
   "outputs": [],
   "source": [
    "site_geojson = \"../../resources/macro-loc-model-build/cement_exact_china_v4.1.geojson\""
   ]
  },
  {
   "cell_type": "markdown",
   "metadata": {},
   "source": [
    "## Load site location point data"
   ]
  },
  {
   "cell_type": "code",
   "execution_count": null,
   "metadata": {},
   "outputs": [],
   "source": [
    "site_gdf = gpd.read_file(site_geojson)\n",
    "print(\"Total count of sites: \", len(site_gdf))"
   ]
  },
  {
   "cell_type": "markdown",
   "metadata": {},
   "source": [
    "## Get catalog of Landsat 8 scenes that intersect with sites\n",
    "\n",
    "***Results in 400 Client Error***"
   ]
  },
  {
   "cell_type": "code",
   "execution_count": null,
   "metadata": {},
   "outputs": [],
   "source": [
    "site_cat_2018_01 = earth_ondemand.read_catalog(\n",
    "    geo=site_gdf,\n",
    "    start_datetime='2018-01-01', \n",
    "    end_datetime='2018-01-31',\n",
    "    max_cloud_cover=100,\n",
    "    collections='landsat8_l1tp')\n",
    "site_cat_2018_01 = gpd.sjoin(site_gdf, site_cat_2018_01)"
   ]
  },
  {
   "cell_type": "markdown",
   "metadata": {},
   "source": [
    "## Get catalog of Landsat 8 scenes that intersect with sites\n",
    "\n",
    "***This time, for reals***"
   ]
  },
  {
   "cell_type": "code",
   "execution_count": null,
   "metadata": {},
   "outputs": [],
   "source": [
    "# Turn points into small polygons using buffer\n",
    "# (Note: 1 arcsec = 0.00028 deg ~ 30m at the equator)\n",
    "site_gdf2 = gpd.GeoDataFrame(site_gdf.uid,\n",
    "                             geometry=site_gdf.buffer(0.00028).envelope,\n",
    "                             crs=\"EPSG:4326\")"
   ]
  },
  {
   "cell_type": "code",
   "execution_count": null,
   "metadata": {},
   "outputs": [],
   "source": [
    "site_cat_2018_01 = earth_ondemand.read_catalog(\n",
    "    geo=site_gdf2,\n",
    "    start_datetime='2018-01-01', \n",
    "    end_datetime='2018-01-31',\n",
    "    max_cloud_cover=100,\n",
    "    collections='landsat8_l1tp')\n",
    "site_cat_2018_01 = gpd.sjoin(site_gdf, site_cat_2018_01)"
   ]
  }
 ],
 "metadata": {
  "kernelspec": {
   "display_name": "EarthAI Environment",
   "language": "python",
   "name": "python3"
  },
  "language_info": {
   "codemirror_mode": {
    "name": "ipython",
    "version": 3
   },
   "file_extension": ".py",
   "mimetype": "text/x-python",
   "name": "python",
   "nbconvert_exporter": "python",
   "pygments_lexer": "ipython3",
   "version": "3.7.9"
  }
 },
 "nbformat": 4,
 "nbformat_minor": 4
}
