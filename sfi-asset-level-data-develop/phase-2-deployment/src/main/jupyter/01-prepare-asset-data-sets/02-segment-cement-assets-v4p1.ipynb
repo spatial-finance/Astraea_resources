{
 "cells": [
  {
   "cell_type": "markdown",
   "metadata": {},
   "source": [
    "## Import modules"
   ]
  },
  {
   "cell_type": "code",
   "execution_count": null,
   "metadata": {},
   "outputs": [],
   "source": [
    "import pandas as pd\n",
    "import numpy as np\n",
    "import geopandas as gpd\n",
    "import os"
   ]
  },
  {
   "cell_type": "markdown",
   "metadata": {},
   "source": [
    "## Read in v4.1 curated asset data"
   ]
  },
  {
   "cell_type": "code",
   "execution_count": null,
   "metadata": {},
   "outputs": [],
   "source": [
    "assets_csv = \"../../resources/asset-datasets-v4p1/cement_dataset_v4.1.csv\"\n",
    "assets_pd = pd.read_csv(assets_csv)"
   ]
  },
  {
   "cell_type": "markdown",
   "metadata": {},
   "source": [
    "## Segment plants into subsamples\n",
    "\n",
    "This creates separate files with the same (original) schema so that we can easily process them through different parts of the model build/deployment workflow."
   ]
  },
  {
   "cell_type": "code",
   "execution_count": null,
   "metadata": {},
   "outputs": [],
   "source": [
    "if \"asset-subsets-v4p1\" not in os.listdir(\"../../resources\"):\n",
    "    os.mkdir(\"../../resources/asset-subsets-v4p1\")"
   ]
  },
  {
   "cell_type": "markdown",
   "metadata": {},
   "source": [
    "### Segment 1: Operating/non-operating plants"
   ]
  },
  {
   "cell_type": "code",
   "execution_count": null,
   "metadata": {},
   "outputs": [],
   "source": [
    "opr_assets_pd = assets_pd[assets_pd[\"status\"] == \"Operating\"]\n",
    "non_opr_assets_pd = assets_pd[assets_pd[\"status\"] != \"Operating\"]"
   ]
  },
  {
   "cell_type": "code",
   "execution_count": null,
   "metadata": {},
   "outputs": [],
   "source": [
    "print(\"Global count of plants: \", len(assets_pd))\n",
    "print(\"Global count of operating plants: \", len(opr_assets_pd))\n",
    "print(\"Global count of non-operating plants: \", len(non_opr_assets_pd))"
   ]
  },
  {
   "cell_type": "code",
   "execution_count": null,
   "metadata": {},
   "outputs": [],
   "source": [
    "opr_assets_pd.to_csv(\"../../resources/asset-subsets-v4p1/cement_operating_v4.1.csv\",\n",
    "                     index=False)\n",
    "non_opr_assets_pd.to_csv(\"../../resources/asset-subsets-v4p1/cement_non_operating_v4.1.csv\",\n",
    "                         index=False)"
   ]
  },
  {
   "cell_type": "markdown",
   "metadata": {},
   "source": [
    "### Segment 2: Exact/approximate locations (operating plants)"
   ]
  },
  {
   "cell_type": "code",
   "execution_count": null,
   "metadata": {},
   "outputs": [],
   "source": [
    "ext_loc_assets_pd = opr_assets_pd[opr_assets_pd[\"accuracy\"] == \"Exact\"]\n",
    "appx_loc_assets_pd = opr_assets_pd[opr_assets_pd[\"accuracy\"] == \"Approximate\"]"
   ]
  },
  {
   "cell_type": "code",
   "execution_count": null,
   "metadata": {},
   "outputs": [],
   "source": [
    "print(\"Global count of operating plants with exact locations: \", len(ext_loc_assets_pd))\n",
    "print(\"Global count of operating plants with approximate locations: \", len(appx_loc_assets_pd))"
   ]
  },
  {
   "cell_type": "code",
   "execution_count": null,
   "metadata": {},
   "outputs": [],
   "source": [
    "ext_loc_assets_pd.to_csv(\"../../resources/asset-subsets-v4p1/cement_exact_loc_v4.1.csv\",\n",
    "                         index=False)\n",
    "appx_loc_assets_pd.to_csv(\"../../resources/asset-subsets-v4p1/cement_approximate_loc_v4.1.csv\",\n",
    "                          index=False)"
   ]
  },
  {
   "cell_type": "markdown",
   "metadata": {},
   "source": [
    "### Segment 3: China/Asia/Global (exact locations, operating plants)\n",
    "\n",
    "Note:\n",
    "* \"Asia\" refers to plants in Asia, excluding China\n",
    "* \"Global\" refers to plants outside of Asia\n",
    "* Names of segments reflect the cumulative nature of the dataset expansion (China -> Asia -> Global)\n",
    "\n",
    "#### China - exact locations, operating plants"
   ]
  },
  {
   "cell_type": "code",
   "execution_count": null,
   "metadata": {},
   "outputs": [],
   "source": [
    "chn_ext_assets_pd = ext_loc_assets_pd[ext_loc_assets_pd[\"country\"] == \"China\"]"
   ]
  },
  {
   "cell_type": "code",
   "execution_count": null,
   "metadata": {},
   "outputs": [],
   "source": [
    "chn_ext_assets_pd.to_csv(\"../../resources/asset-subsets-v4p1/cement_exact_china_v4.1.csv\",\n",
    "                         index=False)"
   ]
  },
  {
   "cell_type": "markdown",
   "metadata": {},
   "source": [
    "#### Asia - exact locations, operating plants"
   ]
  },
  {
   "cell_type": "code",
   "execution_count": null,
   "metadata": {
    "scrolled": true
   },
   "outputs": [],
   "source": [
    "asia_cntry_pd = pd.read_csv(\"../../resources/ancillary/countries-asia-2020.csv\")\n",
    "asia_ext_assets_pd = ext_loc_assets_pd.merge(asia_cntry_pd, how=\"inner\", on=\"country\")\n",
    "asia_ext_assets_pd = asia_ext_assets_pd[asia_ext_assets_pd[\"country\"] != \"China\"]"
   ]
  },
  {
   "cell_type": "code",
   "execution_count": null,
   "metadata": {},
   "outputs": [],
   "source": [
    "asia_ext_assets_pd.to_csv(\"../../resources/asset-subsets-v4p1/cement_exact_asia_v4.1.csv\",\n",
    "                          index=False)"
   ]
  },
  {
   "cell_type": "markdown",
   "metadata": {},
   "source": [
    "#### Global - exact locations, operating plants"
   ]
  },
  {
   "cell_type": "code",
   "execution_count": null,
   "metadata": {},
   "outputs": [],
   "source": [
    "gbl_ext_assets_pd = ext_loc_assets_pd[~ext_loc_assets_pd[\"uid\"].isin(asia_ext_assets_pd[\"uid\"].tolist()) & \\\n",
    "                                      ~ext_loc_assets_pd[\"uid\"].isin(chn_ext_assets_pd[\"uid\"].tolist())]"
   ]
  },
  {
   "cell_type": "code",
   "execution_count": null,
   "metadata": {},
   "outputs": [],
   "source": [
    "gbl_ext_assets_pd.to_csv(\"../../resources/asset-subsets-v4p1/cement_exact_global_v4.1.csv\",\n",
    "                         index=False)"
   ]
  },
  {
   "cell_type": "code",
   "execution_count": null,
   "metadata": {},
   "outputs": [],
   "source": [
    "print(\"Count of operating plants with exact locations in China: \", len(chn_ext_assets_pd))\n",
    "print(\"Count of operating plants with exact locations in rest of Asia: \", len(asia_ext_assets_pd))\n",
    "print(\"Count of operating plants with exact locations in rest of world: \", len(gbl_ext_assets_pd))"
   ]
  },
  {
   "cell_type": "markdown",
   "metadata": {},
   "source": [
    "### Segment 4: China/Asia/Global (approximate locations, operating plants)\n",
    "\n",
    "Note:\n",
    "* \"Asia\" refers to plants in Asia, excluding China\n",
    "* \"Global\" refers to plants outside of Asia\n",
    "* Names of segments reflect the cumulative nature of the dataset expansion (China -> Asia -> Global)\n",
    "\n",
    "#### China - approximate locations, operating plants"
   ]
  },
  {
   "cell_type": "code",
   "execution_count": null,
   "metadata": {},
   "outputs": [],
   "source": [
    "chn_appx_assets_pd = appx_loc_assets_pd[appx_loc_assets_pd[\"country\"] == \"China\"]"
   ]
  },
  {
   "cell_type": "code",
   "execution_count": null,
   "metadata": {},
   "outputs": [],
   "source": [
    "chn_appx_assets_pd.to_csv(\"../../resources/asset-subsets-v4p1/cement_approximate_china_v4.1.csv\",\n",
    "                          index=False)"
   ]
  },
  {
   "cell_type": "markdown",
   "metadata": {},
   "source": [
    "#### Asia - approximate locations, operating plants"
   ]
  },
  {
   "cell_type": "code",
   "execution_count": null,
   "metadata": {
    "scrolled": true
   },
   "outputs": [],
   "source": [
    "asia_appx_assets_pd = appx_loc_assets_pd.merge(asia_cntry_pd, how=\"inner\", on=\"country\")\n",
    "asia_appx_assets_pd = asia_appx_assets_pd[asia_appx_assets_pd[\"country\"] != \"China\"]"
   ]
  },
  {
   "cell_type": "code",
   "execution_count": null,
   "metadata": {},
   "outputs": [],
   "source": [
    "asia_appx_assets_pd.to_csv(\"../../resources/asset-subsets-v4p1/cement_approximate_asia_v4.1.csv\",\n",
    "                           index=False)"
   ]
  },
  {
   "cell_type": "markdown",
   "metadata": {},
   "source": [
    "#### Global - approximate locations, operating plants"
   ]
  },
  {
   "cell_type": "code",
   "execution_count": null,
   "metadata": {},
   "outputs": [],
   "source": [
    "gbl_appx_assets_pd = appx_loc_assets_pd[~appx_loc_assets_pd[\"uid\"].isin(asia_appx_assets_pd[\"uid\"].tolist()) & \\\n",
    "                                        ~appx_loc_assets_pd[\"uid\"].isin(chn_appx_assets_pd[\"uid\"].tolist())]"
   ]
  },
  {
   "cell_type": "code",
   "execution_count": null,
   "metadata": {},
   "outputs": [],
   "source": [
    "gbl_appx_assets_pd.to_csv(\"../../resources/asset-subsets-v4p1/cement_approximate_global_v4.1.csv\",\n",
    "                          index=False)"
   ]
  },
  {
   "cell_type": "code",
   "execution_count": null,
   "metadata": {},
   "outputs": [],
   "source": [
    "print(\"Count of operating plants with approximate locations in China: \", len(chn_appx_assets_pd))\n",
    "print(\"Count of operating plants with exact approximate in rest of Asia: \", len(asia_appx_assets_pd))\n",
    "print(\"Count of operating plants with exact approximate in rest of world: \", len(gbl_appx_assets_pd))"
   ]
  }
 ],
 "metadata": {
  "kernelspec": {
   "display_name": "EarthAI Environment",
   "language": "python",
   "name": "python3"
  },
  "language_info": {
   "codemirror_mode": {
    "name": "ipython",
    "version": 3
   },
   "file_extension": ".py",
   "mimetype": "text/x-python",
   "name": "python",
   "nbconvert_exporter": "python",
   "pygments_lexer": "ipython3",
   "version": "3.7.9"
  }
 },
 "nbformat": 4,
 "nbformat_minor": 4
}
