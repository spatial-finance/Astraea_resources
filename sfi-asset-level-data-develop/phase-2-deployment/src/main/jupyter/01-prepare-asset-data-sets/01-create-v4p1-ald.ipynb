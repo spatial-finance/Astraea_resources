{
 "cells": [
  {
   "cell_type": "markdown",
   "metadata": {},
   "source": [
    "# Create v4.1 of Cement and Steel Plants\n",
    "\n",
    "This notebook fixes some minor issues with unique asset identifiers in v4. Some distinct cement and steel plants have the same **uid**. This script creates v4.1, which appends, **\\_a**, **\\_b**, etc. to those identifiers to make the unique."
   ]
  },
  {
   "cell_type": "markdown",
   "metadata": {},
   "source": [
    "## Import modules"
   ]
  },
  {
   "cell_type": "code",
   "execution_count": null,
   "metadata": {},
   "outputs": [],
   "source": [
    "import pandas as pd\n",
    "import numpy as np\n",
    "import os"
   ]
  },
  {
   "cell_type": "markdown",
   "metadata": {},
   "source": [
    "## Read in v4 curated cement and steel data"
   ]
  },
  {
   "cell_type": "code",
   "execution_count": null,
   "metadata": {},
   "outputs": [],
   "source": [
    "# Read in cement data - v4\n",
    "cement_xlsx = \"../../resources/asset-datasets-v4/cement_dataset_v4.xlsx\"\n",
    "cement_pd = pd.read_excel(cement_xlsx)\n",
    "\n",
    "# Read in steel data - v4\n",
    "steel_xlsx = \"../../resources/asset-datasets-v4/steel_dataset_v4.xlsx\"\n",
    "steel_pd = pd.read_excel(steel_xlsx)"
   ]
  },
  {
   "cell_type": "code",
   "execution_count": null,
   "metadata": {},
   "outputs": [],
   "source": [
    "if \"tmp\" not in os.listdir():\n",
    "    os.mkdir(\"tmp\")\n",
    "\n",
    "if \"asset-datasets-v4p1\" not in os.listdir(\"../../resources\"):\n",
    "    os.mkdir(\"../../resources/asset-datasets-v4p1\")"
   ]
  },
  {
   "cell_type": "markdown",
   "metadata": {},
   "source": [
    "## Fix cement plant duplicates"
   ]
  },
  {
   "cell_type": "code",
   "execution_count": null,
   "metadata": {},
   "outputs": [],
   "source": [
    "cement_dup_pd = cement_pd[cement_pd.duplicated(subset=\"uid\", keep=False)]\n",
    "cement_dup_pd.to_csv(\"tmp/cement_v4_duplicates.csv\")"
   ]
  },
  {
   "cell_type": "code",
   "execution_count": null,
   "metadata": {},
   "outputs": [],
   "source": [
    "# List of duplicated uids\n",
    "cement_uids_fix = cement_dup_pd[\"uid\"].unique().tolist()\n",
    "\n",
    "# Loop over list of duplicated uids\n",
    "for uid in cement_uids_fix:\n",
    "    cement_pd.loc[cement_pd[\"uid\"] == uid, \"uid\"] = [uid+\"a\", uid+\"b\"]"
   ]
  },
  {
   "cell_type": "code",
   "execution_count": null,
   "metadata": {},
   "outputs": [],
   "source": [
    "# Write out to csv\n",
    "cement_pd.to_csv(\"../../resources/asset-datasets-v4p1/cement_dataset_v4.1.csv\",\n",
    "                 index=False)"
   ]
  },
  {
   "cell_type": "markdown",
   "metadata": {},
   "source": [
    "## Fix steel plant duplicates"
   ]
  },
  {
   "cell_type": "code",
   "execution_count": null,
   "metadata": {},
   "outputs": [],
   "source": [
    "steel_dup_pd = steel_pd[steel_pd.duplicated(subset=\"uid\", keep=False)]\n",
    "steel_dup_pd.to_csv(\"tmp/steel_v4_duplicates.csv\")"
   ]
  },
  {
   "cell_type": "code",
   "execution_count": null,
   "metadata": {},
   "outputs": [],
   "source": [
    "# List of duplicated uids\n",
    "steel_uids_fix = steel_dup_pd[\"uid\"].unique().tolist()\n",
    "\n",
    "# Loop over list of duplicated uids\n",
    "for uid in steel_uids_fix:\n",
    "    if uid in [\"BRA0021\", \"JPN0010\"]:\n",
    "        steel_pd.loc[steel_pd[\"uid\"] == uid, \"uid\"] = [uid+\"a\", uid+\"b\", uid+\"c\"]\n",
    "    else:\n",
    "        steel_pd.loc[steel_pd[\"uid\"] == uid, \"uid\"] = [uid+\"a\", uid+\"b\"]"
   ]
  },
  {
   "cell_type": "code",
   "execution_count": null,
   "metadata": {},
   "outputs": [],
   "source": [
    "# Write out to csv\n",
    "steel_pd.to_csv(\"../../resources/asset-datasets-v4p1/steel_dataset_v4.1.csv\",\n",
    "                index=False)"
   ]
  },
  {
   "cell_type": "markdown",
   "metadata": {},
   "source": [
    "## Clean up"
   ]
  },
  {
   "cell_type": "code",
   "execution_count": null,
   "metadata": {},
   "outputs": [],
   "source": [
    "!rm -fr tmp"
   ]
  }
 ],
 "metadata": {
  "kernelspec": {
   "display_name": "EarthAI Environment",
   "language": "python",
   "name": "python3"
  },
  "language_info": {
   "codemirror_mode": {
    "name": "ipython",
    "version": 3
   },
   "file_extension": ".py",
   "mimetype": "text/x-python",
   "name": "python",
   "nbconvert_exporter": "python",
   "pygments_lexer": "ipython3",
   "version": "3.7.9"
  }
 },
 "nbformat": 4,
 "nbformat_minor": 4
}
