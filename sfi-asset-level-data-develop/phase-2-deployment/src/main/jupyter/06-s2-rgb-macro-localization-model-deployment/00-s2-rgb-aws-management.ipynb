{
 "cells": [
  {
   "cell_type": "markdown",
   "metadata": {},
   "source": [
    "# View assets on S3"
   ]
  },
  {
   "cell_type": "code",
   "execution_count": 1,
   "metadata": {},
   "outputs": [],
   "source": [
    "import boto3\n",
    "import os\n",
    "import shutil"
   ]
  },
  {
   "cell_type": "code",
   "execution_count": 2,
   "metadata": {},
   "outputs": [
    {
     "name": "stdout",
     "output_type": "stream",
     "text": [
      "Requirement already satisfied: awscli in /opt/conda/envs/earthai/lib/python3.7/site-packages (1.18.146)\n",
      "Requirement already satisfied: PyYAML<5.4,>=3.10; python_version != \"3.4\" in /opt/conda/envs/earthai/lib/python3.7/site-packages (from awscli) (5.3.1)\n",
      "Requirement already satisfied: s3transfer<0.4.0,>=0.3.0 in /opt/conda/envs/earthai/lib/python3.7/site-packages (from awscli) (0.3.3)\n",
      "Requirement already satisfied: docutils<0.16,>=0.10 in /opt/conda/envs/earthai/lib/python3.7/site-packages (from awscli) (0.15.2)\n",
      "Requirement already satisfied: botocore==1.18.5 in /opt/conda/envs/earthai/lib/python3.7/site-packages (from awscli) (1.18.5)\n",
      "Requirement already satisfied: colorama<0.4.4,>=0.2.5; python_version != \"3.4\" in /opt/conda/envs/earthai/lib/python3.7/site-packages (from awscli) (0.4.3)\n",
      "Requirement already satisfied: rsa<=4.5.0,>=3.1.2; python_version != \"3.4\" in /opt/conda/envs/earthai/lib/python3.7/site-packages (from awscli) (4.5)\n",
      "Requirement already satisfied: urllib3<1.26,>=1.20; python_version != \"3.4\" in /opt/conda/envs/earthai/lib/python3.7/site-packages (from botocore==1.18.5->awscli) (1.25.10)\n",
      "Requirement already satisfied: python-dateutil<3.0.0,>=2.1 in /opt/conda/envs/earthai/lib/python3.7/site-packages (from botocore==1.18.5->awscli) (2.8.1)\n",
      "Requirement already satisfied: jmespath<1.0.0,>=0.7.1 in /opt/conda/envs/earthai/lib/python3.7/site-packages (from botocore==1.18.5->awscli) (0.10.0)\n",
      "Requirement already satisfied: pyasn1>=0.1.3 in /opt/conda/envs/earthai/lib/python3.7/site-packages (from rsa<=4.5.0,>=3.1.2; python_version != \"3.4\"->awscli) (0.4.8)\n",
      "Requirement already satisfied: six>=1.5 in /opt/conda/envs/earthai/lib/python3.7/site-packages (from python-dateutil<3.0.0,>=2.1->botocore==1.18.5->awscli) (1.15.0)\n"
     ]
    }
   ],
   "source": [
    "! pip install awscli"
   ]
  },
  {
   "cell_type": "code",
   "execution_count": 3,
   "metadata": {},
   "outputs": [],
   "source": [
    "s3 = boto3.resource('s3')\n",
    "bucket = s3.Bucket('sfi-shared-assets')"
   ]
  },
  {
   "cell_type": "code",
   "execution_count": 4,
   "metadata": {},
   "outputs": [
    {
     "name": "stdout",
     "output_type": "stream",
     "text": [
      "                           PRE CHN_scenes_all/\n",
      "                           PRE L8-TIR-macro-localization-model-build3/\n",
      "                           PRE L8-TIR-macro-localization-model-deployment/\n",
      "                           PRE S2-RGB-macro-localization-model-build3/\n",
      "                           PRE S2-RGB-macro-localization-model-build4/\n",
      "                           PRE S2-RGB-macro-localization-model-deployment/\n",
      "                           PRE S2-RGB-macro-localization-model-deployment4/\n",
      "                           PRE S2-macroloc-model/\n",
      "                           PRE Sentinel_labels_all/\n",
      "                           PRE Sentinel_scenes/\n",
      "                           PRE cement-microloc-phase1/\n",
      "                           PRE tir-macroloc-model/\n",
      "2020-08-07 13:42:15 8355983936 Sentinel_data\n",
      "2020-08-07 16:39:13 8355983936 Sentinel_data.zip\n",
      "2020-07-28 17:46:15    2232180 map.txt\n",
      "2020-08-07 19:44:49 8335718181 sentinel_data.tar.gz\n"
     ]
    }
   ],
   "source": [
    "! aws s3 ls s3://sfi-shared-assets/"
   ]
  },
  {
   "cell_type": "markdown",
   "metadata": {},
   "source": [
    "## Sentinel-2 Macro-localization Model Build Chips"
   ]
  },
  {
   "cell_type": "code",
   "execution_count": 5,
   "metadata": {},
   "outputs": [
    {
     "name": "stdout",
     "output_type": "stream",
     "text": [
      "2021-02-24 00:57:24  390539533 S2-deployment-chip-scores-CHN-10km-nowater-2020-consolidated.geojson\n",
      "2021-02-18 15:36:36  191436800 S2-deployment-chip-scores-CHN-10km-nowater-2020-set1.tar\n",
      "2021-02-14 22:24:20  123883520 S2-deployment-chip-scores-CHN-10km-nowater-2020-set2.tar\n",
      "2021-02-23 21:09:56  165160960 S2-deployment-chip-scores-CHN-10km-nowater-2020-set3.tar\n",
      "2021-02-22 00:30:24   73164800 S2-deployment-chip-scores-CHN-10km-nowater-2020-set4.tar\n"
     ]
    }
   ],
   "source": [
    "! aws s3 ls s3://sfi-shared-assets/S2-RGB-macro-localization-model-deployment4/"
   ]
  },
  {
   "cell_type": "code",
   "execution_count": 6,
   "metadata": {},
   "outputs": [
    {
     "name": "stdout",
     "output_type": "stream",
     "text": [
      "2021-02-02 00:50:38  116306164 densenet161_cement_binary_final.pkl\n",
      "2021-01-31 15:06:50  116308277 densenet161_multiclass_final.pkl\n",
      "2021-02-02 00:50:44  116306168 densenet161_steel_binary_final.pkl\n",
      "2021-02-02 00:50:34  102850046 resnet50_cement_binary_final.pkl\n",
      "2021-01-31 15:06:46  102852095 resnet50_multiclass_final.pkl\n",
      "2021-02-02 00:50:40  102850047 resnet50_steel_binary_final.pkl\n",
      "2021-02-02 00:50:37   39836552 vgg13_cement_binary_final.pkl\n",
      "2021-01-31 15:06:49   39838664 vgg13_multiclass_final.pkl\n",
      "2021-02-02 00:50:42   39836552 vgg13_steel_binary_final.pkl\n"
     ]
    }
   ],
   "source": [
    "! aws s3 ls s3://sfi-shared-assets/S2-RGB-macro-localization-model-build4/S2-RGB-model-results4/"
   ]
  },
  {
   "cell_type": "markdown",
   "metadata": {},
   "source": [
    "## Download"
   ]
  },
  {
   "cell_type": "code",
   "execution_count": 7,
   "metadata": {},
   "outputs": [],
   "source": [
    "bucket.download_file('S2-RGB-macro-localization-model-deployment4/S2-deployment-chip-scores-CHN-10km-nowater-2020-consolidated.geojson',\n",
    "                     'S2-deployment-chip-scores-CHN-10km-nowater-2020-consolidated.geojson')"
   ]
  },
  {
   "cell_type": "markdown",
   "metadata": {},
   "source": [
    "## Remove from S3?"
   ]
  },
  {
   "cell_type": "raw",
   "metadata": {},
   "source": [
    "! aws s3 rm s3://sfi-shared-assets/L8-TIR-macro-localization-model-build2/ --recursive"
   ]
  }
 ],
 "metadata": {
  "kernelspec": {
   "display_name": "EarthAI Environment",
   "language": "python",
   "name": "python3"
  },
  "language_info": {
   "codemirror_mode": {
    "name": "ipython",
    "version": 3
   },
   "file_extension": ".py",
   "mimetype": "text/x-python",
   "name": "python",
   "nbconvert_exporter": "python",
   "pygments_lexer": "ipython3",
   "version": "3.7.9"
  }
 },
 "nbformat": 4,
 "nbformat_minor": 4
}
