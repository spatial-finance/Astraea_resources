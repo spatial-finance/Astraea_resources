{
 "cells": [
  {
   "cell_type": "markdown",
   "metadata": {},
   "source": [
    "# Evaluate Sentinel-2 Model Deployment Progress\n",
    "\n",
    "* Count of chips versus scene cloud cover\n",
    "* Fraction of deployment grid scored"
   ]
  },
  {
   "cell_type": "markdown",
   "metadata": {},
   "source": [
    "## Import libraries"
   ]
  },
  {
   "cell_type": "code",
   "execution_count": 1,
   "metadata": {},
   "outputs": [],
   "source": [
    "import os\n",
    "import glob\n",
    "\n",
    "import geopandas as gpd\n",
    "import pandas as pd\n",
    "import numpy as np\n",
    "\n",
    "import boto3\n",
    "\n",
    "from matplotlib import pyplot as plt\n",
    "\n",
    "from IPython.display import clear_output"
   ]
  },
  {
   "cell_type": "markdown",
   "metadata": {},
   "source": [
    "## Inputs and parameters"
   ]
  },
  {
   "cell_type": "code",
   "execution_count": 2,
   "metadata": {},
   "outputs": [],
   "source": [
    "s3_path = 'S2-RGB-macro-localization-model-deployment4/'\n",
    "consolidated_score_gjson = 'S2-deployment-chip-scores-CHN-10km-nowater-2020-consolidated.geojson'\n",
    "s2_grid_gjson = '../../resources/macro-loc-model-deployment4/S2-deployment-grid-CHN-10km-nowater.geojson'\n",
    "LOCAL_DIR = '/scratch/'"
   ]
  },
  {
   "cell_type": "code",
   "execution_count": 3,
   "metadata": {},
   "outputs": [],
   "source": [
    "calc_crs = 'EPSG:3395'"
   ]
  },
  {
   "cell_type": "code",
   "execution_count": 4,
   "metadata": {},
   "outputs": [],
   "source": [
    "s3 = boto3.resource('s3')\n",
    "bucket = s3.Bucket('sfi-shared-assets')"
   ]
  },
  {
   "cell_type": "markdown",
   "metadata": {},
   "source": [
    "## Outputs"
   ]
  },
  {
   "cell_type": "code",
   "execution_count": 5,
   "metadata": {},
   "outputs": [],
   "source": [
    "deployment_data_path = '../../resources/macro-loc-model-deployment4/'\n",
    "\n",
    "chp_cnt_hist_png = deployment_data_path+'S2-deployment-CHN-10km-nowater-2020-chp-cnt-cloud-cover.png'"
   ]
  },
  {
   "cell_type": "markdown",
   "metadata": {},
   "source": [
    "## Download consolidated deployment results and read it in"
   ]
  },
  {
   "cell_type": "code",
   "execution_count": 6,
   "metadata": {},
   "outputs": [],
   "source": [
    "bucket.download_file(s3_path+consolidated_score_gjson,\n",
    "                     LOCAL_DIR+consolidated_score_gjson)"
   ]
  },
  {
   "cell_type": "code",
   "execution_count": 7,
   "metadata": {},
   "outputs": [],
   "source": [
    "unq_chip_gdf = gpd.read_file(LOCAL_DIR+consolidated_score_gjson)"
   ]
  },
  {
   "cell_type": "code",
   "execution_count": 23,
   "metadata": {},
   "outputs": [
    {
     "name": "stdout",
     "output_type": "stream",
     "text": [
      "Number of chips:  415036\n",
      "Number of scenes:  1094\n"
     ]
    }
   ],
   "source": [
    "chp_cnt = len(unq_chip_gdf)\n",
    "print('Number of chips: ', str(chp_cnt))\n",
    "print('Number of scenes: ', str(unq_chip_gdf.s2_grid_id.nunique()))"
   ]
  },
  {
   "cell_type": "markdown",
   "metadata": {},
   "source": [
    "## Evaluate chip count by scene cloud coverage"
   ]
  },
  {
   "cell_type": "code",
   "execution_count": 9,
   "metadata": {},
   "outputs": [
    {
     "data": {
      "text/plain": [
       "49.080382"
      ]
     },
     "execution_count": 9,
     "metadata": {},
     "output_type": "execute_result"
    }
   ],
   "source": [
    "max(unq_chip_gdf.s2_eo_cloud_cover)"
   ]
  },
  {
   "cell_type": "code",
   "execution_count": 10,
   "metadata": {},
   "outputs": [],
   "source": [
    "bedges = np.arange(0, 51, 1)\n",
    "cc_hist, cc_bedges = np.histogram(unq_chip_gdf.s2_eo_cloud_cover, \n",
    "                                  bins=bedges)\n",
    "cc_hist_df = pd.DataFrame({'cc_lbedge': cc_bedges[:-1],\n",
    "                           'cc_hist': cc_hist,\n",
    "                           'cc_cum_hist': np.cumsum(cc_hist)})\n",
    "cc_hist_df['cc_cum_frac'] = cc_hist_df.cc_cum_hist/chp_cnt"
   ]
  },
  {
   "cell_type": "code",
   "execution_count": 11,
   "metadata": {},
   "outputs": [
    {
     "data": {
      "image/png": "[encoded data removed]",
      "text/plain": [
       "<Figure size 432x288 with 2 Axes>"
      ]
     },
     "metadata": {
      "needs_background": "light"
     },
     "output_type": "display_data"
    }
   ],
   "source": [
    "fig, ax = plt.subplots(1)\n",
    "\n",
    "ax.plot(cc_hist_df.cc_lbedge, cc_hist_df.cc_cum_hist)\n",
    "plt.title('Chip Count Vs. Scene Cloud Cover')\n",
    "plt.xlabel('Scene Cloud Cover (%)')\n",
    "plt.ylabel('Cumulative Chip Count')\n",
    "\n",
    "ax2=ax.twinx()\n",
    "ax2.plot(cc_hist_df.cc_lbedge, cc_hist_df.cc_cum_frac)\n",
    "ax2.set_ylabel('Cumulative Chip Fraction')\n",
    "\n",
    "fig.savefig(chp_cnt_hist_png)"
   ]
  },
  {
   "cell_type": "markdown",
   "metadata": {},
   "source": [
    "# Compute Fraction of Deployment Region Scored"
   ]
  },
  {
   "cell_type": "code",
   "execution_count": 12,
   "metadata": {},
   "outputs": [],
   "source": [
    "s2_deploy_grid_gdf = gpd.read_file(s2_grid_gjson)"
   ]
  },
  {
   "cell_type": "code",
   "execution_count": 13,
   "metadata": {},
   "outputs": [],
   "source": [
    "s2_deploy_grid3395_gdf = s2_deploy_grid_gdf.to_crs(calc_crs)\n",
    "s2_deploy_grid3395_gdf['area_sqkm'] = s2_deploy_grid3395_gdf.area/1e6"
   ]
  },
  {
   "cell_type": "code",
   "execution_count": 14,
   "metadata": {},
   "outputs": [
    {
     "data": {
      "text/html": [
       "<div>\n",
       "<style scoped>\n",
       "    .dataframe tbody tr th:only-of-type {\n",
       "        vertical-align: middle;\n",
       "    }\n",
       "\n",
       "    .dataframe tbody tr th {\n",
       "        vertical-align: top;\n",
       "    }\n",
       "\n",
       "    .dataframe thead th {\n",
       "        text-align: right;\n",
       "    }\n",
       "</style>\n",
       "<table border=\"1\" class=\"dataframe\">\n",
       "  <thead>\n",
       "    <tr style=\"text-align: right;\">\n",
       "      <th></th>\n",
       "      <th>inds_id</th>\n",
       "      <th>inds_cmt_pred</th>\n",
       "      <th>inds_stl_pred</th>\n",
       "      <th>geometry</th>\n",
       "      <th>area_sqkm</th>\n",
       "    </tr>\n",
       "  </thead>\n",
       "  <tbody>\n",
       "    <tr>\n",
       "      <th>0</th>\n",
       "      <td>2256</td>\n",
       "      <td>0.001345</td>\n",
       "      <td>0.000061</td>\n",
       "      <td>POLYGON ((8221409.900 4794872.896, 8232541.849...</td>\n",
       "      <td>160.299674</td>\n",
       "    </tr>\n",
       "    <tr>\n",
       "      <th>1</th>\n",
       "      <td>2259</td>\n",
       "      <td>0.001365</td>\n",
       "      <td>0.000096</td>\n",
       "      <td>POLYGON ((8221409.900 4751735.720, 8232541.849...</td>\n",
       "      <td>159.603813</td>\n",
       "    </tr>\n",
       "    <tr>\n",
       "      <th>2</th>\n",
       "      <td>2261</td>\n",
       "      <td>0.001375</td>\n",
       "      <td>0.000114</td>\n",
       "      <td>POLYGON ((8221409.900 4723081.441, 8232541.849...</td>\n",
       "      <td>159.145649</td>\n",
       "    </tr>\n",
       "    <tr>\n",
       "      <th>3</th>\n",
       "      <td>2608</td>\n",
       "      <td>0.001613</td>\n",
       "      <td>0.000532</td>\n",
       "      <td>POLYGON ((8232541.849 4809293.906, 8243673.798...</td>\n",
       "      <td>160.533950</td>\n",
       "    </tr>\n",
       "    <tr>\n",
       "      <th>4</th>\n",
       "      <td>2613</td>\n",
       "      <td>0.001393</td>\n",
       "      <td>0.000145</td>\n",
       "      <td>POLYGON ((8232541.849 4737398.265, 8243673.798...</td>\n",
       "      <td>159.374161</td>\n",
       "    </tr>\n",
       "  </tbody>\n",
       "</table>\n",
       "</div>"
      ],
      "text/markdown": [
       "|    |   inds_id |   inds_cmt_pred |   inds_stl_pred | geometry                                                                                                                                                                                            |   area_sqkm |\n",
       "|---:|----------:|----------------:|----------------:|:----------------------------------------------------------------------------------------------------------------------------------------------------------------------------------------------------|------------:|\n",
       "|  0 |      2256 |      0.00134478 |     6.06895e-05 | POLYGON ((8221409.899797903 4794872.896044552, 8232541.848877227 4794872.896044552, 8232541.848877227 4780472.931327225, 8221409.899797903 4780472.931327225, 8221409.899797903 4794872.896044552)) |     160.3   |\n",
       "|  1 |      2259 |      0.00136513 |     9.64247e-05 | POLYGON ((8221409.899797903 4751735.71979102, 8232541.848877227 4751735.71979102, 8232541.848877227 4737398.265294373, 8221409.899797903 4737398.265294373, 8221409.899797903 4751735.71979102))    |     159.604 |\n",
       "|  2 |      2261 |      0.00137539 |     0.00011445  | POLYGON ((8221409.899797903 4723081.440811412, 8232541.848877227 4723081.440811412, 8232541.848877227 4708785.143923357, 8221409.899797903 4708785.143923357, 8221409.899797903 4723081.440811412)) |     159.146 |\n",
       "|  3 |      2608 |      0.00161343 |     0.000532469 | POLYGON ((8232541.848877227 4809293.90614063, 8243673.797956554 4809293.90614063, 8243673.797956554 4794872.896044552, 8232541.848877227 4794872.896044552, 8232541.848877227 4809293.90614063))    |     160.534 |\n",
       "|  4 |      2613 |      0.00139301 |     0.00014539  | POLYGON ((8232541.848877227 4737398.265294373, 8243673.797956554 4737398.265294373, 8243673.797956554 4723081.440811412, 8232541.848877227 4723081.440811412, 8232541.848877227 4737398.265294373)) |     159.374 |"
      ],
      "text/plain": [
       "   inds_id  inds_cmt_pred  inds_stl_pred  \\\n",
       "0     2256       0.001345       0.000061   \n",
       "1     2259       0.001365       0.000096   \n",
       "2     2261       0.001375       0.000114   \n",
       "3     2608       0.001613       0.000532   \n",
       "4     2613       0.001393       0.000145   \n",
       "\n",
       "                                            geometry   area_sqkm  \n",
       "0  POLYGON ((8221409.900 4794872.896, 8232541.849...  160.299674  \n",
       "1  POLYGON ((8221409.900 4751735.720, 8232541.849...  159.603813  \n",
       "2  POLYGON ((8221409.900 4723081.441, 8232541.849...  159.145649  \n",
       "3  POLYGON ((8232541.849 4809293.906, 8243673.798...  160.533950  \n",
       "4  POLYGON ((8232541.849 4737398.265, 8243673.798...  159.374161  "
      ]
     },
     "execution_count": 14,
     "metadata": {},
     "output_type": "execute_result"
    }
   ],
   "source": [
    "s2_deploy_grid3395_gdf.head()"
   ]
  },
  {
   "cell_type": "code",
   "execution_count": 15,
   "metadata": {},
   "outputs": [],
   "source": [
    "unq_chip3395_gdf = unq_chip_gdf.to_crs(calc_crs)"
   ]
  },
  {
   "cell_type": "code",
   "execution_count": 16,
   "metadata": {},
   "outputs": [],
   "source": [
    "scored_deploy_gdf = gpd.overlay(s2_deploy_grid3395_gdf, unq_chip3395_gdf, how='intersection')"
   ]
  },
  {
   "cell_type": "code",
   "execution_count": 17,
   "metadata": {},
   "outputs": [],
   "source": [
    "scored_deploy_gs = gpd.GeoSeries(scored_deploy_gdf.unary_union)"
   ]
  },
  {
   "cell_type": "code",
   "execution_count": 18,
   "metadata": {},
   "outputs": [],
   "source": [
    "deploy_reg_tot_area = sum(s2_deploy_grid3395_gdf.area_sqkm)\n",
    "deploy_reg_scored_area = sum(scored_deploy_gs.area/1e6)\n",
    "deploy_reg_scored_fraction = deploy_reg_scored_area / deploy_reg_tot_area"
   ]
  },
  {
   "cell_type": "code",
   "execution_count": 19,
   "metadata": {},
   "outputs": [
    {
     "name": "stdout",
     "output_type": "stream",
     "text": [
      "Total Area of Deployment Region:  3713194.9734158562  sq km\n",
      "Area Scored:  3686298.8421736243  sq km\n",
      "Fraction of Deployment Region Scored:  0.9927566067942052\n"
     ]
    }
   ],
   "source": [
    "print('Total Area of Deployment Region: ', str(deploy_reg_tot_area), ' sq km')\n",
    "print('Area Scored: ', str(deploy_reg_scored_area), ' sq km')\n",
    "print('Fraction of Deployment Region Scored: ', str(deploy_reg_scored_fraction))"
   ]
  },
  {
   "cell_type": "code",
   "execution_count": null,
   "metadata": {},
   "outputs": [],
   "source": []
  }
 ],
 "metadata": {
  "kernelspec": {
   "display_name": "EarthAI Environment",
   "language": "python",
   "name": "python3"
  },
  "language_info": {
   "codemirror_mode": {
    "name": "ipython",
    "version": 3
   },
   "file_extension": ".py",
   "mimetype": "text/x-python",
   "name": "python",
   "nbconvert_exporter": "python",
   "pygments_lexer": "ipython3",
   "version": "3.7.9"
  }
 },
 "nbformat": 4,
 "nbformat_minor": 4
}
