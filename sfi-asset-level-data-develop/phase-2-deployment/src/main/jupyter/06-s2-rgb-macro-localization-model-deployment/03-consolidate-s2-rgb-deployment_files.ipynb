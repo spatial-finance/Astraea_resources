{
 "cells": [
  {
   "cell_type": "markdown",
   "metadata": {},
   "source": [
    "# Consolidate Sentinel-2 Model Deployment Scores into a Single GeoJSON File"
   ]
  },
  {
   "cell_type": "markdown",
   "metadata": {},
   "source": [
    "## Import libraries"
   ]
  },
  {
   "cell_type": "code",
   "execution_count": null,
   "metadata": {},
   "outputs": [],
   "source": [
    "import os\n",
    "import glob\n",
    "\n",
    "import geopandas as gpd\n",
    "import pandas as pd\n",
    "\n",
    "import boto3\n",
    "\n",
    "from IPython.display import clear_output"
   ]
  },
  {
   "cell_type": "markdown",
   "metadata": {},
   "source": [
    "## Inputs and parameters"
   ]
  },
  {
   "cell_type": "code",
   "execution_count": null,
   "metadata": {},
   "outputs": [],
   "source": [
    "s3_path = 'S2-RGB-macro-localization-model-deployment4/'\n",
    "score_tar_files = ['S2-deployment-chip-scores-CHN-10km-nowater-2020-set1.tar', \\\n",
    "                   'S2-deployment-chip-scores-CHN-10km-nowater-2020-set2.tar', \\\n",
    "                   'S2-deployment-chip-scores-CHN-10km-nowater-2020-set3.tar', \\\n",
    "                   'S2-deployment-chip-scores-CHN-10km-nowater-2020-set4.tar']\n",
    "LOCAL_DIR = '/scratch/'"
   ]
  },
  {
   "cell_type": "code",
   "execution_count": null,
   "metadata": {},
   "outputs": [],
   "source": [
    "s3 = boto3.resource('s3')\n",
    "bucket = s3.Bucket('sfi-shared-assets')"
   ]
  },
  {
   "cell_type": "markdown",
   "metadata": {},
   "source": [
    "## Outputs"
   ]
  },
  {
   "cell_type": "code",
   "execution_count": null,
   "metadata": {},
   "outputs": [],
   "source": [
    "consolidated_score_gjson = 'S2-deployment-chip-scores-CHN-10km-nowater-2020-consolidated.geojson'"
   ]
  },
  {
   "cell_type": "markdown",
   "metadata": {},
   "source": [
    "## Download deployment results and untar"
   ]
  },
  {
   "cell_type": "code",
   "execution_count": null,
   "metadata": {},
   "outputs": [],
   "source": [
    "for f in score_tar_files:\n",
    "    bucket.download_file(s3_path+f,\n",
    "                         LOCAL_DIR+f)\n",
    "    \n",
    "    !tar -xf {LOCAL_DIR+f} -C {LOCAL_DIR}"
   ]
  },
  {
   "cell_type": "markdown",
   "metadata": {},
   "source": [
    "## Get list of GeoJSONS"
   ]
  },
  {
   "cell_type": "code",
   "execution_count": null,
   "metadata": {},
   "outputs": [],
   "source": [
    "gjson_file_list = []\n",
    "for f in score_tar_files:\n",
    "    flist = glob.glob(LOCAL_DIR+f.replace('.tar','/*.geojson'))\n",
    "    gjson_file_list.append(flist)\n",
    "gjson_file_list = sum(gjson_file_list, [])"
   ]
  },
  {
   "cell_type": "code",
   "execution_count": null,
   "metadata": {},
   "outputs": [],
   "source": [
    "print('Number of GeoJSON files:', len(gjson_file_list))"
   ]
  },
  {
   "cell_type": "markdown",
   "metadata": {},
   "source": [
    "## Merge data into single GeoDataFrame"
   ]
  },
  {
   "cell_type": "code",
   "execution_count": null,
   "metadata": {},
   "outputs": [],
   "source": [
    "full_scene_gdf = gpd.read_file(gjson_file_list[0])"
   ]
  },
  {
   "cell_type": "raw",
   "metadata": {},
   "source": [
    "badi = [10016]"
   ]
  },
  {
   "cell_type": "code",
   "execution_count": null,
   "metadata": {},
   "outputs": [],
   "source": [
    "for i in range(0, len(gjson_file_list)):\n",
    "    clear_output(wait=True)\n",
    "    print('Merging score file ', str(i+1), ' out of ', str(len(gjson_file_list)))\n",
    "    \n",
    "    tmp_gdf = gpd.read_file(gjson_file_list[i])\n",
    "    full_scene_gdf = pd.concat([full_scene_gdf, tmp_gdf], ignore_index=True, sort=False)"
   ]
  },
  {
   "cell_type": "markdown",
   "metadata": {},
   "source": [
    "## Remove duplicate chips\n",
    "\n",
    "* Sort by eo_cloud_cover\n",
    "* Drop duplicates by `geometry`, `cmtv4p1_uid`, `stlv4p1_uid`\n",
    "* Keep the first record\n",
    "\n",
    "This removes duplicates by choosing the chip with the lowest scene cloud coverage, but retains duplicated chips if more than one plant intersects with the chip."
   ]
  },
  {
   "cell_type": "code",
   "execution_count": null,
   "metadata": {},
   "outputs": [],
   "source": [
    "unq_chip_gdf = full_scene_gdf.sort_values('s2_eo_cloud_cover') \\\n",
    "                             .drop_duplicates(subset=['geometry', 'cmtv4p1_uid', 'stlv4p1_uid'],\n",
    "                                              keep='first',\n",
    "                                              ignore_index=True)"
   ]
  },
  {
   "cell_type": "code",
   "execution_count": null,
   "metadata": {},
   "outputs": [],
   "source": [
    "print(len(full_scene_gdf))"
   ]
  },
  {
   "cell_type": "code",
   "execution_count": null,
   "metadata": {},
   "outputs": [],
   "source": [
    "print(len(unq_chip_gdf))"
   ]
  },
  {
   "cell_type": "markdown",
   "metadata": {},
   "source": [
    "# Write consolidated scores to GeoJSON and upload to S3"
   ]
  },
  {
   "cell_type": "code",
   "execution_count": null,
   "metadata": {},
   "outputs": [],
   "source": [
    "unq_chip_gdf.to_file(consolidated_score_gjson, driver='GeoJSON')"
   ]
  },
  {
   "cell_type": "code",
   "execution_count": null,
   "metadata": {},
   "outputs": [],
   "source": [
    "bucket.upload_file(consolidated_score_gjson,\n",
    "                   s3_path+consolidated_score_gjson)"
   ]
  },
  {
   "cell_type": "code",
   "execution_count": null,
   "metadata": {},
   "outputs": [],
   "source": [
    "os.remove(consolidated_score_gjson)"
   ]
  },
  {
   "cell_type": "code",
   "execution_count": null,
   "metadata": {},
   "outputs": [],
   "source": []
  }
 ],
 "metadata": {
  "kernelspec": {
   "display_name": "EarthAI Environment",
   "language": "python",
   "name": "python3"
  },
  "language_info": {
   "codemirror_mode": {
    "name": "ipython",
    "version": 3
   },
   "file_extension": ".py",
   "mimetype": "text/x-python",
   "name": "python",
   "nbconvert_exporter": "python",
   "pygments_lexer": "ipython3",
   "version": "3.7.9"
  }
 },
 "nbformat": 4,
 "nbformat_minor": 4
}
