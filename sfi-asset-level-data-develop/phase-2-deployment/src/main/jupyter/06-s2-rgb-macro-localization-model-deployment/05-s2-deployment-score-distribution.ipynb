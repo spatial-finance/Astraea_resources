{
 "cells": [
  {
   "cell_type": "markdown",
   "metadata": {},
   "source": [
    "# Study Score Distribution for Sentinel-2 Macrolocalization Model Deployment"
   ]
  },
  {
   "cell_type": "markdown",
   "metadata": {},
   "source": [
    "## Import required libraries"
   ]
  },
  {
   "cell_type": "code",
   "execution_count": 1,
   "metadata": {},
   "outputs": [],
   "source": [
    "import os\n",
    "import glob\n",
    "\n",
    "import geopandas as gpd\n",
    "import pandas as pd\n",
    "import numpy as np\n",
    "\n",
    "import boto3\n",
    "\n",
    "from matplotlib import pyplot as plt\n",
    "\n",
    "from IPython.display import clear_output"
   ]
  },
  {
   "cell_type": "markdown",
   "metadata": {},
   "source": [
    "## Inputs and parameters"
   ]
  },
  {
   "cell_type": "code",
   "execution_count": 2,
   "metadata": {},
   "outputs": [],
   "source": [
    "s3_path = 'S2-RGB-macro-localization-model-deployment4/'\n",
    "consolidated_score_gjson = 'S2-deployment-chip-scores-CHN-10km-nowater-2020-consolidated.geojson'\n",
    "s2_grid_gjson = '../../resources/macro-loc-model-deployment4/S2-deployment-grid-CHN-10km-nowater.geojson'\n",
    "LOCAL_DIR = '/scratch/'"
   ]
  },
  {
   "cell_type": "code",
   "execution_count": 3,
   "metadata": {},
   "outputs": [],
   "source": [
    "calc_crs = 'EPSG:3395'"
   ]
  },
  {
   "cell_type": "code",
   "execution_count": 4,
   "metadata": {},
   "outputs": [],
   "source": [
    "s3 = boto3.resource('s3')\n",
    "bucket = s3.Bucket('sfi-shared-assets')"
   ]
  },
  {
   "cell_type": "markdown",
   "metadata": {},
   "source": [
    "## Outputs"
   ]
  },
  {
   "cell_type": "code",
   "execution_count": 5,
   "metadata": {},
   "outputs": [],
   "source": [
    "deployment_data_path = '../../resources/macro-loc-model-deployment4/'\n",
    "output_prefix = 'S2-deployment-CHN-10km-nowater-2020-'\n",
    "\n",
    "cmt_hist_png = deployment_data_path+output_prefix+'cement-score-hist.png'\n",
    "cmt_cum_hist_png = deployment_data_path+output_prefix+'cement-score-cum-hist.png'\n",
    "stl_hist_png = deployment_data_path+output_prefix+'steel-score-hist.png'\n",
    "stl_cum_hist_png = deployment_data_path+output_prefix+'steel-score-cum-hist.png'"
   ]
  },
  {
   "cell_type": "markdown",
   "metadata": {},
   "source": [
    "## Download consolidated deployment results and read it in"
   ]
  },
  {
   "cell_type": "code",
   "execution_count": 6,
   "metadata": {},
   "outputs": [],
   "source": [
    "bucket.download_file(s3_path+consolidated_score_gjson,\n",
    "                     LOCAL_DIR+consolidated_score_gjson)"
   ]
  },
  {
   "cell_type": "code",
   "execution_count": 7,
   "metadata": {},
   "outputs": [],
   "source": [
    "unq_chip_gdf = gpd.read_file(LOCAL_DIR+consolidated_score_gjson)"
   ]
  },
  {
   "cell_type": "code",
   "execution_count": 8,
   "metadata": {},
   "outputs": [
    {
     "name": "stdout",
     "output_type": "stream",
     "text": [
      "Number of chips:  415036\n"
     ]
    }
   ],
   "source": [
    "chp_cnt = len(unq_chip_gdf)\n",
    "print('Number of chips: ', str(chp_cnt))"
   ]
  },
  {
   "cell_type": "markdown",
   "metadata": {},
   "source": [
    "## Create histograms of probabilities of model scores"
   ]
  },
  {
   "cell_type": "code",
   "execution_count": 9,
   "metadata": {},
   "outputs": [],
   "source": [
    "bedges = np.arange(0, 1.01, 0.01)"
   ]
  },
  {
   "cell_type": "markdown",
   "metadata": {},
   "source": [
    "### Cement"
   ]
  },
  {
   "cell_type": "code",
   "execution_count": 10,
   "metadata": {},
   "outputs": [],
   "source": [
    "cmt_prb_hist, bin_edges = np.histogram(unq_chip_gdf.tile_cmt_prob, \n",
    "                                       bins=bedges)"
   ]
  },
  {
   "cell_type": "code",
   "execution_count": 11,
   "metadata": {},
   "outputs": [],
   "source": [
    "cmt_prob_knwn = unq_chip_gdf[~unq_chip_gdf.cmtv4p1_uid.isnull()]\n",
    "cmt_knwn_prb_hist, bin_edges = np.histogram(cmt_prob_knwn.tile_cmt_prob, \n",
    "                                            bins=bedges)"
   ]
  },
  {
   "cell_type": "markdown",
   "metadata": {},
   "source": [
    "### Steel"
   ]
  },
  {
   "cell_type": "code",
   "execution_count": 12,
   "metadata": {},
   "outputs": [],
   "source": [
    "stl_prb_hist, bin_edges = np.histogram(unq_chip_gdf.tile_stl_prob, \n",
    "                                       bins=bedges)"
   ]
  },
  {
   "cell_type": "code",
   "execution_count": 13,
   "metadata": {},
   "outputs": [],
   "source": [
    "stl_prob_knwn = unq_chip_gdf[~unq_chip_gdf.stlv4p1_uid.isnull()]\n",
    "stl_knwn_prb_hist, bin_edges = np.histogram(stl_prob_knwn.tile_stl_prob, \n",
    "                                            bins=bedges)"
   ]
  },
  {
   "cell_type": "code",
   "execution_count": 14,
   "metadata": {},
   "outputs": [],
   "source": [
    "model_prob_hist = pd.DataFrame({'bin_left_edge': bin_edges[:-1],\n",
    "                                'cmt_prb_hist': cmt_prb_hist,\n",
    "                                'cmt_knwn_prb_hist': cmt_knwn_prb_hist,\n",
    "                                'stl_prb_hist': stl_prb_hist,\n",
    "                                'stl_knwn_prb_hist': stl_knwn_prb_hist})"
   ]
  },
  {
   "cell_type": "code",
   "execution_count": 15,
   "metadata": {},
   "outputs": [],
   "source": [
    "model_prob_hist['cmt_prb_cumsum'] = model_prob_hist.cmt_prb_hist.cumsum()\n",
    "model_prob_hist['stl_prb_cumsum'] = model_prob_hist.stl_prb_hist.cumsum()\n",
    "model_prob_hist['cmt_knwn_prb_cumsum'] = model_prob_hist.cmt_knwn_prb_hist.cumsum()\n",
    "model_prob_hist['stl_knwn_prb_cumsum'] = model_prob_hist.stl_knwn_prb_hist.cumsum()"
   ]
  },
  {
   "cell_type": "markdown",
   "metadata": {},
   "source": [
    "## Plot histograms"
   ]
  },
  {
   "cell_type": "markdown",
   "metadata": {},
   "source": [
    "### Cement"
   ]
  },
  {
   "cell_type": "code",
   "execution_count": 16,
   "metadata": {},
   "outputs": [
    {
     "data": {
      "image/png": "[encoded data removed]",
      "text/plain": [
       "<Figure size 432x288 with 2 Axes>"
      ]
     },
     "metadata": {
      "needs_background": "light"
     },
     "output_type": "display_data"
    }
   ],
   "source": [
    "fig, (ax1, ax2) = plt.subplots(2, sharey=False)\n",
    "\n",
    "ax1.bar(x=model_prob_hist.bin_left_edge,\n",
    "        height=model_prob_hist.cmt_prb_hist,\n",
    "        align='edge',\n",
    "        width=0.01,\n",
    "        label='All Chips')\n",
    "ax1.set(title='Cement Model Probability Distribution', ylabel='Count')\n",
    "ax1.legend()\n",
    "\n",
    "ax2.bar(x=model_prob_hist.bin_left_edge,\n",
    "        height=model_prob_hist.cmt_knwn_prb_hist,\n",
    "        align='edge',\n",
    "        width=0.01,\n",
    "        color='tab:orange',\n",
    "        label='Chips Intersecting Known Plants')\n",
    "ax2.set(ylabel='Count', xlabel='Model Probability')\n",
    "ax2.legend()\n",
    "\n",
    "fig.savefig(cmt_hist_png)\n",
    "plt.show()"
   ]
  },
  {
   "cell_type": "code",
   "execution_count": 17,
   "metadata": {},
   "outputs": [
    {
     "data": {
      "image/png": "[encoded data removed]",
      "text/plain": [
       "<Figure size 432x288 with 2 Axes>"
      ]
     },
     "metadata": {
      "needs_background": "light"
     },
     "output_type": "display_data"
    }
   ],
   "source": [
    "fig, (ax1, ax2) = plt.subplots(2, sharey=False)\n",
    "\n",
    "ax1.bar(x=model_prob_hist.bin_left_edge,\n",
    "        height=model_prob_hist.cmt_prb_cumsum,\n",
    "        align='edge',\n",
    "        width=0.01,\n",
    "        label='All Chips')\n",
    "ax1.set(title='Cement Model Probability Cumulative Distribution', \n",
    "        ylabel='Cumulative Count')\n",
    "ax1.legend()\n",
    "\n",
    "ax2.bar(x=model_prob_hist.bin_left_edge,\n",
    "        height=model_prob_hist.cmt_knwn_prb_cumsum,\n",
    "        align='edge',\n",
    "        width=0.01,\n",
    "        color='tab:orange',\n",
    "        label='Chips Intersecting Known Plants')\n",
    "ax2.set(ylabel='Cumulative Count', xlabel='Model Probability')\n",
    "ax2.legend()\n",
    "\n",
    "fig.savefig(cmt_cum_hist_png)\n",
    "plt.show()"
   ]
  },
  {
   "cell_type": "code",
   "execution_count": 18,
   "metadata": {},
   "outputs": [
    {
     "name": "stdout",
     "output_type": "stream",
     "text": [
      "Cement probability threshold to grab top 1000: 0.89\n"
     ]
    }
   ],
   "source": [
    "cmt_thr1000 = model_prob_hist.loc[(model_prob_hist.cmt_prb_cumsum - \n",
    "                            (model_prob_hist.cmt_prb_cumsum.max()-1000)).abs().idxmin()]\n",
    "print('Cement probability threshold to grab top 1000:', cmt_thr1000.bin_left_edge)"
   ]
  },
  {
   "cell_type": "code",
   "execution_count": 46,
   "metadata": {},
   "outputs": [],
   "source": [
    "cmt_thresh = 0.58\n",
    "cmt_recall = (sum(model_prob_hist.cmt_knwn_prb_hist) - \\\n",
    "                 model_prob_hist.loc[np.round(model_prob_hist.bin_left_edge,2) == cmt_thresh].cmt_knwn_prb_cumsum) / \\\n",
    "                 sum(model_prob_hist.cmt_knwn_prb_hist)\n",
    "cmt_chp_cnt = (sum(model_prob_hist.cmt_prb_hist) - \\\n",
    "                 model_prob_hist.loc[np.round(model_prob_hist.bin_left_edge,2) == cmt_thresh].cmt_prb_cumsum)"
   ]
  },
  {
   "cell_type": "code",
   "execution_count": 47,
   "metadata": {},
   "outputs": [
    {
     "name": "stdout",
     "output_type": "stream",
     "text": [
      "Actual Cement Recall on Deployment:  0.7641304347826087\n",
      "Count of Chips with Score >  0.58 :  20087\n",
      "Number of cement plants in deployment region:  920\n"
     ]
    }
   ],
   "source": [
    "print('Actual Cement Recall on Deployment: ', cmt_recall.tolist()[0])\n",
    "print('Count of Chips with Score > ', cmt_thresh, ': ', cmt_chp_cnt.tolist()[0])\n",
    "print('Number of cement plants in deployment region: ', sum(model_prob_hist.cmt_knwn_prb_hist))"
   ]
  },
  {
   "cell_type": "markdown",
   "metadata": {},
   "source": [
    "### Steel"
   ]
  },
  {
   "cell_type": "code",
   "execution_count": 37,
   "metadata": {},
   "outputs": [
    {
     "data": {
      "image/png": "[encoded data removed]",
      "text/plain": [
       "<Figure size 432x288 with 2 Axes>"
      ]
     },
     "metadata": {
      "needs_background": "light"
     },
     "output_type": "display_data"
    }
   ],
   "source": [
    "fig, (ax1, ax2) = plt.subplots(2, sharey=False)\n",
    "\n",
    "ax1.bar(x=model_prob_hist.bin_left_edge,\n",
    "        height=model_prob_hist.stl_prb_hist,\n",
    "        align='edge',\n",
    "        width=0.01,\n",
    "        label='All Chips')\n",
    "ax1.set(title='Steel Model Probability Distribution', ylabel='Count')\n",
    "ax1.legend()\n",
    "\n",
    "ax2.bar(x=model_prob_hist.bin_left_edge,\n",
    "        height=model_prob_hist.stl_knwn_prb_hist,\n",
    "        align='edge',\n",
    "        width=0.01,\n",
    "        color='tab:orange',\n",
    "        label='Chips Intersecting Known Plants')\n",
    "ax2.set(ylabel='Count', xlabel='Model Probability')\n",
    "ax2.legend()\n",
    "\n",
    "fig.savefig(stl_hist_png)\n",
    "plt.show()"
   ]
  },
  {
   "cell_type": "code",
   "execution_count": 38,
   "metadata": {},
   "outputs": [
    {
     "data": {
      "image/png": "[encoded data removed]",
      "text/plain": [
       "<Figure size 432x288 with 2 Axes>"
      ]
     },
     "metadata": {
      "needs_background": "light"
     },
     "output_type": "display_data"
    }
   ],
   "source": [
    "fig, (ax1, ax2) = plt.subplots(2, sharey=False)\n",
    "\n",
    "ax1.bar(x=model_prob_hist.bin_left_edge,\n",
    "        height=model_prob_hist.stl_prb_cumsum,\n",
    "        align='edge',\n",
    "        width=0.01,\n",
    "        label='All Chips')\n",
    "ax1.set(title='Steel Model Probability Cumulative Distribution', \n",
    "        ylabel='Cumulative Count')\n",
    "ax1.legend()\n",
    "\n",
    "ax2.bar(x=model_prob_hist.bin_left_edge,\n",
    "        height=model_prob_hist.stl_knwn_prb_cumsum,\n",
    "        align='edge',\n",
    "        width=0.01,\n",
    "        color='tab:orange',\n",
    "        label='Chips Intersecting Known Plants')\n",
    "ax2.set(ylabel='Cumulative Count', xlabel='Model Probability')\n",
    "ax2.legend()\n",
    "\n",
    "fig.savefig(stl_cum_hist_png)\n",
    "plt.show()"
   ]
  },
  {
   "cell_type": "code",
   "execution_count": 39,
   "metadata": {},
   "outputs": [
    {
     "name": "stdout",
     "output_type": "stream",
     "text": [
      "Steel probability threshold to grab top 1000: 0.99\n"
     ]
    }
   ],
   "source": [
    "stl_thr1000 = model_prob_hist.loc[(model_prob_hist.stl_prb_cumsum - \n",
    "                            (model_prob_hist.stl_prb_cumsum.max()-1000)).abs().idxmin()]\n",
    "print('Steel probability threshold to grab top 1000:', stl_thr1000.bin_left_edge)"
   ]
  },
  {
   "cell_type": "code",
   "execution_count": 44,
   "metadata": {},
   "outputs": [],
   "source": [
    "stl_thresh = 0.95\n",
    "stl_recall = (sum(model_prob_hist.stl_knwn_prb_hist) - \\\n",
    "                 model_prob_hist.loc[np.round(model_prob_hist.bin_left_edge,2) == stl_thresh].stl_knwn_prb_cumsum) / \\\n",
    "                 sum(model_prob_hist.stl_knwn_prb_hist)\n",
    "stl_chp_cnt = (sum(model_prob_hist.stl_prb_hist) - \\\n",
    "                 model_prob_hist.loc[np.round(model_prob_hist.bin_left_edge,2) == stl_thresh].stl_prb_cumsum)"
   ]
  },
  {
   "cell_type": "code",
   "execution_count": 45,
   "metadata": {},
   "outputs": [
    {
     "name": "stdout",
     "output_type": "stream",
     "text": [
      "Steel Recall on Deployment:  0.5730994152046783\n",
      "Count of Chips with Score >  0.95 :  8395\n",
      "Number of steel plants in deployment region:  171\n"
     ]
    }
   ],
   "source": [
    "print('Steel Recall on Deployment: ', stl_recall.tolist()[0])\n",
    "print('Count of Chips with Score > ', stl_thresh, ': ', stl_chp_cnt.tolist()[0])\n",
    "print('Number of steel plants in deployment region: ', sum(model_prob_hist.stl_knwn_prb_hist))"
   ]
  },
  {
   "cell_type": "code",
   "execution_count": null,
   "metadata": {},
   "outputs": [],
   "source": []
  }
 ],
 "metadata": {
  "kernelspec": {
   "display_name": "EarthAI Environment",
   "language": "python",
   "name": "python3"
  },
  "language_info": {
   "codemirror_mode": {
    "name": "ipython",
    "version": 3
   },
   "file_extension": ".py",
   "mimetype": "text/x-python",
   "name": "python",
   "nbconvert_exporter": "python",
   "pygments_lexer": "ipython3",
   "version": "3.7.9"
  }
 },
 "nbformat": 4,
 "nbformat_minor": 4
}
