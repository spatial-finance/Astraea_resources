{
 "cells": [
  {
   "cell_type": "markdown",
   "metadata": {},
   "source": [
    "# Select Sentinel-2 Scenes covering 10km Grid for defining chip centers\n",
    "\n",
    "This notebook creates a list of Sentinel-2 scenes to use for deploying the model.\n",
    "\n",
    "* Uses 10km Grid output from the infrastructure density model\n",
    "* Finds Sentinel-2 scenes in to cover the deployment region"
   ]
  },
  {
   "cell_type": "markdown",
   "metadata": {},
   "source": [
    "## Import required libraries"
   ]
  },
  {
   "cell_type": "code",
   "execution_count": 1,
   "metadata": {},
   "outputs": [
    {
     "name": "stdout",
     "output_type": "stream",
     "text": [
      "\n",
      "Importing EarthAI libraries.\n",
      "EarthAI version 1.6.0; RasterFrames version 0.9.0; PySpark version 2.4.7\n",
      "\n"
     ]
    }
   ],
   "source": [
    "from earthai.all import *\n",
    "import earthai.chipping.strategy as chp\n",
    "import pyspark.sql.functions as F\n",
    "import geopandas as gpd\n",
    "import pandas as pd\n",
    "import os\n",
    "\n",
    "import shapely.wkt\n",
    "from shapely.geometry.multipolygon import MultiPolygon\n",
    "from shapely.geometry.polygon import Polygon"
   ]
  },
  {
   "cell_type": "markdown",
   "metadata": {},
   "source": [
    "## Define input and output files and parameters\n",
    "\n",
    "### Input files\n",
    "\n",
    "* `macro10km_cement_shp` is a shapefile specifying the 10km grid from the infrastructure density model for cement\n",
    "* `macro10km_steel_shp` is a shapefile specifying the 10km grid from the infrastructure density model for cement"
   ]
  },
  {
   "cell_type": "code",
   "execution_count": 2,
   "metadata": {},
   "outputs": [],
   "source": [
    "macro10km_cement_shp = '../../resources/nt-model/10km_CS_revised/macroloc_cement_CHN_10_correct1.shp'\n",
    "macro10km_steel_shp = '../../resources/nt-model/10km_CS_revised/macroloc_steel_CHN_10_correct1.shp'"
   ]
  },
  {
   "cell_type": "markdown",
   "metadata": {},
   "source": [
    "### Parameters\n",
    "\n",
    "* `chip_size` is the size of chips (length) to create (in pixels)"
   ]
  },
  {
   "cell_type": "code",
   "execution_count": 3,
   "metadata": {},
   "outputs": [],
   "source": [
    "chip_size = 300 # 3 km for Sentinel-2"
   ]
  },
  {
   "cell_type": "markdown",
   "metadata": {},
   "source": [
    "### Output files and paths\n",
    "\n",
    "* `output_path` defines directory to write data to\n",
    "* `deployment_gjson` is output GeoJSON of the deployment region\n",
    "* `grid_gjson` is output GeoJSON of the 10-km grid region\n",
    "* `s2_scene_gjson` is an output GeoJSON file with Sentinel-2 scene extents"
   ]
  },
  {
   "cell_type": "code",
   "execution_count": 4,
   "metadata": {},
   "outputs": [],
   "source": [
    "output_path = '../../resources/macro-loc-model-deployment4/'\n",
    "deployment_gjson = 'S2-deployment-region-CHN-10km-nowater.geojson'\n",
    "grid_gjson = 'S2-deployment-grid-CHN-10km-nowater.geojson'\n",
    "s2_scene_gjson = 'S2-deployment-scene-extents-CHN-10km-nowater.geojson'"
   ]
  },
  {
   "cell_type": "code",
   "execution_count": 5,
   "metadata": {},
   "outputs": [],
   "source": [
    "if not os.path.exists(output_path):\n",
    "    os.mkdir(output_path)"
   ]
  },
  {
   "cell_type": "markdown",
   "metadata": {},
   "source": [
    "## Load 10km grid from infrastructure density model\n",
    "\n",
    "* Add a buffer equivalent to about 1 chip size around the geometries to ensure chips are uniform and cover full region\n",
    "* Combine into a single mulipolygon by finding unary union\n",
    "* Write out deployment regions to GeoJSON"
   ]
  },
  {
   "cell_type": "markdown",
   "metadata": {},
   "source": [
    "### Load in 10km grids with no waterbodies"
   ]
  },
  {
   "cell_type": "markdown",
   "metadata": {},
   "source": [
    "#### Cement"
   ]
  },
  {
   "cell_type": "code",
   "execution_count": 6,
   "metadata": {},
   "outputs": [
    {
     "name": "stdout",
     "output_type": "stream",
     "text": [
      "Cement grid CRS:  epsg:4326\n",
      "Number of cement grid cells:  24258\n"
     ]
    }
   ],
   "source": [
    "macro10km_cement_gdf = gpd.read_file(macro10km_cement_shp)\n",
    "macro10km_cement_gdf = macro10km_cement_gdf[['index', 'preds', 'geometry']]\n",
    "macro10km_cement_gdf = macro10km_cement_gdf.rename(columns={'index': 'inds_id', \n",
    "                                                    'preds': 'inds_cmt_pred'})\n",
    "print(\"Cement grid CRS: \", macro10km_cement_gdf.crs)\n",
    "print(\"Number of cement grid cells: \", len(macro10km_cement_gdf))"
   ]
  },
  {
   "cell_type": "markdown",
   "metadata": {},
   "source": [
    "#### Steel"
   ]
  },
  {
   "cell_type": "code",
   "execution_count": 7,
   "metadata": {},
   "outputs": [
    {
     "name": "stdout",
     "output_type": "stream",
     "text": [
      "Number of steel grid cells:  24258\n"
     ]
    }
   ],
   "source": [
    "macro10km_steel_gdf = gpd.read_file(macro10km_steel_shp)\n",
    "macro10km_steel_gdf = macro10km_steel_gdf[['index', 'preds']]\n",
    "macro10km_steel_gdf = macro10km_steel_gdf.rename(columns={'index': 'inds_id', \n",
    "                                                  'preds': 'inds_stl_pred'})\n",
    "print(\"Number of steel grid cells: \", len(macro10km_steel_gdf))"
   ]
  },
  {
   "cell_type": "markdown",
   "metadata": {},
   "source": [
    "#### Join cement and steel"
   ]
  },
  {
   "cell_type": "code",
   "execution_count": 8,
   "metadata": {},
   "outputs": [],
   "source": [
    "macro_10km_gdf = pd.merge(macro10km_cement_gdf, macro10km_steel_gdf,\n",
    "                         how='inner', on='inds_id')"
   ]
  },
  {
   "cell_type": "raw",
   "metadata": {},
   "source": [
    "# FOR TESTING ONLY - LIMIT NUMBER OF CELLS\n",
    "macro_10km_gdf = macro_10km_gdf.head(100)\n",
    "print(\"CRS: \", macro_10km_gdf.crs)\n",
    "print(\"Number of grid cells in 10km CS Macro: \", len(macro_10km_gdf))\n",
    "macro_10km_gdf.plot()"
   ]
  },
  {
   "cell_type": "markdown",
   "metadata": {},
   "source": [
    "#### Write out merged 10km grid"
   ]
  },
  {
   "cell_type": "code",
   "execution_count": 9,
   "metadata": {},
   "outputs": [],
   "source": [
    "macro_10km_gdf.to_file(output_path+grid_gjson, driver='GeoJSON')"
   ]
  },
  {
   "cell_type": "markdown",
   "metadata": {},
   "source": [
    "### Add small buffer to geometries in grid\n",
    "\n",
    "*Note: 1 arcsec = 0.00028 deg ~ 30m at the equator.*"
   ]
  },
  {
   "cell_type": "raw",
   "metadata": {},
   "source": [
    "macro_10km_gdf = gpd.GeoDataFrame(macro_10km_gdf[['inds_id','inds_cmt_pred','inds_stl_pred']],\n",
    "                                  geometry = macro_10km_gdf.buffer(0.00028*chip_size/3),\n",
    "                                  crs='EPSG:4326')"
   ]
  },
  {
   "cell_type": "markdown",
   "metadata": {},
   "source": [
    "### Union to create simplier DataFrame of deployment region"
   ]
  },
  {
   "cell_type": "code",
   "execution_count": 10,
   "metadata": {},
   "outputs": [],
   "source": [
    "macro_10km_union = macro_10km_gdf.unary_union\n",
    "macro_10km_union = [MultiPolygon([x]) if (x.type == 'Polygon') else x for x in macro_10km_union]\n",
    "reg_cnt = len(macro_10km_union)\n",
    "reg_ind = [str(ind).zfill(len(str(reg_cnt))) for ind in list(range(1, reg_cnt+1))]\n",
    "macro_deployment_gdf = gpd.GeoDataFrame({'reg_id': reg_ind,\n",
    "                                         'geometry': gpd.GeoSeries(macro_10km_union)},\n",
    "                                        geometry='geometry',\n",
    "                                        crs='EPSG:4326')"
   ]
  },
  {
   "cell_type": "markdown",
   "metadata": {},
   "source": [
    "### Write out deployment region"
   ]
  },
  {
   "cell_type": "code",
   "execution_count": 11,
   "metadata": {},
   "outputs": [],
   "source": [
    "macro_deployment_gdf.to_file(output_path+deployment_gjson, driver='GeoJSON')"
   ]
  },
  {
   "cell_type": "markdown",
   "metadata": {},
   "source": [
    "## Get catalog of Sentinel-2 scenes that intersect with grid cells\n",
    "\n",
    "* Queries EarthAI Catalog to find S2 scenes that intersect with grid cells\n",
    "* Returns all scenes for June in 2020 (successfully finds coverage for full deployment region)"
   ]
  },
  {
   "cell_type": "code",
   "execution_count": 12,
   "metadata": {},
   "outputs": [],
   "source": [
    "row_cnt = len(macro_10km_gdf)\n",
    "start_index = list(range(0, row_cnt+1, 2000))\n",
    "end_index = list(range(2000, row_cnt+2000, 2000))\n",
    "end_index[-1] = row_cnt+1\n",
    "site_cat_list = []"
   ]
  },
  {
   "cell_type": "code",
   "execution_count": 13,
   "metadata": {},
   "outputs": [
    {
     "data": {
      "application/vnd.jupyter.widget-view+json": {
       "model_id": "c1388406f1c4424da7cef5b74504275e",
       "version_major": 2,
       "version_minor": 0
      },
      "text/plain": [
       "HBox(children=(FloatProgress(value=0.0, max=2788.0), HTML(value='')))"
      ]
     },
     "metadata": {},
     "output_type": "display_data"
    },
    {
     "name": "stdout",
     "output_type": "stream",
     "text": [
      "\n",
      "Done loading catalog for rows  0  through  1999\n"
     ]
    },
    {
     "data": {
      "application/vnd.jupyter.widget-view+json": {
       "model_id": "6ab1f8095a5a4d56ade6a90e44d8d852",
       "version_major": 2,
       "version_minor": 0
      },
      "text/plain": [
       "HBox(children=(FloatProgress(value=0.0, max=2243.0), HTML(value='')))"
      ]
     },
     "metadata": {},
     "output_type": "display_data"
    },
    {
     "name": "stdout",
     "output_type": "stream",
     "text": [
      "\n",
      "Done loading catalog for rows  2000  through  3999\n"
     ]
    },
    {
     "data": {
      "application/vnd.jupyter.widget-view+json": {
       "model_id": "01f2f3d6fffa4c3789f731642c1e3942",
       "version_major": 2,
       "version_minor": 0
      },
      "text/plain": [
       "HBox(children=(FloatProgress(value=0.0, max=1134.0), HTML(value='')))"
      ]
     },
     "metadata": {},
     "output_type": "display_data"
    },
    {
     "name": "stdout",
     "output_type": "stream",
     "text": [
      "\n",
      "Done loading catalog for rows  4000  through  5999\n"
     ]
    },
    {
     "data": {
      "application/vnd.jupyter.widget-view+json": {
       "model_id": "01b36fa940c44aa294dd21aa8614575d",
       "version_major": 2,
       "version_minor": 0
      },
      "text/plain": [
       "HBox(children=(FloatProgress(value=0.0, max=893.0), HTML(value='')))"
      ]
     },
     "metadata": {},
     "output_type": "display_data"
    },
    {
     "name": "stdout",
     "output_type": "stream",
     "text": [
      "\n",
      "Done loading catalog for rows  6000  through  7999\n"
     ]
    },
    {
     "data": {
      "application/vnd.jupyter.widget-view+json": {
       "model_id": "a7d5838f91294cfda81c82d644ed9c21",
       "version_major": 2,
       "version_minor": 0
      },
      "text/plain": [
       "HBox(children=(FloatProgress(value=0.0, max=1211.0), HTML(value='')))"
      ]
     },
     "metadata": {},
     "output_type": "display_data"
    },
    {
     "name": "stdout",
     "output_type": "stream",
     "text": [
      "\n",
      "Done loading catalog for rows  8000  through  9999\n"
     ]
    },
    {
     "data": {
      "application/vnd.jupyter.widget-view+json": {
       "model_id": "28f32083d34f4afc96bb076be0d639f8",
       "version_major": 2,
       "version_minor": 0
      },
      "text/plain": [
       "HBox(children=(FloatProgress(value=0.0, max=899.0), HTML(value='')))"
      ]
     },
     "metadata": {},
     "output_type": "display_data"
    },
    {
     "name": "stdout",
     "output_type": "stream",
     "text": [
      "\n",
      "Done loading catalog for rows  10000  through  11999\n"
     ]
    },
    {
     "data": {
      "application/vnd.jupyter.widget-view+json": {
       "model_id": "7bef0f76c14c403ba63eb55c0730c751",
       "version_major": 2,
       "version_minor": 0
      },
      "text/plain": [
       "HBox(children=(FloatProgress(value=0.0, max=891.0), HTML(value='')))"
      ]
     },
     "metadata": {},
     "output_type": "display_data"
    },
    {
     "name": "stdout",
     "output_type": "stream",
     "text": [
      "\n",
      "Done loading catalog for rows  12000  through  13999\n"
     ]
    },
    {
     "data": {
      "application/vnd.jupyter.widget-view+json": {
       "model_id": "be9599c27cc5404488ffb48df75038a6",
       "version_major": 2,
       "version_minor": 0
      },
      "text/plain": [
       "HBox(children=(FloatProgress(value=0.0, max=1021.0), HTML(value='')))"
      ]
     },
     "metadata": {},
     "output_type": "display_data"
    },
    {
     "name": "stdout",
     "output_type": "stream",
     "text": [
      "\n",
      "Done loading catalog for rows  14000  through  15999\n"
     ]
    },
    {
     "data": {
      "application/vnd.jupyter.widget-view+json": {
       "model_id": "00dc8e1eef5045afae6a8b731ab84198",
       "version_major": 2,
       "version_minor": 0
      },
      "text/plain": [
       "HBox(children=(FloatProgress(value=0.0, max=872.0), HTML(value='')))"
      ]
     },
     "metadata": {},
     "output_type": "display_data"
    },
    {
     "name": "stdout",
     "output_type": "stream",
     "text": [
      "\n",
      "Done loading catalog for rows  16000  through  17999\n"
     ]
    },
    {
     "data": {
      "application/vnd.jupyter.widget-view+json": {
       "model_id": "44409e18c2914f5ab3b3eb902b57c8f9",
       "version_major": 2,
       "version_minor": 0
      },
      "text/plain": [
       "HBox(children=(FloatProgress(value=0.0, max=978.0), HTML(value='')))"
      ]
     },
     "metadata": {},
     "output_type": "display_data"
    },
    {
     "name": "stdout",
     "output_type": "stream",
     "text": [
      "\n",
      "Done loading catalog for rows  18000  through  19999\n"
     ]
    },
    {
     "data": {
      "application/vnd.jupyter.widget-view+json": {
       "model_id": "d064aa2a0b8b46959b4f0d035c819f45",
       "version_major": 2,
       "version_minor": 0
      },
      "text/plain": [
       "HBox(children=(FloatProgress(value=0.0, max=1393.0), HTML(value='')))"
      ]
     },
     "metadata": {},
     "output_type": "display_data"
    },
    {
     "name": "stdout",
     "output_type": "stream",
     "text": [
      "\n",
      "Done loading catalog for rows  20000  through  21999\n"
     ]
    },
    {
     "data": {
      "application/vnd.jupyter.widget-view+json": {
       "model_id": "fd512373b522429f82c58a6b4729fd3b",
       "version_major": 2,
       "version_minor": 0
      },
      "text/plain": [
       "HBox(children=(FloatProgress(value=0.0, max=1281.0), HTML(value='')))"
      ]
     },
     "metadata": {},
     "output_type": "display_data"
    },
    {
     "name": "stdout",
     "output_type": "stream",
     "text": [
      "\n",
      "Done loading catalog for rows  22000  through  23999\n"
     ]
    },
    {
     "data": {
      "application/vnd.jupyter.widget-view+json": {
       "model_id": "21ee6eb3f6324fd8a79139c578918792",
       "version_major": 2,
       "version_minor": 0
      },
      "text/plain": [
       "HBox(children=(FloatProgress(value=0.0, max=227.0), HTML(value='')))"
      ]
     },
     "metadata": {},
     "output_type": "display_data"
    },
    {
     "name": "stdout",
     "output_type": "stream",
     "text": [
      "\n",
      "Done loading catalog for rows  24000  through  24258\n"
     ]
    }
   ],
   "source": [
    "for si, ei in zip(start_index, end_index):\n",
    "    cat = earth_ondemand.read_catalog(\n",
    "        geo=macro_10km_gdf[si:ei],\n",
    "        start_datetime='2020-06-01', \n",
    "        end_datetime='2020-06-30',\n",
    "        max_cloud_cover=100,\n",
    "        collections='sentinel2_l2a'\n",
    "    )\n",
    "    site_cat_list.append(cat)\n",
    "    print('Done loading catalog for rows ', si, ' through ', ei-1)"
   ]
  },
  {
   "cell_type": "code",
   "execution_count": 14,
   "metadata": {},
   "outputs": [],
   "source": [
    "site_cat = pd.concat(site_cat_list, axis=0, join='outer', ignore_index=True) \\\n",
    "             .drop_duplicates(subset='id', ignore_index=True)\n",
    "site_cat = site_cat.sort_values('datetime') \\\n",
    "                   .groupby('eod_grid_id') \\\n",
    "                   .first() \\\n",
    "                   .reset_index()"
   ]
  },
  {
   "cell_type": "markdown",
   "metadata": {},
   "source": [
    "### Print counts of interest"
   ]
  },
  {
   "cell_type": "code",
   "execution_count": 15,
   "metadata": {},
   "outputs": [
    {
     "name": "stdout",
     "output_type": "stream",
     "text": [
      "Number of Geometries in deployment region:  2014\n",
      "Number of Sentinel-2 scenes in deployment regions:  1099\n"
     ]
    }
   ],
   "source": [
    "s2_scene_cnt = site_cat.eod_grid_id.nunique()\n",
    "print('Number of Geometries in deployment region: ', reg_cnt)\n",
    "print('Number of Sentinel-2 scenes in deployment regions: ', s2_scene_cnt)"
   ]
  },
  {
   "cell_type": "markdown",
   "metadata": {},
   "source": [
    "## Write out scene extents to GeoJSON"
   ]
  },
  {
   "cell_type": "code",
   "execution_count": 16,
   "metadata": {},
   "outputs": [],
   "source": [
    "scene_geom_pdf = site_cat[['eod_grid_id', 'eod_epsg4326_geometry_simplified']]"
   ]
  },
  {
   "cell_type": "code",
   "execution_count": 17,
   "metadata": {},
   "outputs": [],
   "source": [
    "scene_geom_gdf = gpd.GeoDataFrame({'grid_id': scene_geom_pdf.eod_grid_id,\n",
    "                                   'grid_extent': scene_geom_pdf.eod_epsg4326_geometry_simplified},\n",
    "                                  geometry='grid_extent',\n",
    "                                  crs='EPSG:4326')"
   ]
  },
  {
   "cell_type": "code",
   "execution_count": 18,
   "metadata": {},
   "outputs": [],
   "source": [
    "scene_geom_gdf.to_file(output_path+s2_scene_gjson, driver='GeoJSON')"
   ]
  }
 ],
 "metadata": {
  "kernelspec": {
   "display_name": "EarthAI Environment",
   "language": "python",
   "name": "python3"
  },
  "language_info": {
   "codemirror_mode": {
    "name": "ipython",
    "version": 3
   },
   "file_extension": ".py",
   "mimetype": "text/x-python",
   "name": "python",
   "nbconvert_exporter": "python",
   "pygments_lexer": "ipython3",
   "version": "3.7.9"
  }
 },
 "nbformat": 4,
 "nbformat_minor": 4
}
