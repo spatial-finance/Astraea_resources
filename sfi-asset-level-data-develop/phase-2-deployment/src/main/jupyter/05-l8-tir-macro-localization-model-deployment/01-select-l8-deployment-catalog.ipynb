{
 "cells": [
  {
   "cell_type": "markdown",
   "metadata": {},
   "source": [
    "# Select Landsat 8 Scenes covering 10km Grid for defining chip centers\n",
    "\n",
    "This notebook creates a GeoJSON file defining the deployment regions for the Landsat 8 TIR macro-localization model, and a list of Landsat 8 scenes to use for defining the deployment grid in the following step.\n",
    "\n",
    "This addresses the issue that Landsat 8 scenes with the same grid id taken at different dates do not map to the exact same projected extents, which is required when combining these images in the 3-band dataset for deployment. This code thus defines a per-scene grid of tile centroids that we can use to create chips of the desired size, centered at the same lat/long.\n",
    "\n",
    "* Uses 10km Grid output from the proximity to infrastructure model\n",
    "* Finds Landsat scenes in to cover the deployment region"
   ]
  },
  {
   "cell_type": "markdown",
   "metadata": {},
   "source": [
    "## Import required libraries"
   ]
  },
  {
   "cell_type": "code",
   "execution_count": null,
   "metadata": {},
   "outputs": [],
   "source": [
    "from earthai.all import *\n",
    "import earthai.chipping.strategy as chp\n",
    "import pyspark.sql.functions as F\n",
    "import geopandas as gpd\n",
    "import pandas as pd\n",
    "import os"
   ]
  },
  {
   "cell_type": "markdown",
   "metadata": {},
   "source": [
    "## Define input and output files and parameters\n",
    "\n",
    "### Input files\n",
    "\n",
    "* `macro_10km_shp` is a shapefile specifying the 10km grid from the proximity to infrastructure model"
   ]
  },
  {
   "cell_type": "code",
   "execution_count": null,
   "metadata": {},
   "outputs": [],
   "source": [
    "macro_10km_shp = \"../../resources/nt-model/10km_CS_macro/macroloc_cement_steel_CHN_10.shp\""
   ]
  },
  {
   "cell_type": "markdown",
   "metadata": {},
   "source": [
    "### Parameters\n",
    "\n",
    "* `chip_size` is the size of chips (length) to create (in pixels)\n",
    "* `pred_thresh` is the prediction threshold for selecting deployment grid cells"
   ]
  },
  {
   "cell_type": "code",
   "execution_count": null,
   "metadata": {},
   "outputs": [],
   "source": [
    "chip_size = 35 # 1.05 km for Landsat 8\n",
    "pred_thresh = 0.002"
   ]
  },
  {
   "cell_type": "markdown",
   "metadata": {},
   "source": [
    "### Output files and paths\n",
    "\n",
    "* `output_path` defines directory to write data to\n",
    "* `deployment_gjson` is output GeoJSON of the deployment region\n",
    "* `catalog_csv` is a csv file of the catalog returned from EOD\n",
    "* `l8_scene_gjson` is an output GeoJSON file with Landsat-8 scene extents"
   ]
  },
  {
   "cell_type": "code",
   "execution_count": null,
   "metadata": {},
   "outputs": [],
   "source": [
    "output_path = '../../resources/macro-loc-model-deployment/'\n",
    "deployment_gjson = 'L8-deployment-region-CHN-10km-pthsh'+str(pred_thresh)+'.geojson'\n",
    "catalog_csv = 'L8-deployment-catalog-CHN-10km-pthsh'+str(pred_thresh)+'.csv'\n",
    "l8_scene_gjson = 'L8-deployment-scene-extents-CHN-10km-pthsh'+str(pred_thresh)+'.geojson'"
   ]
  },
  {
   "cell_type": "markdown",
   "metadata": {},
   "source": [
    "## Load 10km grid from proximity to infrastructure model\n",
    "\n",
    "* Filter by `pred_thresh`\n",
    "* Add a buffer equivalent to about 1 chip size around the geometries to ensure chips are uniform and cover full region\n",
    "* Combine into a single mulipolygon by finding unary union\n",
    "* Write out deployment regions to GeoJSON"
   ]
  },
  {
   "cell_type": "markdown",
   "metadata": {},
   "source": [
    "### Load in and filter 10km grid by `pred_thresh`"
   ]
  },
  {
   "cell_type": "code",
   "execution_count": null,
   "metadata": {},
   "outputs": [],
   "source": [
    "macro_10km_gdf = gpd.read_file(macro_10km_shp)\n",
    "macro_10km_gdf = macro_10km_gdf[macro_10km_gdf.preds >= pred_thresh]\n",
    "print(\"CRS: \", macro_10km_gdf.crs)\n",
    "print(\"Number of grid cells in 10km CS Macro: \", len(macro_10km_gdf))\n",
    "macro_10km_gdf.plot()"
   ]
  },
  {
   "cell_type": "raw",
   "metadata": {},
   "source": [
    "# FOR TESTING ONLY - LIMIT NUMBER OF CELLS\n",
    "macro_10km_gdf = macro_10km_gdf.head(100)\n",
    "print(\"CRS: \", macro_10km_gdf.crs)\n",
    "print(\"Number of grid cells in 10km CS Macro: \", len(macro_10km_gdf))\n",
    "macro_10km_gdf.plot()"
   ]
  },
  {
   "cell_type": "markdown",
   "metadata": {},
   "source": [
    "### Add small buffer to geometries in grid\n",
    "\n",
    "*Note: 1 arcsec = 0.00028 deg ~ 30m at the equator.*"
   ]
  },
  {
   "cell_type": "code",
   "execution_count": null,
   "metadata": {},
   "outputs": [],
   "source": [
    "macro_10km_gdf = gpd.GeoDataFrame({'index': macro_10km_gdf.index,\n",
    "                                   'geometry': macro_10km_gdf.buffer(0.00028*chip_size)},\n",
    "                                   geometry='geometry',\n",
    "                                   crs='EPSG:4326')"
   ]
  },
  {
   "cell_type": "markdown",
   "metadata": {},
   "source": [
    "### Union to create simplier DataFrame of deployment region"
   ]
  },
  {
   "cell_type": "code",
   "execution_count": null,
   "metadata": {},
   "outputs": [],
   "source": [
    "macro_10km_union = macro_10km_gdf.unary_union\n",
    "reg_cnt = len(macro_10km_union)\n",
    "reg_ind = [str(ind).zfill(len(str(reg_cnt))) for ind in list(range(1, reg_cnt+1))]\n",
    "macro_deployment_gdf = gpd.GeoDataFrame({'index': reg_ind,\n",
    "                                         'geometry': macro_10km_union},\n",
    "                                        geometry='geometry',\n",
    "                                        crs='EPSG:4326')"
   ]
  },
  {
   "cell_type": "markdown",
   "metadata": {},
   "source": [
    "### Write out deployment region vector file"
   ]
  },
  {
   "cell_type": "code",
   "execution_count": null,
   "metadata": {},
   "outputs": [],
   "source": [
    "macro_deployment_gdf.to_file(output_path+deployment_gjson, driver='GeoJSON')"
   ]
  },
  {
   "cell_type": "markdown",
   "metadata": {},
   "source": [
    "## Get catalog of Landsat 8 scenes that intersect with grid cells\n",
    "\n",
    "* Queries EarthAI Catalog to find L8 scenes that intersect with grid cells\n",
    "* Returns all scenes for April-June in 2020 (successfully finds coverage for full deployment region)\n",
    "* Join back to grid cells for chipping\n",
    "\n",
    "*Note: work around for the 500 server error that I get with reading in the full regions*"
   ]
  },
  {
   "cell_type": "code",
   "execution_count": null,
   "metadata": {},
   "outputs": [],
   "source": [
    "row_cnt = len(macro_10km_gdf)\n",
    "start_index = list(range(0, row_cnt+1, 2000))\n",
    "end_index = list(range(2000, row_cnt+2000, 2000))\n",
    "end_index[-1] = row_cnt+1\n",
    "site_cat_list = []"
   ]
  },
  {
   "cell_type": "code",
   "execution_count": null,
   "metadata": {},
   "outputs": [],
   "source": [
    "for si, ei in zip(start_index, end_index):\n",
    "    cat = earth_ondemand.read_catalog(\n",
    "        geo=macro_10km_gdf[si:ei],\n",
    "        start_datetime='2020-04-01', \n",
    "        end_datetime='2020-06-30',\n",
    "        max_cloud_cover=100,\n",
    "        collections='landsat8_l1tp'\n",
    "    )\n",
    "    site_cat_list.append(cat)\n",
    "    print('Done loading catalog for rows ', si, ' through ', ei-1)"
   ]
  },
  {
   "cell_type": "code",
   "execution_count": null,
   "metadata": {},
   "outputs": [],
   "source": [
    "site_cat = pd.concat(site_cat_list, axis=0, join='outer', ignore_index=True) \\\n",
    "             .drop_duplicates(subset='id', ignore_index=True)\n",
    "site_cat['grp_grid'] = site_cat['eod_grid_id']\n",
    "site_cat = site_cat.sort_values('datetime') \\\n",
    "                   .groupby('grp_grid') \\\n",
    "                   .first() \\\n",
    "                   .reset_index(drop=True)"
   ]
  },
  {
   "cell_type": "markdown",
   "metadata": {},
   "source": [
    "### Write out catalog as csv"
   ]
  },
  {
   "cell_type": "code",
   "execution_count": null,
   "metadata": {},
   "outputs": [],
   "source": [
    "site_cat.to_csv(output_path+catalog_csv, index=False)"
   ]
  },
  {
   "cell_type": "markdown",
   "metadata": {},
   "source": [
    "### Print counts of interest"
   ]
  },
  {
   "cell_type": "code",
   "execution_count": null,
   "metadata": {},
   "outputs": [],
   "source": [
    "l8_scene_cnt = site_cat.eod_grid_id.nunique()\n",
    "print('Number of Geometries in deployment region: ', reg_cnt)\n",
    "print('Number of Landsat 8 scenes in deployment regions: ', l8_scene_cnt)"
   ]
  },
  {
   "cell_type": "markdown",
   "metadata": {},
   "source": [
    "## Write out scene extents to GeoJSON"
   ]
  },
  {
   "cell_type": "code",
   "execution_count": null,
   "metadata": {},
   "outputs": [],
   "source": [
    "scene_geom_pdf = site_cat[['eod_grid_id', 'eod_epsg4326_geometry_simplified']]"
   ]
  },
  {
   "cell_type": "code",
   "execution_count": null,
   "metadata": {},
   "outputs": [],
   "source": [
    "scene_geom_gdf = gpd.GeoDataFrame({'scene_id': scene_geom_pdf.eod_grid_id,\n",
    "                                   'scene_extent': scene_geom_pdf.eod_epsg4326_geometry_simplified},\n",
    "                                  geometry='scene_extent',\n",
    "                                  crs='EPSG:4326')"
   ]
  },
  {
   "cell_type": "code",
   "execution_count": null,
   "metadata": {},
   "outputs": [],
   "source": [
    "type(scene_geom_gdf)"
   ]
  },
  {
   "cell_type": "code",
   "execution_count": null,
   "metadata": {},
   "outputs": [],
   "source": [
    "scene_geom_gdf.to_file(output_path+l8_scene_gjson, driver='GeoJSON')"
   ]
  }
 ],
 "metadata": {
  "kernelspec": {
   "display_name": "EarthAI Environment",
   "language": "python",
   "name": "python3"
  },
  "language_info": {
   "codemirror_mode": {
    "name": "ipython",
    "version": 3
   },
   "file_extension": ".py",
   "mimetype": "text/x-python",
   "name": "python",
   "nbconvert_exporter": "python",
   "pygments_lexer": "ipython3",
   "version": "3.7.9"
  }
 },
 "nbformat": 4,
 "nbformat_minor": 4
}
