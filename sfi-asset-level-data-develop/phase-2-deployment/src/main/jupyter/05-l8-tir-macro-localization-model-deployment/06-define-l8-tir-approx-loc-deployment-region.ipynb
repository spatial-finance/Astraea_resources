{
 "cells": [
  {
   "cell_type": "markdown",
   "metadata": {},
   "source": [
    "# Define Additional Deployment Region Centered on Approximate Plant Locations\n",
    "\n",
    "There are a number of plants with approximate locations. Define deployment regions centered around these plants."
   ]
  },
  {
   "cell_type": "markdown",
   "metadata": {},
   "source": [
    "## Import Libraries"
   ]
  },
  {
   "cell_type": "code",
   "execution_count": null,
   "metadata": {},
   "outputs": [],
   "source": [
    "import os\n",
    "import pandas as pd\n",
    "import geopandas as gpd"
   ]
  },
  {
   "cell_type": "markdown",
   "metadata": {},
   "source": [
    "## Define input and output files\n",
    "\n",
    "* Input: Cement and steel plants (v4.1) with approximate locations in China (csv)\n",
    "* Output: Polygons centered on approximate locations for cement and steel plants for use in model deployment"
   ]
  },
  {
   "cell_type": "code",
   "execution_count": null,
   "metadata": {},
   "outputs": [],
   "source": [
    "cement_input_csv = '../../resources/asset-subsets-v4p1/cement_approximate_china_v4.1.csv'\n",
    "steel_input_csv = '../../resources/asset-subsets-v4p1/steel_approximate_china_v4.1.csv'"
   ]
  },
  {
   "cell_type": "code",
   "execution_count": null,
   "metadata": {},
   "outputs": [],
   "source": [
    "cement_output_gjson = \"../../resources/macro-loc-model-deployment/cement_approximate_china_v4.1.geojson\"\n",
    "steel_output_gjson = \"../../resources/macro-loc-model-deployment/steel_approximate_china_v4.1.geojson\""
   ]
  },
  {
   "cell_type": "markdown",
   "metadata": {},
   "source": [
    "## Define buffer sizes, and CRS for calculations\n",
    "\n",
    "* `buffer_size`: 0.5*length of square region centered on steel or cement approximate location\n",
    "* `calc_crs`: coordinate system in m to use for buffer calculations"
   ]
  },
  {
   "cell_type": "code",
   "execution_count": null,
   "metadata": {},
   "outputs": [],
   "source": [
    "buffer_size = 12500 # in m\n",
    "calc_crs = \"EPSG:3395\""
   ]
  },
  {
   "cell_type": "markdown",
   "metadata": {},
   "source": [
    "## Create cement plant geojson file"
   ]
  },
  {
   "cell_type": "code",
   "execution_count": null,
   "metadata": {},
   "outputs": [],
   "source": [
    "cement_df = pd.read_csv(cement_input_csv, index_col=False)"
   ]
  },
  {
   "cell_type": "markdown",
   "metadata": {},
   "source": [
    "### Statistics and quality checks"
   ]
  },
  {
   "cell_type": "code",
   "execution_count": null,
   "metadata": {},
   "outputs": [],
   "source": [
    "# Number of plants\n",
    "tot_cnt = len(cement_df)\n",
    "print(\"Count of cement plants: \", tot_cnt)\n",
    "\n",
    "# Number of plants with null positions\n",
    "null_cnt = sum(cement_df['latitude'].isnull())\n",
    "print(\"Count of cement plants will null position values: \", null_cnt)"
   ]
  },
  {
   "cell_type": "code",
   "execution_count": null,
   "metadata": {},
   "outputs": [],
   "source": [
    "# Limit to plants with approximate lat/long\n",
    "cement_df = cement_df[~cement_df['latitude'].isnull()]"
   ]
  },
  {
   "cell_type": "markdown",
   "metadata": {},
   "source": [
    "### Create GeoDataFrame (define geometry and crs)"
   ]
  },
  {
   "cell_type": "code",
   "execution_count": null,
   "metadata": {},
   "outputs": [],
   "source": [
    "cement_gdf = gpd.GeoDataFrame(cement_df.uid,\n",
    "                              geometry=gpd.points_from_xy(cement_df.longitude, \n",
    "                                                          cement_df.latitude),\n",
    "                              crs=\"EPSG:4326\")"
   ]
  },
  {
   "cell_type": "markdown",
   "metadata": {},
   "source": [
    "#### Convert to EPSG:3395 and create buffer"
   ]
  },
  {
   "cell_type": "code",
   "execution_count": null,
   "metadata": {},
   "outputs": [],
   "source": [
    "cement_gdf = cement_gdf.to_crs(calc_crs)"
   ]
  },
  {
   "cell_type": "code",
   "execution_count": null,
   "metadata": {},
   "outputs": [],
   "source": [
    "cement_gdf = gpd.GeoDataFrame(geometry=cement_gdf.buffer(buffer_size).envelope,\n",
    "                              crs=calc_crs)"
   ]
  },
  {
   "cell_type": "markdown",
   "metadata": {},
   "source": [
    "### Write GeoJson file"
   ]
  },
  {
   "cell_type": "code",
   "execution_count": null,
   "metadata": {},
   "outputs": [],
   "source": [
    "cement_gdf = cement_gdf.to_crs(\"EPSG:4326\")\n",
    "cement_gdf.to_file(cement_output_gjson, driver='GeoJSON')"
   ]
  },
  {
   "cell_type": "markdown",
   "metadata": {},
   "source": [
    "## Create steel plant geojson file"
   ]
  },
  {
   "cell_type": "code",
   "execution_count": null,
   "metadata": {},
   "outputs": [],
   "source": [
    "steel_df = pd.read_csv(steel_input_csv, index_col=False)"
   ]
  },
  {
   "cell_type": "markdown",
   "metadata": {},
   "source": [
    "### Statistics and quality checks"
   ]
  },
  {
   "cell_type": "code",
   "execution_count": null,
   "metadata": {},
   "outputs": [],
   "source": [
    "# Number of plants\n",
    "tot_cnt = len(steel_df)\n",
    "print(\"Count of steel plants: \", tot_cnt)\n",
    "\n",
    "# Number of plants with null positions\n",
    "null_cnt = sum(steel_df['latitude'].isnull())\n",
    "print(\"Count of steel plants will null position values: \", null_cnt)"
   ]
  },
  {
   "cell_type": "code",
   "execution_count": null,
   "metadata": {},
   "outputs": [],
   "source": [
    "# Limit to plants with approximate lat/long\n",
    "steel_df = steel_df[~steel_df['latitude'].isnull()]"
   ]
  },
  {
   "cell_type": "markdown",
   "metadata": {},
   "source": [
    "### Create GeoDataFrame (define geometry and crs)"
   ]
  },
  {
   "cell_type": "code",
   "execution_count": null,
   "metadata": {},
   "outputs": [],
   "source": [
    "steel_gdf = gpd.GeoDataFrame(steel_df.uid,\n",
    "                              geometry=gpd.points_from_xy(steel_df.longitude, \n",
    "                                                          steel_df.latitude),\n",
    "                              crs=\"EPSG:4326\")"
   ]
  },
  {
   "cell_type": "markdown",
   "metadata": {},
   "source": [
    "#### Convert to EPSG:3395 and create buffer"
   ]
  },
  {
   "cell_type": "code",
   "execution_count": null,
   "metadata": {},
   "outputs": [],
   "source": [
    "steel_gdf = steel_gdf.to_crs(calc_crs)"
   ]
  },
  {
   "cell_type": "code",
   "execution_count": null,
   "metadata": {},
   "outputs": [],
   "source": [
    "steel_gdf = gpd.GeoDataFrame(geometry=steel_gdf.buffer(buffer_size).envelope,\n",
    "                              crs=calc_crs)"
   ]
  },
  {
   "cell_type": "markdown",
   "metadata": {},
   "source": [
    "### Write GeoJson file"
   ]
  },
  {
   "cell_type": "code",
   "execution_count": null,
   "metadata": {},
   "outputs": [],
   "source": [
    "steel_gdf = steel_gdf.to_crs(\"EPSG:4326\")\n",
    "steel_gdf.to_file(steel_output_gjson, driver='GeoJSON')"
   ]
  },
  {
   "cell_type": "code",
   "execution_count": null,
   "metadata": {},
   "outputs": [],
   "source": []
  }
 ],
 "metadata": {
  "kernelspec": {
   "display_name": "EarthAI Environment",
   "language": "python",
   "name": "python3"
  },
  "language_info": {
   "codemirror_mode": {
    "name": "ipython",
    "version": 3
   },
   "file_extension": ".py",
   "mimetype": "text/x-python",
   "name": "python",
   "nbconvert_exporter": "python",
   "pygments_lexer": "ipython3",
   "version": "3.7.9"
  }
 },
 "nbformat": 4,
 "nbformat_minor": 4
}
