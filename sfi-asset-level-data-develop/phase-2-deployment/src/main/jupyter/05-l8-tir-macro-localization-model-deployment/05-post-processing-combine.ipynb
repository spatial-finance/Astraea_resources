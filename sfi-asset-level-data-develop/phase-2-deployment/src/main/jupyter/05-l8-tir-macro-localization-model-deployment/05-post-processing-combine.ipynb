{
 "cells": [
  {
   "cell_type": "markdown",
   "metadata": {},
   "source": [
    "## Import required libraries"
   ]
  },
  {
   "cell_type": "code",
   "execution_count": 1,
   "metadata": {},
   "outputs": [],
   "source": [
    "import geopandas as gpd\n",
    "import pandas as pd\n",
    "import matplotlib.pyplot as plt"
   ]
  },
  {
   "cell_type": "markdown",
   "metadata": {},
   "source": [
    "## Input Data"
   ]
  },
  {
   "cell_type": "code",
   "execution_count": 2,
   "metadata": {},
   "outputs": [],
   "source": [
    "l8_scores = gpd.read_file(\"../../resources/macro-loc-model-deployment/scored_output.geojson\").drop(['index','prop_rail','prop_water','preds'], axis=1)\n",
    "s2_scores = gpd.read_file(\"../../resources/macro-loc-model-deployment/s2_scored_output.geojson\").drop(['scene_cloud_pnt', 'scene_group', 'max_cloud_cover', 'index','prop_rail','prop_water','preds'], axis=1)\n",
    "proximity_scores = gpd.read_file(\"../../resources/macro-loc-model-deployment/macroloc_cement_steel_CHN_10_correct.shp\")"
   ]
  },
  {
   "cell_type": "code",
   "execution_count": 3,
   "metadata": {},
   "outputs": [
    {
     "data": {
      "text/plain": [
       "50899"
      ]
     },
     "execution_count": 3,
     "metadata": {},
     "output_type": "execute_result"
    }
   ],
   "source": [
    "len(proximity_scores)"
   ]
  },
  {
   "cell_type": "code",
   "execution_count": 4,
   "metadata": {},
   "outputs": [
    {
     "data": {
      "text/html": [
       "<div>\n",
       "<style scoped>\n",
       "    .dataframe tbody tr th:only-of-type {\n",
       "        vertical-align: middle;\n",
       "    }\n",
       "\n",
       "    .dataframe tbody tr th {\n",
       "        vertical-align: top;\n",
       "    }\n",
       "\n",
       "    .dataframe thead th {\n",
       "        text-align: right;\n",
       "    }\n",
       "</style>\n",
       "<table border=\"1\" class=\"dataframe\">\n",
       "  <thead>\n",
       "    <tr style=\"text-align: right;\">\n",
       "      <th></th>\n",
       "      <th>index</th>\n",
       "      <th>length_w_x</th>\n",
       "      <th>length_r</th>\n",
       "      <th>length_w_y</th>\n",
       "      <th>length</th>\n",
       "      <th>Count_pnt</th>\n",
       "      <th>prop_rail</th>\n",
       "      <th>prop_water</th>\n",
       "      <th>prop_road</th>\n",
       "      <th>preds</th>\n",
       "      <th>geometry</th>\n",
       "    </tr>\n",
       "  </thead>\n",
       "  <tbody>\n",
       "    <tr>\n",
       "      <th>0</th>\n",
       "      <td>141</td>\n",
       "      <td>0.279693</td>\n",
       "      <td>0.0</td>\n",
       "      <td>0.279693</td>\n",
       "      <td>0.0</td>\n",
       "      <td>0.0</td>\n",
       "      <td>0.0</td>\n",
       "      <td>0.000008</td>\n",
       "      <td>0.0</td>\n",
       "      <td>0.001532</td>\n",
       "      <td>POLYGON ((73.25418 39.39812, 73.35418 39.39812...</td>\n",
       "    </tr>\n",
       "    <tr>\n",
       "      <th>1</th>\n",
       "      <td>494</td>\n",
       "      <td>0.226492</td>\n",
       "      <td>0.0</td>\n",
       "      <td>0.226492</td>\n",
       "      <td>0.0</td>\n",
       "      <td>0.0</td>\n",
       "      <td>0.0</td>\n",
       "      <td>0.000007</td>\n",
       "      <td>0.0</td>\n",
       "      <td>0.001474</td>\n",
       "      <td>POLYGON ((73.35418 39.39812, 73.45418 39.39812...</td>\n",
       "    </tr>\n",
       "    <tr>\n",
       "      <th>2</th>\n",
       "      <td>847</td>\n",
       "      <td>0.111172</td>\n",
       "      <td>0.0</td>\n",
       "      <td>0.111172</td>\n",
       "      <td>0.0</td>\n",
       "      <td>0.0</td>\n",
       "      <td>0.0</td>\n",
       "      <td>0.000003</td>\n",
       "      <td>0.0</td>\n",
       "      <td>0.001350</td>\n",
       "      <td>POLYGON ((73.45418 39.39812, 73.55418 39.39812...</td>\n",
       "    </tr>\n",
       "    <tr>\n",
       "      <th>3</th>\n",
       "      <td>1200</td>\n",
       "      <td>0.121639</td>\n",
       "      <td>0.0</td>\n",
       "      <td>0.121639</td>\n",
       "      <td>0.0</td>\n",
       "      <td>0.0</td>\n",
       "      <td>0.0</td>\n",
       "      <td>0.000004</td>\n",
       "      <td>0.0</td>\n",
       "      <td>0.001361</td>\n",
       "      <td>POLYGON ((73.55418 39.39812, 73.65418 39.39812...</td>\n",
       "    </tr>\n",
       "    <tr>\n",
       "      <th>4</th>\n",
       "      <td>1553</td>\n",
       "      <td>0.113916</td>\n",
       "      <td>0.0</td>\n",
       "      <td>0.113916</td>\n",
       "      <td>0.0</td>\n",
       "      <td>0.0</td>\n",
       "      <td>0.0</td>\n",
       "      <td>0.000003</td>\n",
       "      <td>0.0</td>\n",
       "      <td>0.001353</td>\n",
       "      <td>POLYGON ((73.65418 39.39812, 73.75418 39.39812...</td>\n",
       "    </tr>\n",
       "  </tbody>\n",
       "</table>\n",
       "</div>"
      ],
      "text/markdown": [
       "|    |   index |   length_w_x |   length_r |   length_w_y |   length |   Count_pnt |   prop_rail |   prop_water |   prop_road |      preds | geometry                                                                                                                                                                                       |\n",
       "|---:|--------:|-------------:|-----------:|-------------:|---------:|------------:|------------:|-------------:|------------:|-----------:|:-----------------------------------------------------------------------------------------------------------------------------------------------------------------------------------------------|\n",
       "|  0 |     141 |     0.279693 |          0 |     0.279693 |        0 |           0 |           0 |  8.14545e-06 |           0 | 0.00153178 | POLYGON ((73.2541817 39.3981213999998, 73.3541817 39.3981213999998, 73.3541817 39.2981213999998, 73.2541817 39.2981213999998, 73.2541817 39.3981213999998))                                    |\n",
       "|  1 |     494 |     0.226492 |          0 |     0.226492 |        0 |           0 |           0 |  6.59609e-06 |           0 | 0.00147446 | POLYGON ((73.3541817 39.3981213999998, 73.45418169999999 39.3981213999998, 73.45418169999999 39.2981213999998, 73.3541817 39.2981213999998, 73.3541817 39.3981213999998))                      |\n",
       "|  2 |     847 |     0.111172 |          0 |     0.111172 |        0 |           0 |           0 |  3.23765e-06 |           0 | 0.00135022 | POLYGON ((73.45418169999999 39.3981213999998, 73.55418169999999 39.3981213999998, 73.55418169999999 39.2981213999998, 73.45418169999999 39.2981213999998, 73.45418169999999 39.3981213999998)) |\n",
       "|  3 |    1200 |     0.121639 |          0 |     0.121639 |        0 |           0 |           0 |  3.54248e-06 |           0 | 0.0013615  | POLYGON ((73.55418169999999 39.3981213999998, 73.65418169999998 39.3981213999998, 73.65418169999998 39.2981213999998, 73.55418169999999 39.2981213999998, 73.55418169999999 39.3981213999998)) |\n",
       "|  4 |    1553 |     0.113916 |          0 |     0.113916 |        0 |           0 |           0 |  3.31755e-06 |           0 | 0.00135318 | POLYGON ((73.65418169999998 39.3981213999998, 73.75418169999998 39.3981213999998, 73.75418169999998 39.2981213999998, 73.65418169999998 39.2981213999998, 73.65418169999998 39.3981213999998)) |"
      ],
      "text/plain": [
       "   index  length_w_x  length_r  length_w_y  length  Count_pnt  prop_rail  \\\n",
       "0    141    0.279693       0.0    0.279693     0.0        0.0        0.0   \n",
       "1    494    0.226492       0.0    0.226492     0.0        0.0        0.0   \n",
       "2    847    0.111172       0.0    0.111172     0.0        0.0        0.0   \n",
       "3   1200    0.121639       0.0    0.121639     0.0        0.0        0.0   \n",
       "4   1553    0.113916       0.0    0.113916     0.0        0.0        0.0   \n",
       "\n",
       "   prop_water  prop_road     preds  \\\n",
       "0    0.000008        0.0  0.001532   \n",
       "1    0.000007        0.0  0.001474   \n",
       "2    0.000003        0.0  0.001350   \n",
       "3    0.000004        0.0  0.001361   \n",
       "4    0.000003        0.0  0.001353   \n",
       "\n",
       "                                            geometry  \n",
       "0  POLYGON ((73.25418 39.39812, 73.35418 39.39812...  \n",
       "1  POLYGON ((73.35418 39.39812, 73.45418 39.39812...  \n",
       "2  POLYGON ((73.45418 39.39812, 73.55418 39.39812...  \n",
       "3  POLYGON ((73.55418 39.39812, 73.65418 39.39812...  \n",
       "4  POLYGON ((73.65418 39.39812, 73.75418 39.39812...  "
      ]
     },
     "execution_count": 4,
     "metadata": {},
     "output_type": "execute_result"
    }
   ],
   "source": [
    "proximity_scores.head()"
   ]
  },
  {
   "cell_type": "code",
   "execution_count": 5,
   "metadata": {},
   "outputs": [
    {
     "data": {
      "image/png": "[encoded data removed]",
      "text/plain": [
       "<Figure size 432x288 with 1 Axes>"
      ]
     },
     "metadata": {
      "needs_background": "light"
     },
     "output_type": "display_data"
    }
   ],
   "source": [
    "plt.hist(proximity_scores.preds, bins=200)\n",
    "plt.show()"
   ]
  },
  {
   "cell_type": "code",
   "execution_count": 6,
   "metadata": {},
   "outputs": [
    {
     "data": {
      "text/html": [
       "<div>\n",
       "<style scoped>\n",
       "    .dataframe tbody tr th:only-of-type {\n",
       "        vertical-align: middle;\n",
       "    }\n",
       "\n",
       "    .dataframe tbody tr th {\n",
       "        vertical-align: top;\n",
       "    }\n",
       "\n",
       "    .dataframe thead th {\n",
       "        text-align: right;\n",
       "    }\n",
       "</style>\n",
       "<table border=\"1\" class=\"dataframe\">\n",
       "  <thead>\n",
       "    <tr style=\"text-align: right;\">\n",
       "      <th></th>\n",
       "      <th>index</th>\n",
       "      <th>length_w_x</th>\n",
       "      <th>length_r</th>\n",
       "      <th>length_w_y</th>\n",
       "      <th>length</th>\n",
       "      <th>Count_pnt</th>\n",
       "      <th>prop_rail</th>\n",
       "      <th>prop_water</th>\n",
       "      <th>prop_road</th>\n",
       "      <th>preds</th>\n",
       "    </tr>\n",
       "  </thead>\n",
       "  <tbody>\n",
       "    <tr>\n",
       "      <th>count</th>\n",
       "      <td>50899.000000</td>\n",
       "      <td>50899.000000</td>\n",
       "      <td>50899.000000</td>\n",
       "      <td>50899.000000</td>\n",
       "      <td>50899.000000</td>\n",
       "      <td>50899.000000</td>\n",
       "      <td>50899.000000</td>\n",
       "      <td>50899.000000</td>\n",
       "      <td>50899.000000</td>\n",
       "      <td>50899.000000</td>\n",
       "    </tr>\n",
       "    <tr>\n",
       "      <th>mean</th>\n",
       "      <td>119863.666732</td>\n",
       "      <td>0.674617</td>\n",
       "      <td>0.048289</td>\n",
       "      <td>0.674617</td>\n",
       "      <td>0.165750</td>\n",
       "      <td>0.011670</td>\n",
       "      <td>0.000020</td>\n",
       "      <td>0.000020</td>\n",
       "      <td>0.000020</td>\n",
       "      <td>0.007860</td>\n",
       "    </tr>\n",
       "    <tr>\n",
       "      <th>std</th>\n",
       "      <td>46694.928373</td>\n",
       "      <td>1.678124</td>\n",
       "      <td>0.291476</td>\n",
       "      <td>1.678124</td>\n",
       "      <td>0.525718</td>\n",
       "      <td>0.121799</td>\n",
       "      <td>0.000062</td>\n",
       "      <td>0.000049</td>\n",
       "      <td>0.000119</td>\n",
       "      <td>0.017823</td>\n",
       "    </tr>\n",
       "    <tr>\n",
       "      <th>min</th>\n",
       "      <td>141.000000</td>\n",
       "      <td>0.000000</td>\n",
       "      <td>0.000000</td>\n",
       "      <td>0.000000</td>\n",
       "      <td>0.000000</td>\n",
       "      <td>0.000000</td>\n",
       "      <td>0.000000</td>\n",
       "      <td>0.000000</td>\n",
       "      <td>0.000000</td>\n",
       "      <td>0.001230</td>\n",
       "    </tr>\n",
       "    <tr>\n",
       "      <th>25%</th>\n",
       "      <td>91990.500000</td>\n",
       "      <td>0.044169</td>\n",
       "      <td>0.000000</td>\n",
       "      <td>0.044169</td>\n",
       "      <td>0.000000</td>\n",
       "      <td>0.000000</td>\n",
       "      <td>0.000000</td>\n",
       "      <td>0.000001</td>\n",
       "      <td>0.000000</td>\n",
       "      <td>0.001460</td>\n",
       "    </tr>\n",
       "    <tr>\n",
       "      <th>50%</th>\n",
       "      <td>127773.000000</td>\n",
       "      <td>0.254719</td>\n",
       "      <td>0.000000</td>\n",
       "      <td>0.254719</td>\n",
       "      <td>0.000000</td>\n",
       "      <td>0.000000</td>\n",
       "      <td>0.000000</td>\n",
       "      <td>0.000007</td>\n",
       "      <td>0.000000</td>\n",
       "      <td>0.002057</td>\n",
       "    </tr>\n",
       "    <tr>\n",
       "      <th>75%</th>\n",
       "      <td>154470.500000</td>\n",
       "      <td>0.681579</td>\n",
       "      <td>0.002867</td>\n",
       "      <td>0.681579</td>\n",
       "      <td>0.073802</td>\n",
       "      <td>0.000000</td>\n",
       "      <td>0.000009</td>\n",
       "      <td>0.000020</td>\n",
       "      <td>0.000001</td>\n",
       "      <td>0.006280</td>\n",
       "    </tr>\n",
       "    <tr>\n",
       "      <th>max</th>\n",
       "      <td>217146.000000</td>\n",
       "      <td>94.868545</td>\n",
       "      <td>13.897527</td>\n",
       "      <td>94.868545</td>\n",
       "      <td>14.455807</td>\n",
       "      <td>4.000000</td>\n",
       "      <td>0.001713</td>\n",
       "      <td>0.002763</td>\n",
       "      <td>0.005654</td>\n",
       "      <td>0.468388</td>\n",
       "    </tr>\n",
       "  </tbody>\n",
       "</table>\n",
       "</div>"
      ],
      "text/markdown": [
       "|       |    index |    length_w_x |       length_r |    length_w_y |        length |     Count_pnt |       prop_rail |      prop_water |       prop_road |          preds |\n",
       "|:------|---------:|--------------:|---------------:|--------------:|--------------:|--------------:|----------------:|----------------:|----------------:|---------------:|\n",
       "| count |  50899   | 50899         | 50899          | 50899         | 50899         | 50899         | 50899           | 50899           | 50899           | 50899          |\n",
       "| mean  | 119864   |     0.674617  |     0.048289   |     0.674617  |     0.16575   |     0.0116702 |     1.96468e-05 |     1.96468e-05 |     1.96468e-05 |     0.00786008 |\n",
       "| std   |  46694.9 |     1.67812   |     0.291476   |     1.67812   |     0.525718  |     0.121799  |     6.23146e-05 |     4.88717e-05 |     0.000118589 |     0.0178233  |\n",
       "| min   |    141   |     0         |     0          |     0         |     0         |     0         |     0           |     0           |     0           |     0.00123045 |\n",
       "| 25%   |  91990.5 |     0.0441693 |     0          |     0.0441693 |     0         |     0         |     0           |     1.28633e-06 |     0           |     0.00146035 |\n",
       "| 50%   | 127773   |     0.254719  |     0          |     0.254719  |     0         |     0         |     0           |     7.41814e-06 |     0           |     0.00205693 |\n",
       "| 75%   | 154470   |     0.681579  |     0.00286715 |     0.681579  |     0.0738017 |     0         |     8.74789e-06 |     1.98495e-05 |     1.16652e-06 |     0.00627971 |\n",
       "| max   | 217146   |    94.8685    |    13.8975     |    94.8685    |    14.4558    |     4         |     0.00171348  |     0.00276284  |     0.00565431  |     0.468388   |"
      ],
      "text/plain": [
       "               index    length_w_x      length_r    length_w_y        length  \\\n",
       "count   50899.000000  50899.000000  50899.000000  50899.000000  50899.000000   \n",
       "mean   119863.666732      0.674617      0.048289      0.674617      0.165750   \n",
       "std     46694.928373      1.678124      0.291476      1.678124      0.525718   \n",
       "min       141.000000      0.000000      0.000000      0.000000      0.000000   \n",
       "25%     91990.500000      0.044169      0.000000      0.044169      0.000000   \n",
       "50%    127773.000000      0.254719      0.000000      0.254719      0.000000   \n",
       "75%    154470.500000      0.681579      0.002867      0.681579      0.073802   \n",
       "max    217146.000000     94.868545     13.897527     94.868545     14.455807   \n",
       "\n",
       "          Count_pnt     prop_rail    prop_water     prop_road         preds  \n",
       "count  50899.000000  50899.000000  50899.000000  50899.000000  50899.000000  \n",
       "mean       0.011670      0.000020      0.000020      0.000020      0.007860  \n",
       "std        0.121799      0.000062      0.000049      0.000119      0.017823  \n",
       "min        0.000000      0.000000      0.000000      0.000000      0.001230  \n",
       "25%        0.000000      0.000000      0.000001      0.000000      0.001460  \n",
       "50%        0.000000      0.000000      0.000007      0.000000      0.002057  \n",
       "75%        0.000000      0.000009      0.000020      0.000001      0.006280  \n",
       "max        4.000000      0.001713      0.002763      0.005654      0.468388  "
      ]
     },
     "execution_count": 6,
     "metadata": {},
     "output_type": "execute_result"
    }
   ],
   "source": [
    "proximity_scores.describe()"
   ]
  },
  {
   "cell_type": "markdown",
   "metadata": {},
   "source": [
    "# CEMENT"
   ]
  },
  {
   "cell_type": "code",
   "execution_count": 54,
   "metadata": {},
   "outputs": [],
   "source": [
    "# known cement plants\n",
    "l8_cement = l8_scores[l8_scores.cement_uid.notnull()]\n",
    "s2_cement = s2_scores[s2_scores.cement_uid.notnull()]\n",
    "\n",
    "# join s2 and l8 geodataframes\n",
    "cement_gdf = gpd.sjoin(s2_cement, l8_cement, how='left', op='intersects')\n",
    "\n",
    "# group by s2 chips and take average of l8 score\n",
    "cement_agg = cement_gdf.groupby(['tile_id_left','year_left','cement_prob_left','cement_uid_left']).agg({'cement_prob_right':'mean'}).reset_index()\n",
    "\n",
    "# convert aggregated dataframe to geodataframe\n",
    "cement_agg = pd.merge(cement_agg, cement_gdf[['tile_id_left','year_left','geometry']].drop_duplicates(), on=['tile_id_left','year_left'])\n",
    "cement_agg.columns = ['tile_id','year','cement_prob_s2','cement_uid','cement_prob_l8','geometry']\n",
    "cement_agg = gpd.GeoDataFrame(cement_agg, geometry='geometry')\n",
    "\n",
    "# join s2/l8 geodataframe to proximity geodataframe\n",
    "cement_gdf = gpd.sjoin(cement_agg, proximity_scores[['preds', 'geometry']], how='left', op='intersects')\n",
    "\n",
    "# group by s2 chips and take average of proximity score\n",
    "cement_gdf = cement_gdf.groupby(['tile_id','year','cement_prob_s2','cement_uid','cement_prob_l8']).agg({'preds':'mean'}).reset_index()\n",
    "cement_gdf.columns = ['tile_id','year','cement_prob_s2','cement_uid','cement_prob_l8','cement_prob_proximity']"
   ]
  },
  {
   "cell_type": "code",
   "execution_count": 64,
   "metadata": {},
   "outputs": [
    {
     "data": {
      "text/html": [
       "<div>\n",
       "<style scoped>\n",
       "    .dataframe tbody tr th:only-of-type {\n",
       "        vertical-align: middle;\n",
       "    }\n",
       "\n",
       "    .dataframe tbody tr th {\n",
       "        vertical-align: top;\n",
       "    }\n",
       "\n",
       "    .dataframe thead th {\n",
       "        text-align: right;\n",
       "    }\n",
       "</style>\n",
       "<table border=\"1\" class=\"dataframe\">\n",
       "  <thead>\n",
       "    <tr style=\"text-align: right;\">\n",
       "      <th></th>\n",
       "      <th>tile_id</th>\n",
       "      <th>year</th>\n",
       "      <th>cement_prob_s2</th>\n",
       "      <th>cement_uid</th>\n",
       "      <th>cement_prob_l8</th>\n",
       "      <th>cement_prob_proximity</th>\n",
       "    </tr>\n",
       "  </thead>\n",
       "  <tbody>\n",
       "    <tr>\n",
       "      <th>0</th>\n",
       "      <td>MGRS-44TPM-0294</td>\n",
       "      <td>2020</td>\n",
       "      <td>0.495042</td>\n",
       "      <td>CHN1079</td>\n",
       "      <td>0.920679</td>\n",
       "      <td>0.007288</td>\n",
       "    </tr>\n",
       "    <tr>\n",
       "      <th>1</th>\n",
       "      <td>MGRS-45TVG-0022</td>\n",
       "      <td>2020</td>\n",
       "      <td>0.155544</td>\n",
       "      <td>CHN0685</td>\n",
       "      <td>0.644753</td>\n",
       "      <td>0.020671</td>\n",
       "    </tr>\n",
       "    <tr>\n",
       "      <th>2</th>\n",
       "      <td>MGRS-45TWJ-0287</td>\n",
       "      <td>2020</td>\n",
       "      <td>0.615682</td>\n",
       "      <td>CHN0687</td>\n",
       "      <td>0.487513</td>\n",
       "      <td>0.028413</td>\n",
       "    </tr>\n",
       "    <tr>\n",
       "      <th>3</th>\n",
       "      <td>MGRS-45TWJ-0409</td>\n",
       "      <td>2020</td>\n",
       "      <td>0.100570</td>\n",
       "      <td>CHN0691</td>\n",
       "      <td>0.560330</td>\n",
       "      <td>0.033579</td>\n",
       "    </tr>\n",
       "    <tr>\n",
       "      <th>4</th>\n",
       "      <td>MGRS-46TEN-0208</td>\n",
       "      <td>2020</td>\n",
       "      <td>0.131714</td>\n",
       "      <td>CHN0684</td>\n",
       "      <td>0.429390</td>\n",
       "      <td>0.017827</td>\n",
       "    </tr>\n",
       "  </tbody>\n",
       "</table>\n",
       "</div>"
      ],
      "text/markdown": [
       "|    | tile_id         |   year |   cement_prob_s2 | cement_uid   |   cement_prob_l8 |   cement_prob_proximity |\n",
       "|---:|:----------------|-------:|-----------------:|:-------------|-----------------:|------------------------:|\n",
       "|  0 | MGRS-44TPM-0294 |   2020 |         0.495042 | CHN1079      |         0.920679 |              0.00728811 |\n",
       "|  1 | MGRS-45TVG-0022 |   2020 |         0.155544 | CHN0685      |         0.644753 |              0.0206709  |\n",
       "|  2 | MGRS-45TWJ-0287 |   2020 |         0.615682 | CHN0687      |         0.487513 |              0.0284132  |\n",
       "|  3 | MGRS-45TWJ-0409 |   2020 |         0.10057  | CHN0691      |         0.56033  |              0.0335793  |\n",
       "|  4 | MGRS-46TEN-0208 |   2020 |         0.131714 | CHN0684      |         0.42939  |              0.0178272  |"
      ],
      "text/plain": [
       "           tile_id  year  cement_prob_s2 cement_uid  cement_prob_l8  \\\n",
       "0  MGRS-44TPM-0294  2020        0.495042    CHN1079        0.920679   \n",
       "1  MGRS-45TVG-0022  2020        0.155544    CHN0685        0.644753   \n",
       "2  MGRS-45TWJ-0287  2020        0.615682    CHN0687        0.487513   \n",
       "3  MGRS-45TWJ-0409  2020        0.100570    CHN0691        0.560330   \n",
       "4  MGRS-46TEN-0208  2020        0.131714    CHN0684        0.429390   \n",
       "\n",
       "   cement_prob_proximity  \n",
       "0               0.007288  \n",
       "1               0.020671  \n",
       "2               0.028413  \n",
       "3               0.033579  \n",
       "4               0.017827  "
      ]
     },
     "execution_count": 64,
     "metadata": {},
     "output_type": "execute_result"
    }
   ],
   "source": [
    "cement_gdf.head()"
   ]
  },
  {
   "cell_type": "code",
   "execution_count": 62,
   "metadata": {},
   "outputs": [
    {
     "data": {
      "image/png": "[encoded data removed]",
      "text/plain": [
       "<Figure size 1296x360 with 3 Axes>"
      ]
     },
     "metadata": {
      "needs_background": "light"
     },
     "output_type": "display_data"
    }
   ],
   "source": [
    "fig, (ax1, ax2, ax3) = plt.subplots(nrows=1, ncols=3, figsize=(18, 5))\n",
    "\n",
    "ax1.scatter(cement_gdf.cement_prob_s2.values, cement_gdf.cement_prob_l8.values)\n",
    "ax1.set_xlabel('S2 Prediction')\n",
    "ax1.set_ylabel('L8 Prediction')\n",
    "\n",
    "ax2.scatter(cement_gdf.cement_prob_s2.values, cement_gdf.cement_prob_proximity.values)\n",
    "ax2.set_xlabel('S2 Prediction')\n",
    "ax2.set_ylabel('Proximity Prediction')\n",
    "\n",
    "ax3.scatter(cement_gdf.cement_prob_l8.values, cement_gdf.cement_prob_proximity.values)\n",
    "ax3.set_xlabel('L8 Prediction')\n",
    "ax3.set_ylabel('Proximity Prediction')\n",
    "\n",
    "plt.show()"
   ]
  },
  {
   "cell_type": "code",
   "execution_count": 63,
   "metadata": {},
   "outputs": [
    {
     "data": {
      "image/png": "[encoded data removed]",
      "text/plain": [
       "<Figure size 1296x360 with 3 Axes>"
      ]
     },
     "metadata": {
      "needs_background": "light"
     },
     "output_type": "display_data"
    }
   ],
   "source": [
    "fig, (ax1, ax2, ax3) = plt.subplots(nrows=1, ncols=3, figsize=(18, 5))\n",
    "\n",
    "ax1.hist(cement_gdf.cement_prob_s2.values, bins=100)\n",
    "ax1.set_title('S2 Prediction')\n",
    "\n",
    "ax2.hist(cement_gdf.cement_prob_l8.values, bins=100)\n",
    "ax2.set_title('L8 Prediction')\n",
    "\n",
    "ax3.hist(cement_gdf.cement_prob_proximity.values, bins=100)\n",
    "ax3.set_title('Proximity Prediction')\n",
    "\n",
    "plt.show()"
   ]
  },
  {
   "cell_type": "code",
   "execution_count": 65,
   "metadata": {},
   "outputs": [],
   "source": [
    "cement_gdf['average_prob'] = (cement_gdf['cement_prob_s2'] + cement_gdf['cement_prob_l8'] + cement_gdf['cement_prob_proximity']) / 3\n",
    "cement_gdf['max_prob']  = cement_gdf[[\"cement_prob_s2\", \"cement_prob_l8\", \"cement_prob_proximity\"]].max(axis=1)"
   ]
  },
  {
   "cell_type": "code",
   "execution_count": 66,
   "metadata": {},
   "outputs": [
    {
     "data": {
      "image/png": "[encoded data removed]",
      "text/plain": [
       "<Figure size 864x360 with 2 Axes>"
      ]
     },
     "metadata": {
      "needs_background": "light"
     },
     "output_type": "display_data"
    }
   ],
   "source": [
    "fig, (ax1, ax2) = plt.subplots(nrows=1, ncols=2, figsize=(12, 5))\n",
    "\n",
    "ax1.hist(cement_gdf.average_prob.values, bins=100)\n",
    "ax1.set_title('Average Prediction')\n",
    "\n",
    "ax2.hist(cement_gdf.max_prob.values, bins=100)\n",
    "ax2.set_title('Max Prediction')\n",
    "\n",
    "plt.show()"
   ]
  },
  {
   "cell_type": "markdown",
   "metadata": {},
   "source": [
    "# STEEL"
   ]
  },
  {
   "cell_type": "code",
   "execution_count": 67,
   "metadata": {},
   "outputs": [],
   "source": [
    "# known steel plants\n",
    "l8_steel = l8_scores[l8_scores.steel_uid.notnull()]\n",
    "s2_steel = s2_scores[s2_scores.steel_uid.notnull()]\n",
    "\n",
    "# join s2 and l8 geodataframes\n",
    "steel_gdf = gpd.sjoin(s2_steel, l8_steel, how='left', op='intersects')\n",
    "\n",
    "# group by s2 chips and take average of l8 score\n",
    "steel_agg = steel_gdf.groupby(['tile_id_left','year_left','steel_prob_left','steel_uid_left']).agg({'steel_prob_right':'mean'}).reset_index()\n",
    "\n",
    "# convert aggregated dataframe to geodataframe\n",
    "steel_agg = pd.merge(steel_agg, steel_gdf[['tile_id_left','year_left','geometry']].drop_duplicates(), on=['tile_id_left','year_left'])\n",
    "steel_agg.columns = ['tile_id','year','steel_prob_s2','steel_uid','steel_prob_l8','geometry']\n",
    "steel_agg = gpd.GeoDataFrame(steel_agg, geometry='geometry')\n",
    "\n",
    "# join s2/l8 geodataframe to proximity geodataframe\n",
    "steel_gdf = gpd.sjoin(steel_agg, proximity_scores[['preds', 'geometry']], how='left', op='intersects')\n",
    "\n",
    "# group by s2 chips and take average of proximity score\n",
    "steel_gdf = steel_gdf.groupby(['tile_id','year','steel_prob_s2','steel_uid','steel_prob_l8']).agg({'preds':'mean'}).reset_index()\n",
    "steel_gdf.columns = ['tile_id','year','steel_prob_s2','steel_uid','steel_prob_l8','steel_prob_proximity']\n"
   ]
  },
  {
   "cell_type": "code",
   "execution_count": 68,
   "metadata": {},
   "outputs": [
    {
     "data": {
      "text/html": [
       "<div>\n",
       "<style scoped>\n",
       "    .dataframe tbody tr th:only-of-type {\n",
       "        vertical-align: middle;\n",
       "    }\n",
       "\n",
       "    .dataframe tbody tr th {\n",
       "        vertical-align: top;\n",
       "    }\n",
       "\n",
       "    .dataframe thead th {\n",
       "        text-align: right;\n",
       "    }\n",
       "</style>\n",
       "<table border=\"1\" class=\"dataframe\">\n",
       "  <thead>\n",
       "    <tr style=\"text-align: right;\">\n",
       "      <th></th>\n",
       "      <th>tile_id</th>\n",
       "      <th>year</th>\n",
       "      <th>steel_prob_s2</th>\n",
       "      <th>steel_uid</th>\n",
       "      <th>steel_prob_l8</th>\n",
       "      <th>steel_prob_proximity</th>\n",
       "    </tr>\n",
       "  </thead>\n",
       "  <tbody>\n",
       "    <tr>\n",
       "      <th>0</th>\n",
       "      <td>MGRS-45TWJ-0338</td>\n",
       "      <td>2020</td>\n",
       "      <td>0.092780</td>\n",
       "      <td>CHN0014</td>\n",
       "      <td>0.524710</td>\n",
       "      <td>0.109414</td>\n",
       "    </tr>\n",
       "    <tr>\n",
       "      <th>1</th>\n",
       "      <td>MGRS-47RQK-0384</td>\n",
       "      <td>2020</td>\n",
       "      <td>0.872235</td>\n",
       "      <td>CHN0075</td>\n",
       "      <td>0.749981</td>\n",
       "      <td>0.072369</td>\n",
       "    </tr>\n",
       "    <tr>\n",
       "      <th>2</th>\n",
       "      <td>MGRS-47RRH-0321</td>\n",
       "      <td>2020</td>\n",
       "      <td>0.794473</td>\n",
       "      <td>CHN0072</td>\n",
       "      <td>0.691097</td>\n",
       "      <td>0.031700</td>\n",
       "    </tr>\n",
       "    <tr>\n",
       "      <th>3</th>\n",
       "      <td>MGRS-47RRH-0393</td>\n",
       "      <td>2020</td>\n",
       "      <td>0.117894</td>\n",
       "      <td>CHN0071</td>\n",
       "      <td>0.868268</td>\n",
       "      <td>0.040439</td>\n",
       "    </tr>\n",
       "    <tr>\n",
       "      <th>4</th>\n",
       "      <td>MGRS-47RRH-0468</td>\n",
       "      <td>2020</td>\n",
       "      <td>0.889687</td>\n",
       "      <td>CHN0187</td>\n",
       "      <td>0.647188</td>\n",
       "      <td>0.074939</td>\n",
       "    </tr>\n",
       "  </tbody>\n",
       "</table>\n",
       "</div>"
      ],
      "text/markdown": [
       "|    | tile_id         |   year |   steel_prob_s2 | steel_uid   |   steel_prob_l8 |   steel_prob_proximity |\n",
       "|---:|:----------------|-------:|----------------:|:------------|----------------:|-----------------------:|\n",
       "|  0 | MGRS-45TWJ-0338 |   2020 |       0.0927803 | CHN0014     |        0.52471  |              0.109414  |\n",
       "|  1 | MGRS-47RQK-0384 |   2020 |       0.872235  | CHN0075     |        0.749981 |              0.0723694 |\n",
       "|  2 | MGRS-47RRH-0321 |   2020 |       0.794473  | CHN0072     |        0.691097 |              0.0316995 |\n",
       "|  3 | MGRS-47RRH-0393 |   2020 |       0.117894  | CHN0071     |        0.868268 |              0.0404386 |\n",
       "|  4 | MGRS-47RRH-0468 |   2020 |       0.889687  | CHN0187     |        0.647188 |              0.0749391 |"
      ],
      "text/plain": [
       "           tile_id  year  steel_prob_s2 steel_uid  steel_prob_l8  \\\n",
       "0  MGRS-45TWJ-0338  2020       0.092780   CHN0014       0.524710   \n",
       "1  MGRS-47RQK-0384  2020       0.872235   CHN0075       0.749981   \n",
       "2  MGRS-47RRH-0321  2020       0.794473   CHN0072       0.691097   \n",
       "3  MGRS-47RRH-0393  2020       0.117894   CHN0071       0.868268   \n",
       "4  MGRS-47RRH-0468  2020       0.889687   CHN0187       0.647188   \n",
       "\n",
       "   steel_prob_proximity  \n",
       "0              0.109414  \n",
       "1              0.072369  \n",
       "2              0.031700  \n",
       "3              0.040439  \n",
       "4              0.074939  "
      ]
     },
     "execution_count": 68,
     "metadata": {},
     "output_type": "execute_result"
    }
   ],
   "source": [
    "steel_gdf.head()"
   ]
  },
  {
   "cell_type": "code",
   "execution_count": 69,
   "metadata": {},
   "outputs": [
    {
     "data": {
      "image/png": "[encoded data removed]",
      "text/plain": [
       "<Figure size 1296x360 with 3 Axes>"
      ]
     },
     "metadata": {
      "needs_background": "light"
     },
     "output_type": "display_data"
    }
   ],
   "source": [
    "fig, (ax1, ax2, ax3) = plt.subplots(nrows=1, ncols=3, figsize=(18, 5))\n",
    "\n",
    "ax1.scatter(steel_gdf.steel_prob_s2.values, steel_gdf.steel_prob_l8.values)\n",
    "ax1.set_xlabel('S2 Prediction')\n",
    "ax1.set_ylabel('L8 Prediction')\n",
    "\n",
    "ax2.scatter(steel_gdf.steel_prob_s2.values, steel_gdf.steel_prob_proximity.values)\n",
    "ax2.set_xlabel('S2 Prediction')\n",
    "ax2.set_ylabel('Proximity Prediction')\n",
    "\n",
    "ax3.scatter(steel_gdf.steel_prob_l8.values, steel_gdf.steel_prob_proximity.values)\n",
    "ax3.set_xlabel('L8 Prediction')\n",
    "ax3.set_ylabel('Proximity Prediction')\n",
    "\n",
    "plt.show()"
   ]
  },
  {
   "cell_type": "code",
   "execution_count": 70,
   "metadata": {},
   "outputs": [
    {
     "data": {
      "image/png": "[encoded data removed]",
      "text/plain": [
       "<Figure size 1296x360 with 3 Axes>"
      ]
     },
     "metadata": {
      "needs_background": "light"
     },
     "output_type": "display_data"
    }
   ],
   "source": [
    "fig, (ax1, ax2, ax3) = plt.subplots(nrows=1, ncols=3, figsize=(18, 5))\n",
    "\n",
    "ax1.hist(steel_gdf.steel_prob_s2.values, bins=100)\n",
    "ax1.set_title('S2 Prediction')\n",
    "\n",
    "ax2.hist(steel_gdf.steel_prob_l8.values, bins=100)\n",
    "ax2.set_title('L8 Prediction')\n",
    "\n",
    "ax3.hist(steel_gdf.steel_prob_proximity.values, bins=100)\n",
    "ax3.set_title('Proximity Prediction')\n",
    "\n",
    "plt.show()"
   ]
  },
  {
   "cell_type": "code",
   "execution_count": 71,
   "metadata": {},
   "outputs": [],
   "source": [
    "steel_gdf['average_prob'] = (steel_gdf['steel_prob_s2'] + steel_gdf['steel_prob_l8'] + steel_gdf['steel_prob_proximity']) / 3\n",
    "steel_gdf['max_prob']  = steel_gdf[[\"steel_prob_s2\", \"steel_prob_l8\", \"steel_prob_proximity\"]].max(axis=1)"
   ]
  },
  {
   "cell_type": "code",
   "execution_count": 72,
   "metadata": {},
   "outputs": [
    {
     "data": {
      "image/png": "[encoded data removed]",
      "text/plain": [
       "<Figure size 864x360 with 2 Axes>"
      ]
     },
     "metadata": {
      "needs_background": "light"
     },
     "output_type": "display_data"
    }
   ],
   "source": [
    "fig, (ax1, ax2) = plt.subplots(nrows=1, ncols=2, figsize=(12, 5))\n",
    "\n",
    "ax1.hist(steel_gdf.average_prob.values, bins=100)\n",
    "ax1.set_title('Average Prediction')\n",
    "\n",
    "ax2.hist(steel_gdf.max_prob.values, bins=100)\n",
    "ax2.set_title('Max Prediction')\n",
    "\n",
    "plt.show()"
   ]
  },
  {
   "cell_type": "code",
   "execution_count": null,
   "metadata": {},
   "outputs": [],
   "source": []
  }
 ],
 "metadata": {
  "kernelspec": {
   "display_name": "EarthAI Environment",
   "language": "python",
   "name": "python3"
  },
  "language_info": {
   "codemirror_mode": {
    "name": "ipython",
    "version": 3
   },
   "file_extension": ".py",
   "mimetype": "text/x-python",
   "name": "python",
   "nbconvert_exporter": "python",
   "pygments_lexer": "ipython3",
   "version": "3.7.9"
  }
 },
 "nbformat": 4,
 "nbformat_minor": 4
}
