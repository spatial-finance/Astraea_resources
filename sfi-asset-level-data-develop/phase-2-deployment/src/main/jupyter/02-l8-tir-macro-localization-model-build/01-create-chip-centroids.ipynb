{
 "cells": [
  {
   "cell_type": "markdown",
   "metadata": {},
   "source": [
    "# Create vector datasets for cement, steel, and landcover classes\n",
    "\n",
    "This notebook creates points centered on cement and steel plants. It also\n",
    "creates landcover classes offset from the cement plants for use as negative examples for the macro-localization model training.\n",
    "\n",
    "## Import libraries"
   ]
  },
  {
   "cell_type": "code",
   "execution_count": null,
   "metadata": {},
   "outputs": [],
   "source": [
    "import os\n",
    "import pandas as pd\n",
    "from shapely.geometry import Point\n",
    "import geopandas as gpd"
   ]
  },
  {
   "cell_type": "markdown",
   "metadata": {},
   "source": [
    "## Define input and output files\n",
    "\n",
    "* Input: Cement and steel plants (v4.1) with exact locations in China (csv)\n",
    "* Output: Points centered on cement, steel, and landcover (v4.1) for use in macro-localization model building"
   ]
  },
  {
   "cell_type": "code",
   "execution_count": null,
   "metadata": {},
   "outputs": [],
   "source": [
    "cement_input_csv = '../../resources/asset-subsets-v4p1/cement_exact_china_v4.1.csv'\n",
    "steel_input_csv = '../../resources/asset-subsets-v4p1/steel_exact_china_v4.1.csv'"
   ]
  },
  {
   "cell_type": "code",
   "execution_count": null,
   "metadata": {},
   "outputs": [],
   "source": [
    "if \"macro-loc-model-build\" not in os.listdir(\"../../resources\"):\n",
    "    os.mkdir(\"../../resources/macro-loc-model-build\")"
   ]
  },
  {
   "cell_type": "code",
   "execution_count": null,
   "metadata": {},
   "outputs": [],
   "source": [
    "cement_output_gjson = \"../../resources/macro-loc-model-build/cement_exact_china_v4.1.geojson\"\n",
    "steel_output_gjson = \"../../resources/macro-loc-model-build/steel_exact_china_v4.1.geojson\"\n",
    "lc_output_gjson = \"../../resources/macro-loc-model-build/lc_exact_china_v4.1.geojson\""
   ]
  },
  {
   "cell_type": "markdown",
   "metadata": {},
   "source": [
    "## Define offset and buffer sizes, and CRS for calculations\n",
    "\n",
    "* `offset_size`: distance from cement or steel plants to create landcover chips from\n",
    "* `buffer_size`: 0.5*length of chips centered on steel, cement, or landcover\n",
    "* `calc_crs`: coordinate system in m to use for buffer, offset calculations\n",
    "\n",
    "Landsat-8 chips in macro-localization model will be 1.2 km on a side. Sentinel-2 chips will be 3 km on a side. To create landcover chips that don't overlap, we offset landcover chip centers a distance of `offset_size` from the center of the plants. Then we drop any that fall within `buffer_size` of another plant."
   ]
  },
  {
   "cell_type": "code",
   "execution_count": null,
   "metadata": {},
   "outputs": [],
   "source": [
    "offset_size = 5000 # in m\n",
    "buffer_size = 1500 # in m\n",
    "calc_crs = \"EPSG:3395\""
   ]
  },
  {
   "cell_type": "markdown",
   "metadata": {},
   "source": [
    "## Create cement plant geojson file"
   ]
  },
  {
   "cell_type": "code",
   "execution_count": null,
   "metadata": {},
   "outputs": [],
   "source": [
    "cement_df = pd.read_csv(cement_input_csv, index_col=False)"
   ]
  },
  {
   "cell_type": "markdown",
   "metadata": {},
   "source": [
    "### Statistics and quality checks"
   ]
  },
  {
   "cell_type": "code",
   "execution_count": null,
   "metadata": {},
   "outputs": [],
   "source": [
    "# Number of plants\n",
    "tot_cnt = len(cement_df)\n",
    "print(\"Count of cement plants: \", tot_cnt)\n",
    "\n",
    "# Number of plants with null positions\n",
    "null_cnt = sum(cement_df['latitude'].isnull())\n",
    "print(\"Count of cement plants will null position values: \", null_cnt)"
   ]
  },
  {
   "cell_type": "markdown",
   "metadata": {},
   "source": [
    "### Create GeoDataFrame (define geometry and crs)"
   ]
  },
  {
   "cell_type": "code",
   "execution_count": null,
   "metadata": {},
   "outputs": [],
   "source": [
    "cement_gdf = gpd.GeoDataFrame(cement_df.uid,\n",
    "                              geometry=gpd.points_from_xy(cement_df.longitude, \n",
    "                                                          cement_df.latitude),\n",
    "                              crs=\"EPSG:4326\")"
   ]
  },
  {
   "cell_type": "markdown",
   "metadata": {},
   "source": [
    "### Write GeoJson file"
   ]
  },
  {
   "cell_type": "code",
   "execution_count": null,
   "metadata": {},
   "outputs": [],
   "source": [
    "cement_gdf.to_file(cement_output_gjson, driver='GeoJSON')"
   ]
  },
  {
   "cell_type": "markdown",
   "metadata": {},
   "source": [
    "## Create steel plant geojson file"
   ]
  },
  {
   "cell_type": "code",
   "execution_count": null,
   "metadata": {},
   "outputs": [],
   "source": [
    "steel_df = pd.read_csv(steel_input_csv, index_col=False)"
   ]
  },
  {
   "cell_type": "markdown",
   "metadata": {},
   "source": [
    "### Statistics and quality checks"
   ]
  },
  {
   "cell_type": "code",
   "execution_count": null,
   "metadata": {},
   "outputs": [],
   "source": [
    "# Number of plants\n",
    "tot_cnt = len(steel_df)\n",
    "print(\"Count of steel plants: \", tot_cnt)\n",
    "\n",
    "# Number of plants with null positions\n",
    "null_cnt = sum(steel_df['latitude'].isnull())\n",
    "print(\"Count of steel plants will null position values: \", null_cnt)"
   ]
  },
  {
   "cell_type": "markdown",
   "metadata": {},
   "source": [
    "### Create GeoDataFrame (define geometry and crs)"
   ]
  },
  {
   "cell_type": "code",
   "execution_count": null,
   "metadata": {},
   "outputs": [],
   "source": [
    "steel_gdf = gpd.GeoDataFrame(steel_df.uid,\n",
    "                             geometry=gpd.points_from_xy(steel_df.longitude, \n",
    "                                                         steel_df.latitude),\n",
    "                              crs=\"EPSG:4326\")"
   ]
  },
  {
   "cell_type": "markdown",
   "metadata": {},
   "source": [
    "### Write GeoJson file"
   ]
  },
  {
   "cell_type": "code",
   "execution_count": null,
   "metadata": {},
   "outputs": [],
   "source": [
    "steel_gdf.to_file(steel_output_gjson, driver='GeoJSON')"
   ]
  },
  {
   "cell_type": "markdown",
   "metadata": {},
   "source": [
    "## Create landcover geojson\n",
    "\n",
    "* Take cement and steel plant locations, convert to CRS in m\n",
    "* Create large geometry around plant locations using `offset_size`\n",
    "* Find the lat/long points at the four-most corners of the boundary to use for landcover centers\n",
    "* Remove landcover boundaries that would intersect with cement and steel boundaries in chipping"
   ]
  },
  {
   "cell_type": "markdown",
   "metadata": {},
   "source": [
    "#### Convert cement and steel plant geometries to EPSG:3395"
   ]
  },
  {
   "cell_type": "code",
   "execution_count": null,
   "metadata": {},
   "outputs": [],
   "source": [
    "plant_gdf = cement_gdf[[\"geometry\"]].append(steel_gdf[[\"geometry\"]])\n",
    "plant_gdf = plant_gdf.to_crs(calc_crs)"
   ]
  },
  {
   "cell_type": "markdown",
   "metadata": {},
   "source": [
    "#### Create large polygons around plants"
   ]
  },
  {
   "cell_type": "code",
   "execution_count": null,
   "metadata": {},
   "outputs": [],
   "source": [
    "plant_offset_gdf = gpd.GeoDataFrame(geometry=plant_gdf.buffer(offset_size).envelope,\n",
    "                                    crs=calc_crs)"
   ]
  },
  {
   "cell_type": "markdown",
   "metadata": {},
   "source": [
    "#### Get coordinates of the outer corners"
   ]
  },
  {
   "cell_type": "code",
   "execution_count": null,
   "metadata": {},
   "outputs": [],
   "source": [
    "point_list = []\n",
    "ids = []\n",
    "for index, row in plant_offset_gdf.iterrows():\n",
    "    coords = list(row['geometry'].exterior.coords)\n",
    "    for item in coords:\n",
    "        points = Point(item)\n",
    "        point_list.append(points)\n",
    "        ids.append(index)"
   ]
  },
  {
   "cell_type": "markdown",
   "metadata": {},
   "source": [
    "#### Create landcover GeoDataFrame in EPSG:3395"
   ]
  },
  {
   "cell_type": "code",
   "execution_count": null,
   "metadata": {},
   "outputs": [],
   "source": [
    "lc_df = pd.DataFrame({\"uid\": [\"CHN\"+str(row).zfill(4) for row in list(range(1,len(point_list)+1))],\n",
    "                      \"geometry\": point_list})\n",
    "lc_gdf = gpd.GeoDataFrame(lc_df,\n",
    "                          crs=calc_crs)"
   ]
  },
  {
   "cell_type": "markdown",
   "metadata": {},
   "source": [
    "#### Exclude landcover points that would intersect with plant chips"
   ]
  },
  {
   "cell_type": "code",
   "execution_count": null,
   "metadata": {},
   "outputs": [],
   "source": [
    "lc_poly_df = pd.DataFrame({\"uid\": lc_gdf.uid,\n",
    "                           \"geom_points\": lc_gdf.geometry,\n",
    "                           \"geometry\": lc_gdf.buffer(buffer_size).envelope})\n",
    "lc_poly_gdf = gpd.GeoDataFrame(lc_poly_df,\n",
    "                               crs=calc_crs)"
   ]
  },
  {
   "cell_type": "code",
   "execution_count": null,
   "metadata": {},
   "outputs": [],
   "source": [
    "plant_poly_df = pd.DataFrame({\"geom_points\": plant_gdf.geometry,\n",
    "                              \"geometry\": plant_gdf.buffer(buffer_size).envelope})\n",
    "plant_poly_gdf = gpd.GeoDataFrame(plant_poly_df,\n",
    "                                  crs=calc_crs)"
   ]
  },
  {
   "cell_type": "code",
   "execution_count": null,
   "metadata": {},
   "outputs": [],
   "source": [
    "lc_intrsct_gdf = gpd.sjoin(lc_poly_gdf, plant_poly_gdf, how='inner', op='intersects')\n",
    "lc_gdf = lc_gdf[~lc_gdf.uid.isin(lc_intrsct_gdf.uid)]"
   ]
  },
  {
   "cell_type": "markdown",
   "metadata": {},
   "source": [
    "#### Convert to EPSG:4346 and write to GeoJSON"
   ]
  },
  {
   "cell_type": "code",
   "execution_count": null,
   "metadata": {},
   "outputs": [],
   "source": [
    "lc_gdf = lc_gdf.to_crs(\"EPSG:4326\")\n",
    "lc_gdf.to_file(lc_output_gjson, driver='GeoJSON')"
   ]
  }
 ],
 "metadata": {
  "kernelspec": {
   "display_name": "EarthAI Environment",
   "language": "python",
   "name": "python3"
  },
  "language_info": {
   "codemirror_mode": {
    "name": "ipython",
    "version": 3
   },
   "file_extension": ".py",
   "mimetype": "text/x-python",
   "name": "python",
   "nbconvert_exporter": "python",
   "pygments_lexer": "ipython3",
   "version": "3.7.9"
  }
 },
 "nbformat": 4,
 "nbformat_minor": 4
}
