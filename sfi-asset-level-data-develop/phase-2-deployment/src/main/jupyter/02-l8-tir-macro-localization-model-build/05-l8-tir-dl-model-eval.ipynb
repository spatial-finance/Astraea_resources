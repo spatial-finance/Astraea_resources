{
 "cells": [
  {
   "cell_type": "code",
   "execution_count": null,
   "metadata": {},
   "outputs": [],
   "source": [
    "!pip install fastai==1.0.61"
   ]
  },
  {
   "cell_type": "markdown",
   "metadata": {},
   "source": [
    "### Import libraries"
   ]
  },
  {
   "cell_type": "code",
   "execution_count": null,
   "metadata": {},
   "outputs": [],
   "source": [
    "import os\n",
    "import boto3\n",
    "from earthai.ml import *\n",
    "import statistics\n",
    "\n",
    "from fastai import *\n",
    "from fastai.vision import *"
   ]
  },
  {
   "cell_type": "markdown",
   "metadata": {},
   "source": [
    "### Download final models and .tar file from S3 bucket and extract contents\n",
    "\n",
    "This tar file contains normalized PNGs for cement, steel, and landcover, divided into train and validate sets."
   ]
  },
  {
   "cell_type": "code",
   "execution_count": null,
   "metadata": {},
   "outputs": [],
   "source": [
    "DATA_PATH = 'L8-TIR-macro-localization-model-build3/ALD_L8_TIR_chips_v4p1_train3.tar'\n",
    "DATA_CEMENT_PATH = 'L8-TIR-macro-localization-model-build3/ALD_L8_TIR_chips_v4p1_train3_cement_binary.tar'\n",
    "DATA_STEEL_PATH = 'L8-TIR-macro-localization-model-build3/ALD_L8_TIR_chips_v4p1_train3_steel_binary.tar'\n",
    "\n",
    "DENSENET161_MODEL_PATH = 'L8-TIR-macro-localization-model-build3/L8-TIR-model-results3/densenet161_multiclass_final.pkl'\n",
    "RESNET50_MODEL_PATH = 'L8-TIR-macro-localization-model-build3/L8-TIR-model-results3/resnet50_multiclass_final.pkl'\n",
    "VGG13_MODEL_PATH = 'L8-TIR-macro-localization-model-build3/L8-TIR-model-results3/vgg13_multiclass_final.pkl'\n",
    "\n",
    "DENSENET161_CEMENT_MODEL_PATH = 'L8-TIR-macro-localization-model-build3/L8-TIR-model-results3/densenet161_cement_binary_final.pkl'\n",
    "RESNET50_CEMENT_MODEL_PATH = 'L8-TIR-macro-localization-model-build3/L8-TIR-model-results3/resnet50_cement_binary_final.pkl'\n",
    "VGG13_CEMENT_MODEL_PATH = 'L8-TIR-macro-localization-model-build3/L8-TIR-model-results3/vgg13_cement_binary_final.pkl'\n",
    "\n",
    "DENSENET161_STEEL_MODEL_PATH = 'L8-TIR-macro-localization-model-build3/L8-TIR-model-results3/densenet161_steel_binary_final.pkl'\n",
    "RESNET50_STEEL_MODEL_PATH = 'L8-TIR-macro-localization-model-build3/L8-TIR-model-results3/resnet50_steel_binary_final.pkl'\n",
    "VGG13_STEEL_MODEL_PATH = 'L8-TIR-macro-localization-model-build3/L8-TIR-model-results3/vgg13_steel_binary_final.pkl'\n",
    "\n",
    "LOCAL_DIR = '/scratch/'"
   ]
  },
  {
   "cell_type": "code",
   "execution_count": null,
   "metadata": {},
   "outputs": [],
   "source": [
    "s3 = boto3.resource('s3')\n",
    "bucket = s3.Bucket('sfi-shared-assets')\n",
    "\n",
    "# download data\n",
    "bucket.download_file(DATA_PATH, LOCAL_DIR + DATA_PATH.split(\"/\")[-1])\n",
    "bucket.download_file(DATA_CEMENT_PATH, LOCAL_DIR + DATA_CEMENT_PATH.split(\"/\")[-1])\n",
    "bucket.download_file(DATA_STEEL_PATH, LOCAL_DIR + DATA_STEEL_PATH.split(\"/\")[-1])\n",
    "\n",
    "# unzip data\n",
    "unix_code = 'tar -C /scratch/ -xf '+LOCAL_DIR + DATA_PATH.split(\"/\")[-1]\n",
    "os.system(unix_code)\n",
    "unix_code = 'tar -C /scratch/ -xf '+LOCAL_DIR + DATA_CEMENT_PATH.split(\"/\")[-1]\n",
    "os.system(unix_code)\n",
    "unix_code = 'tar -C /scratch/ -xf '+LOCAL_DIR + DATA_STEEL_PATH.split(\"/\")[-1]\n",
    "os.system(unix_code)"
   ]
  },
  {
   "cell_type": "code",
   "execution_count": null,
   "metadata": {},
   "outputs": [],
   "source": [
    "# download models\n",
    "def download_model(MODEL_PATH):\n",
    "    if not os.path.exists(LOCAL_DIR + MODEL_PATH.split(\"/\")[-1].replace(\".pkl\", \"\")):\n",
    "        os.makedirs(LOCAL_DIR + MODEL_PATH.split(\"/\")[-1].replace(\".pkl\", \"\"))\n",
    "    bucket.download_file(MODEL_PATH, LOCAL_DIR + MODEL_PATH.split(\"/\")[-1].replace(\".pkl\", \"\") + \"/export.pkl\")\n",
    "\n",
    "download_model(DENSENET161_MODEL_PATH)\n",
    "download_model(RESNET50_CEMENT_MODEL_PATH)\n",
    "download_model(VGG13_CEMENT_MODEL_PATH)\n",
    "\n",
    "download_model(DENSENET161_CEMENT_MODEL_PATH)\n",
    "download_model(RESNET50_MODEL_PATH)\n",
    "download_model(VGG13_MODEL_PATH)\n",
    "\n",
    "download_model(DENSENET161_STEEL_MODEL_PATH)\n",
    "download_model(RESNET50_STEEL_MODEL_PATH)\n",
    "download_model(VGG13_STEEL_MODEL_PATH)"
   ]
  },
  {
   "cell_type": "code",
   "execution_count": null,
   "metadata": {},
   "outputs": [],
   "source": [
    "# load models\n",
    "densenet161_multi_model = load_learner(LOCAL_DIR + DENSENET161_MODEL_PATH.split(\"/\")[-1].replace(\".pkl\", \"\"))\n",
    "resnet50_multi_model = load_learner(LOCAL_DIR + RESNET50_MODEL_PATH.split(\"/\")[-1].replace(\".pkl\", \"\"))\n",
    "vgg13_multi_model = load_learner(LOCAL_DIR + VGG13_MODEL_PATH.split(\"/\")[-1].replace(\".pkl\", \"\"))\n",
    "\n",
    "densenet161_cement_model = load_learner(LOCAL_DIR + DENSENET161_CEMENT_MODEL_PATH.split(\"/\")[-1].replace(\".pkl\", \"\"))\n",
    "resnet50_cement_model = load_learner(LOCAL_DIR + RESNET50_CEMENT_MODEL_PATH.split(\"/\")[-1].replace(\".pkl\", \"\"))\n",
    "vgg13_cement_model = load_learner(LOCAL_DIR + VGG13_CEMENT_MODEL_PATH.split(\"/\")[-1].replace(\".pkl\", \"\"))\n",
    "\n",
    "densenet161_steel_model = load_learner(LOCAL_DIR + DENSENET161_STEEL_MODEL_PATH.split(\"/\")[-1].replace(\".pkl\", \"\"))\n",
    "resnet50_steel_model = load_learner(LOCAL_DIR + RESNET50_STEEL_MODEL_PATH.split(\"/\")[-1].replace(\".pkl\", \"\"))\n",
    "vgg13_steel_model = load_learner(LOCAL_DIR + VGG13_STEEL_MODEL_PATH.split(\"/\")[-1].replace(\".pkl\", \"\"))"
   ]
  },
  {
   "cell_type": "markdown",
   "metadata": {},
   "source": [
    "### Read in image data"
   ]
  },
  {
   "cell_type": "code",
   "execution_count": null,
   "metadata": {},
   "outputs": [],
   "source": [
    "data = (ImageDataBunch.from_folder(LOCAL_DIR + DATA_PATH.split(\"/\")[-1].replace(\".tar\", \"\"), train='train', valid='validate', \n",
    "                                   bs=16, num_workers=0, seed=42)\n",
    "        .normalize(imagenet_stats))"
   ]
  },
  {
   "cell_type": "markdown",
   "metadata": {},
   "source": [
    "Display class-wise counts for training and validation sets."
   ]
  },
  {
   "cell_type": "code",
   "execution_count": null,
   "metadata": {},
   "outputs": [],
   "source": [
    "def get_classwise_counts(items, classes):\n",
    "    series = pd.value_counts(items).sort_index()\n",
    "    series.index = classes\n",
    "    \n",
    "    return series\n",
    "\n",
    "for subset, label in zip((data.train_ds, data.valid_ds), ('Training set', 'Validation set')):\n",
    "    print('--- {} ---'.format(label))\n",
    "    print(get_classwise_counts(subset.y.items, subset.classes))"
   ]
  },
  {
   "cell_type": "code",
   "execution_count": null,
   "metadata": {},
   "outputs": [],
   "source": [
    "data_cement = (ImageDataBunch.from_folder(LOCAL_DIR + DATA_CEMENT_PATH.split(\"/\")[-1].replace(\".tar\", \"\"), train='train', valid='validate', \n",
    "                                   bs=16, num_workers=0, seed=42)\n",
    "        .normalize(imagenet_stats))"
   ]
  },
  {
   "cell_type": "code",
   "execution_count": null,
   "metadata": {},
   "outputs": [],
   "source": [
    "data_steel = (ImageDataBunch.from_folder(LOCAL_DIR + DATA_STEEL_PATH.split(\"/\")[-1].replace(\".tar\", \"\"), train='train', valid='validate', \n",
    "                                   bs=16, num_workers=0, seed=42)\n",
    "        .normalize(imagenet_stats))"
   ]
  },
  {
   "cell_type": "markdown",
   "metadata": {},
   "source": [
    "### Score model on train and validation sets"
   ]
  },
  {
   "cell_type": "code",
   "execution_count": null,
   "metadata": {},
   "outputs": [],
   "source": [
    "def get_mode(p1, p2, p3):\n",
    "    try:\n",
    "        return statistics.mode([str(p1[0]), str(p2[0]), str(p3[0])])\n",
    "    except:\n",
    "        mx = max(p1[2].max(), p2[2].max(), p3[2].max())\n",
    "        if mx == p1[2].max():\n",
    "            return str(p1[0])\n",
    "        elif mx == p2[2].max():\n",
    "            return str(p2[0])\n",
    "        elif mx == p3[2].max():\n",
    "            return str(p3[0])"
   ]
  },
  {
   "cell_type": "code",
   "execution_count": null,
   "metadata": {},
   "outputs": [],
   "source": [
    "valid_preds_densenet161_multi = []\n",
    "valid_preds_resnet50_multi = []\n",
    "valid_preds_vgg13_multi = []\n",
    "valid_preds_ensemble_multi = []\n",
    "valid_y = []\n",
    "\n",
    "for i in range(0, len(data.valid_ds.x)):\n",
    "    valid_y.append(str(data.valid_ds.y[i]))\n",
    "    \n",
    "    p1 = densenet161_multi_model.predict(data.valid_ds.x[i])\n",
    "    valid_preds_densenet161_multi.append(str(p1[0]))\n",
    "    \n",
    "    p2 = resnet50_multi_model.predict(data.valid_ds.x[i])\n",
    "    valid_preds_resnet50_multi.append(str(p2[0]))\n",
    "    \n",
    "    p3 = vgg13_multi_model.predict(data.valid_ds.x[i])\n",
    "    valid_preds_vgg13_multi.append(str(p3[0]))\n",
    "    \n",
    "    valid_preds_ensemble_multi.append(get_mode(p1, p2, p3))"
   ]
  },
  {
   "cell_type": "code",
   "execution_count": null,
   "metadata": {},
   "outputs": [],
   "source": [
    "valid_preds_densenet161_cement = []\n",
    "valid_preds_resnet50_cement = []\n",
    "valid_preds_vgg13_cement = []\n",
    "valid_preds_ensemble_cement = []\n",
    "valid_y_cement = []\n",
    "\n",
    "for i in range(0, len(data_cement.valid_ds.x)):\n",
    "    valid_y_cement.append(str(data_cement.valid_ds.y[i]))\n",
    "    \n",
    "    p1 = densenet161_cement_model.predict(data_cement.valid_ds.x[i])\n",
    "    valid_preds_densenet161_cement.append(str(p1[0]))\n",
    "    \n",
    "    p2 = resnet50_cement_model.predict(data_cement.valid_ds.x[i])\n",
    "    valid_preds_resnet50_cement.append(str(p2[0]))\n",
    "    \n",
    "    p3 = vgg13_cement_model.predict(data_cement.valid_ds.x[i])\n",
    "    valid_preds_vgg13_cement.append(str(p3[0]))\n",
    "    \n",
    "    valid_preds_ensemble_cement.append(get_mode(p1, p2, p3))"
   ]
  },
  {
   "cell_type": "code",
   "execution_count": null,
   "metadata": {},
   "outputs": [],
   "source": [
    "valid_preds_densenet161_steel = []\n",
    "valid_preds_resnet50_steel = []\n",
    "valid_preds_vgg13_steel = []\n",
    "valid_preds_ensemble_steel = []\n",
    "valid_y_steel = []\n",
    "\n",
    "for i in range(0, len(data_steel.valid_ds.x)):\n",
    "    valid_y_steel.append(str(data_steel.valid_ds.y[i]))\n",
    "    \n",
    "    p1 = densenet161_steel_model.predict(data_steel.valid_ds.x[i])\n",
    "    valid_preds_densenet161_steel.append(str(p1[0]))\n",
    "    \n",
    "    p2 = resnet50_steel_model.predict(data_steel.valid_ds.x[i])\n",
    "    valid_preds_resnet50_steel.append(str(p2[0]))\n",
    "    \n",
    "    p3 = vgg13_steel_model.predict(data_steel.valid_ds.x[i])\n",
    "    valid_preds_vgg13_steel.append(str(p3[0]))\n",
    "    \n",
    "    valid_preds_ensemble_steel.append(get_mode(p1, p2, p3))"
   ]
  },
  {
   "cell_type": "markdown",
   "metadata": {},
   "source": [
    "### DenseNet161 MultiClass Model Results"
   ]
  },
  {
   "cell_type": "code",
   "execution_count": null,
   "metadata": {},
   "outputs": [],
   "source": [
    "print(\"\\033[1m\\033[4m\" + \"VALIDATION RESULTS:\" + \"\\033[0m\\n\")\n",
    "\n",
    "showConfusionMatrix(np.array(valid_preds_densenet161_multi), np.array(valid_y))\n",
    "printOverallStats(np.array(valid_preds_densenet161_multi), np.array(valid_y))\n",
    "printClassStats(np.array(valid_preds_densenet161_multi), np.array(valid_y))"
   ]
  },
  {
   "cell_type": "markdown",
   "metadata": {},
   "source": [
    "### ResNet50 MultiClass Model Results"
   ]
  },
  {
   "cell_type": "code",
   "execution_count": null,
   "metadata": {},
   "outputs": [],
   "source": [
    "print(\"\\033[1m\\033[4m\" + \"VALIDATION RESULTS:\" + \"\\033[0m\\n\")\n",
    "\n",
    "showConfusionMatrix(np.array(valid_preds_resnet50_multi), np.array(valid_y))\n",
    "printOverallStats(np.array(valid_preds_resnet50_multi), np.array(valid_y))\n",
    "printClassStats(np.array(valid_preds_resnet50_multi), np.array(valid_y))"
   ]
  },
  {
   "cell_type": "markdown",
   "metadata": {},
   "source": [
    "### VGG13 MultiClass Model Results"
   ]
  },
  {
   "cell_type": "code",
   "execution_count": null,
   "metadata": {},
   "outputs": [],
   "source": [
    "print(\"\\033[1m\\033[4m\" + \"VALIDATION RESULTS:\" + \"\\033[0m\\n\")\n",
    "\n",
    "showConfusionMatrix(np.array(valid_preds_vgg13_multi), np.array(valid_y))\n",
    "printOverallStats(np.array(valid_preds_vgg13_multi), np.array(valid_y))\n",
    "printClassStats(np.array(valid_preds_vgg13_multi), np.array(valid_y))"
   ]
  },
  {
   "cell_type": "markdown",
   "metadata": {},
   "source": [
    "### Ensemble MultiClass Model Results"
   ]
  },
  {
   "cell_type": "code",
   "execution_count": null,
   "metadata": {},
   "outputs": [],
   "source": [
    "print(\"\\033[1m\\033[4m\" + \"VALIDATION RESULTS:\" + \"\\033[0m\\n\")\n",
    "\n",
    "showConfusionMatrix(np.array(valid_preds_ensemble_multi), np.array(valid_y))\n",
    "printOverallStats(np.array(valid_preds_ensemble_multi), np.array(valid_y))\n",
    "printClassStats(np.array(valid_preds_ensemble_multi), np.array(valid_y))"
   ]
  },
  {
   "cell_type": "markdown",
   "metadata": {},
   "source": [
    "### DenseNet161 Cement Binary Model Results"
   ]
  },
  {
   "cell_type": "code",
   "execution_count": null,
   "metadata": {},
   "outputs": [],
   "source": [
    "print(\"\\033[1m\\033[4m\" + \"VALIDATION RESULTS:\" + \"\\033[0m\\n\")\n",
    "\n",
    "showConfusionMatrix(np.array(valid_preds_densenet161_cement), np.array(valid_y_cement))\n",
    "printOverallStats(np.array(valid_preds_densenet161_cement), np.array(valid_y_cement))\n",
    "printClassStats(np.array(valid_preds_densenet161_cement), np.array(valid_y_cement))"
   ]
  },
  {
   "cell_type": "markdown",
   "metadata": {},
   "source": [
    "### ResNet50 Cement Binary Model Results"
   ]
  },
  {
   "cell_type": "code",
   "execution_count": null,
   "metadata": {},
   "outputs": [],
   "source": [
    "print(\"\\033[1m\\033[4m\" + \"VALIDATION RESULTS:\" + \"\\033[0m\\n\")\n",
    "\n",
    "showConfusionMatrix(np.array(valid_preds_resnet50_cement), np.array(valid_y_cement))\n",
    "printOverallStats(np.array(valid_preds_resnet50_cement), np.array(valid_y_cement))\n",
    "printClassStats(np.array(valid_preds_resnet50_cement), np.array(valid_y_cement))"
   ]
  },
  {
   "cell_type": "markdown",
   "metadata": {},
   "source": [
    "### VGG13 Cement Binary Model Results"
   ]
  },
  {
   "cell_type": "code",
   "execution_count": null,
   "metadata": {},
   "outputs": [],
   "source": [
    "print(\"\\033[1m\\033[4m\" + \"VALIDATION RESULTS:\" + \"\\033[0m\\n\")\n",
    "\n",
    "showConfusionMatrix(np.array(valid_preds_vgg13_cement), np.array(valid_y_cement))\n",
    "printOverallStats(np.array(valid_preds_vgg13_cement), np.array(valid_y_cement))\n",
    "printClassStats(np.array(valid_preds_vgg13_cement), np.array(valid_y_cement))"
   ]
  },
  {
   "cell_type": "markdown",
   "metadata": {},
   "source": [
    "### Ensemble Cement Binary Model Results"
   ]
  },
  {
   "cell_type": "code",
   "execution_count": null,
   "metadata": {},
   "outputs": [],
   "source": [
    "print(\"\\033[1m\\033[4m\" + \"VALIDATION RESULTS:\" + \"\\033[0m\\n\")\n",
    "\n",
    "showConfusionMatrix(np.array(valid_preds_ensemble_cement), np.array(valid_y_cement))\n",
    "printOverallStats(np.array(valid_preds_ensemble_cement), np.array(valid_y_cement))\n",
    "printClassStats(np.array(valid_preds_ensemble_cement), np.array(valid_y_cement))"
   ]
  },
  {
   "cell_type": "markdown",
   "metadata": {},
   "source": [
    "### DenseNet161 Steel Binary Model Results"
   ]
  },
  {
   "cell_type": "code",
   "execution_count": null,
   "metadata": {},
   "outputs": [],
   "source": [
    "print(\"\\033[1m\\033[4m\" + \"VALIDATION RESULTS:\" + \"\\033[0m\\n\")\n",
    "\n",
    "showConfusionMatrix(np.array(valid_preds_densenet161_steel), np.array(valid_y_steel))\n",
    "printOverallStats(np.array(valid_preds_densenet161_steel), np.array(valid_y_steel))\n",
    "printClassStats(np.array(valid_preds_densenet161_steel), np.array(valid_y_steel))"
   ]
  },
  {
   "cell_type": "markdown",
   "metadata": {},
   "source": [
    "### ResNet50 Steel Binary Model Results"
   ]
  },
  {
   "cell_type": "code",
   "execution_count": null,
   "metadata": {},
   "outputs": [],
   "source": [
    "print(\"\\033[1m\\033[4m\" + \"VALIDATION RESULTS:\" + \"\\033[0m\\n\")\n",
    "\n",
    "showConfusionMatrix(np.array(valid_preds_resnet50_steel), np.array(valid_y_steel))\n",
    "printOverallStats(np.array(valid_preds_resnet50_steel), np.array(valid_y_steel))\n",
    "printClassStats(np.array(valid_preds_resnet50_steel), np.array(valid_y_steel))"
   ]
  },
  {
   "cell_type": "markdown",
   "metadata": {},
   "source": [
    "### VGG13 Steel Binary Model Results"
   ]
  },
  {
   "cell_type": "code",
   "execution_count": null,
   "metadata": {},
   "outputs": [],
   "source": [
    "print(\"\\033[1m\\033[4m\" + \"VALIDATION RESULTS:\" + \"\\033[0m\\n\")\n",
    "\n",
    "showConfusionMatrix(np.array(valid_preds_vgg13_steel), np.array(valid_y_steel))\n",
    "printOverallStats(np.array(valid_preds_vgg13_steel), np.array(valid_y_steel))\n",
    "printClassStats(np.array(valid_preds_vgg13_steel), np.array(valid_y_steel))"
   ]
  },
  {
   "cell_type": "markdown",
   "metadata": {},
   "source": [
    "### Ensemble Steel Binary Model Results"
   ]
  },
  {
   "cell_type": "code",
   "execution_count": null,
   "metadata": {},
   "outputs": [],
   "source": [
    "print(\"\\033[1m\\033[4m\" + \"VALIDATION RESULTS:\" + \"\\033[0m\\n\")\n",
    "\n",
    "showConfusionMatrix(np.array(valid_preds_ensemble_steel), np.array(valid_y_steel))\n",
    "printOverallStats(np.array(valid_preds_ensemble_steel), np.array(valid_y_steel))\n",
    "printClassStats(np.array(valid_preds_ensemble_steel), np.array(valid_y_steel))"
   ]
  },
  {
   "cell_type": "markdown",
   "metadata": {},
   "source": [
    "# Tally number of samples by month/type"
   ]
  },
  {
   "cell_type": "code",
   "execution_count": null,
   "metadata": {},
   "outputs": [],
   "source": [
    "data_valid_yyyymm = [str(f).split('_')[-3] for f in data.valid_ds.x.items]\n",
    "data_valid_sitetype = [str(f).split('/')[4] for f in data.valid_ds.x.items]\n",
    "data_train_yyyymm = [str(f).split('_')[-3] for f in data.train_ds.x.items]\n",
    "data_train_sitetype = [str(f).split('/')[4] for f in data.train_ds.x.items]\n",
    "data_yyyymm = pd.DataFrame({'yyyymm': data_train_yyyymm + data_train_yyyymm,\n",
    "                            'sitetype': data_train_sitetype + data_train_sitetype,\n",
    "                            'dumvar': np.zeros(len(data_train_yyyymm + data_train_yyyymm))})"
   ]
  },
  {
   "cell_type": "code",
   "execution_count": null,
   "metadata": {},
   "outputs": [],
   "source": [
    "data_yyyymm.groupby(['yyyymm','sitetype']).count()"
   ]
  },
  {
   "cell_type": "code",
   "execution_count": null,
   "metadata": {},
   "outputs": [],
   "source": [
    "data_yyyymm.groupby(['sitetype']).count()"
   ]
  },
  {
   "cell_type": "code",
   "execution_count": null,
   "metadata": {},
   "outputs": [],
   "source": []
  }
 ],
 "metadata": {
  "kernelspec": {
   "display_name": "EarthAI Environment",
   "language": "python",
   "name": "python3"
  },
  "language_info": {
   "codemirror_mode": {
    "name": "ipython",
    "version": 3
   },
   "file_extension": ".py",
   "mimetype": "text/x-python",
   "name": "python",
   "nbconvert_exporter": "python",
   "pygments_lexer": "ipython3",
   "version": "3.7.9"
  }
 },
 "nbformat": 4,
 "nbformat_minor": 4
}
