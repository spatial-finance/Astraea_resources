{
 "cells": [
  {
   "cell_type": "markdown",
   "metadata": {},
   "source": [
    "# View assets on S3"
   ]
  },
  {
   "cell_type": "code",
   "execution_count": 1,
   "metadata": {},
   "outputs": [],
   "source": [
    "import boto3\n",
    "import os\n",
    "import shutil"
   ]
  },
  {
   "cell_type": "code",
   "execution_count": 2,
   "metadata": {},
   "outputs": [
    {
     "name": "stdout",
     "output_type": "stream",
     "text": [
      "Requirement already satisfied: awscli in /opt/conda/envs/earthai/lib/python3.7/site-packages (1.18.146)\n",
      "Requirement already satisfied: botocore==1.18.5 in /opt/conda/envs/earthai/lib/python3.7/site-packages (from awscli) (1.18.5)\n",
      "Requirement already satisfied: s3transfer<0.4.0,>=0.3.0 in /opt/conda/envs/earthai/lib/python3.7/site-packages (from awscli) (0.3.3)\n",
      "Requirement already satisfied: docutils<0.16,>=0.10 in /opt/conda/envs/earthai/lib/python3.7/site-packages (from awscli) (0.15.2)\n",
      "Requirement already satisfied: PyYAML<5.4,>=3.10; python_version != \"3.4\" in /opt/conda/envs/earthai/lib/python3.7/site-packages (from awscli) (5.3.1)\n",
      "Requirement already satisfied: rsa<=4.5.0,>=3.1.2; python_version != \"3.4\" in /opt/conda/envs/earthai/lib/python3.7/site-packages (from awscli) (4.5)\n",
      "Requirement already satisfied: colorama<0.4.4,>=0.2.5; python_version != \"3.4\" in /opt/conda/envs/earthai/lib/python3.7/site-packages (from awscli) (0.4.3)\n",
      "Requirement already satisfied: urllib3<1.26,>=1.20; python_version != \"3.4\" in /opt/conda/envs/earthai/lib/python3.7/site-packages (from botocore==1.18.5->awscli) (1.25.10)\n",
      "Requirement already satisfied: jmespath<1.0.0,>=0.7.1 in /opt/conda/envs/earthai/lib/python3.7/site-packages (from botocore==1.18.5->awscli) (0.10.0)\n",
      "Requirement already satisfied: python-dateutil<3.0.0,>=2.1 in /opt/conda/envs/earthai/lib/python3.7/site-packages (from botocore==1.18.5->awscli) (2.8.1)\n",
      "Requirement already satisfied: pyasn1>=0.1.3 in /home/jovyan/.local/lib/python3.7/site-packages (from rsa<=4.5.0,>=3.1.2; python_version != \"3.4\"->awscli) (0.4.8)\n",
      "Requirement already satisfied: six>=1.5 in /opt/conda/envs/earthai/lib/python3.7/site-packages (from python-dateutil<3.0.0,>=2.1->botocore==1.18.5->awscli) (1.15.0)\n"
     ]
    }
   ],
   "source": [
    "! pip install awscli"
   ]
  },
  {
   "cell_type": "code",
   "execution_count": 3,
   "metadata": {},
   "outputs": [],
   "source": [
    "s3 = boto3.resource('s3')\n",
    "bucket = s3.Bucket('sfi-shared-assets')"
   ]
  },
  {
   "cell_type": "code",
   "execution_count": 4,
   "metadata": {},
   "outputs": [
    {
     "name": "stdout",
     "output_type": "stream",
     "text": [
      "                           PRE CHN_scenes_all/\n",
      "                           PRE L8-TIR-macro-localization-model-build/\n",
      "                           PRE L8-TIR-macro-localization-model-build2/\n",
      "                           PRE L8-TIR-macro-localization-model-build3/\n",
      "                           PRE L8-TIR-macro-localization-model-deployment/\n",
      "                           PRE S2-RGB-macro-localization-model-build_rfctr/\n",
      "                           PRE S2-macroloc-model/\n",
      "                           PRE Sentinel_labels_all/\n",
      "                           PRE Sentinel_scenes/\n",
      "                           PRE cement-microloc-phase1/\n",
      "                           PRE tir-macroloc-model/\n",
      "2020-08-07 13:42:15 8355983936 Sentinel_data\n",
      "2020-08-07 16:39:13 8355983936 Sentinel_data.zip\n",
      "2020-07-28 17:46:15    2232180 map.txt\n",
      "2020-08-07 19:44:49 8335718181 sentinel_data.tar.gz\n"
     ]
    }
   ],
   "source": [
    "! aws s3 ls s3://sfi-shared-assets/"
   ]
  },
  {
   "cell_type": "markdown",
   "metadata": {},
   "source": [
    "## Landsat-8 TIR Macro-localization Model Build Chips"
   ]
  },
  {
   "cell_type": "code",
   "execution_count": 5,
   "metadata": {},
   "outputs": [
    {
     "name": "stdout",
     "output_type": "stream",
     "text": [
      "                           PRE /\n",
      "                           PRE L8-TIR-model-results/\n",
      "2020-11-25 00:04:11    4259840 ALD_L8_TIR_cement_chips_v4p1_2018_train.tar\n",
      "2020-11-25 00:28:02    3717120 ALD_L8_TIR_cement_chips_v4p1_2019_train.tar\n",
      "2020-11-25 00:47:51    3153920 ALD_L8_TIR_cement_chips_v4p1_2020_train.tar\n",
      "2020-11-25 17:42:03   33710080 ALD_L8_TIR_chips_v4p1_train.tar\n",
      "2020-12-10 21:13:13   36413440 ALD_L8_TIR_chips_v4p1_train_cement_binary.tar\n",
      "2020-12-10 21:06:46   36352000 ALD_L8_TIR_chips_v4p1_train_steel_binary.tar\n",
      "2020-11-25 00:19:22   22835200 ALD_L8_TIR_landcover_chips_v4p1_2018_train.tar\n",
      "2020-11-25 15:07:51     768000 ALD_L8_TIR_steel_chips_v4p1_2017_train.tar\n",
      "2020-11-25 09:19:25     706560 ALD_L8_TIR_steel_chips_v4p1_2018_train.tar\n",
      "2020-11-25 00:50:18     768000 ALD_L8_TIR_steel_chips_v4p1_2019_train.tar\n",
      "2020-11-25 00:49:34     696320 ALD_L8_TIR_steel_chips_v4p1_2020_train.tar\n"
     ]
    }
   ],
   "source": [
    "! aws s3 ls s3://sfi-shared-assets/L8-TIR-macro-localization-model-build/"
   ]
  },
  {
   "cell_type": "code",
   "execution_count": 6,
   "metadata": {},
   "outputs": [
    {
     "name": "stdout",
     "output_type": "stream",
     "text": [
      "2020-12-10 23:06:07  116306167 densenet161_cement_binary_final.pkl\n",
      "2020-11-25 22:24:28  116308276 densenet161_multiclass_final.pkl\n",
      "2020-12-10 23:08:20  116306151 densenet161_steel_binary_final.pkl\n",
      "2020-12-10 23:06:29  102850046 resnet50_cement_binary_final.pkl\n",
      "2020-11-25 22:24:25  102852094 resnet50_multiclass_final.pkl\n",
      "2020-12-10 23:08:00  102850046 resnet50_steel_binary_final.pkl\n",
      "2020-12-10 23:07:07   39836550 vgg13_cement_binary_final.pkl\n",
      "2020-11-25 22:24:29   39838662 vgg13_multiclass_final.pkl\n",
      "2020-12-10 23:07:41   39836550 vgg13_steel_binary_final.pkl\n"
     ]
    }
   ],
   "source": [
    "! aws s3 ls s3://sfi-shared-assets/L8-TIR-macro-localization-model-build/L8-TIR-model-results/"
   ]
  },
  {
   "cell_type": "code",
   "execution_count": 7,
   "metadata": {},
   "outputs": [
    {
     "name": "stdout",
     "output_type": "stream",
     "text": [
      "                           PRE L8-TIR-model-results3/\n",
      "2020-12-14 20:42:34    4853760 ALD_L8_TIR_cement_chips_v4p1_2018_train3.tar\n",
      "2020-12-14 20:56:11    4239360 ALD_L8_TIR_cement_chips_v4p1_2019_train3.tar\n",
      "2020-12-14 21:10:01    3594240 ALD_L8_TIR_cement_chips_v4p1_2020_train3.tar\n",
      "2020-12-14 22:19:04   33720320 ALD_L8_TIR_chips_v4p1_train3.tar\n",
      "2020-12-15 16:12:32   36659200 ALD_L8_TIR_chips_v4p1_train3_cement_binary.tar\n",
      "2020-12-15 16:00:28   37294080 ALD_L8_TIR_chips_v4p1_train3_steel_binary.tar\n",
      "2020-12-14 21:57:35   26224640 ALD_L8_TIR_landcover_chips_v4p1_2018_train3.tar\n",
      "2020-12-14 20:27:14     870400 ALD_L8_TIR_steel_chips_v4p1_2017_train3.tar\n",
      "2020-12-14 20:22:38     788480 ALD_L8_TIR_steel_chips_v4p1_2018_train3.tar\n",
      "2020-12-14 20:18:03     860160 ALD_L8_TIR_steel_chips_v4p1_2019_train3.tar\n",
      "2020-12-14 20:12:27     778240 ALD_L8_TIR_steel_chips_v4p1_2020_train3.tar\n"
     ]
    }
   ],
   "source": [
    "! aws s3 ls s3://sfi-shared-assets/L8-TIR-macro-localization-model-build3/"
   ]
  },
  {
   "cell_type": "code",
   "execution_count": 10,
   "metadata": {},
   "outputs": [
    {
     "name": "stdout",
     "output_type": "stream",
     "text": [
      "2020-12-15 17:31:51  116306164 densenet161_cement_binary_final.pkl\n",
      "2020-12-15 15:44:28  116308203 densenet161_multiclass_final.pkl\n",
      "2020-12-15 17:31:50  102850046 resnet50_cement_binary_final.pkl\n",
      "2020-12-15 15:45:19  102852094 resnet50_multiclass_final.pkl\n",
      "2020-12-15 17:31:51   39836550 vgg13_cement_binary_final.pkl\n",
      "2020-12-15 15:47:58   39838662 vgg13_multiclass_final.pkl\n"
     ]
    }
   ],
   "source": [
    "! aws s3 ls s3://sfi-shared-assets/L8-TIR-macro-localization-model-build3/L8-TIR-model-results3/"
   ]
  },
  {
   "cell_type": "markdown",
   "metadata": {},
   "source": [
    "## Remove from S3?"
   ]
  },
  {
   "cell_type": "raw",
   "metadata": {},
   "source": [
    "! aws s3 rm s3://sfi-shared-assets/L8-TIR-macro-localization-model-build3/L8-TIR-model-results3vgg13_multiclass_final.pkl"
   ]
  },
  {
   "cell_type": "raw",
   "metadata": {},
   "source": [
    "! aws s3 rm s3://sfi-shared-assets/L8-TIR-macro-localization-model-build/ALD_L8_TIR_steel_chips_v4p1_2017_train2.tar"
   ]
  }
 ],
 "metadata": {
  "kernelspec": {
   "display_name": "EarthAI Environment",
   "language": "python",
   "name": "python3"
  },
  "language_info": {
   "codemirror_mode": {
    "name": "ipython",
    "version": 3
   },
   "file_extension": ".py",
   "mimetype": "text/x-python",
   "name": "python",
   "nbconvert_exporter": "python",
   "pygments_lexer": "ipython3",
   "version": "3.7.9"
  }
 },
 "nbformat": 4,
 "nbformat_minor": 4
}
