{
 "cells": [
  {
   "cell_type": "markdown",
   "metadata": {},
   "source": [
    "# Explore Results from Infrastructure Model for Use in Deployment\n",
    "\n",
    "* Currently covers China only\n",
    "\n",
    "## Import Libraries"
   ]
  },
  {
   "cell_type": "code",
   "execution_count": null,
   "metadata": {},
   "outputs": [],
   "source": [
    "import geopandas as gpd\n",
    "import pandas as pd\n",
    "import numpy as np\n",
    "from matplotlib import pyplot as plt"
   ]
  },
  {
   "cell_type": "markdown",
   "metadata": {},
   "source": [
    "## Input/output Files and Parameters\n",
    "\n",
    "### Input Files\n",
    "\n",
    "* 10km CS macro grid - with waterbody parameter\n",
    "* 10km CS macro grid - without waterbody parameter\n",
    "* Separated for cement and steel"
   ]
  },
  {
   "cell_type": "code",
   "execution_count": null,
   "metadata": {},
   "outputs": [],
   "source": [
    "macro_10km_cement_water_shp = \"../../resources/nt-model/10km_CS_revised/macroloc_cement_CHN_10_correct.shp\"\n",
    "macro_10km_cement_nowater_shp = \"../../resources/nt-model/10km_CS_revised/macroloc_cement_CHN_10_correct1.shp\"\n",
    "macro_10km_steel_water_shp = \"../../resources/nt-model/10km_CS_revised/macroloc_steel_CHN_10_correct.shp\"\n",
    "macro_10km_steel_nowater_shp = \"../../resources/nt-model/10km_CS_revised/macroloc_steel_CHN_10_correct1.shp\""
   ]
  },
  {
   "cell_type": "markdown",
   "metadata": {},
   "source": [
    "* Cement and steel plants with exact and approximate locations"
   ]
  },
  {
   "cell_type": "code",
   "execution_count": null,
   "metadata": {},
   "outputs": [],
   "source": [
    "cement_ext_gjson = \"../../resources/nt-model/cement_exact_china_v4.1.geojson\"\n",
    "cement_appx_gjson = \"../../resources/nt-model/cement_approximate_china_v4.1.geojson\"\n",
    "steel_ext_gjson = \"../../resources/nt-model/steel_exact_china_v4.1.geojson\"\n",
    "steel_appx_gjson = \"../../resources/nt-model/steel_approximate_china_v4.1.geojson\""
   ]
  },
  {
   "cell_type": "markdown",
   "metadata": {},
   "source": [
    "### Parameters"
   ]
  },
  {
   "cell_type": "code",
   "execution_count": null,
   "metadata": {},
   "outputs": [],
   "source": [
    "calc_crs = \"EPSG:3395\"\n",
    "\n",
    "china_area = 9326410.0  #sq km\n",
    "\n",
    "l8_chip_size = 35  #pixels\n",
    "l8_gsd = 0.03  #km\n",
    "\n",
    "s2_chip_size = 300  #pixels\n",
    "s2_gsd = 0.01  #km"
   ]
  },
  {
   "cell_type": "markdown",
   "metadata": {},
   "source": [
    "## Read in Results - Cement\n",
    "\n",
    "#### With Waterbodies"
   ]
  },
  {
   "cell_type": "code",
   "execution_count": null,
   "metadata": {},
   "outputs": [],
   "source": [
    "macro_10km_cement_water_gdf = gpd.read_file(macro_10km_cement_water_shp)"
   ]
  },
  {
   "cell_type": "code",
   "execution_count": null,
   "metadata": {},
   "outputs": [],
   "source": [
    "macro_10km_cement_water_gdf.head(10)"
   ]
  },
  {
   "cell_type": "code",
   "execution_count": null,
   "metadata": {},
   "outputs": [],
   "source": [
    "print(\"CRS: \", macro_10km_cement_water_gdf.crs)\n",
    "print(\"Number of grid cells in 10km CS Macro, Cement, with Waterbodies: \", len(macro_10km_cement_water_gdf))\n",
    "print(\"Count of unique index: \", macro_10km_cement_water_gdf.index.nunique())"
   ]
  },
  {
   "cell_type": "markdown",
   "metadata": {},
   "source": [
    "#### Without Waterbodies"
   ]
  },
  {
   "cell_type": "code",
   "execution_count": null,
   "metadata": {},
   "outputs": [],
   "source": [
    "macro_10km_cement_nowater_gdf = gpd.read_file(macro_10km_cement_nowater_shp)"
   ]
  },
  {
   "cell_type": "code",
   "execution_count": null,
   "metadata": {},
   "outputs": [],
   "source": [
    "macro_10km_cement_nowater_gdf.head(10)"
   ]
  },
  {
   "cell_type": "code",
   "execution_count": null,
   "metadata": {},
   "outputs": [],
   "source": [
    "print(\"CRS: \", macro_10km_cement_nowater_gdf.crs)\n",
    "print(\"Number of grid cells in 10km CS Macro, Cement, without Waterbodies: \", len(macro_10km_cement_nowater_gdf))\n",
    "print(\"Count of unique index: \", macro_10km_cement_nowater_gdf.index.nunique())"
   ]
  },
  {
   "cell_type": "markdown",
   "metadata": {},
   "source": [
    "## Read in Results - Steel\n",
    "\n",
    "#### With Waterbodies"
   ]
  },
  {
   "cell_type": "code",
   "execution_count": null,
   "metadata": {},
   "outputs": [],
   "source": [
    "macro_10km_steel_water_gdf = gpd.read_file(macro_10km_steel_water_shp)"
   ]
  },
  {
   "cell_type": "code",
   "execution_count": null,
   "metadata": {},
   "outputs": [],
   "source": [
    "macro_10km_steel_water_gdf.head(10)"
   ]
  },
  {
   "cell_type": "code",
   "execution_count": null,
   "metadata": {},
   "outputs": [],
   "source": [
    "print(\"CRS: \", macro_10km_steel_water_gdf.crs)\n",
    "print(\"Number of grid cells in 10km CS Macro, Steel, with Waterbodies: \", len(macro_10km_steel_water_gdf))\n",
    "print(\"Count of unique index: \", macro_10km_steel_water_gdf.index.nunique())"
   ]
  },
  {
   "cell_type": "markdown",
   "metadata": {},
   "source": [
    "#### Without Waterbodies"
   ]
  },
  {
   "cell_type": "code",
   "execution_count": null,
   "metadata": {},
   "outputs": [],
   "source": [
    "macro_10km_steel_nowater_gdf = gpd.read_file(macro_10km_steel_nowater_shp)"
   ]
  },
  {
   "cell_type": "code",
   "execution_count": null,
   "metadata": {},
   "outputs": [],
   "source": [
    "macro_10km_steel_nowater_gdf.head(10)"
   ]
  },
  {
   "cell_type": "code",
   "execution_count": null,
   "metadata": {},
   "outputs": [],
   "source": [
    "print(\"CRS: \", macro_10km_steel_nowater_gdf.crs)\n",
    "print(\"Number of grid cells in 10km CS Macro, Steel, without Waterbodies: \", len(macro_10km_steel_nowater_gdf))\n",
    "print(\"Count of unique index: \", macro_10km_steel_nowater_gdf.index.nunique())"
   ]
  },
  {
   "cell_type": "markdown",
   "metadata": {},
   "source": [
    "## Read in Cement and Steel Plant Data"
   ]
  },
  {
   "cell_type": "code",
   "execution_count": null,
   "metadata": {},
   "outputs": [],
   "source": [
    "cement_ext_gdf = gpd.read_file(cement_ext_gjson)\n",
    "cement_appx_gdf = gpd.read_file(cement_appx_gjson)"
   ]
  },
  {
   "cell_type": "markdown",
   "metadata": {},
   "source": [
    "### Steel Plants"
   ]
  },
  {
   "cell_type": "code",
   "execution_count": null,
   "metadata": {},
   "outputs": [],
   "source": [
    "steel_ext_gdf = gpd.read_file(steel_ext_gjson)\n",
    "steel_appx_gdf = gpd.read_file(steel_appx_gjson)"
   ]
  },
  {
   "cell_type": "markdown",
   "metadata": {},
   "source": [
    "## Examine Model Accuracy and Deployment Region Considerations\n",
    "\n",
    "Questions to answer:\n",
    "1. What fraction of plants with exact locations are within the grid cells? Approximates recall.\n",
    "2. What fraction of plants with exact locations are not within the grid cells? Approximates false-negative rate.\n",
    "3. How much total area would we have to survey?\n",
    "4. How many Landsat-8 chips would need to be created (approximate only)?\n",
    "5. How many Sentinel-2 chips would need to be created (approximate only)?"
   ]
  },
  {
   "cell_type": "code",
   "execution_count": null,
   "metadata": {},
   "outputs": [],
   "source": [
    "l8_chip_area = pow(l8_gsd * l8_chip_size,2)  #sq km\n",
    "s2_chip_area = pow(s2_gsd * s2_chip_size,2)  #sq km"
   ]
  },
  {
   "cell_type": "markdown",
   "metadata": {},
   "source": [
    "### Macro 10km Grid - with Waterbodies"
   ]
  },
  {
   "cell_type": "code",
   "execution_count": null,
   "metadata": {},
   "outputs": [],
   "source": [
    "macro_10km_water_phys = macro_10km_cement_water_gdf.to_crs(calc_crs)\n",
    "macro_10km_water_area = sum(macro_10km_water_phys.area / 1e6)"
   ]
  },
  {
   "cell_type": "code",
   "execution_count": null,
   "metadata": {},
   "outputs": [],
   "source": [
    "l8_10km_water_chip_cnt = macro_10km_water_area / l8_chip_area\n",
    "s2_10km_water_chip_cnt = macro_10km_water_area / s2_chip_area"
   ]
  },
  {
   "cell_type": "code",
   "execution_count": null,
   "metadata": {},
   "outputs": [],
   "source": [
    "print(\"Deployment Area for 10km Grid with Waterbodies: \", macro_10km_water_area, \" sq km\")\n",
    "print(\"Percent Area of China: \", macro_10km_water_area/china_area * 100, \"%\")\n",
    "print(\"Number of Landsat-8 Chips Required: \", round(l8_10km_water_chip_cnt))\n",
    "print(\"Number of Sentinel-2 Chips Required: \", round(s2_10km_water_chip_cnt))"
   ]
  },
  {
   "cell_type": "markdown",
   "metadata": {},
   "source": [
    "### Macro 10km Grid - without Waterbodies"
   ]
  },
  {
   "cell_type": "code",
   "execution_count": null,
   "metadata": {},
   "outputs": [],
   "source": [
    "macro_10km_nowater_phys = macro_10km_cement_nowater_gdf.to_crs(calc_crs)\n",
    "macro_10km_nowater_area = sum(macro_10km_nowater_phys.area / 1e6)"
   ]
  },
  {
   "cell_type": "code",
   "execution_count": null,
   "metadata": {},
   "outputs": [],
   "source": [
    "l8_10km_nowater_chip_cnt = macro_10km_nowater_area / l8_chip_area\n",
    "s2_10km_nowater_chip_cnt = macro_10km_nowater_area / s2_chip_area"
   ]
  },
  {
   "cell_type": "code",
   "execution_count": null,
   "metadata": {},
   "outputs": [],
   "source": [
    "print(\"Deployment Area for 10km Grid without Waterbodies: \", macro_10km_nowater_area, \" sq km\")\n",
    "print(\"Percent Area of China: \", macro_10km_nowater_area/china_area * 100, \"%\")\n",
    "print(\"Number of Landsat-8 Chips Required: \", round(l8_10km_nowater_chip_cnt))\n",
    "print(\"Number of Sentinel-2 Chips Required: \", round(s2_10km_nowater_chip_cnt))"
   ]
  },
  {
   "cell_type": "markdown",
   "metadata": {},
   "source": [
    "### Cement\n",
    "\n",
    "#### 10km Grid - with Waterbodies"
   ]
  },
  {
   "cell_type": "code",
   "execution_count": null,
   "metadata": {},
   "outputs": [],
   "source": [
    "cement_ext_water_intsct = gpd.sjoin(macro_10km_cement_water_gdf, cement_ext_gdf, how=\"inner\", op=\"intersects\")"
   ]
  },
  {
   "cell_type": "code",
   "execution_count": null,
   "metadata": {},
   "outputs": [],
   "source": [
    "cement_water_tpr = len(cement_ext_water_intsct) / (len(cement_ext_gdf)) * 100"
   ]
  },
  {
   "cell_type": "code",
   "execution_count": null,
   "metadata": {},
   "outputs": [],
   "source": [
    "print (\"Cement Recall, 10km Grid, with Waterbodies: \", cement_water_tpr, \"%\")\n",
    "print (\"Cement Miss Rate, 10km Grid: \", 100 - cement_water_tpr, \"%\")"
   ]
  },
  {
   "cell_type": "markdown",
   "metadata": {},
   "source": [
    "#### 10km Grid - without Waterbodies"
   ]
  },
  {
   "cell_type": "code",
   "execution_count": null,
   "metadata": {},
   "outputs": [],
   "source": [
    "cement_ext_nowater_intsct = gpd.sjoin(macro_10km_cement_nowater_gdf, cement_ext_gdf, how=\"inner\", op=\"intersects\")"
   ]
  },
  {
   "cell_type": "code",
   "execution_count": null,
   "metadata": {},
   "outputs": [],
   "source": [
    "cement_nowater_tpr = len(cement_ext_nowater_intsct) / (len(cement_ext_gdf)) * 100"
   ]
  },
  {
   "cell_type": "code",
   "execution_count": null,
   "metadata": {},
   "outputs": [],
   "source": [
    "print (\"Cement Recall, 10km Grid, without Waterbodies: \", cement_nowater_tpr, \"%\")\n",
    "print (\"Cement Miss Rate, 10km Grid: \", 100 - cement_nowater_tpr, \"%\")"
   ]
  },
  {
   "cell_type": "markdown",
   "metadata": {},
   "source": [
    "#### 10km Grid, with Waterbodies, with Thresholds"
   ]
  },
  {
   "cell_type": "code",
   "execution_count": null,
   "metadata": {},
   "outputs": [],
   "source": [
    "preds_thresh = np.arange(0, 0.3, 0.001)\n",
    "area_thresh_cement_water = [sum(macro_10km_water_phys[macro_10km_water_phys.preds >= thresh].area / 1e6) \\\n",
    "               for thresh in preds_thresh]\n",
    "cnt_thresh = [cement_ext_water_intsct[cement_ext_water_intsct.preds >= thresh].uid.nunique() \\\n",
    "              for thresh in preds_thresh]"
   ]
  },
  {
   "cell_type": "code",
   "execution_count": null,
   "metadata": {},
   "outputs": [],
   "source": [
    "cement_survey_water_df = pd.DataFrame({\"thresh\": preds_thresh,\n",
    "                                 \"area\": area_thresh_cement_water,\n",
    "                                 \"cnt\": cnt_thresh})\n",
    "cement_survey_water_df['tpr'] = cement_survey_water_df.cnt / len(cement_ext_gdf) * 100\n",
    "cement_survey_water_df['fnr'] = 100 - cement_survey_water_df.tpr\n",
    "cement_survey_water_df['pct_area'] = cement_survey_water_df.area / china_area * 100\n",
    "cement_survey_water_df['l8_chp_cnt'] = round(cement_survey_water_df.area / l8_chip_area)\n",
    "cement_survey_water_df['s2_chp_cnt'] = round(cement_survey_water_df.area / s2_chip_area)"
   ]
  },
  {
   "cell_type": "markdown",
   "metadata": {},
   "source": [
    "#### 10km Grid, without Waterbodies, with Thresholds"
   ]
  },
  {
   "cell_type": "code",
   "execution_count": null,
   "metadata": {},
   "outputs": [],
   "source": [
    "area_thresh_cement_nowater = [sum(macro_10km_nowater_phys[macro_10km_nowater_phys.preds >= thresh].area / 1e6) \\\n",
    "               for thresh in preds_thresh]\n",
    "cnt_thresh = [cement_ext_nowater_intsct[cement_ext_nowater_intsct.preds >= thresh].uid.nunique() \\\n",
    "              for thresh in preds_thresh]"
   ]
  },
  {
   "cell_type": "code",
   "execution_count": null,
   "metadata": {},
   "outputs": [],
   "source": [
    "cement_survey_nowater_df = pd.DataFrame({\"thresh\": preds_thresh,\n",
    "                                 \"area\": area_thresh_cement_nowater,\n",
    "                                 \"cnt\": cnt_thresh})\n",
    "cement_survey_nowater_df['tpr'] = cement_survey_nowater_df.cnt / len(cement_ext_gdf) * 100\n",
    "cement_survey_nowater_df['fnr'] = 100 - cement_survey_nowater_df.tpr\n",
    "cement_survey_nowater_df['pct_area'] = cement_survey_nowater_df.area / china_area * 100\n",
    "cement_survey_nowater_df['l8_chp_cnt'] = round(cement_survey_nowater_df.area / l8_chip_area)\n",
    "cement_survey_nowater_df['s2_chp_cnt'] = round(cement_survey_nowater_df.area / s2_chip_area)"
   ]
  },
  {
   "cell_type": "code",
   "execution_count": null,
   "metadata": {},
   "outputs": [],
   "source": [
    "plt.title(\"Cement: Recall Versus Prediction Threshold\") \n",
    "plt.xlabel(\"Prediction Minimum Threshold\") \n",
    "plt.ylabel(\"Recall (True Positive Rate)\") \n",
    "plt.plot(cement_survey_nowater_df.thresh, cement_survey_nowater_df.tpr, 'b-', label='Without Waterbodies')\n",
    "plt.plot(cement_survey_water_df.thresh, cement_survey_water_df.tpr, 'g--', label='With Waterbodies')\n",
    "plt.plot(cement_survey_nowater_df.thresh[0], cement_survey_nowater_df.tpr[0], 'b*', label='thresh=0.000')\n",
    "plt.legend()\n",
    "plt.show()"
   ]
  },
  {
   "cell_type": "code",
   "execution_count": null,
   "metadata": {},
   "outputs": [],
   "source": [
    "plt.title(\"Cement: Recall Versus Survey Area\") \n",
    "plt.xlabel(\"Survey Area (sq km)\") \n",
    "plt.ylabel(\"Recall (True Positive Rate)\") \n",
    "plt.plot(cement_survey_nowater_df.area, cement_survey_nowater_df.tpr, 'b-', label='Without Waterbodies')\n",
    "plt.plot(cement_survey_water_df.area, cement_survey_water_df.tpr, 'g--', label='With Waterbodies')\n",
    "plt.plot(cement_survey_nowater_df.area[0], cement_survey_nowater_df.tpr[0], 'b*', label='thresh=0.000')\n",
    "plt.legend()\n",
    "plt.show()"
   ]
  },
  {
   "cell_type": "code",
   "execution_count": null,
   "metadata": {},
   "outputs": [],
   "source": [
    "plt.title(\"Cement: Recall Versus No. Landsat-8 Chips\") \n",
    "plt.xlabel(\"Count of Landsat-8 Chips\") \n",
    "plt.ylabel(\"Recall (True Positive Rate)\") \n",
    "plt.plot(cement_survey_nowater_df.l8_chp_cnt, cement_survey_nowater_df.tpr, 'b-', label='Without Waterbodies')\n",
    "plt.plot(cement_survey_water_df.l8_chp_cnt, cement_survey_water_df.tpr, 'g--', label='With Waterbodies')\n",
    "plt.legend()\n",
    "plt.show()"
   ]
  },
  {
   "cell_type": "code",
   "execution_count": null,
   "metadata": {},
   "outputs": [],
   "source": [
    "plt.title(\"Cement: Recall Versus No. Sentinel-2 Chips\") \n",
    "plt.xlabel(\"Count of Sentinel-2 Chips\") \n",
    "plt.ylabel(\"Recall (True Positive Rate)\") \n",
    "plt.plot(cement_survey_nowater_df.s2_chp_cnt, cement_survey_nowater_df.tpr, 'b-', label='Without Waterbodies')\n",
    "plt.plot(cement_survey_water_df.s2_chp_cnt, cement_survey_water_df.tpr, 'g--', label='With Waterbodies')\n",
    "plt.legend()\n",
    "plt.show()"
   ]
  },
  {
   "cell_type": "markdown",
   "metadata": {},
   "source": [
    "### Steel\n",
    "\n",
    "#### 10km Grid - with Waterbodies"
   ]
  },
  {
   "cell_type": "code",
   "execution_count": null,
   "metadata": {},
   "outputs": [],
   "source": [
    "steel_ext_water_intsct = gpd.sjoin(macro_10km_steel_water_gdf, steel_ext_gdf, how=\"inner\", op=\"intersects\")"
   ]
  },
  {
   "cell_type": "code",
   "execution_count": null,
   "metadata": {},
   "outputs": [],
   "source": [
    "steel_water_tpr = len(steel_ext_water_intsct) / (len(steel_ext_gdf)) * 100"
   ]
  },
  {
   "cell_type": "code",
   "execution_count": null,
   "metadata": {},
   "outputs": [],
   "source": [
    "print (\"Steel Recall, 10km Grid, with Waterbodies: \", steel_water_tpr, \"%\")\n",
    "print (\"Steel Miss Rate, 10km Grid: \", 100 - steel_water_tpr, \"%\")"
   ]
  },
  {
   "cell_type": "markdown",
   "metadata": {},
   "source": [
    "#### 10km Grid - without Waterbodies"
   ]
  },
  {
   "cell_type": "code",
   "execution_count": null,
   "metadata": {},
   "outputs": [],
   "source": [
    "steel_ext_nowater_intsct = gpd.sjoin(macro_10km_steel_nowater_gdf, steel_ext_gdf, how=\"inner\", op=\"intersects\")"
   ]
  },
  {
   "cell_type": "code",
   "execution_count": null,
   "metadata": {},
   "outputs": [],
   "source": [
    "steel_nowater_tpr = len(steel_ext_nowater_intsct) / (len(steel_ext_gdf)) * 100"
   ]
  },
  {
   "cell_type": "code",
   "execution_count": null,
   "metadata": {},
   "outputs": [],
   "source": [
    "print (\"Steel Recall, 10km Grid, without Waterbodies: \", steel_nowater_tpr, \"%\")\n",
    "print (\"Steel Miss Rate, 10km Grid: \", 100 - steel_nowater_tpr, \"%\")"
   ]
  },
  {
   "cell_type": "markdown",
   "metadata": {},
   "source": [
    "#### 10km Grid, with Waterbodies, with Thresholds"
   ]
  },
  {
   "cell_type": "code",
   "execution_count": null,
   "metadata": {},
   "outputs": [],
   "source": [
    "cnt_thresh = [steel_ext_water_intsct[steel_ext_water_intsct.preds >= thresh].uid.nunique() \\\n",
    "              for thresh in preds_thresh]"
   ]
  },
  {
   "cell_type": "code",
   "execution_count": null,
   "metadata": {},
   "outputs": [],
   "source": [
    "steel_survey_water_df = pd.DataFrame({\"thresh\": preds_thresh,\n",
    "                                 \"area\": area_thresh_cement_water,\n",
    "                                 \"cnt\": cnt_thresh})\n",
    "steel_survey_water_df['tpr'] = steel_survey_water_df.cnt / len(steel_ext_gdf) * 100\n",
    "steel_survey_water_df['fnr'] = 100 - steel_survey_water_df.tpr\n",
    "steel_survey_water_df['pct_area'] = steel_survey_water_df.area / china_area * 100\n",
    "steel_survey_water_df['l8_chp_cnt'] = round(steel_survey_water_df.area / l8_chip_area)\n",
    "steel_survey_water_df['s2_chp_cnt'] = round(steel_survey_water_df.area / s2_chip_area)"
   ]
  },
  {
   "cell_type": "markdown",
   "metadata": {},
   "source": [
    "#### 10km Grid, without Waterbodies, with Thresholds"
   ]
  },
  {
   "cell_type": "code",
   "execution_count": null,
   "metadata": {},
   "outputs": [],
   "source": [
    "cnt_thresh = [steel_ext_nowater_intsct[steel_ext_nowater_intsct.preds >= thresh].uid.nunique() \\\n",
    "              for thresh in preds_thresh]"
   ]
  },
  {
   "cell_type": "code",
   "execution_count": null,
   "metadata": {},
   "outputs": [],
   "source": [
    "steel_survey_nowater_df = pd.DataFrame({\"thresh\": preds_thresh,\n",
    "                                 \"area\": area_thresh_cement_nowater,\n",
    "                                 \"cnt\": cnt_thresh})\n",
    "steel_survey_nowater_df['tpr'] = steel_survey_nowater_df.cnt / len(steel_ext_gdf) * 100\n",
    "steel_survey_nowater_df['fnr'] = 100 - steel_survey_nowater_df.tpr\n",
    "steel_survey_nowater_df['pct_area'] = steel_survey_nowater_df.area / china_area * 100\n",
    "steel_survey_nowater_df['l8_chp_cnt'] = round(steel_survey_nowater_df.area / l8_chip_area)\n",
    "steel_survey_nowater_df['s2_chp_cnt'] = round(steel_survey_nowater_df.area / s2_chip_area)"
   ]
  },
  {
   "cell_type": "code",
   "execution_count": null,
   "metadata": {},
   "outputs": [],
   "source": [
    "plt.title(\"Steel: Recall Versus Prediction Threshold\") \n",
    "plt.xlabel(\"Prediction Minimum Threshold\") \n",
    "plt.ylabel(\"Recall (True Positive Rate)\") \n",
    "plt.plot(steel_survey_nowater_df.thresh, steel_survey_nowater_df.tpr, 'b-', label='Without Waterbodies') \n",
    "plt.plot(steel_survey_water_df.thresh, steel_survey_water_df.tpr, 'g--', label='With Waterbodies') \n",
    "plt.plot(steel_survey_nowater_df.thresh[0], steel_survey_nowater_df.tpr[0], 'b*', label='thresh=0.000')\n",
    "plt.legend()\n",
    "plt.show()"
   ]
  },
  {
   "cell_type": "code",
   "execution_count": null,
   "metadata": {},
   "outputs": [],
   "source": [
    "plt.title(\"Steel: Recall Versus Survey Area\") \n",
    "plt.xlabel(\"Survey Area (sq km)\") \n",
    "plt.ylabel(\"Recall (True Positive Rate)\") \n",
    "plt.plot(steel_survey_nowater_df.area, steel_survey_nowater_df.tpr, 'b-', label='Without Waterbodies') \n",
    "plt.plot(steel_survey_water_df.area, steel_survey_water_df.tpr, 'g--', label='With Waterbodies') \n",
    "plt.plot(steel_survey_nowater_df.area[0], steel_survey_nowater_df.tpr[0], 'b*', label='thresh=0.000')\n",
    "plt.legend()\n",
    "plt.show()"
   ]
  },
  {
   "cell_type": "code",
   "execution_count": null,
   "metadata": {},
   "outputs": [],
   "source": [
    "plt.title(\"Steel: Recall Versus No. Landsat-8 Chips\") \n",
    "plt.xlabel(\"Count of Landsat-8 Chips\") \n",
    "plt.ylabel(\"Recall (True Positive Rate)\") \n",
    "plt.plot(steel_survey_nowater_df.l8_chp_cnt, steel_survey_nowater_df.tpr, 'b-', label='Without Waterbodies') \n",
    "plt.plot(steel_survey_water_df.l8_chp_cnt, steel_survey_water_df.tpr, 'g--', label='With Waterbodies') \n",
    "plt.legend()\n",
    "plt.show()"
   ]
  },
  {
   "cell_type": "code",
   "execution_count": null,
   "metadata": {},
   "outputs": [],
   "source": [
    "plt.title(\"Steel: Recall Versus No. Sentinel-2 Chips\") \n",
    "plt.xlabel(\"Count of Sentinel-2 Chips\") \n",
    "plt.ylabel(\"Recall (True Positive Rate)\") \n",
    "plt.plot(steel_survey_nowater_df.s2_chp_cnt, steel_survey_nowater_df.tpr, 'b-', label='Without Waterbodies') \n",
    "plt.plot(steel_survey_water_df.s2_chp_cnt, steel_survey_water_df.tpr, 'g--', label='With Waterbodies') \n",
    "plt.legend()\n",
    "plt.show()"
   ]
  },
  {
   "cell_type": "code",
   "execution_count": null,
   "metadata": {},
   "outputs": [],
   "source": []
  }
 ],
 "metadata": {
  "kernelspec": {
   "display_name": "EarthAI Environment",
   "language": "python",
   "name": "python3"
  },
  "language_info": {
   "codemirror_mode": {
    "name": "ipython",
    "version": 3
   },
   "file_extension": ".py",
   "mimetype": "text/x-python",
   "name": "python",
   "nbconvert_exporter": "python",
   "pygments_lexer": "ipython3",
   "version": "3.7.9"
  }
 },
 "nbformat": 4,
 "nbformat_minor": 4
}
