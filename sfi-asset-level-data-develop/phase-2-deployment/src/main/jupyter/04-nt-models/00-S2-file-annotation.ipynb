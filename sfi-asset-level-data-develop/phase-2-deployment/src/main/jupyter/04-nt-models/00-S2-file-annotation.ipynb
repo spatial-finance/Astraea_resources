{
 "cells": [
  {
   "cell_type": "markdown",
   "metadata": {},
   "source": [
    "# Create Annotations for Sentinel-2 RGB Chips\n",
    "\n",
    "This notebook creates a cvs file with annotations for the cement and steel plant Sentinel-2 chips.\n",
    "\n",
    "* Limited to plants with exact locations in China\n",
    "* Output columns:\n",
    "    * uid: unique plant identifyer\n",
    "    * filename: GeoTiff chip for the plant\n",
    "    * long_min: minimum longitude at 1-km buffer around the plant\n",
    "    * lat_min: minimum latitude at 1-km buffer around the plant\n",
    "    * long_max: maximum longitude at 1-km buffer around the plant\n",
    "    * lat_max: maximum latitude at 1-km buffer around the plant\n",
    "    * class: plant type (steel = 1, cement = 2)\n",
    "\n",
    "## Import libraries"
   ]
  },
  {
   "cell_type": "code",
   "execution_count": null,
   "metadata": {},
   "outputs": [],
   "source": [
    "import geopandas as gpd\n",
    "from geopandas import GeoDataFrame\n",
    "import pandas as pd\n",
    "from shapely.geometry import Point,Polygon, LineString\n",
    "import os, sys\n",
    "import matplotlib.pyplot as plt\n",
    "%matplotlib inline\n",
    "import fiona\n",
    "import numpy as np\n",
    "import time\n",
    "import folium"
   ]
  },
  {
   "cell_type": "markdown",
   "metadata": {},
   "source": [
    "## Define buffer size"
   ]
  },
  {
   "cell_type": "code",
   "execution_count": null,
   "metadata": {},
   "outputs": [],
   "source": [
    "# buffer_size = distance from cement or steel plants to compute min/max long/lat\n",
    "buffer_size = 1000 # in m"
   ]
  },
  {
   "cell_type": "markdown",
   "metadata": {},
   "source": [
    "## Define input and output files"
   ]
  },
  {
   "cell_type": "code",
   "execution_count": null,
   "metadata": {},
   "outputs": [],
   "source": [
    "# Paths to input cement and steel data sets (stored locally)\n",
    "path = r'../../resources/'\n",
    "cemfile = r'cement_dataset_v4.xlsx'\n",
    "steelfile = r'steel_dataset_v4.xlsx'\n",
    "\n",
    "# Path to output csv file (stored locally)\n",
    "csvout = r'../../resources/cement_steel_chip_annotations/cement_steel_S2_chip_annotations_v4_CHINA.csv'"
   ]
  },
  {
   "cell_type": "markdown",
   "metadata": {},
   "source": [
    "## Define function to return min/max long/lat"
   ]
  },
  {
   "cell_type": "code",
   "execution_count": null,
   "metadata": {},
   "outputs": [],
   "source": [
    "def get_long_lat_bounds(path, filename, buffer_size=1000, cement=False):\n",
    "\n",
    "    df = pd.read_excel(os.path.join(path, filename))\n",
    "    \n",
    "    # Limit to China, exact locations\n",
    "    df = df[ (df.iso3 == 'CHN') & (df.accuracy == 'Exact') ]\n",
    "    # If cement, limit to integrated\n",
    "    if cement:\n",
    "        df = df[df.plant_type == 'Integrated']\n",
    "    \n",
    "    # Define the geometry \n",
    "    geometry = [Point(xy) for xy in zip(df.longitude, df.latitude)] #df.x, df.y\n",
    "\n",
    "    # Create a geodataframe\n",
    "    geo_df = gpd.GeoDataFrame(df, crs='EPSG:4326', geometry=geometry)\n",
    "    \n",
    "    # Convert crs to UTM to preserve uniform area\n",
    "    geo_df_UTM = geo_df.to_crs('EPSG:3395')\n",
    "\n",
    "    # Create geometry with desired buffer around the plants\n",
    "    gdf_buffer = geo_df_UTM.buffer(buffer_size).envelope\n",
    "    geo_df_buffer = geo_df_UTM\n",
    "    geo_df_buffer['geometry'] = gdf_buffer\n",
    "\n",
    "    # Convert buffer to long/lat\n",
    "    geo_df_buffer = geo_df_buffer.to_crs('EPSG:4326')\n",
    "\n",
    "    # Get min/max long/lat\n",
    "    uid = []\n",
    "    long_min = []\n",
    "    lat_min = []\n",
    "    long_max = []\n",
    "    lat_max = []\n",
    "    for index, row in geo_df_buffer.iterrows():\n",
    "        ll_bounds = list(row['geometry'].bounds)\n",
    "        long_min.append(ll_bounds[0])\n",
    "        lat_min.append(ll_bounds[1])\n",
    "        long_max.append(ll_bounds[2])\n",
    "        lat_max.append(ll_bounds[3])\n",
    "        uid.append(row['uid'])\n",
    "    \n",
    "    # Return data frame\n",
    "    df_ret = pd.DataFrame(list(zip(uid, long_min, lat_min, long_max, lat_max)),\n",
    "                          columns =['uid', 'long_min', 'lat_min,', 'long_max', 'lat_max'])  \n",
    "    return(df_ret)"
   ]
  },
  {
   "cell_type": "markdown",
   "metadata": {},
   "source": [
    "## Create annotations and write to csv"
   ]
  },
  {
   "cell_type": "markdown",
   "metadata": {},
   "source": [
    "### STEEL"
   ]
  },
  {
   "cell_type": "code",
   "execution_count": null,
   "metadata": {
    "scrolled": true
   },
   "outputs": [],
   "source": [
    "# Get min/max long/lat\n",
    "steel_df = get_long_lat_bounds(path, steelfile, buffer_size=1000, cement=False)\n",
    "\n",
    "# Define chip name\n",
    "# (See 03-S2-RGB-steel-chip-creation.ipynb)\n",
    "steel_df['filename'] = steel_df['uid'] + '_steel_v4_S2_RGB_20200601_20200731.tif'\n",
    "\n",
    "# Define class (steel = 1)\n",
    "steel_df['class'] = 1\n",
    "steel_df"
   ]
  },
  {
   "cell_type": "markdown",
   "metadata": {},
   "source": [
    "### Cement"
   ]
  },
  {
   "cell_type": "code",
   "execution_count": null,
   "metadata": {},
   "outputs": [],
   "source": [
    "# Get min/max long/lat\n",
    "cement_df = get_long_lat_bounds(path, cemfile, buffer_size=1000, cement=True)\n",
    "\n",
    "# Define chip name\n",
    "# (See 01-S2-RGB-cement-chip-creation.ipynb)\n",
    "cement_df['filename'] = cement_df['uid'] + '_cement_v4_S2_RGB_20200601_20200731.tif'\n",
    "\n",
    "# Define class (cement = 2)\n",
    "cement_df['class'] = 2\n",
    "cement_df"
   ]
  },
  {
   "cell_type": "markdown",
   "metadata": {},
   "source": [
    "### Concatenate and save"
   ]
  },
  {
   "cell_type": "code",
   "execution_count": null,
   "metadata": {
    "scrolled": true
   },
   "outputs": [],
   "source": [
    "# Merge steel and cement\n",
    "plant_df = cement_df.append(steel_df)"
   ]
  },
  {
   "cell_type": "code",
   "execution_count": null,
   "metadata": {
    "scrolled": true
   },
   "outputs": [],
   "source": [
    "# Write to csv\n",
    "plant_df.to_csv(csvout)"
   ]
  },
  {
   "cell_type": "code",
   "execution_count": null,
   "metadata": {},
   "outputs": [],
   "source": []
  }
 ],
 "metadata": {
  "kernelspec": {
   "display_name": "EarthAI Environment",
   "language": "python",
   "name": "python3"
  },
  "language_info": {
   "codemirror_mode": {
    "name": "ipython",
    "version": 3
   },
   "file_extension": ".py",
   "mimetype": "text/x-python",
   "name": "python",
   "nbconvert_exporter": "python",
   "pygments_lexer": "ipython3",
   "version": "3.7.9"
  }
 },
 "nbformat": 4,
 "nbformat_minor": 4
}
