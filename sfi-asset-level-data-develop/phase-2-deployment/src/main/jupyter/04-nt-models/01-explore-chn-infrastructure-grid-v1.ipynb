{
 "cells": [
  {
   "cell_type": "markdown",
   "metadata": {},
   "source": [
    "# Explore Results from Infrastructure Model for Use in Deployment\n",
    "\n",
    "* Currently covers China only\n",
    "\n",
    "## Import Libraries"
   ]
  },
  {
   "cell_type": "code",
   "execution_count": null,
   "metadata": {},
   "outputs": [],
   "source": [
    "import geopandas as gpd\n",
    "import pandas as pd\n",
    "import numpy as np\n",
    "from matplotlib import pyplot as plt"
   ]
  },
  {
   "cell_type": "markdown",
   "metadata": {},
   "source": [
    "## Input/output Files and Parameters\n",
    "\n",
    "### Input Files\n",
    "\n",
    "* 10km CS macro grid\n",
    "* 5km CS macro grid"
   ]
  },
  {
   "cell_type": "code",
   "execution_count": null,
   "metadata": {},
   "outputs": [],
   "source": [
    "macro_10km_shp = \"../../resources/nt-model/10km_CS_macro/macroloc_cement_steel_CHN_10.shp\"\n",
    "macro_5km_shp = \"../../resources/nt-model/5km_CS_macro/macroloc_cement_steel_CHN1.shp\""
   ]
  },
  {
   "cell_type": "markdown",
   "metadata": {},
   "source": [
    "* Cement and steel plants with exact and approximate locations"
   ]
  },
  {
   "cell_type": "code",
   "execution_count": null,
   "metadata": {},
   "outputs": [],
   "source": [
    "cement_ext_csv = \"../../resources/asset-subsets-v4p1/cement_exact_china_v4.1.csv\"\n",
    "cement_appx_csv = \"../../resources/asset-subsets-v4p1/cement_approximate_china_v4.1.csv\"\n",
    "steel_ext_csv = \"../../resources/asset-subsets-v4p1/steel_exact_china_v4.1.csv\"\n",
    "steel_appx_csv = \"../../resources/asset-subsets-v4p1/steel_approximate_china_v4.1.csv\""
   ]
  },
  {
   "cell_type": "markdown",
   "metadata": {},
   "source": [
    "### Output Files\n",
    "\n",
    "* GeoJSON files for cement and steel plants (used to explore deployment area options)"
   ]
  },
  {
   "cell_type": "code",
   "execution_count": null,
   "metadata": {},
   "outputs": [],
   "source": [
    "cement_ext_gjson = \"../../resources/nt-model/cement_exact_china_v4.1.geojson\"\n",
    "cement_appx_gjson = \"../../resources/nt-model/cement_approximate_china_v4.1.geojson\"\n",
    "steel_ext_gjson = \"../../resources/nt-model/steel_exact_china_v4.1.geojson\"\n",
    "steel_appx_gjson = \"../../resources/nt-model/steel_approximate_china_v4.1.geojson\""
   ]
  },
  {
   "cell_type": "markdown",
   "metadata": {},
   "source": [
    "### Parameters"
   ]
  },
  {
   "cell_type": "code",
   "execution_count": null,
   "metadata": {},
   "outputs": [],
   "source": [
    "calc_crs = \"EPSG:3395\"\n",
    "\n",
    "china_area = 9326410.0  #sq km\n",
    "\n",
    "l8_chip_size = 35  #pixels\n",
    "l8_gsd = 0.03  #km\n",
    "\n",
    "s2_chip_size = 300  #pixels\n",
    "s2_gsd = 0.01  #km"
   ]
  },
  {
   "cell_type": "markdown",
   "metadata": {},
   "source": [
    "## Read in Results\n",
    "\n",
    "### 10km CS Macro"
   ]
  },
  {
   "cell_type": "code",
   "execution_count": null,
   "metadata": {},
   "outputs": [],
   "source": [
    "macro_10km_gdf = gpd.read_file(macro_10km_shp)"
   ]
  },
  {
   "cell_type": "code",
   "execution_count": null,
   "metadata": {},
   "outputs": [],
   "source": [
    "macro_10km_gdf.head(10)"
   ]
  },
  {
   "cell_type": "code",
   "execution_count": null,
   "metadata": {},
   "outputs": [],
   "source": [
    "print(\"CRS: \", macro_10km_gdf.crs)\n",
    "print(\"Number of grid cells in 10km CS Macro: \", len(macro_10km_gdf))\n",
    "print(\"Count of unique index: \", macro_10km_gdf.index.nunique())"
   ]
  },
  {
   "cell_type": "markdown",
   "metadata": {},
   "source": [
    "### 5km CS Macro"
   ]
  },
  {
   "cell_type": "code",
   "execution_count": null,
   "metadata": {},
   "outputs": [],
   "source": [
    "macro_5km_gdf = gpd.read_file(macro_5km_shp)"
   ]
  },
  {
   "cell_type": "code",
   "execution_count": null,
   "metadata": {},
   "outputs": [],
   "source": [
    "macro_5km_gdf.head(10)"
   ]
  },
  {
   "cell_type": "code",
   "execution_count": null,
   "metadata": {},
   "outputs": [],
   "source": [
    "print(\"CRS: \", macro_5km_gdf.crs)\n",
    "print(\"Number of grid cells in 5km CS Macro: \", len(macro_5km_gdf))\n",
    "print(\"Count of unique index: \", macro_5km_gdf.index.nunique())"
   ]
  },
  {
   "cell_type": "markdown",
   "metadata": {},
   "source": [
    "### Cement Plants"
   ]
  },
  {
   "cell_type": "code",
   "execution_count": null,
   "metadata": {},
   "outputs": [],
   "source": [
    "cement_ext_df = pd.read_csv(cement_ext_csv, index_col=False)\n",
    "cement_ext_gdf = gpd.GeoDataFrame(cement_ext_df.uid,\n",
    "                                  geometry=gpd.points_from_xy(cement_ext_df.longitude, \n",
    "                                                              cement_ext_df.latitude),\n",
    "                                  crs=\"EPSG:4326\")"
   ]
  },
  {
   "cell_type": "code",
   "execution_count": null,
   "metadata": {},
   "outputs": [],
   "source": [
    "cement_appx_df = pd.read_csv(cement_appx_csv, index_col=False)\n",
    "cement_appx_gdf = gpd.GeoDataFrame(cement_appx_df.uid,\n",
    "                                  geometry=gpd.points_from_xy(cement_appx_df.longitude, \n",
    "                                                              cement_appx_df.latitude),\n",
    "                                  crs=\"EPSG:4326\")"
   ]
  },
  {
   "cell_type": "code",
   "execution_count": null,
   "metadata": {},
   "outputs": [],
   "source": [
    "cement_ext_gdf.to_file(cement_ext_gjson, driver='GeoJSON')\n",
    "cement_appx_gdf.to_file(cement_appx_gjson, driver='GeoJSON')"
   ]
  },
  {
   "cell_type": "markdown",
   "metadata": {},
   "source": [
    "### Steel Plants"
   ]
  },
  {
   "cell_type": "code",
   "execution_count": null,
   "metadata": {},
   "outputs": [],
   "source": [
    "steel_ext_df = pd.read_csv(steel_ext_csv, index_col=False)\n",
    "steel_ext_gdf = gpd.GeoDataFrame(steel_ext_df.uid,\n",
    "                                  geometry=gpd.points_from_xy(steel_ext_df.longitude, \n",
    "                                                              steel_ext_df.latitude),\n",
    "                                  crs=\"EPSG:4326\")"
   ]
  },
  {
   "cell_type": "code",
   "execution_count": null,
   "metadata": {},
   "outputs": [],
   "source": [
    "steel_appx_df = pd.read_csv(steel_appx_csv, index_col=False)\n",
    "steel_appx_gdf = gpd.GeoDataFrame(steel_appx_df.uid,\n",
    "                                  geometry=gpd.points_from_xy(steel_appx_df.longitude, \n",
    "                                                              steel_appx_df.latitude),\n",
    "                                  crs=\"EPSG:4326\")"
   ]
  },
  {
   "cell_type": "code",
   "execution_count": null,
   "metadata": {},
   "outputs": [],
   "source": [
    "steel_ext_gdf.to_file(steel_ext_gjson, driver='GeoJSON')\n",
    "steel_appx_gdf.to_file(steel_appx_gjson, driver='GeoJSON')"
   ]
  },
  {
   "cell_type": "markdown",
   "metadata": {},
   "source": [
    "## Examine Model Accuracy and Deployment Region Considerations\n",
    "\n",
    "Questions to answer:\n",
    "1. What fraction of plants with exact locations are within the grid cells? Approximates recall.\n",
    "2. What fraction of plants with exact locations are not within the grid cells? Approximates false-negative rate.\n",
    "3. How much total area would we have to survey?\n",
    "4. How many Landsat-8 chips would need to be created (approximate only)?\n",
    "5. How many Sentinel-2 chips would need to be created (approximate only)?"
   ]
  },
  {
   "cell_type": "code",
   "execution_count": null,
   "metadata": {},
   "outputs": [],
   "source": [
    "l8_chip_area = pow(l8_gsd * l8_chip_size,2)  #sq km\n",
    "s2_chip_area = pow(s2_gsd * s2_chip_size,2)  #sq km"
   ]
  },
  {
   "cell_type": "markdown",
   "metadata": {},
   "source": [
    "### Macro 10km Grid"
   ]
  },
  {
   "cell_type": "code",
   "execution_count": null,
   "metadata": {},
   "outputs": [],
   "source": [
    "macro_10km_phys = macro_10km_gdf.to_crs(calc_crs)\n",
    "macro_10km_area = sum(macro_10km_phys.area / 1e6)"
   ]
  },
  {
   "cell_type": "code",
   "execution_count": null,
   "metadata": {},
   "outputs": [],
   "source": [
    "l8_10km_chip_cnt = macro_10km_area / l8_chip_area\n",
    "s2_10km_chip_cnt = macro_10km_area / s2_chip_area"
   ]
  },
  {
   "cell_type": "code",
   "execution_count": null,
   "metadata": {},
   "outputs": [],
   "source": [
    "print(\"Deployment Area for 10km Grid: \", macro_10km_area, \" sq km\")\n",
    "print(\"Percent Area of China: \", macro_10km_area/china_area * 100, \"%\")\n",
    "print(\"Number of Landsat-8 Chips Required: \", round(l8_10km_chip_cnt))\n",
    "print(\"Number of Sentinel-2 Chips Required: \", round(s2_10km_chip_cnt))"
   ]
  },
  {
   "cell_type": "markdown",
   "metadata": {},
   "source": [
    "### Macro 5km Grid"
   ]
  },
  {
   "cell_type": "code",
   "execution_count": null,
   "metadata": {},
   "outputs": [],
   "source": [
    "macro_5km_phys = macro_5km_gdf.to_crs(calc_crs)\n",
    "macro_5km_area = sum(macro_5km_phys.area / 1e6)"
   ]
  },
  {
   "cell_type": "code",
   "execution_count": null,
   "metadata": {},
   "outputs": [],
   "source": [
    "l8_5km_chip_cnt = macro_5km_area / l8_chip_area\n",
    "s2_5km_chip_cnt = macro_5km_area / s2_chip_area"
   ]
  },
  {
   "cell_type": "code",
   "execution_count": null,
   "metadata": {},
   "outputs": [],
   "source": [
    "print(\"Deployment Area for 5km Grid: \", macro_5km_area, \" sq km\")\n",
    "print(\"Percent Area of China: \", macro_5km_area/china_area * 100, \"%\")\n",
    "print(\"Number of Landsat-8 Chips Required: \", round(l8_5km_chip_cnt))\n",
    "print(\"Number of Sentinel-2 Chips Required: \", round(s2_5km_chip_cnt))"
   ]
  },
  {
   "cell_type": "markdown",
   "metadata": {},
   "source": [
    "### Cement\n",
    "\n",
    "#### 10km Grid"
   ]
  },
  {
   "cell_type": "code",
   "execution_count": null,
   "metadata": {},
   "outputs": [],
   "source": [
    "cement_ext_10km_intsct = gpd.sjoin(macro_10km_gdf, cement_ext_gdf, how=\"inner\", op=\"intersects\")"
   ]
  },
  {
   "cell_type": "code",
   "execution_count": null,
   "metadata": {},
   "outputs": [],
   "source": [
    "cement_10km_tpr = len(cement_ext_10km_intsct) / (len(cement_ext_gdf)) * 100"
   ]
  },
  {
   "cell_type": "code",
   "execution_count": null,
   "metadata": {},
   "outputs": [],
   "source": [
    "print (\"Cement Recall, 10km Grid: \", cement_10km_tpr, \"%\")\n",
    "print (\"Cement Miss Rate, 10km Grid: \", 100 - cement_10km_tpr, \"%\")"
   ]
  },
  {
   "cell_type": "markdown",
   "metadata": {},
   "source": [
    "#### 5km Grid"
   ]
  },
  {
   "cell_type": "code",
   "execution_count": null,
   "metadata": {},
   "outputs": [],
   "source": [
    "cement_ext_5km_intsct = gpd.sjoin(macro_5km_gdf, cement_ext_gdf, how=\"inner\", op=\"intersects\")"
   ]
  },
  {
   "cell_type": "code",
   "execution_count": null,
   "metadata": {},
   "outputs": [],
   "source": [
    "cement_5km_tpr = len(cement_ext_5km_intsct) / (len(cement_ext_gdf)) * 100"
   ]
  },
  {
   "cell_type": "code",
   "execution_count": null,
   "metadata": {},
   "outputs": [],
   "source": [
    "print (\"Cement Recall, 5km Grid: \", cement_5km_tpr, \"%\")\n",
    "print (\"Cement Miss Rate, 5km Grid: \", 100 - cement_5km_tpr, \"%\")"
   ]
  },
  {
   "cell_type": "markdown",
   "metadata": {},
   "source": [
    "#### 10km Grid with Thresholds"
   ]
  },
  {
   "cell_type": "code",
   "execution_count": null,
   "metadata": {},
   "outputs": [],
   "source": [
    "preds_thresh = np.arange(0, 0.5, 0.001)\n",
    "area_thresh_10km = [sum(macro_10km_phys[macro_10km_phys.preds >= thresh].area / 1e6) \\\n",
    "               for thresh in preds_thresh]\n",
    "cnt_thresh = [cement_ext_10km_intsct[cement_ext_10km_intsct.preds >= thresh].uid.nunique() \\\n",
    "              for thresh in preds_thresh]"
   ]
  },
  {
   "cell_type": "code",
   "execution_count": null,
   "metadata": {},
   "outputs": [],
   "source": [
    "cement_survey_10km_df = pd.DataFrame({\"thresh\": preds_thresh,\n",
    "                                 \"area\": area_thresh_10km,\n",
    "                                 \"cnt\": cnt_thresh})\n",
    "cement_survey_10km_df['tpr'] = cement_survey_10km_df.cnt / len(cement_ext_gdf) * 100\n",
    "cement_survey_10km_df['fnr'] = 100 - cement_survey_10km_df.tpr\n",
    "cement_survey_10km_df['pct_area'] = cement_survey_10km_df.area / china_area * 100\n",
    "cement_survey_10km_df['l8_chp_cnt'] = round(cement_survey_10km_df.area / l8_chip_area)\n",
    "cement_survey_10km_df['s2_chp_cnt'] = round(cement_survey_10km_df.area / s2_chip_area)"
   ]
  },
  {
   "cell_type": "markdown",
   "metadata": {},
   "source": [
    "#### 5km Grid with Thresholds"
   ]
  },
  {
   "cell_type": "code",
   "execution_count": null,
   "metadata": {},
   "outputs": [],
   "source": [
    "area_thresh_5km = [sum(macro_5km_phys[macro_5km_phys.preds >= thresh].area / 1e6) \\\n",
    "               for thresh in preds_thresh]\n",
    "cnt_thresh = [cement_ext_5km_intsct[cement_ext_5km_intsct.preds >= thresh].uid.nunique() \\\n",
    "              for thresh in preds_thresh]"
   ]
  },
  {
   "cell_type": "code",
   "execution_count": null,
   "metadata": {},
   "outputs": [],
   "source": [
    "cement_survey_5km_df = pd.DataFrame({\"thresh\": preds_thresh,\n",
    "                                 \"area\": area_thresh_5km,\n",
    "                                 \"cnt\": cnt_thresh})\n",
    "cement_survey_5km_df['tpr'] = cement_survey_5km_df.cnt / len(cement_ext_gdf) * 100\n",
    "cement_survey_5km_df['fnr'] = 100 - cement_survey_5km_df.tpr\n",
    "cement_survey_5km_df['pct_area'] = cement_survey_5km_df.area / china_area * 100\n",
    "cement_survey_5km_df['l8_chp_cnt'] = round(cement_survey_5km_df.area / l8_chip_area)\n",
    "cement_survey_5km_df['s2_chp_cnt'] = round(cement_survey_5km_df.area / s2_chip_area)"
   ]
  },
  {
   "cell_type": "code",
   "execution_count": null,
   "metadata": {},
   "outputs": [],
   "source": [
    "plt.title(\"Cement: Recall Versus Prediction Threshold\") \n",
    "plt.xlabel(\"Prediction Minimum Threshold\") \n",
    "plt.ylabel(\"Recall (True Positive Rate)\") \n",
    "plt.plot(cement_survey_5km_df.thresh, cement_survey_5km_df.tpr, 'b-', label='5km Grid')\n",
    "plt.plot(cement_survey_10km_df.thresh, cement_survey_10km_df.tpr, 'g--', label='10km Grid')\n",
    "plt.plot(cement_survey_10km_df.thresh[2], cement_survey_10km_df.tpr[2], 'g*', label='thresh=0.002')\n",
    "plt.legend()\n",
    "plt.show()"
   ]
  },
  {
   "cell_type": "code",
   "execution_count": null,
   "metadata": {},
   "outputs": [],
   "source": [
    "plt.title(\"Cement: Recall Versus Survey Area\") \n",
    "plt.xlabel(\"Survey Area (sq km)\") \n",
    "plt.ylabel(\"Recall (True Positive Rate)\") \n",
    "plt.plot(cement_survey_5km_df.area, cement_survey_5km_df.tpr, 'b-', label='5km Grid') \n",
    "plt.plot(cement_survey_10km_df.area, cement_survey_10km_df.tpr, 'g--', label='10km Grid')\n",
    "plt.plot(cement_survey_10km_df.area[2], cement_survey_10km_df.tpr[2], 'g*', label='thresh=0.002')\n",
    "plt.legend()\n",
    "plt.show()"
   ]
  },
  {
   "cell_type": "code",
   "execution_count": null,
   "metadata": {},
   "outputs": [],
   "source": [
    "cement_survey_10km_df"
   ]
  },
  {
   "cell_type": "code",
   "execution_count": null,
   "metadata": {},
   "outputs": [],
   "source": [
    "plt.title(\"Cement: Recall Versus No. Landsat-8 Chips\") \n",
    "plt.xlabel(\"Count of Landsat-8 Chips\") \n",
    "plt.ylabel(\"Recall (True Positive Rate)\") \n",
    "plt.plot(cement_survey_5km_df.l8_chp_cnt, cement_survey_5km_df.tpr, 'b-', label='5km Grid') \n",
    "plt.plot(cement_survey_10km_df.l8_chp_cnt, cement_survey_10km_df.tpr, 'g--', label='10km Grid')\n",
    "plt.legend()\n",
    "plt.show()"
   ]
  },
  {
   "cell_type": "code",
   "execution_count": null,
   "metadata": {},
   "outputs": [],
   "source": [
    "plt.title(\"Cement: Recall Versus No. Sentinel-2 Chips\") \n",
    "plt.xlabel(\"Count of Sentinel-2 Chips\") \n",
    "plt.ylabel(\"Recall (True Positive Rate)\") \n",
    "plt.plot(cement_survey_5km_df.s2_chp_cnt, cement_survey_5km_df.tpr, 'b-', label='5km Grid') \n",
    "plt.plot(cement_survey_10km_df.s2_chp_cnt, cement_survey_10km_df.tpr, 'g--', label='10km Grid')\n",
    "plt.legend()\n",
    "plt.show()"
   ]
  },
  {
   "cell_type": "markdown",
   "metadata": {},
   "source": [
    "### Steel\n",
    "\n",
    "#### 10km Grid"
   ]
  },
  {
   "cell_type": "code",
   "execution_count": null,
   "metadata": {},
   "outputs": [],
   "source": [
    "steel_ext_10km_intsct = gpd.sjoin(macro_10km_gdf, steel_ext_gdf, how=\"inner\", op=\"intersects\")"
   ]
  },
  {
   "cell_type": "code",
   "execution_count": null,
   "metadata": {},
   "outputs": [],
   "source": [
    "steel_10km_tpr = len(steel_ext_10km_intsct) / (len(steel_ext_gdf)) * 100"
   ]
  },
  {
   "cell_type": "code",
   "execution_count": null,
   "metadata": {},
   "outputs": [],
   "source": [
    "print (\"Steel Recall, 10km Grid: \", steel_10km_tpr, \"%\")\n",
    "print (\"Steel Miss Rate, 10km Grid: \", 100 - steel_10km_tpr, \"%\")"
   ]
  },
  {
   "cell_type": "markdown",
   "metadata": {},
   "source": [
    "#### 5km Grid"
   ]
  },
  {
   "cell_type": "code",
   "execution_count": null,
   "metadata": {},
   "outputs": [],
   "source": [
    "steel_ext_5km_intsct = gpd.sjoin(macro_5km_gdf, steel_ext_gdf, how=\"inner\", op=\"intersects\")"
   ]
  },
  {
   "cell_type": "code",
   "execution_count": null,
   "metadata": {},
   "outputs": [],
   "source": [
    "steel_5km_tpr = len(steel_ext_5km_intsct) / (len(steel_ext_gdf)) * 100"
   ]
  },
  {
   "cell_type": "code",
   "execution_count": null,
   "metadata": {},
   "outputs": [],
   "source": [
    "print (\"Steel Recall, 5km Grid: \", steel_5km_tpr, \"%\")\n",
    "print (\"Steel Miss Rate, 5km Grid: \", 100 - steel_5km_tpr, \"%\")"
   ]
  },
  {
   "cell_type": "markdown",
   "metadata": {},
   "source": [
    "#### 10km Grid with Thresholds"
   ]
  },
  {
   "cell_type": "code",
   "execution_count": null,
   "metadata": {},
   "outputs": [],
   "source": [
    "cnt_thresh = [steel_ext_10km_intsct[steel_ext_10km_intsct.preds >= thresh].uid.nunique() \\\n",
    "              for thresh in preds_thresh]"
   ]
  },
  {
   "cell_type": "code",
   "execution_count": null,
   "metadata": {},
   "outputs": [],
   "source": [
    "steel_survey_10km_df = pd.DataFrame({\"thresh\": preds_thresh,\n",
    "                                 \"area\": area_thresh_10km,\n",
    "                                 \"cnt\": cnt_thresh})\n",
    "steel_survey_10km_df['tpr'] = steel_survey_10km_df.cnt / len(steel_ext_gdf) * 100\n",
    "steel_survey_10km_df['fnr'] = 100 - steel_survey_10km_df.tpr\n",
    "steel_survey_10km_df['pct_area'] = steel_survey_10km_df.area / china_area * 100\n",
    "steel_survey_10km_df['l8_chp_cnt'] = round(steel_survey_10km_df.area / l8_chip_area)\n",
    "steel_survey_10km_df['s2_chp_cnt'] = round(steel_survey_10km_df.area / s2_chip_area)"
   ]
  },
  {
   "cell_type": "markdown",
   "metadata": {},
   "source": [
    "#### 5km Grid with Thresholds"
   ]
  },
  {
   "cell_type": "code",
   "execution_count": null,
   "metadata": {},
   "outputs": [],
   "source": [
    "cnt_thresh = [steel_ext_5km_intsct[steel_ext_5km_intsct.preds >= thresh].uid.nunique() \\\n",
    "              for thresh in preds_thresh]"
   ]
  },
  {
   "cell_type": "code",
   "execution_count": null,
   "metadata": {},
   "outputs": [],
   "source": [
    "steel_survey_5km_df = pd.DataFrame({\"thresh\": preds_thresh,\n",
    "                                 \"area\": area_thresh_5km,\n",
    "                                 \"cnt\": cnt_thresh})\n",
    "steel_survey_5km_df['tpr'] = steel_survey_5km_df.cnt / len(steel_ext_gdf) * 100\n",
    "steel_survey_5km_df['fnr'] = 100 - steel_survey_5km_df.tpr\n",
    "steel_survey_5km_df['pct_area'] = steel_survey_5km_df.area / china_area * 100\n",
    "steel_survey_5km_df['l8_chp_cnt'] = round(steel_survey_5km_df.area / l8_chip_area)\n",
    "steel_survey_5km_df['s2_chp_cnt'] = round(steel_survey_5km_df.area / s2_chip_area)"
   ]
  },
  {
   "cell_type": "code",
   "execution_count": null,
   "metadata": {},
   "outputs": [],
   "source": [
    "plt.title(\"Steel: Recall Versus Prediction Threshold\") \n",
    "plt.xlabel(\"Prediction Minimum Threshold\") \n",
    "plt.ylabel(\"Recall (True Positive Rate)\") \n",
    "plt.plot(steel_survey_5km_df.thresh, steel_survey_5km_df.tpr, 'b-', label='5km Grid') \n",
    "plt.plot(steel_survey_10km_df.thresh, steel_survey_10km_df.tpr, 'g--', label='10km Grid') \n",
    "plt.plot(steel_survey_10km_df.thresh[2], steel_survey_10km_df.tpr[2], 'g*', label='thresh=0.002')\n",
    "plt.legend()\n",
    "plt.show()"
   ]
  },
  {
   "cell_type": "code",
   "execution_count": null,
   "metadata": {},
   "outputs": [],
   "source": [
    "plt.title(\"Steel: Recall Versus Survey Area\") \n",
    "plt.xlabel(\"Survey Area (sq km)\") \n",
    "plt.ylabel(\"Recall (True Positive Rate)\") \n",
    "plt.plot(steel_survey_5km_df.area, steel_survey_5km_df.tpr, 'b-', label='5km Grid') \n",
    "plt.plot(steel_survey_10km_df.area, steel_survey_10km_df.tpr, 'g--', label='10km Grid') \n",
    "plt.plot(steel_survey_10km_df.area[2], steel_survey_10km_df.tpr[2], 'g*', label='thresh=0.002')\n",
    "plt.legend()\n",
    "plt.show()"
   ]
  },
  {
   "cell_type": "code",
   "execution_count": null,
   "metadata": {},
   "outputs": [],
   "source": [
    "steel_survey_10km_df"
   ]
  },
  {
   "cell_type": "code",
   "execution_count": null,
   "metadata": {},
   "outputs": [],
   "source": [
    "plt.title(\"Steel: Recall Versus No. Landsat-8 Chips\") \n",
    "plt.xlabel(\"Count of Landsat-8 Chips\") \n",
    "plt.ylabel(\"Recall (True Positive Rate)\") \n",
    "plt.plot(steel_survey_5km_df.l8_chp_cnt, steel_survey_5km_df.tpr, 'b-', label='5km Grid') \n",
    "plt.plot(steel_survey_10km_df.l8_chp_cnt, steel_survey_10km_df.tpr, 'g--', label='10km Grid') \n",
    "plt.legend()\n",
    "plt.show()"
   ]
  },
  {
   "cell_type": "code",
   "execution_count": null,
   "metadata": {},
   "outputs": [],
   "source": [
    "plt.title(\"Steel: Recall Versus No. Sentinel-2 Chips\") \n",
    "plt.xlabel(\"Count of Sentinel-2 Chips\") \n",
    "plt.ylabel(\"Recall (True Positive Rate)\") \n",
    "plt.plot(steel_survey_5km_df.l8_chp_cnt, steel_survey_5km_df.tpr, 'b-', label='5km Grid') \n",
    "plt.plot(steel_survey_10km_df.l8_chp_cnt, steel_survey_10km_df.tpr, 'g--', label='10km Grid') \n",
    "plt.legend()\n",
    "plt.show()"
   ]
  }
 ],
 "metadata": {
  "kernelspec": {
   "display_name": "EarthAI Environment",
   "language": "python",
   "name": "python3"
  },
  "language_info": {
   "codemirror_mode": {
    "name": "ipython",
    "version": 3
   },
   "file_extension": ".py",
   "mimetype": "text/x-python",
   "name": "python",
   "nbconvert_exporter": "python",
   "pygments_lexer": "ipython3",
   "version": "3.7.9"
  }
 },
 "nbformat": 4,
 "nbformat_minor": 4
}
