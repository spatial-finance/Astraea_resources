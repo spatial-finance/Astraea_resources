{
 "cells": [
  {
   "cell_type": "code",
   "execution_count": 4,
   "metadata": {},
   "outputs": [],
   "source": [
    "%reload_ext autoreload\n",
    "%autoreload 2\n",
    "%matplotlib inline\n",
    "\n",
    "import pandas as pd\n",
    "from lxml import etree as ET\n",
    "import os\n",
    "import boto3\n",
    "from pathlib import Path\n",
    "from tqdm import tqdm"
   ]
  },
  {
   "cell_type": "code",
   "execution_count": 15,
   "metadata": {},
   "outputs": [],
   "source": [
    "s3 = boto3.resource('s3')\n",
    "bucket = s3.Bucket('sfi-shared-assets')\n",
    "SOURCE_PATH = 'sentinel_data.tar.gz'\n",
    "TARGET_PATH = '/scratch/sentinel_data.tar.gz'\n",
    "\n",
    "bucket.download_file(str(Path(SOURCE_PATH)), str(Path(TARGET_PATH)))"
   ]
  },
  {
   "cell_type": "code",
   "execution_count": 17,
   "metadata": {},
   "outputs": [
    {
     "name": "stdout",
     "output_type": "stream",
     "text": [
      "tar: Removing leading `/' from member names\n"
     ]
    }
   ],
   "source": [
    "!cd /scratch && tar xzf sentinel_data.tar.gz"
   ]
  },
  {
   "cell_type": "code",
   "execution_count": 11,
   "metadata": {},
   "outputs": [],
   "source": [
    "def filelist(anno_path, extension):\n",
    "    l = []\n",
    "    for root, dirs, files in os.walk(anno_path):\n",
    "        for file in files:\n",
    "            if file.endswith(extension) and not file.startswith('.'):\n",
    "                 l.append(os.path.join(root, file))\n",
    "\n",
    "    return l"
   ]
  },
  {
   "cell_type": "code",
   "execution_count": 18,
   "metadata": {},
   "outputs": [],
   "source": [
    "def generate_train_df(anno_path='/scratch/Users/natashalove/Dropbox/CV_training_resources'):\n",
    "    annotations = filelist(anno_path, '.xml')\n",
    "    anno_list = []\n",
    "\n",
    "    for anno_path in tqdm(annotations):        \n",
    "        root = ET.parse(anno_path).getroot()"
   ]
  },
  {
   "cell_type": "code",
   "execution_count": 19,
   "metadata": {},
   "outputs": [
    {
     "name": "stderr",
     "output_type": "stream",
     "text": [
      "100%|██████████| 102416/102416 [00:04<00:00, 25121.83it/s]\n"
     ]
    }
   ],
   "source": [
    "generate_train_df()"
   ]
  },
  {
   "cell_type": "code",
   "execution_count": 20,
   "metadata": {},
   "outputs": [
    {
     "name": "stdout",
     "output_type": "stream",
     "text": [
      "Package                 Version\n",
      "----------------------- -------------------\n",
      "aiohttp                 3.6.2\n",
      "alembic                 1.4.2\n",
      "async-generator         1.10\n",
      "async-timeout           3.0.1\n",
      "attrs                   19.3.0\n",
      "awscli                  1.18.119\n",
      "backcall                0.1.0\n",
      "beautifulsoup4          4.9.1\n",
      "bleach                  3.1.5\n",
      "blinker                 1.4\n",
      "botocore                1.17.42\n",
      "branca                  0.3.1\n",
      "brotlipy                0.7.0\n",
      "bs4                     0.0.1\n",
      "certifi                 2020.4.5.1\n",
      "certipy                 0.1.3\n",
      "cffi                    1.14.0\n",
      "chardet                 3.0.4\n",
      "colorama                0.4.3\n",
      "conda                   4.8.3\n",
      "conda-package-handling  1.6.0\n",
      "cryptography            2.9.2\n",
      "decorator               4.4.2\n",
      "defusedxml              0.6.0\n",
      "docutils                0.15.2\n",
      "entrypoints             0.3\n",
      "gitdb                   4.0.5\n",
      "GitPython               3.1.2\n",
      "idna                    2.9\n",
      "importlib-metadata      1.6.0\n",
      "ipykernel               5.2.1\n",
      "ipyleaflet              0.12.2\n",
      "ipython                 7.14.0\n",
      "ipython-genutils        0.2.0\n",
      "ipywidgets              7.5.1\n",
      "jedi                    0.17.0\n",
      "Jinja2                  2.11.2\n",
      "jmespath                0.10.0\n",
      "json5                   0.9.0\n",
      "jsonschema              3.2.0\n",
      "jupyter-client          6.1.3\n",
      "jupyter-core            4.6.3\n",
      "jupyter-server-proxy    1.2.0\n",
      "jupyter-telemetry       0.0.5\n",
      "jupyterhub              1.1.0\n",
      "jupyterlab              1.2.6\n",
      "jupyterlab-git          0.9.0\n",
      "jupyterlab-server       1.0.9\n",
      "jupyterlab-spark-ui-tab 0.0.2\n",
      "Mako                    1.1.0\n",
      "MarkupSafe              1.1.1\n",
      "mistune                 0.8.4\n",
      "multidict               4.7.6\n",
      "nbconvert               5.6.1\n",
      "nbdime                  1.1.0\n",
      "nbformat                5.0.6\n",
      "nbresuse                0.3.3\n",
      "notebook                6.0.3\n",
      "numpy                   1.18.4\n",
      "oauthlib                3.0.1\n",
      "packaging               20.1\n",
      "pamela                  1.0.0\n",
      "pandas                  1.0.4\n",
      "pandocfilters           1.4.2\n",
      "parso                   0.7.0\n",
      "pexpect                 4.8.0\n",
      "pickleshare             0.7.5\n",
      "pip                     20.1\n",
      "prometheus-client       0.7.1\n",
      "prompt-toolkit          3.0.5\n",
      "psutil                  5.7.0\n",
      "ptyprocess              0.6.0\n",
      "pyasn1                  0.4.8\n",
      "pycosat                 0.6.3\n",
      "pycparser               2.20\n",
      "pycurl                  7.43.0.5\n",
      "Pygments                2.6.1\n",
      "PyJWT                   1.7.1\n",
      "pyOpenSSL               19.1.0\n",
      "pyparsing               2.4.7\n",
      "pyrsistent              0.16.0\n",
      "PySocks                 1.7.1\n",
      "python-dateutil         2.8.1\n",
      "python-editor           1.0.4\n",
      "python-json-logger      0.1.11\n",
      "pytz                    2020.1\n",
      "PyYAML                  5.3.1\n",
      "pyzmq                   19.0.1\n",
      "requests                2.23.0\n",
      "rsa                     4.5\n",
      "ruamel-yaml             0.15.80\n",
      "ruamel.yaml             0.16.6\n",
      "ruamel.yaml.clib        0.2.0\n",
      "s3transfer              0.3.3\n",
      "Send2Trash              1.5.0\n",
      "setuptools              46.3.1.post20200515\n",
      "simpervisor             0.3\n",
      "six                     1.14.0\n",
      "smmap                   3.0.4\n",
      "soupsieve               2.0.1\n",
      "SQLAlchemy              1.3.17\n",
      "terminado               0.8.3\n",
      "testpath                0.4.4\n",
      "tornado                 6.0.4\n",
      "tqdm                    4.46.0\n",
      "traitlets               4.3.3\n",
      "traittypes              0.2.1\n",
      "urllib3                 1.25.9\n",
      "wcwidth                 0.1.9\n",
      "webencodings            0.5.1\n",
      "wheel                   0.34.2\n",
      "widgetsnbextension      3.5.1\n",
      "xarray                  0.15.1\n",
      "yarl                    1.4.2\n",
      "zipp                    3.1.0\n"
     ]
    }
   ],
   "source": [
    "!pip list"
   ]
  },
  {
   "cell_type": "code",
   "execution_count": 21,
   "metadata": {},
   "outputs": [
    {
     "name": "stdout",
     "output_type": "stream",
     "text": [
      "en_US.UTF-8\n"
     ]
    }
   ],
   "source": [
    "! echo $LANG"
   ]
  },
  {
   "cell_type": "code",
   "execution_count": null,
   "metadata": {},
   "outputs": [],
   "source": []
  }
 ],
 "metadata": {
  "kernelspec": {
   "display_name": "EarthAI Python",
   "language": "python",
   "name": "python3"
  },
  "language_info": {
   "codemirror_mode": {
    "name": "ipython",
    "version": 3
   },
   "file_extension": ".py",
   "mimetype": "text/x-python",
   "name": "python",
   "nbconvert_exporter": "python",
   "pygments_lexer": "ipython3",
   "version": "3.7.7"
  }
 },
 "nbformat": 4,
 "nbformat_minor": 4
}
