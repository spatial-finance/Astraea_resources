{
 "cells": [
  {
   "cell_type": "code",
   "execution_count": 1,
   "metadata": {},
   "outputs": [
    {
     "name": "stdout",
     "output_type": "stream",
     "text": [
      "\n",
      "Importing EarthAI libraries.\n",
      "EarthAI version 1.4.3.dev; RasterFrames version 0.9.0; PySpark version 2.4.6\n",
      "\n",
      "Creating SparkSession...\n",
      "  SparkSession is available as `spark`.\n"
     ]
    }
   ],
   "source": [
    "from earthai.init import *\n",
    "\n",
    "from earthai.chipping import chipping_strategies\n",
    "from earthai.chipping.strategy import CentroidCentered\n",
    "import pyspark.sql.functions as F\n",
    "import geopandas\n",
    "import pandas\n",
    "from shapely.geometry import Point\n",
    "import ipyleaflet\n",
    "import rasterio\n",
    "from rasterio.plot import show \n",
    "\n",
    "import os"
   ]
  },
  {
   "cell_type": "code",
   "execution_count": 2,
   "metadata": {},
   "outputs": [
    {
     "data": {
      "text/html": [
       "\n",
       "        <div>\n",
       "        <div>Query returned <b>3</b> results, stored as a <a href=\"https://geopandas.org/\">GeoDataFrame</a> in '<b><tt>eod0</tt></b>'.</div>\n",
       "        <details>\n",
       "        <summary><code>eod0</code> metadata</summary>\n",
       "        <pre>\n",
       "        &lt;class 'geopandas.geodataframe.GeoDataFrame'&gt;\n",
       "RangeIndex: 3 entries, 0 to 2\n",
       "Data columns (total 45 columns):\n",
       " #   Column                              Non-Null Count  Dtype              \n",
       "---  ------                              --------------  -----              \n",
       " 0   eod_collection_attribution          3 non-null      object             \n",
       " 1   eod_collection_display_name         3 non-null      object             \n",
       " 2   eod_collection_family               3 non-null      object             \n",
       " 3   eod_collection_family_display_name  3 non-null      object             \n",
       " 4   eod_epsg4326_geometry_simplified    3 non-null      object             \n",
       " 5   eod_grid_id                         3 non-null      object             \n",
       " 6   created                             3 non-null      object             \n",
       " 7   datetime                            3 non-null      datetime64[ns, UTC]\n",
       " 8   eo_cloud_cover                      3 non-null      float64            \n",
       " 9   eo_constellation                    3 non-null      object             \n",
       " 10  eo_epsg                             3 non-null      int64              \n",
       " 11  eo_gsd                              3 non-null      float64            \n",
       " 12  eo_instrument                       3 non-null      object             \n",
       " 13  eo_platform                         3 non-null      object             \n",
       " 14  proj_crs                            3 non-null      object             \n",
       " 15  proj_epsg                           3 non-null      int64              \n",
       " 16  proj_geometry                       3 non-null      object             \n",
       " 17  updated                             3 non-null      object             \n",
       " 18  B5                                  3 non-null      object             \n",
       " 19  thumb_large                         3 non-null      object             \n",
       " 20  thumb_small                         3 non-null      object             \n",
       " 21  B9                                  3 non-null      object             \n",
       " 22  B6                                  3 non-null      object             \n",
       " 23  B3                                  3 non-null      object             \n",
       " 24  B7                                  3 non-null      object             \n",
       " 25  B10                                 3 non-null      object             \n",
       " 26  B2                                  3 non-null      object             \n",
       " 27  BQA                                 3 non-null      object             \n",
       " 28  B4                                  3 non-null      object             \n",
       " 29  B1                                  3 non-null      object             \n",
       " 30  B8                                  3 non-null      object             \n",
       " 31  ANG                                 3 non-null      object             \n",
       " 32  B11                                 3 non-null      object             \n",
       " 33  MTL                                 3 non-null      object             \n",
       " 34  self_link                           3 non-null      object             \n",
       " 35  bundle_link                         3 non-null      object             \n",
       " 36  preview_link                        3 non-null      object             \n",
       " 37  fullres_link                        3 non-null      object             \n",
       " 38  maplayer_link                       3 non-null      object             \n",
       " 39  leaflet_link                        3 non-null      object             \n",
       " 40  statistics_link                     3 non-null      object             \n",
       " 41  tileinfo_link                       3 non-null      object             \n",
       " 42  collection                          3 non-null      object             \n",
       " 43  geometry                            3 non-null      geometry           \n",
       " 44  id                                  3 non-null      object             \n",
       "dtypes: datetime64[ns, UTC](1), float64(2), geometry(1), int64(2), object(39)\n",
       "memory usage: 1.2+ KB\n",
       "\n",
       "        </pre>\n",
       "        </details>\n",
       "        </div>\n",
       "        "
      ],
      "text/markdown": [
       "`eod0` with **3** rows"
      ],
      "text/plain": [
       "'eod0' with 3 rows"
      ]
     },
     "metadata": {},
     "output_type": "display_data"
    }
   ],
   "source": [
    "%%eod\n",
    "{\n",
    "    \"collections\": [\n",
    "        \"landsat8_l1tp\"\n",
    "    ],\n",
    "    \"geo\": [\n",
    "        -81.32080078125001,\n",
    "        28.86872905602898,\n",
    "        -81.28234863281251,\n",
    "        28.90961041665505\n",
    "    ],\n",
    "    \"max_cloud_cover\": 10,\n",
    "    \"start_datetime\": \"2020-01-01\",\n",
    "    \"end_datetime\": \"2020-08-01\"\n",
    "}"
   ]
  },
  {
   "cell_type": "code",
   "execution_count": 3,
   "metadata": {},
   "outputs": [],
   "source": [
    "points = [ \n",
    "    Point(-81.580217,28.400303),\n",
    "    Point(-81.548142,28.379772),\n",
    "    Point(-81.555017,28.35699)]\n",
    "points_gdf = geopandas.GeoDataFrame({'geometry':points}, )"
   ]
  },
  {
   "cell_type": "code",
   "execution_count": 4,
   "metadata": {},
   "outputs": [
    {
     "data": {
      "application/vnd.jupyter.widget-view+json": {
       "model_id": "f8c866ca33614df28b3caae9fcc39bd4",
       "version_major": 2,
       "version_minor": 0
      },
      "text/plain": [
       "Map(center=[28.4, -81.55], controls=(ZoomControl(options=['position', 'zoom_in_text', 'zoom_in_title', 'zoom_o…"
      ]
     },
     "metadata": {},
     "output_type": "display_data"
    }
   ],
   "source": [
    "m = ipyleaflet.Map(center=(28.4, -81.55), zoom=8)\n",
    "\n",
    "parks_layer = ipyleaflet.GeoData(geo_dataframe=points_gdf, name='centers')\n",
    "scenes_layer = ipyleaflet.GeoData(geo_dataframe=eod0[['geometry']], name='eod')\n",
    "\n",
    "lg = ipyleaflet.LayerGroup(layers = (parks_layer, scenes_layer), name='query')\n",
    "m.add_layer(lg)      \n",
    "m.add_control(ipyleaflet.LayersControl())\n",
    "m"
   ]
  },
  {
   "cell_type": "code",
   "execution_count": 5,
   "metadata": {},
   "outputs": [
    {
     "data": {
      "text/plain": [
       "0    Point\n",
       "1    Point\n",
       "2    Point\n",
       "0    Point\n",
       "1    Point\n",
       "2    Point\n",
       "0    Point\n",
       "1    Point\n",
       "2    Point\n",
       "dtype: object"
      ]
     },
     "execution_count": 5,
     "metadata": {},
     "output_type": "execute_result"
    }
   ],
   "source": [
    "cat = geopandas.sjoin(points_gdf, eod0)\n",
    "cat.geom_type"
   ]
  },
  {
   "cell_type": "code",
   "execution_count": 6,
   "metadata": {},
   "outputs": [
    {
     "data": {
      "text/plain": [
       "\u001b[0;31mSignature:\u001b[0m\n",
       "\u001b[0mspark\u001b[0m\u001b[0;34m.\u001b[0m\u001b[0mread\u001b[0m\u001b[0;34m.\u001b[0m\u001b[0mchip\u001b[0m\u001b[0;34m(\u001b[0m\u001b[0;34m\u001b[0m\n",
       "\u001b[0;34m\u001b[0m    \u001b[0msource\u001b[0m\u001b[0;34m,\u001b[0m\u001b[0;34m\u001b[0m\n",
       "\u001b[0;34m\u001b[0m    \u001b[0mcatalog_col_names\u001b[0m\u001b[0;34m=\u001b[0m\u001b[0;32mNone\u001b[0m\u001b[0;34m,\u001b[0m\u001b[0;34m\u001b[0m\n",
       "\u001b[0;34m\u001b[0m    \u001b[0mgeometry_col_name\u001b[0m\u001b[0;34m=\u001b[0m\u001b[0;34m'geometry'\u001b[0m\u001b[0;34m,\u001b[0m\u001b[0;34m\u001b[0m\n",
       "\u001b[0;34m\u001b[0m    \u001b[0mchipping_strategy\u001b[0m\u001b[0;34m=\u001b[0m\u001b[0;34m'feature_aligned_grid'\u001b[0m\u001b[0;34m,\u001b[0m\u001b[0;34m\u001b[0m\n",
       "\u001b[0;34m\u001b[0m    \u001b[0mcrs_col_name\u001b[0m\u001b[0;34m=\u001b[0m\u001b[0;32mNone\u001b[0m\u001b[0;34m,\u001b[0m\u001b[0;34m\u001b[0m\n",
       "\u001b[0;34m\u001b[0m    \u001b[0mextent_col_name\u001b[0m\u001b[0;34m=\u001b[0m\u001b[0;32mNone\u001b[0m\u001b[0;34m,\u001b[0m\u001b[0;34m\u001b[0m\n",
       "\u001b[0;34m\u001b[0m    \u001b[0mraster_size_col_name\u001b[0m\u001b[0;34m=\u001b[0m\u001b[0;32mNone\u001b[0m\u001b[0;34m,\u001b[0m\u001b[0;34m\u001b[0m\n",
       "\u001b[0;34m\u001b[0m    \u001b[0mband_indexes\u001b[0m\u001b[0;34m=\u001b[0m\u001b[0;32mNone\u001b[0m\u001b[0;34m,\u001b[0m\u001b[0;34m\u001b[0m\n",
       "\u001b[0;34m\u001b[0m    \u001b[0mlazy_tiles\u001b[0m\u001b[0;34m=\u001b[0m\u001b[0;32mTrue\u001b[0m\u001b[0;34m,\u001b[0m\u001b[0;34m\u001b[0m\n",
       "\u001b[0;34m\u001b[0m    \u001b[0;34m**\u001b[0m\u001b[0moptions\u001b[0m\u001b[0;34m,\u001b[0m\u001b[0;34m\u001b[0m\n",
       "\u001b[0;34m\u001b[0m\u001b[0;34m)\u001b[0m\u001b[0;34m\u001b[0m\u001b[0;34m\u001b[0m\u001b[0m\n",
       "\u001b[0;31mDocstring:\u001b[0m\n",
       "Specialization of the RasterFrames `raster` DataFrame reader which takes a geometry column and a chipping strategy as input.\n",
       ":param source: a string, list of strings, list of lists of strings, a Pandas DataFrame or a Spark DataFrame giving URIs to the raster data to read.\n",
       ":param catalog_col_names: required if `source` is a DataFrame or CSV string. It is a list of strings giving the names of columns containing URIs to read.\n",
       ":param geometry_col_name: name of the columns containing the target geometry to chip against.\n",
       ":param chipping_strategy: An earthai.chipping.strategy.Strategy class or a string giving the chipping strategy to use. See `chipping_strategies()` for details on all available str representations\n",
       ":param crs_col_name: explicitly provide the name of the column providing the source's CRS.\n",
       ":param extent_col_name: explicitly provide the name of the column providing the source's extent.\n",
       ":param raster_size_col_name: explicitly provide the name of the column providing the source's size in pixels.\n",
       ":param band_indexes: list of integers indicating which bands, zero-based, to read from the raster files specified; default is to read only the first band.\n",
       ":param lazy_tiles: If true (default) only generate minimal references to tile contents; if false, eagerly fetch tile cell values.\n",
       ":param options: Additional keyword arguments to pass to the Spark DataSource.\n",
       "\n",
       "Passing in the optional `crs_col_name`, `extent_col_name`, and `raster_size_col_name` will reduce raster reads and improve performance.\n",
       "\u001b[0;31mFile:\u001b[0m      /opt/conda/envs/earthai/lib/python3.7/site-packages/earthai/chipping/__init__.py\n",
       "\u001b[0;31mType:\u001b[0m      method\n"
      ]
     },
     "metadata": {},
     "output_type": "display_data"
    }
   ],
   "source": [
    "?spark.read.chip"
   ]
  },
  {
   "cell_type": "code",
   "execution_count": 7,
   "metadata": {},
   "outputs": [
    {
     "data": {
      "text/plain": [
       "['Intersecting Extent (intersecting_extent): Returns whatever axis-aligned area of the scene intersects with the geometry extent, as a single chip.',\n",
       " 'Scene-aligned Grid (scene_aligned_grid(chipCols: Int, chipRows: Int)): Returns chips created by gridding the whole scene by `chipDimensions` and filtering out ones not intersecting the target geometry.',\n",
       " 'Feature-aligned Grid (feature_aligned_grid(chipCols: Int, chipRows: Int)): Returns chips created by gridding the intersection area between the scene and target geometry by `chipDimensions`.',\n",
       " 'Centered on geometry centroid (centroid_centered(chipCols: Int, chipRows: Int)): Returns chips that are centered on the centroid of the target geometry']"
      ]
     },
     "execution_count": 7,
     "metadata": {},
     "output_type": "execute_result"
    }
   ],
   "source": [
    "chipping_strategies()"
   ]
  },
  {
   "cell_type": "code",
   "execution_count": 8,
   "metadata": {},
   "outputs": [
    {
     "data": {
      "text/html": [
       "<div>\n",
       "<style scoped>\n",
       "    .dataframe tbody tr th:only-of-type {\n",
       "        vertical-align: middle;\n",
       "    }\n",
       "\n",
       "    .dataframe tbody tr th {\n",
       "        vertical-align: top;\n",
       "    }\n",
       "\n",
       "    .dataframe thead th {\n",
       "        text-align: right;\n",
       "    }\n",
       "</style>\n",
       "<table border=\"1\" class=\"dataframe\">\n",
       "  <thead>\n",
       "    <tr style=\"text-align: right;\">\n",
       "      <th></th>\n",
       "      <th>band_name</th>\n",
       "      <th>bundleable</th>\n",
       "      <th>eo_common_name</th>\n",
       "      <th>eo_gsd</th>\n",
       "      <th>roles</th>\n",
       "      <th>title</th>\n",
       "      <th>type</th>\n",
       "      <th>collection_id</th>\n",
       "    </tr>\n",
       "  </thead>\n",
       "  <tbody>\n",
       "    <tr>\n",
       "      <th>0</th>\n",
       "      <td>B5</td>\n",
       "      <td>True</td>\n",
       "      <td>nir</td>\n",
       "      <td>30.0</td>\n",
       "      <td>[data]</td>\n",
       "      <td>Band 5 - Near Infrared (NIR) - 851-879nm (30m)</td>\n",
       "      <td>image/tiff</td>\n",
       "      <td>landsat8_l1tp</td>\n",
       "    </tr>\n",
       "    <tr>\n",
       "      <th>1</th>\n",
       "      <td>thumb_large</td>\n",
       "      <td>True</td>\n",
       "      <td>NaN</td>\n",
       "      <td>NaN</td>\n",
       "      <td>[preview]</td>\n",
       "      <td>Thumbnail - Large</td>\n",
       "      <td>image/jpeg</td>\n",
       "      <td>landsat8_l1tp</td>\n",
       "    </tr>\n",
       "    <tr>\n",
       "      <th>2</th>\n",
       "      <td>thumb_small</td>\n",
       "      <td>True</td>\n",
       "      <td>NaN</td>\n",
       "      <td>NaN</td>\n",
       "      <td>[thumbnail]</td>\n",
       "      <td>Thumbnail - Small</td>\n",
       "      <td>image/jpeg</td>\n",
       "      <td>landsat8_l1tp</td>\n",
       "    </tr>\n",
       "    <tr>\n",
       "      <th>3</th>\n",
       "      <td>B9</td>\n",
       "      <td>True</td>\n",
       "      <td>cirrus</td>\n",
       "      <td>30.0</td>\n",
       "      <td>[data]</td>\n",
       "      <td>Band 9 - Cirrus - 1363-1384nm (30m)</td>\n",
       "      <td>image/tiff</td>\n",
       "      <td>landsat8_l1tp</td>\n",
       "    </tr>\n",
       "    <tr>\n",
       "      <th>4</th>\n",
       "      <td>B6</td>\n",
       "      <td>True</td>\n",
       "      <td>swir16</td>\n",
       "      <td>30.0</td>\n",
       "      <td>[data]</td>\n",
       "      <td>Band 6 - Shortwave Infrared (SWIR) 1 - 1566-1651nm (30m)</td>\n",
       "      <td>image/tiff</td>\n",
       "      <td>landsat8_l1tp</td>\n",
       "    </tr>\n",
       "    <tr>\n",
       "      <th>5</th>\n",
       "      <td>B3</td>\n",
       "      <td>True</td>\n",
       "      <td>green</td>\n",
       "      <td>30.0</td>\n",
       "      <td>[data]</td>\n",
       "      <td>Band 3 - Green - 533-590nm (30m)</td>\n",
       "      <td>image/tiff</td>\n",
       "      <td>landsat8_l1tp</td>\n",
       "    </tr>\n",
       "    <tr>\n",
       "      <th>6</th>\n",
       "      <td>B7</td>\n",
       "      <td>True</td>\n",
       "      <td>swir22</td>\n",
       "      <td>30.0</td>\n",
       "      <td>[data]</td>\n",
       "      <td>Band 7 - Shortwave Infrared (SWIR) 2 - 2107-2294nm (30m)</td>\n",
       "      <td>image/tiff</td>\n",
       "      <td>landsat8_l1tp</td>\n",
       "    </tr>\n",
       "    <tr>\n",
       "      <th>7</th>\n",
       "      <td>B10</td>\n",
       "      <td>True</td>\n",
       "      <td>lwir11</td>\n",
       "      <td>30.0</td>\n",
       "      <td>[data]</td>\n",
       "      <td>Band 10 - Thermal Infrared (TIRS) 1 - 10600-11190nm (30m)</td>\n",
       "      <td>image/tiff</td>\n",
       "      <td>landsat8_l1tp</td>\n",
       "    </tr>\n",
       "    <tr>\n",
       "      <th>8</th>\n",
       "      <td>B2</td>\n",
       "      <td>True</td>\n",
       "      <td>blue</td>\n",
       "      <td>30.0</td>\n",
       "      <td>[data]</td>\n",
       "      <td>Band 2 - Blue - 452-512nm (30m)</td>\n",
       "      <td>image/tiff</td>\n",
       "      <td>landsat8_l1tp</td>\n",
       "    </tr>\n",
       "    <tr>\n",
       "      <th>9</th>\n",
       "      <td>BQA</td>\n",
       "      <td>True</td>\n",
       "      <td>NaN</td>\n",
       "      <td>30.0</td>\n",
       "      <td>[qa]</td>\n",
       "      <td>Band QA</td>\n",
       "      <td>image/tiff</td>\n",
       "      <td>landsat8_l1tp</td>\n",
       "    </tr>\n",
       "    <tr>\n",
       "      <th>10</th>\n",
       "      <td>B4</td>\n",
       "      <td>True</td>\n",
       "      <td>red</td>\n",
       "      <td>30.0</td>\n",
       "      <td>[data]</td>\n",
       "      <td>Band 4 - Red - 636-673nm (30m)</td>\n",
       "      <td>image/tiff</td>\n",
       "      <td>landsat8_l1tp</td>\n",
       "    </tr>\n",
       "    <tr>\n",
       "      <th>11</th>\n",
       "      <td>B1</td>\n",
       "      <td>True</td>\n",
       "      <td>coastal</td>\n",
       "      <td>30.0</td>\n",
       "      <td>[data]</td>\n",
       "      <td>Band 1 - Ultra Blue (coastal/aerosol) - 435-451nm (30m)</td>\n",
       "      <td>image/tiff</td>\n",
       "      <td>landsat8_l1tp</td>\n",
       "    </tr>\n",
       "    <tr>\n",
       "      <th>12</th>\n",
       "      <td>B8</td>\n",
       "      <td>True</td>\n",
       "      <td>pan</td>\n",
       "      <td>15.0</td>\n",
       "      <td>[data]</td>\n",
       "      <td>Band 8 - Panchromatic - 503-676nm (15m)</td>\n",
       "      <td>image/tiff</td>\n",
       "      <td>landsat8_l1tp</td>\n",
       "    </tr>\n",
       "    <tr>\n",
       "      <th>13</th>\n",
       "      <td>B11</td>\n",
       "      <td>True</td>\n",
       "      <td>lwir12</td>\n",
       "      <td>30.0</td>\n",
       "      <td>[data]</td>\n",
       "      <td>Band 11 - Thermal Infrared (TIRS) 2 - 11500-12510nm (30m)</td>\n",
       "      <td>image/tiff</td>\n",
       "      <td>landsat8_l1tp</td>\n",
       "    </tr>\n",
       "  </tbody>\n",
       "</table>\n",
       "</div>"
      ],
      "text/markdown": [
       "|    | band_name   | bundleable   | eo_common_name   |   eo_gsd | roles         | title                                                     | type       | collection_id   |\n",
       "|---:|:------------|:-------------|:-----------------|---------:|:--------------|:----------------------------------------------------------|:-----------|:----------------|\n",
       "|  0 | B5          | True         | nir              |       30 | ['data']      | Band 5 - Near Infrared (NIR) - 851-879nm (30m)            | image/tiff | landsat8_l1tp   |\n",
       "|  1 | thumb_large | True         | nan              |      nan | ['preview']   | Thumbnail - Large                                         | image/jpeg | landsat8_l1tp   |\n",
       "|  2 | thumb_small | True         | nan              |      nan | ['thumbnail'] | Thumbnail - Small                                         | image/jpeg | landsat8_l1tp   |\n",
       "|  3 | B9          | True         | cirrus           |       30 | ['data']      | Band 9 - Cirrus - 1363-1384nm (30m)                       | image/tiff | landsat8_l1tp   |\n",
       "|  4 | B6          | True         | swir16           |       30 | ['data']      | Band 6 - Shortwave Infrared (SWIR) 1 - 1566-1651nm (30m)  | image/tiff | landsat8_l1tp   |\n",
       "|  5 | B3          | True         | green            |       30 | ['data']      | Band 3 - Green - 533-590nm (30m)                          | image/tiff | landsat8_l1tp   |\n",
       "|  6 | B7          | True         | swir22           |       30 | ['data']      | Band 7 - Shortwave Infrared (SWIR) 2 - 2107-2294nm (30m)  | image/tiff | landsat8_l1tp   |\n",
       "|  7 | B10         | True         | lwir11           |       30 | ['data']      | Band 10 - Thermal Infrared (TIRS) 1 - 10600-11190nm (30m) | image/tiff | landsat8_l1tp   |\n",
       "|  8 | B2          | True         | blue             |       30 | ['data']      | Band 2 - Blue - 452-512nm (30m)                           | image/tiff | landsat8_l1tp   |\n",
       "|  9 | BQA         | True         | nan              |       30 | ['qa']        | Band QA                                                   | image/tiff | landsat8_l1tp   |\n",
       "| 10 | B4          | True         | red              |       30 | ['data']      | Band 4 - Red - 636-673nm (30m)                            | image/tiff | landsat8_l1tp   |\n",
       "| 11 | B1          | True         | coastal          |       30 | ['data']      | Band 1 - Ultra Blue (coastal/aerosol) - 435-451nm (30m)   | image/tiff | landsat8_l1tp   |\n",
       "| 12 | B8          | True         | pan              |       15 | ['data']      | Band 8 - Panchromatic - 503-676nm (15m)                   | image/tiff | landsat8_l1tp   |\n",
       "| 13 | B11         | True         | lwir12           |       30 | ['data']      | Band 11 - Thermal Infrared (TIRS) 2 - 11500-12510nm (30m) | image/tiff | landsat8_l1tp   |"
      ],
      "text/plain": [
       "      band_name  bundleable eo_common_name  eo_gsd        roles  \\\n",
       "0            B5        True            nir    30.0       [data]   \n",
       "1   thumb_large        True            NaN     NaN    [preview]   \n",
       "2   thumb_small        True            NaN     NaN  [thumbnail]   \n",
       "3            B9        True         cirrus    30.0       [data]   \n",
       "4            B6        True         swir16    30.0       [data]   \n",
       "5            B3        True          green    30.0       [data]   \n",
       "6            B7        True         swir22    30.0       [data]   \n",
       "7           B10        True         lwir11    30.0       [data]   \n",
       "8            B2        True           blue    30.0       [data]   \n",
       "9           BQA        True            NaN    30.0         [qa]   \n",
       "10           B4        True            red    30.0       [data]   \n",
       "11           B1        True        coastal    30.0       [data]   \n",
       "12           B8        True            pan    15.0       [data]   \n",
       "13          B11        True         lwir12    30.0       [data]   \n",
       "\n",
       "                                                title        type  \\\n",
       "0      Band 5 - Near Infrared (NIR) - 851-879nm (30m)  image/tiff   \n",
       "1                                   Thumbnail - Large  image/jpeg   \n",
       "2                                   Thumbnail - Small  image/jpeg   \n",
       "3                 Band 9 - Cirrus - 1363-1384nm (30m)  image/tiff   \n",
       "4   Band 6 - Shortwave Infrared (SWIR) 1 - 1566-16...  image/tiff   \n",
       "5                    Band 3 - Green - 533-590nm (30m)  image/tiff   \n",
       "6   Band 7 - Shortwave Infrared (SWIR) 2 - 2107-22...  image/tiff   \n",
       "7   Band 10 - Thermal Infrared (TIRS) 1 - 10600-11...  image/tiff   \n",
       "8                     Band 2 - Blue - 452-512nm (30m)  image/tiff   \n",
       "9                                             Band QA  image/tiff   \n",
       "10                     Band 4 - Red - 636-673nm (30m)  image/tiff   \n",
       "11  Band 1 - Ultra Blue (coastal/aerosol) - 435-45...  image/tiff   \n",
       "12            Band 8 - Panchromatic - 503-676nm (15m)  image/tiff   \n",
       "13  Band 11 - Thermal Infrared (TIRS) 2 - 11500-12...  image/tiff   \n",
       "\n",
       "    collection_id  \n",
       "0   landsat8_l1tp  \n",
       "1   landsat8_l1tp  \n",
       "2   landsat8_l1tp  \n",
       "3   landsat8_l1tp  \n",
       "4   landsat8_l1tp  \n",
       "5   landsat8_l1tp  \n",
       "6   landsat8_l1tp  \n",
       "7   landsat8_l1tp  \n",
       "8   landsat8_l1tp  \n",
       "9   landsat8_l1tp  \n",
       "10  landsat8_l1tp  \n",
       "11  landsat8_l1tp  \n",
       "12  landsat8_l1tp  \n",
       "13  landsat8_l1tp  "
      ]
     },
     "execution_count": 8,
     "metadata": {},
     "output_type": "execute_result"
    }
   ],
   "source": [
    "earth_ondemand.bands(cat.collection.unique())"
   ]
  },
  {
   "cell_type": "markdown",
   "metadata": {},
   "source": [
    "Now create dataframe of chips"
   ]
  },
  {
   "cell_type": "code",
   "execution_count": 9,
   "metadata": {},
   "outputs": [],
   "source": [
    "df = spark.read.chip(source=cat,\n",
    "                     catalog_col_names=['B4', 'B3', 'B2', 'B5'],\n",
    "                     geometry_col_name='geometry',\n",
    "                     chipping_strategy=CentroidCentered(42),\n",
    "                    ) \\\n",
    "    .withColumnRenamed('B4', 'red') \\\n",
    "    .withColumnRenamed('B3', 'grn') \\\n",
    "    .withColumnRenamed('B2', 'blu') \\\n",
    "    .withColumnRenamed('B5', 'nir') \\\n",
    "    .withColumn('train_test',\n",
    "                F.when(F.rand() > 0.6, 'test').otherwise('train')) \\\n",
    "    .withColumn('class_label', \n",
    "                F.when(F.rand() > 0.5, 1).otherwise(0)) \\\n",
    "    .cache() # DF is small and we will do many actions"
   ]
  },
  {
   "cell_type": "code",
   "execution_count": 10,
   "metadata": {},
   "outputs": [
    {
     "data": {
      "text/plain": [
       "(9, 9)"
      ]
     },
     "execution_count": 10,
     "metadata": {},
     "output_type": "execute_result"
    }
   ],
   "source": [
    "df.count(), len(cat)  # expect 3 scenes x 3 geoms, same as len(cat)"
   ]
  },
  {
   "cell_type": "code",
   "execution_count": 11,
   "metadata": {},
   "outputs": [
    {
     "data": {
      "text/html": [
       "<div>\n",
       "<style scoped>\n",
       "    .dataframe tbody tr th:only-of-type {\n",
       "        vertical-align: middle;\n",
       "    }\n",
       "\n",
       "    .dataframe tbody tr th {\n",
       "        vertical-align: top;\n",
       "    }\n",
       "\n",
       "    .dataframe thead th {\n",
       "        text-align: right;\n",
       "    }\n",
       "</style>\n",
       "<table border=\"1\" class=\"dataframe\">\n",
       "  <thead>\n",
       "    <tr style=\"text-align: right;\">\n",
       "      <th></th>\n",
       "      <th>rf_dimensions(red)</th>\n",
       "      <th>count</th>\n",
       "    </tr>\n",
       "  </thead>\n",
       "  <tbody>\n",
       "    <tr>\n",
       "      <th>0</th>\n",
       "      <td>(42, 42)</td>\n",
       "      <td>9</td>\n",
       "    </tr>\n",
       "  </tbody>\n",
       "</table>\n",
       "</div>"
      ],
      "text/markdown": [
       "|    | rf_dimensions(red)    |   count |\n",
       "|---:|:----------------------|--------:|\n",
       "|  0 | Row(cols=42, rows=42) |       9 |"
      ],
      "text/plain": [
       "  rf_dimensions(red)  count\n",
       "0           (42, 42)      9"
      ]
     },
     "execution_count": 11,
     "metadata": {},
     "output_type": "execute_result"
    }
   ],
   "source": [
    "df.groupby(rf_dimensions('red')).count().toPandas()"
   ]
  },
  {
   "cell_type": "markdown",
   "metadata": {},
   "source": [
    "## Chip writer\n",
    "\n",
    "Now demonstrate writing chips to a local directory"
   ]
  },
  {
   "cell_type": "code",
   "execution_count": 12,
   "metadata": {},
   "outputs": [
    {
     "data": {
      "text/plain": [
       "\u001b[0;31mSignature:\u001b[0m\n",
       "\u001b[0mdf\u001b[0m\u001b[0;34m.\u001b[0m\u001b[0mwrite\u001b[0m\u001b[0;34m.\u001b[0m\u001b[0mchip\u001b[0m\u001b[0;34m(\u001b[0m\u001b[0;34m\u001b[0m\n",
       "\u001b[0;34m\u001b[0m    \u001b[0mpath\u001b[0m\u001b[0;34m:\u001b[0m \u001b[0mstr\u001b[0m\u001b[0;34m,\u001b[0m\u001b[0;34m\u001b[0m\n",
       "\u001b[0;34m\u001b[0m    \u001b[0mfilename\u001b[0m\u001b[0;34m:\u001b[0m \u001b[0mstr\u001b[0m\u001b[0;34m,\u001b[0m\u001b[0;34m\u001b[0m\n",
       "\u001b[0;34m\u001b[0m    \u001b[0mcatalog\u001b[0m\u001b[0;34m:\u001b[0m \u001b[0mbool\u001b[0m \u001b[0;34m=\u001b[0m \u001b[0;32mTrue\u001b[0m\u001b[0;34m,\u001b[0m\u001b[0;34m\u001b[0m\n",
       "\u001b[0;34m\u001b[0m    \u001b[0mmetadata\u001b[0m\u001b[0;34m:\u001b[0m \u001b[0mUnion\u001b[0m\u001b[0;34m[\u001b[0m\u001b[0mList\u001b[0m\u001b[0;34m[\u001b[0m\u001b[0mstr\u001b[0m\u001b[0;34m]\u001b[0m\u001b[0;34m,\u001b[0m \u001b[0mNoneType\u001b[0m\u001b[0;34m]\u001b[0m \u001b[0;34m=\u001b[0m \u001b[0;32mNone\u001b[0m\u001b[0;34m,\u001b[0m\u001b[0;34m\u001b[0m\n",
       "\u001b[0;34m\u001b[0m\u001b[0;34m)\u001b[0m\u001b[0;34m\u001b[0m\u001b[0;34m\u001b[0m\u001b[0m\n",
       "\u001b[0;31mDocstring:\u001b[0m\n",
       "Write the\n",
       ":param df_writer:  self\n",
       ":param path: directory to write to\n",
       ":param filename: a column name giving the filename to use, possibly including a directory structure.\n",
       "            Example expression `F.concat_wc('/', train_test, category_label, F.monotonically_increasing_id())`\n",
       ":param catalog: if True, write a CSV file directory for chips written out\n",
       ":param metadata: a list of column names to write in the catalog CSV file\n",
       ":return: None\n",
       "\u001b[0;31mFile:\u001b[0m      /opt/conda/envs/earthai/lib/python3.7/site-packages/earthai/__init__.py\n",
       "\u001b[0;31mType:\u001b[0m      method\n"
      ]
     },
     "metadata": {},
     "output_type": "display_data"
    }
   ],
   "source": [
    "?df.write.chip"
   ]
  },
  {
   "cell_type": "code",
   "execution_count": 13,
   "metadata": {},
   "outputs": [],
   "source": [
    "# create a column of filenames. These can have unix path separator in them to make subdirectories.\n",
    "# here we use monotonically_increasing_id to get a unique arbitrary name for each row/chip\n",
    "df = df.withColumn('file_path_name', \n",
    "                   F.concat_ws('/', F.col('train_test'), F.monotonically_increasing_id()))\n",
    "distinct_file_names = df.select('file_path_name').distinct()\n",
    "assert distinct_file_names.count() == df.count()"
   ]
  },
  {
   "cell_type": "code",
   "execution_count": 14,
   "metadata": {},
   "outputs": [],
   "source": [
    "df.write.chip('test_chip_writer', filename='file_path_name', \n",
    "              catalog=True, \n",
    "              metadata=['id', 'class_label', 'train_test', 'geometry', 'datetime', ])"
   ]
  },
  {
   "cell_type": "code",
   "execution_count": 15,
   "metadata": {},
   "outputs": [
    {
     "name": "stdout",
     "output_type": "stream",
     "text": [
      "test_chip_writer/:\n",
      "total 12\n",
      "-rw-r--r-- 1 jovyan 40009 1609 Aug  4 14:05 catalog.csv\n",
      "drwxr-sr-x 2 jovyan 40009 6144 Aug  4 14:05 test\n",
      "drwxr-sr-x 2 jovyan 40009 6144 Aug  4 14:05 train\n",
      "\n",
      "test_chip_writer/test:\n",
      "total 64\n",
      "-rw-r--r-- 1 jovyan 40009 15765 Aug  4 14:05 1168231104512.tif\n",
      "-rw-r--r-- 1 jovyan 40009 15849 Aug  4 14:05 1382979469312.tif\n",
      "-rw-r--r-- 1 jovyan 40009 15853 Aug  4 14:05 1606317768704.tif\n",
      "-rw-r--r-- 1 jovyan 40009 15500 Aug  4 14:05 764504178688.tif\n",
      "\n",
      "test_chip_writer/train:\n",
      "total 80\n",
      "-rw-r--r-- 1 jovyan 40009 15598 Aug  4 14:05 1159641169920.tif\n",
      "-rw-r--r-- 1 jovyan 40009 15864 Aug  4 14:05 1597727834112.tif\n",
      "-rw-r--r-- 1 jovyan 40009 15435 Aug  4 14:05 541165879296.tif\n",
      "-rw-r--r-- 1 jovyan 40009 15513 Aug  4 14:05 755914244096.tif\n",
      "-rw-r--r-- 1 jovyan 40009 15537 Aug  4 14:05 936302870528.tif\n"
     ]
    }
   ],
   "source": [
    "! ls -lR test_chip_writer/"
   ]
  },
  {
   "cell_type": "markdown",
   "metadata": {},
   "source": [
    "Dig into one of the chips. It carries a lot of metadata on it. Note the `metadata` list we passed into the writer"
   ]
  },
  {
   "cell_type": "code",
   "execution_count": 16,
   "metadata": {},
   "outputs": [
    {
     "name": "stdout",
     "output_type": "stream",
     "text": [
      "test_chip_writer/train/541165879296.tif\n",
      "driver \t\t GTiff\n",
      "dtype \t\t uint16\n",
      "nodata \t\t None\n",
      "width \t\t 42\n",
      "height \t\t 42\n",
      "count \t\t 4\n",
      "crs \t\t EPSG:32617\n",
      "transform \t\t | 30.00, 0.00, 442515.00|\n",
      "| 0.00,-30.00, 3142335.00|\n",
      "| 0.00, 0.00, 1.00|\n",
      "\n",
      " T A G S :\n",
      "AREA_OR_POINT \t\t Area\n",
      "base_filename \t\t train/541165879296\n",
      "class_label \t\t 0\n",
      "datetime \t\t 2020-02-27 15:55:23.648218\n",
      "geometry \t\t POINT (-81.580217 28.400303)\n",
      "id \t\t LC08_L1TP_016040_20200227_20200313_01_T1_L1TP\n",
      "train_test \t\t train\n",
      "\n",
      " B A N D S :\n",
      "\tBand 1 \t\t source_column \t\t train\n",
      "\tBand 1 \t\t ColorInterp.red\n",
      "\tBand 2 \t\t source_column \t\t train\n",
      "\tBand 2 \t\t ColorInterp.green\n",
      "\tBand 3 \t\t source_column \t\t train\n",
      "\tBand 3 \t\t ColorInterp.blue\n",
      "\tBand 4 \t\t source_column \t\t train\n",
      "\tBand 4 \t\t ColorInterp.undefined\n"
     ]
    },
    {
     "data": {
      "image/png": "[encoded data removed]",
      "text/plain": [
       "<Figure size 432x288 with 1 Axes>"
      ]
     },
     "metadata": {
      "needs_background": "light"
     },
     "output_type": "display_data"
    }
   ],
   "source": [
    "tif = ['test_chip_writer/train/' + f for f in os.listdir('test_chip_writer/train') \n",
    "       if f.endswith('tif') ][0]\n",
    "print(tif)\n",
    "\n",
    "with rasterio.open(tif) as src:\n",
    "    for k, v in src.meta.items():\n",
    "        print(k, '\\t\\t', v)\n",
    "        \n",
    "    print('\\n', 'T A G S :')\n",
    "    for k, v in src.tags().items():\n",
    "        print(k, '\\t\\t', v)\n",
    "        \n",
    "    print('\\n B A N D S :')\n",
    "    for b in range(1, src.count + 1):\n",
    "        for k in src.tags(b):\n",
    "            print(\"\\tBand\", b, '\\t\\t', k, '\\t\\t', v)\n",
    "        print(\"\\tBand\", b, '\\t\\t', src.colorinterp[b-1])\n",
    "    ax = show(src.read(1), transform=src.transform)"
   ]
  },
  {
   "cell_type": "markdown",
   "metadata": {},
   "source": [
    "Let's look at the csv file that was written out to the directory. It has the filename of the chip with all the `metadata` columns plus some other goodies.\n"
   ]
  },
  {
   "cell_type": "code",
   "execution_count": 17,
   "metadata": {},
   "outputs": [],
   "source": [
    "csv_catalog = pandas.read_csv('test_chip_writer/catalog.csv')"
   ]
  },
  {
   "cell_type": "code",
   "execution_count": 18,
   "metadata": {},
   "outputs": [
    {
     "data": {
      "text/plain": [
       "Index(['filename', 'bbox', 'id', 'class_label', 'train_test', 'geometry',\n",
       "       'datetime'],\n",
       "      dtype='object')"
      ]
     },
     "execution_count": 18,
     "metadata": {},
     "output_type": "execute_result"
    }
   ],
   "source": [
    "csv_catalog.columns"
   ]
  },
  {
   "cell_type": "code",
   "execution_count": 19,
   "metadata": {},
   "outputs": [
    {
     "data": {
      "text/html": [
       "<div>\n",
       "<style scoped>\n",
       "    .dataframe tbody tr th:only-of-type {\n",
       "        vertical-align: middle;\n",
       "    }\n",
       "\n",
       "    .dataframe tbody tr th {\n",
       "        vertical-align: top;\n",
       "    }\n",
       "\n",
       "    .dataframe thead th {\n",
       "        text-align: right;\n",
       "    }\n",
       "</style>\n",
       "<table border=\"1\" class=\"dataframe\">\n",
       "  <thead>\n",
       "    <tr style=\"text-align: right;\">\n",
       "      <th></th>\n",
       "      <th>filename</th>\n",
       "      <th>bbox</th>\n",
       "      <th>id</th>\n",
       "      <th>class_label</th>\n",
       "      <th>train_test</th>\n",
       "      <th>geometry</th>\n",
       "      <th>datetime</th>\n",
       "    </tr>\n",
       "  </thead>\n",
       "  <tbody>\n",
       "    <tr>\n",
       "      <th>0</th>\n",
       "      <td>train/541165879296.tif</td>\n",
       "      <td>[442515.0|3141075.0|443775.0|3142335.0]</td>\n",
       "      <td>LC08_L1TP_016040_20200227_20200313_01_T1_L1TP</td>\n",
       "      <td>0</td>\n",
       "      <td>train</td>\n",
       "      <td>POINT (-81.580217 28.400303)</td>\n",
       "      <td>2020-02-27 15:55:23.648218</td>\n",
       "    </tr>\n",
       "    <tr>\n",
       "      <th>1</th>\n",
       "      <td>train/755914244096.tif</td>\n",
       "      <td>[444975.0|3136245.0|446235.0|3137505.0]</td>\n",
       "      <td>LC08_L1TP_016040_20200227_20200313_01_T1_L1TP</td>\n",
       "      <td>1</td>\n",
       "      <td>train</td>\n",
       "      <td>POINT (-81.555017 28.35699)</td>\n",
       "      <td>2020-02-27 15:55:23.648218</td>\n",
       "    </tr>\n",
       "    <tr>\n",
       "      <th>2</th>\n",
       "      <td>test/764504178688.tif</td>\n",
       "      <td>[445635.0|3138765.0|446895.0|3140025.0]</td>\n",
       "      <td>LC08_L1TP_016040_20200227_20200313_01_T1_L1TP</td>\n",
       "      <td>1</td>\n",
       "      <td>test</td>\n",
       "      <td>POINT (-81.548142 28.379772)</td>\n",
       "      <td>2020-02-27 15:55:23.648218</td>\n",
       "    </tr>\n",
       "    <tr>\n",
       "      <th>3</th>\n",
       "      <td>train/936302870528.tif</td>\n",
       "      <td>[442515.0|3141075.0|443775.0|3142335.0]</td>\n",
       "      <td>LC08_L1TP_016040_20200314_20200325_01_T1_L1TP</td>\n",
       "      <td>1</td>\n",
       "      <td>train</td>\n",
       "      <td>POINT (-81.580217 28.400303)</td>\n",
       "      <td>2020-03-14 15:55:16.921806</td>\n",
       "    </tr>\n",
       "    <tr>\n",
       "      <th>4</th>\n",
       "      <td>train/1159641169920.tif</td>\n",
       "      <td>[444975.0|3136245.0|446235.0|3137505.0]</td>\n",
       "      <td>LC08_L1TP_016040_20200314_20200325_01_T1_L1TP</td>\n",
       "      <td>1</td>\n",
       "      <td>train</td>\n",
       "      <td>POINT (-81.555017 28.35699)</td>\n",
       "      <td>2020-03-14 15:55:16.921806</td>\n",
       "    </tr>\n",
       "    <tr>\n",
       "      <th>5</th>\n",
       "      <td>test/1168231104512.tif</td>\n",
       "      <td>[445635.0|3138765.0|446895.0|3140025.0]</td>\n",
       "      <td>LC08_L1TP_016040_20200314_20200325_01_T1_L1TP</td>\n",
       "      <td>1</td>\n",
       "      <td>test</td>\n",
       "      <td>POINT (-81.548142 28.379772)</td>\n",
       "      <td>2020-03-14 15:55:16.921806</td>\n",
       "    </tr>\n",
       "    <tr>\n",
       "      <th>6</th>\n",
       "      <td>test/1382979469312.tif</td>\n",
       "      <td>[442515.0|3141075.0|443775.0|3142335.0]</td>\n",
       "      <td>LC08_L1TP_016040_20200501_20200509_01_T1_L1TP</td>\n",
       "      <td>0</td>\n",
       "      <td>test</td>\n",
       "      <td>POINT (-81.580217 28.400303)</td>\n",
       "      <td>2020-05-01 15:54:52.691813</td>\n",
       "    </tr>\n",
       "    <tr>\n",
       "      <th>7</th>\n",
       "      <td>train/1597727834112.tif</td>\n",
       "      <td>[445635.0|3138765.0|446895.0|3140025.0]</td>\n",
       "      <td>LC08_L1TP_016040_20200501_20200509_01_T1_L1TP</td>\n",
       "      <td>0</td>\n",
       "      <td>train</td>\n",
       "      <td>POINT (-81.548142 28.379772)</td>\n",
       "      <td>2020-05-01 15:54:52.691813</td>\n",
       "    </tr>\n",
       "    <tr>\n",
       "      <th>8</th>\n",
       "      <td>test/1606317768704.tif</td>\n",
       "      <td>[444975.0|3136245.0|446235.0|3137505.0]</td>\n",
       "      <td>LC08_L1TP_016040_20200501_20200509_01_T1_L1TP</td>\n",
       "      <td>1</td>\n",
       "      <td>test</td>\n",
       "      <td>POINT (-81.555017 28.35699)</td>\n",
       "      <td>2020-05-01 15:54:52.691813</td>\n",
       "    </tr>\n",
       "  </tbody>\n",
       "</table>\n",
       "</div>"
      ],
      "text/markdown": [
       "|    | filename                | bbox                                    | id                                            |   class_label | train_test   | geometry                     | datetime                   |\n",
       "|---:|:------------------------|:----------------------------------------|:----------------------------------------------|--------------:|:-------------|:-----------------------------|:---------------------------|\n",
       "|  0 | train/541165879296.tif  | [442515.0|3141075.0|443775.0|3142335.0] | LC08_L1TP_016040_20200227_20200313_01_T1_L1TP |             0 | train        | POINT (-81.580217 28.400303) | 2020-02-27 15:55:23.648218 |\n",
       "|  1 | train/755914244096.tif  | [444975.0|3136245.0|446235.0|3137505.0] | LC08_L1TP_016040_20200227_20200313_01_T1_L1TP |             1 | train        | POINT (-81.555017 28.35699)  | 2020-02-27 15:55:23.648218 |\n",
       "|  2 | test/764504178688.tif   | [445635.0|3138765.0|446895.0|3140025.0] | LC08_L1TP_016040_20200227_20200313_01_T1_L1TP |             1 | test         | POINT (-81.548142 28.379772) | 2020-02-27 15:55:23.648218 |\n",
       "|  3 | train/936302870528.tif  | [442515.0|3141075.0|443775.0|3142335.0] | LC08_L1TP_016040_20200314_20200325_01_T1_L1TP |             1 | train        | POINT (-81.580217 28.400303) | 2020-03-14 15:55:16.921806 |\n",
       "|  4 | train/1159641169920.tif | [444975.0|3136245.0|446235.0|3137505.0] | LC08_L1TP_016040_20200314_20200325_01_T1_L1TP |             1 | train        | POINT (-81.555017 28.35699)  | 2020-03-14 15:55:16.921806 |\n",
       "|  5 | test/1168231104512.tif  | [445635.0|3138765.0|446895.0|3140025.0] | LC08_L1TP_016040_20200314_20200325_01_T1_L1TP |             1 | test         | POINT (-81.548142 28.379772) | 2020-03-14 15:55:16.921806 |\n",
       "|  6 | test/1382979469312.tif  | [442515.0|3141075.0|443775.0|3142335.0] | LC08_L1TP_016040_20200501_20200509_01_T1_L1TP |             0 | test         | POINT (-81.580217 28.400303) | 2020-05-01 15:54:52.691813 |\n",
       "|  7 | train/1597727834112.tif | [445635.0|3138765.0|446895.0|3140025.0] | LC08_L1TP_016040_20200501_20200509_01_T1_L1TP |             0 | train        | POINT (-81.548142 28.379772) | 2020-05-01 15:54:52.691813 |\n",
       "|  8 | test/1606317768704.tif  | [444975.0|3136245.0|446235.0|3137505.0] | LC08_L1TP_016040_20200501_20200509_01_T1_L1TP |             1 | test         | POINT (-81.555017 28.35699)  | 2020-05-01 15:54:52.691813 |"
      ],
      "text/plain": [
       "                  filename                                     bbox  \\\n",
       "0   train/541165879296.tif  [442515.0|3141075.0|443775.0|3142335.0]   \n",
       "1   train/755914244096.tif  [444975.0|3136245.0|446235.0|3137505.0]   \n",
       "2    test/764504178688.tif  [445635.0|3138765.0|446895.0|3140025.0]   \n",
       "3   train/936302870528.tif  [442515.0|3141075.0|443775.0|3142335.0]   \n",
       "4  train/1159641169920.tif  [444975.0|3136245.0|446235.0|3137505.0]   \n",
       "5   test/1168231104512.tif  [445635.0|3138765.0|446895.0|3140025.0]   \n",
       "6   test/1382979469312.tif  [442515.0|3141075.0|443775.0|3142335.0]   \n",
       "7  train/1597727834112.tif  [445635.0|3138765.0|446895.0|3140025.0]   \n",
       "8   test/1606317768704.tif  [444975.0|3136245.0|446235.0|3137505.0]   \n",
       "\n",
       "                                              id  class_label train_test  \\\n",
       "0  LC08_L1TP_016040_20200227_20200313_01_T1_L1TP            0      train   \n",
       "1  LC08_L1TP_016040_20200227_20200313_01_T1_L1TP            1      train   \n",
       "2  LC08_L1TP_016040_20200227_20200313_01_T1_L1TP            1       test   \n",
       "3  LC08_L1TP_016040_20200314_20200325_01_T1_L1TP            1      train   \n",
       "4  LC08_L1TP_016040_20200314_20200325_01_T1_L1TP            1      train   \n",
       "5  LC08_L1TP_016040_20200314_20200325_01_T1_L1TP            1       test   \n",
       "6  LC08_L1TP_016040_20200501_20200509_01_T1_L1TP            0       test   \n",
       "7  LC08_L1TP_016040_20200501_20200509_01_T1_L1TP            0      train   \n",
       "8  LC08_L1TP_016040_20200501_20200509_01_T1_L1TP            1       test   \n",
       "\n",
       "                       geometry                    datetime  \n",
       "0  POINT (-81.580217 28.400303)  2020-02-27 15:55:23.648218  \n",
       "1   POINT (-81.555017 28.35699)  2020-02-27 15:55:23.648218  \n",
       "2  POINT (-81.548142 28.379772)  2020-02-27 15:55:23.648218  \n",
       "3  POINT (-81.580217 28.400303)  2020-03-14 15:55:16.921806  \n",
       "4   POINT (-81.555017 28.35699)  2020-03-14 15:55:16.921806  \n",
       "5  POINT (-81.548142 28.379772)  2020-03-14 15:55:16.921806  \n",
       "6  POINT (-81.580217 28.400303)  2020-05-01 15:54:52.691813  \n",
       "7  POINT (-81.548142 28.379772)  2020-05-01 15:54:52.691813  \n",
       "8   POINT (-81.555017 28.35699)  2020-05-01 15:54:52.691813  "
      ]
     },
     "execution_count": 19,
     "metadata": {},
     "output_type": "execute_result"
    }
   ],
   "source": [
    "csv_catalog"
   ]
  },
  {
   "cell_type": "markdown",
   "metadata": {},
   "source": [
    "## Chip writing conclusion\n",
    "\n",
    "Next steps will be to create a data generator in [PyTorch](https://pytorch.org/docs/stable/data.html) or [Keras](https://keras.io/api/preprocessing/image/)."
   ]
  },
  {
   "cell_type": "markdown",
   "metadata": {},
   "source": [
    "## Slippy map writer\n",
    "\n",
    "Let's read the catalog again but this time read the entirety of a single scene. We'll subset this to be able to show a lot of different options quickly."
   ]
  },
  {
   "cell_type": "code",
   "execution_count": 20,
   "metadata": {},
   "outputs": [],
   "source": [
    "df2 = spark.read.raster(cat.head(1),\n",
    "                        catalog_col_names=['B4', 'B3', 'B2', 'B5'],\n",
    "                    ) \\\n",
    "    .withColumnRenamed('B4', 'red') \\\n",
    "    .withColumnRenamed('B3', 'grn') \\\n",
    "    .withColumnRenamed('B2', 'blu') \\\n",
    "    .withColumnRenamed('B5', 'nir') \\\n",
    "    .filter(\n",
    "        st_intersects(\n",
    "            st_reproject(rf_geometry('red'), rf_crs('red'), rf_mk_crs('epsg:4326')),\n",
    "            st_geomFromWKT(F.lit(\"POLYGON((-81.58825278434438 28.695817228513512,-81.20098471793813 28.695817228513512,-81.20098471793813 28.244321125520017,-81.58825278434438 28.244321125520017,-81.58825278434438 28.695817228513512))\"))\n",
    "          )) \\\n",
    "    .cache() # again because it is small"
   ]
  },
  {
   "cell_type": "markdown",
   "metadata": {},
   "source": [
    "There are several options for writing slippy map. \n",
    "\n",
    "1. You can use `<dataframe>.write.slippy` to write optionally a standalone HTML page with leaflet map embedded into it. NB this is not as directly useful for the notebook environment.\n",
    "2. Extension method `<dataframe>.to_map` that will write a single layer and return a ipyleaflet Map widget in the output cell\n",
    "3. Extension method `<dataframe>.to_map_layers` will write several layers. Each layer can be configured separately.\n",
    "\n",
    "All of these have a variety of options:\n",
    "\n",
    "1. Write three-band color composite or single band\n",
    "2. For single band, color ramp to use. See `earthai.valid_color_ramps()`.\n",
    "2. Writing mode: \n",
    "   1. fast by default. Each tile is rendered independently. \n",
    "   1. `uniform_color`  makes an additional pass over the data to map values to colors consistently across all tiles"
   ]
  },
  {
   "cell_type": "code",
   "execution_count": 21,
   "metadata": {},
   "outputs": [
    {
     "data": {
      "text/plain": [
       "['LightYellowToOrange', 'GreenToRedOrange', 'Plasma', 'Greyscale64', 'HeatmapDarkRedToYellowWhite', 'Viridis', 'LightToDarkSunset', 'BlueToRed', 'HeatmapLightPurpleToDarkPurpleToWhite', 'Greyscale256', 'HeatmapYellowToRed', 'Greyscale8', 'LightToDarkGreen', 'Greyscale2', 'BlueToOrange', 'Greyscale128', 'Greyscale32', 'Magma', 'HeatmapBlueToYellowToRedSpectrum', 'Inferno', 'ClassificationMutedTerrain', 'ClassificationBoldLandUse']"
      ]
     },
     "execution_count": 21,
     "metadata": {},
     "output_type": "execute_result"
    }
   ],
   "source": [
    "earthai.valid_color_ramps()"
   ]
  },
  {
   "cell_type": "code",
   "execution_count": 22,
   "metadata": {},
   "outputs": [
    {
     "data": {
      "text/plain": [
       "\u001b[0;31mSignature:\u001b[0m\n",
       "\u001b[0mdf2\u001b[0m\u001b[0;34m.\u001b[0m\u001b[0mwrite\u001b[0m\u001b[0;34m.\u001b[0m\u001b[0mslippy\u001b[0m\u001b[0;34m(\u001b[0m\u001b[0;34m\u001b[0m\n",
       "\u001b[0;34m\u001b[0m    \u001b[0mpath\u001b[0m\u001b[0;34m:\u001b[0m \u001b[0mstr\u001b[0m\u001b[0;34m,\u001b[0m\u001b[0;34m\u001b[0m\n",
       "\u001b[0;34m\u001b[0m    \u001b[0mcolorramp\u001b[0m\u001b[0;34m:\u001b[0m \u001b[0mUnion\u001b[0m\u001b[0;34m[\u001b[0m\u001b[0mstr\u001b[0m\u001b[0;34m,\u001b[0m \u001b[0mNoneType\u001b[0m\u001b[0;34m]\u001b[0m \u001b[0;34m=\u001b[0m \u001b[0;32mNone\u001b[0m\u001b[0;34m,\u001b[0m\u001b[0;34m\u001b[0m\n",
       "\u001b[0;34m\u001b[0m    \u001b[0muniform_color\u001b[0m\u001b[0;34m:\u001b[0m \u001b[0mOptional\u001b[0m \u001b[0;34m=\u001b[0m \u001b[0;32mNone\u001b[0m\u001b[0;34m,\u001b[0m\u001b[0;34m\u001b[0m\n",
       "\u001b[0;34m\u001b[0m    \u001b[0mhtml\u001b[0m\u001b[0;34m:\u001b[0m \u001b[0mOptional\u001b[0m \u001b[0;34m=\u001b[0m \u001b[0;32mNone\u001b[0m\u001b[0;34m,\u001b[0m\u001b[0;34m\u001b[0m\n",
       "\u001b[0;34m\u001b[0m\u001b[0;34m)\u001b[0m\u001b[0;34m\u001b[0m\u001b[0;34m\u001b[0m\u001b[0m\n",
       "\u001b[0;31mDocstring:\u001b[0m\n",
       "Write dataframe contents for a web map view. If only one band column is in the dataframe\n",
       "then a color map name must be provided\n",
       "\n",
       ":param df_writer: self\n",
       ":param path: local directory to use for\n",
       ":param colorramp: A color map to use in the case of a single tile column,\n",
       "                see earthai.valid_color_ramps() for valid values to use\n",
       ":param uniform_color: when True, cell statitics will be computed over all rows before\n",
       "rendering in order to provide a uniform color mapping.\n",
       ":param html: if provided evaluates to True, will generate a static HTML page with\n",
       "                leaflet map control\n",
       ":return: Returns None\n",
       "\u001b[0;31mFile:\u001b[0m      /opt/conda/envs/earthai/lib/python3.7/site-packages/earthai/__init__.py\n",
       "\u001b[0;31mType:\u001b[0m      method\n"
      ]
     },
     "metadata": {},
     "output_type": "display_data"
    }
   ],
   "source": [
    "?df2.write.slippy"
   ]
  },
  {
   "cell_type": "code",
   "execution_count": null,
   "metadata": {},
   "outputs": [],
   "source": [
    "df2.write.slippy('test_writer_slippy', html=True)"
   ]
  },
  {
   "cell_type": "code",
   "execution_count": null,
   "metadata": {},
   "outputs": [],
   "source": [
    "! ls -l test_writer_slippy"
   ]
  },
  {
   "cell_type": "markdown",
   "metadata": {},
   "source": [
    "Now lets try the dataframe extension methods.\n",
    "\n",
    "Simplest method is a single parameter which is the name of the layer. The function returns an `ipyleaflet.Map`"
   ]
  },
  {
   "cell_type": "code",
   "execution_count": null,
   "metadata": {},
   "outputs": [],
   "source": [
    "df2.to_map('to_map')"
   ]
  },
  {
   "cell_type": "markdown",
   "metadata": {},
   "source": [
    "What happened? It has interpreted one of our bands as an \"alpha\" or transparency band. 😫 Not exactly what we wanted. Let's take a look at our schema. 4 \"projected raster\" tile columns. "
   ]
  },
  {
   "cell_type": "code",
   "execution_count": null,
   "metadata": {},
   "outputs": [],
   "source": [
    "df2.printSchema()"
   ]
  },
  {
   "cell_type": "markdown",
   "metadata": {},
   "source": [
    "Select down to a single band and map that with famous `Viridis` color ramp"
   ]
  },
  {
   "cell_type": "code",
   "execution_count": null,
   "metadata": {},
   "outputs": [],
   "source": [
    "m_nir = df2.select('nir').to_map('nir_only_vir', color_ramp='Viridis')"
   ]
  },
  {
   "cell_type": "code",
   "execution_count": null,
   "metadata": {},
   "outputs": [],
   "source": [
    "m_nir"
   ]
  },
  {
   "cell_type": "markdown",
   "metadata": {},
   "source": [
    "We can also pass exactly three tile columns in to generate a color composite.\n",
    "\n",
    "Note that each of these operations takes a while to run... Let's use the `to_map_layers` to do a bunch of layers all at once.\n",
    "\n",
    "We pass in a list of dict. Each item in the list will result in a single layer. The value under `columns` key in the dict will control what dataframe columns are considered. These can be tiles, extents, crs, or projected raster. Notice how we can use this to map across columns that may have different extent and crs."
   ]
  },
  {
   "cell_type": "code",
   "execution_count": null,
   "metadata": {},
   "outputs": [],
   "source": [
    "?df2.to_map_layers"
   ]
  },
  {
   "cell_type": "code",
   "execution_count": null,
   "metadata": {},
   "outputs": [],
   "source": [
    "m3 = df2.withColumn('ndvi', rf_normalized_difference('nir', 'red')) \\\n",
    "    .to_map_layers([\n",
    "    dict(name='ndvi', columns='ndvi', color_ramp='ClassificationMutedTerrain', uniform=True),\n",
    "    dict(name='false_color', columns=['nir', 'red', 'grn']),\n",
    "         \n",
    "    ])"
   ]
  },
  {
   "cell_type": "code",
   "execution_count": null,
   "metadata": {},
   "outputs": [],
   "source": [
    "m3"
   ]
  },
  {
   "cell_type": "markdown",
   "metadata": {},
   "source": [
    "Since `m3` is a `Map` object we can change it and view it in multiple panes. \n",
    "\n",
    "Let's add our geometry from above to it just for kicks.\n"
   ]
  },
  {
   "cell_type": "code",
   "execution_count": null,
   "metadata": {},
   "outputs": [],
   "source": [
    "m3.add_layer(parks_layer)"
   ]
  },
  {
   "cell_type": "markdown",
   "metadata": {},
   "source": [
    "💥‼️\n",
    "\n",
    "We can also get the layers from our other maps that we have written out. This is super important because writing the layer out again is slow."
   ]
  },
  {
   "cell_type": "code",
   "execution_count": null,
   "metadata": {},
   "outputs": [],
   "source": [
    "m_nir.layers"
   ]
  },
  {
   "cell_type": "code",
   "execution_count": null,
   "metadata": {},
   "outputs": [],
   "source": [
    "m3.add_layer(m_nir.layers[-1])"
   ]
  },
  {
   "cell_type": "code",
   "execution_count": null,
   "metadata": {},
   "outputs": [],
   "source": []
  }
 ],
 "metadata": {
  "kernelspec": {
   "display_name": "EarthAI Environment",
   "language": "python",
   "name": "python3"
  },
  "language_info": {
   "codemirror_mode": {
    "name": "ipython",
    "version": 3
   },
   "file_extension": ".py",
   "mimetype": "text/x-python",
   "name": "python",
   "nbconvert_exporter": "python",
   "pygments_lexer": "ipython3",
   "version": "3.7.7"
  }
 },
 "nbformat": 4,
 "nbformat_minor": 4
}
