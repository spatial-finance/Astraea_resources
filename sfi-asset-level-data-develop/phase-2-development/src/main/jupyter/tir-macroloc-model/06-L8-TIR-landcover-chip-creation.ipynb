{
 "cells": [
  {
   "cell_type": "markdown",
   "metadata": {},
   "source": [
    "# Creation of TIR Landsat 8 Chips for Land Cover\n",
    "\n",
    "This notebook creates the Landsat 8 TIR Band 10 image chips for land cover from the EarthAI catalog.\n",
    "\n",
    "Note that we still may have to convert from TOA to brightness temperature, following these guidelines: https://www.usgs.gov/land-resources/nli/landsat/using-usgs-landsat-level-1-data-product. It's not clear yet that this step is essential.\n",
    "\n",
    "Documentation on Landsat 8 L1TP:\n",
    "https://prd-wret.s3.us-west-2.amazonaws.com/assets/palladium/production/atoms/files/LSDS-1656_%20Landsat_Collection1_L1_Product_Definition-v2.pdf"
   ]
  },
  {
   "cell_type": "code",
   "execution_count": null,
   "metadata": {},
   "outputs": [],
   "source": [
    "# Import required packages\n",
    "from earthai.init import *\n",
    "import earthai.chipping.strategy\n",
    "\n",
    "import pyspark.sql.functions as F\n",
    "from pyspark.sql.window import Window\n",
    "from pyspark.sql.functions import rank, col\n",
    "\n",
    "from pyrasterframes.rf_types import TileUDT\n",
    "from pyspark.sql.functions import udf\n",
    "\n",
    "import geopandas as gpd\n",
    "import pandas as pd\n",
    "import folium\n",
    "import folium.plugins\n",
    "\n",
    "import os\n",
    "import rasterio\n",
    "from rasterio.plot import show\n",
    "\n",
    "import boto3\n",
    "\n",
    "%matplotlib inline"
   ]
  },
  {
   "cell_type": "raw",
   "metadata": {},
   "source": [
    "! pip install awscli"
   ]
  },
  {
   "cell_type": "markdown",
   "metadata": {},
   "source": [
    "## Get land cover locations in China"
   ]
  },
  {
   "cell_type": "code",
   "execution_count": null,
   "metadata": {},
   "outputs": [],
   "source": [
    "# land cover in China\n",
    "land_geojson = '/home/jovyan/sfi-asset-level-data/src/main/resources/cement_steel_land_geoms/landcover_datasetv4_UTM_CHINA_exactlocPOLYS_1200m.geojson'\n",
    "\n",
    "# Read into GeoDataFrame, keep only subset of columns\n",
    "land_gpd = gpd.read_file(land_geojson)\n",
    "land_gpd = land_gpd[['id', 'geometry']]\n",
    "\n",
    "# Convert to WGS84 for use w/ Earth OnDemand API\n",
    "land_gpd = land_gpd.to_crs('OGC:CRS84')\n",
    "\n",
    "# Total of 2002 land cover\n",
    "land_gpd.rename(columns={'id': 'uid'}, inplace=True)\n",
    "land_gpd"
   ]
  },
  {
   "cell_type": "code",
   "execution_count": null,
   "metadata": {},
   "outputs": [],
   "source": [
    "# Plot land cover polygons\n",
    "style_function = lambda x: {'fillColor': '#f003fc', 'color': '#f003fc'}\n",
    "land_polys = folium.features.GeoJson(land_gpd.to_json(), style_function=style_function)\n",
    "m = folium.Map(location=[land_gpd.geometry.centroid.y.mean(), \n",
    "                         land_gpd.geometry.centroid.x.mean()],\n",
    "               zoom_start=4)\n",
    "\n",
    "m.add_children(land_polys)\n",
    "m"
   ]
  },
  {
   "cell_type": "markdown",
   "metadata": {},
   "source": [
    "## Get catalog of Landsat 8 scenes that intersect with land cover"
   ]
  },
  {
   "cell_type": "raw",
   "metadata": {},
   "source": [
    "#Inspect available collections in EarthAI Catalog\n",
    "earth_ondemand.collections()"
   ]
  },
  {
   "cell_type": "raw",
   "metadata": {},
   "source": [
    "# Inspect available L8 bands\n",
    "earth_ondemand.bands('landsat8_l1tp')"
   ]
  },
  {
   "cell_type": "raw",
   "metadata": {},
   "source": [
    "# FOR TESTING ONLY - LIMIT NUMBER OF SITES\n",
    "land_gpd = land_gpd[land_gpd['uid'].isin(['CHN0753', 'CHN0004','CHN0028','CHN0035'])]\n",
    "land_gpd"
   ]
  },
  {
   "cell_type": "code",
   "execution_count": null,
   "metadata": {},
   "outputs": [],
   "source": [
    "# Query EarthAI Catalog to find L8 scenes that intersect with land cover polygons\n",
    "# To best match exploratory work:\n",
    "# Want high quality image for January, 2018\n",
    "# Want high quality image for January, 2017\n",
    "# Want high quality image for April, 2017\n",
    "\n",
    "# Below, do NOT impose a maximum cloud cover filter; since sites are small, it's possible that a high-cloud\n",
    "# coverage scene is relatively clear over the small region we need; will select highest quality scenes\n",
    "# after masking steps below\n",
    "\n",
    "# January 2018\n",
    "catalog_2018_01 = earth_ondemand.read_catalog(\n",
    "    land_gpd.geometry,\n",
    "    start_datetime='2018-01-01', \n",
    "    end_datetime='2018-01-31',\n",
    "    max_cloud_cover=100,\n",
    "    collections='landsat8_l1tp'\n",
    ")\n",
    "# January 2017\n",
    "catalog_2017_01 = earth_ondemand.read_catalog(\n",
    "    land_gpd.geometry,\n",
    "    start_datetime='2017-01-01', \n",
    "    end_datetime='2017-01-31',\n",
    "    max_cloud_cover=100,\n",
    "    collections='landsat8_l1tp'\n",
    ")\n",
    "# April 2017\n",
    "catalog_2017_04 = earth_ondemand.read_catalog(\n",
    "    land_gpd.geometry,\n",
    "    start_datetime='2017-04-01', \n",
    "    end_datetime='2017-04-30',\n",
    "    max_cloud_cover=100,\n",
    "    collections='landsat8_l1tp'\n",
    ")"
   ]
  },
  {
   "cell_type": "code",
   "execution_count": null,
   "metadata": {},
   "outputs": [],
   "source": [
    "# Join catalogs to land plant sites\n",
    "land_cat_2018_01 = gpd.sjoin(land_gpd, catalog_2018_01)\n",
    "land_cat_2017_01 = gpd.sjoin(land_gpd, catalog_2017_01)\n",
    "land_cat_2017_04 = gpd.sjoin(land_gpd, catalog_2017_04)\n",
    "\n",
    "# January 2018\n",
    "print(\"January 2018\")\n",
    "print(\"----------------------------------------------\")\n",
    "# Number of plants with L8 imagery\n",
    "land_2018_01_plnt_cnt = land_cat_2018_01['uid'].nunique()\n",
    "print(\"Number of land cover with L8 imagery: \", land_2018_01_plnt_cnt)\n",
    "\n",
    "# Number of L8 scenes\n",
    "land_2018_01_L8_cnt = land_cat_2018_01['id'].nunique()\n",
    "print(\"Total number of catalog entries:\", land_cat_2018_01['uid'].count())\n",
    "print(\"Number of unique L8 scenes:\", land_2018_01_L8_cnt)\n",
    "\n",
    "# January 2017\n",
    "print(\"January 2017\")\n",
    "print(\"----------------------------------------------\")\n",
    "# Number of plants with L8 imagery\n",
    "land_2017_01_plnt_cnt = land_cat_2017_01['uid'].nunique()\n",
    "print(\"Number of land cover with L8 imagery: \", land_2017_01_plnt_cnt)\n",
    "\n",
    "# Number of L8 scenes\n",
    "land_2017_01_L8_cnt = land_cat_2017_01['id'].nunique()\n",
    "print(\"Total number of catalog entries:\", land_cat_2017_01['uid'].count())\n",
    "print(\"Number of unique L8 scenes:\", land_2017_01_L8_cnt)\n",
    "\n",
    "# April 2017\n",
    "print(\"April 2017\")\n",
    "print(\"----------------------------------------------\")\n",
    "# Number of plants with L8 imagery\n",
    "land_2017_04_plnt_cnt = land_cat_2017_04['uid'].nunique()\n",
    "print(\"Number of land cover with L8 imagery: \", land_2017_04_plnt_cnt)\n",
    "\n",
    "# Number of L8 scenes\n",
    "land_2017_04_L8_cnt = land_cat_2017_04['id'].nunique()\n",
    "print(\"Total number of catalog entries:\", land_cat_2017_04['uid'].count())\n",
    "print(\"Number of unique L8 scenes:\", land_2017_04_L8_cnt)"
   ]
  },
  {
   "cell_type": "code",
   "execution_count": null,
   "metadata": {},
   "outputs": [],
   "source": [
    "# Plot land polygons - testing\n",
    "style_function = lambda x: {'fillColor': '#f003fc', 'color': '#f003fc'}\n",
    "land_polys = folium.features.GeoJson(land_gpd.to_json(), style_function=style_function)\n",
    "m = folium.Map(location=[land_gpd.geometry.centroid.y.mean(), \n",
    "                         land_gpd.geometry.centroid.x.mean()],\n",
    "               zoom_start=3)\n",
    "\n",
    "# Plot L8 scene boundaries\n",
    "l8_gpd2p = catalog_2018_01[['id','geometry']]\n",
    "style_function = lambda x: {'fillColor': '#32a852', 'color': '#32a852'}\n",
    "l8_polys = folium.features.GeoJson(l8_gpd2p.to_json(), style_function=style_function)\n",
    "\n",
    "\n",
    "m.add_children(l8_polys)\n",
    "m.add_children(land_polys)\n",
    "m"
   ]
  },
  {
   "cell_type": "markdown",
   "metadata": {},
   "source": [
    "## Read and create image chips for land cover"
   ]
  },
  {
   "cell_type": "code",
   "execution_count": null,
   "metadata": {},
   "outputs": [],
   "source": [
    "# Use chip reader with centroid centered extent\n",
    "# Limit to Band 10 and QA\n",
    "land_chip_2018_01 = spark.read.chip(land_cat_2018_01, ['B10','BQA'],\n",
    "                                      chipping_strategy=earthai.chipping.strategy.CentroidCentered(35))\n",
    "land_chip_2017_01 = spark.read.chip(land_cat_2017_01, ['B10','BQA'],\n",
    "                                      chipping_strategy=earthai.chipping.strategy.CentroidCentered(35))\n",
    "land_chip_2017_04 = spark.read.chip(land_cat_2017_04, ['B10','BQA'],\n",
    "                                      chipping_strategy=earthai.chipping.strategy.CentroidCentered(35))\n",
    "\n",
    "# Keep only columns of interest\n",
    "land_chip_2018_01 = land_chip_2018_01.select('uid','datetime','B10', 'BQA',\\\n",
    "                           'id', 'B10_path').repartition('uid')\n",
    "land_chip_2017_01 = land_chip_2017_01.select('uid','datetime','B10', 'BQA',\\\n",
    "                           'id', 'B10_path').repartition('uid')\n",
    "land_chip_2017_04 = land_chip_2017_04.select('uid','datetime','B10', 'BQA',\\\n",
    "                           'id', 'B10_path').repartition('uid')"
   ]
  },
  {
   "cell_type": "code",
   "execution_count": null,
   "metadata": {},
   "outputs": [],
   "source": [
    "# Mask chips w/ QA Band\n",
    "# Example notebook discussing masking in more detail: /home/jovyan/examples/tutorials/geo-ops/masking-landsat8.ipynb\n",
    "# Landsat 8 Collection 1 Tier 1 QA band description: \n",
    "#   https://www.usgs.gov/land-resources/nli/landsat/landsat-collection-1-level-1-quality-assessment-band?qt-science_support_page_related_con=0#qt-science_support_page_related_con\n",
    "\n",
    "# In order to apply a mask, the tile must have a NoData defined. Landsat 8 measurement bands have a cell type of uint16raw, \n",
    "# which indicates that there is no NoData value defined. The first line of the code below sets the cell types to uint16, \n",
    "# whose NoData value is 0. This will cause any zero-valued cells in the measurement band to be considered NoData. In \n",
    "# Landsat 8, these areas correspond to the BQA fill areas.\n",
    "\n",
    "# The next several lines mask out data according to bit values.\n",
    "# The final lines calculate the total cell count, number of unmasked cells, and masked fraction\n",
    "\n",
    "# January 2018\n",
    "land_chip_2018_01_masked = land_chip_2018_01.withColumn('B10_uint16', rf_convert_cell_type('B10', 'uint16')) \\\n",
    "                                         .withColumn('B10_masked', # designated fill = yes\n",
    "                                                     rf_mask_by_bit('B10_uint16', 'BQA', 0, 1)) \\\n",
    "                                         .withColumn('B10_masked', # cloud = yes\n",
    "                                                     rf_mask_by_bit('B10_masked', 'BQA', 4, 1)) \\\n",
    "                                         .withColumn('B10_masked', # cloud shadow conf is medium or high\n",
    "                                                     rf_mask_by_bits('B10_masked', 'BQA', 7, 2, [2, 3])) \\\n",
    "                                         .withColumn('B10_masked', # cirrus conf is medium or high\n",
    "                                                     rf_mask_by_bits('B10_masked', 'BQA', 11, 2, [2, 3])) \\\n",
    "                                         .withColumn('tot_cell_count', rf_data_cells('B10')) \\\n",
    "                                         .withColumn('unmsk_cell_count', rf_data_cells('B10_masked')) \\\n",
    "                                         .withColumn('mask_fraction', \n",
    "                                                     (1.0 - F.col('unmsk_cell_count')/F.col('tot_cell_count')))\n",
    "\n",
    "# January 2017\n",
    "land_chip_2017_01_masked = land_chip_2017_01.withColumn('B10_uint16', rf_convert_cell_type('B10', 'uint16')) \\\n",
    "                                         .withColumn('B10_masked', # designated fill = yes\n",
    "                                                     rf_mask_by_bit('B10_uint16', 'BQA', 0, 1)) \\\n",
    "                                         .withColumn('B10_masked', # cloud = yes\n",
    "                                                     rf_mask_by_bit('B10_masked', 'BQA', 4, 1)) \\\n",
    "                                         .withColumn('B10_masked', # cloud shadow conf is medium or high\n",
    "                                                     rf_mask_by_bits('B10_masked', 'BQA', 7, 2, [2, 3])) \\\n",
    "                                         .withColumn('B10_masked', # cirrus conf is medium or high\n",
    "                                                     rf_mask_by_bits('B10_masked', 'BQA', 11, 2, [2, 3])) \\\n",
    "                                         .withColumn('tot_cell_count', rf_data_cells('B10')) \\\n",
    "                                         .withColumn('unmsk_cell_count', rf_data_cells('B10_masked')) \\\n",
    "                                         .withColumn('mask_fraction', \n",
    "                                                     (1.0 - F.col('unmsk_cell_count')/F.col('tot_cell_count')))\n",
    "\n",
    "# April 2017\n",
    "land_chip_2017_04_masked = land_chip_2017_04.withColumn('B10_uint16', rf_convert_cell_type('B10', 'uint16')) \\\n",
    "                                         .withColumn('B10_masked', # designated fill = yes\n",
    "                                                     rf_mask_by_bit('B10_uint16', 'BQA', 0, 1)) \\\n",
    "                                         .withColumn('B10_masked', # cloud = yes\n",
    "                                                     rf_mask_by_bit('B10_masked', 'BQA', 4, 1)) \\\n",
    "                                         .withColumn('B10_masked', # cloud shadow conf is medium or high\n",
    "                                                     rf_mask_by_bits('B10_masked', 'BQA', 7, 2, [2, 3])) \\\n",
    "                                         .withColumn('B10_masked', # cirrus conf is medium or high\n",
    "                                                     rf_mask_by_bits('B10_masked', 'BQA', 11, 2, [2, 3])) \\\n",
    "                                         .withColumn('tot_cell_count', rf_data_cells('B10')) \\\n",
    "                                         .withColumn('unmsk_cell_count', rf_data_cells('B10_masked')) \\\n",
    "                                         .withColumn('mask_fraction', \n",
    "                                                     (1.0 - F.col('unmsk_cell_count')/F.col('tot_cell_count')))"
   ]
  },
  {
   "cell_type": "code",
   "execution_count": null,
   "metadata": {},
   "outputs": [],
   "source": [
    "# Find the tile for each site that has the highest number of unmasked cells\n",
    "# Keep the tile(s) for each plant that has the highest number of unmasked cells\n",
    "# (And handle rare edge-case where returned chip is less than 35 x 35)\n",
    "\n",
    "# January 2018\n",
    "land_2018_01_maxcnt = land_chip_2018_01_masked.groupby('uid').max('unmsk_cell_count') \\\n",
    "                                                  .withColumnRenamed('max(unmsk_cell_count)', 'max_unmsk_cell_count')\n",
    "land_chip_2018_01_masked = land_chip_2018_01_masked.join(land_2018_01_maxcnt, 'uid', 'left')\n",
    "land_chip_2018_01_fltr = land_chip_2018_01_masked.filter(F.col('tot_cell_count') == 1225) \\\n",
    "                                                     .filter(F.col('unmsk_cell_count') == F.col('max_unmsk_cell_count'))\n",
    "\n",
    "# January 2017\n",
    "land_2017_01_maxcnt = land_chip_2017_01_masked.groupby('uid').max('unmsk_cell_count') \\\n",
    "                                                  .withColumnRenamed('max(unmsk_cell_count)', 'max_unmsk_cell_count')\n",
    "land_chip_2017_01_masked = land_chip_2017_01_masked.join(land_2017_01_maxcnt, 'uid', 'left')\n",
    "land_chip_2017_01_fltr = land_chip_2017_01_masked.filter(F.col('tot_cell_count') == 1225) \\\n",
    "                                                     .filter(F.col('unmsk_cell_count') == F.col('max_unmsk_cell_count'))\n",
    "\n",
    "# April 2017\n",
    "land_2017_04_maxcnt = land_chip_2017_04_masked.groupby('uid').max('unmsk_cell_count') \\\n",
    "                                                  .withColumnRenamed('max(unmsk_cell_count)', 'max_unmsk_cell_count')\n",
    "land_chip_2017_04_masked = land_chip_2017_04_masked.join(land_2017_04_maxcnt, 'uid', 'left')\n",
    "land_chip_2017_04_fltr = land_chip_2017_04_masked.filter(F.col('tot_cell_count') == 1225) \\\n",
    "                                                     .filter(F.col('unmsk_cell_count') == F.col('max_unmsk_cell_count'))"
   ]
  },
  {
   "cell_type": "raw",
   "metadata": {},
   "source": [
    "# Plots chip samples\n",
    "land_chip_2018_01_fltr.select('uid', 'datetime', 'B10', 'B10_masked', 'BQA', 'tot_cell_count', \n",
    "                                'unmsk_cell_count', 'mask_fraction', \n",
    "                                rf_dimensions('B10'), rf_extent('B10'), rf_crs('B10'))"
   ]
  },
  {
   "cell_type": "raw",
   "metadata": {},
   "source": [
    "# Some basic stats on the sample - January 2018\n",
    "tot_cnt = land_gpd['uid'].nunique()\n",
    "c00_cnt = land_chip_2018_01_fltr.select(\"uid\").distinct().count()\n",
    "c50_cnt = land_chip_2018_01_fltr.filter(col('mask_fraction') < 0.5).select(\"uid\").distinct().count()\n",
    "c25_cnt = land_chip_2018_01_fltr.filter(col('mask_fraction') < 0.25).select(\"uid\").distinct().count()\n",
    "print(\"January 2018\")\n",
    "print(\"----------------------------------------------\")\n",
    "print('Total number of land plants: ', tot_cnt)\n",
    "print('Number of land plant chips with <100% image masked:', c00_cnt, '(', 100*c00_cnt/tot_cnt, '%)')\n",
    "print('Number of land plant chips with <50% image masked: ', c50_cnt, '(', 100*c50_cnt/tot_cnt, '%)')\n",
    "print('Number of land plant chips with <25% image masked: ', c25_cnt, '(', 100*c25_cnt/tot_cnt, '%)')\n",
    "#land_chip_2018_01_fltr.describe('mask_fraction').show()"
   ]
  },
  {
   "cell_type": "raw",
   "metadata": {},
   "source": [
    "# Some basic stats on the sample - January 2017\n",
    "tot_cnt = land_gpd['uid'].nunique()\n",
    "c00_cnt = land_chip_2017_01_fltr.select(\"uid\").distinct().count()\n",
    "c50_cnt = land_chip_2017_01_fltr.filter(col('mask_fraction') < 0.5).select(\"uid\").distinct().count()\n",
    "c25_cnt = land_chip_2017_01_fltr.filter(col('mask_fraction') < 0.25).select(\"uid\").distinct().count()\n",
    "print(\"January 2017\")\n",
    "print(\"----------------------------------------------\")\n",
    "print('Total number of land plants: ', tot_cnt)\n",
    "print('Number of land plant chips with <100% image masked:', c00_cnt, '(', 100*c00_cnt/tot_cnt, '%)')\n",
    "print('Number of land plant chips with <50% image masked: ', c50_cnt, '(', 100*c50_cnt/tot_cnt, '%)')\n",
    "print('Number of land plant chips with <25% image masked: ', c25_cnt, '(', 100*c25_cnt/tot_cnt, '%)')\n",
    "#land_chip_2017_01_fltr.describe('mask_fraction').show()"
   ]
  },
  {
   "cell_type": "raw",
   "metadata": {},
   "source": [
    "# Some basic stats on the sample - April 2017\n",
    "tot_cnt = land_gpd['uid'].nunique()\n",
    "c00_cnt = land_chip_2017_04_fltr.select(\"uid\").distinct().count()\n",
    "c50_cnt = land_chip_2017_04_fltr.filter(col('mask_fraction') < 0.5).select(\"uid\").distinct().count()\n",
    "c25_cnt = land_chip_2017_04_fltr.filter(col('mask_fraction') < 0.25).select(\"uid\").distinct().count()\n",
    "print(\"April 2017\")\n",
    "print(\"----------------------------------------------\")\n",
    "print('Total number of land plants: ', tot_cnt)\n",
    "print('Number of land plant chips with <100% image masked:', c00_cnt, '(', 100*c00_cnt/tot_cnt, '%)')\n",
    "print('Number of land plant chips with <50% image masked: ', c50_cnt, '(', 100*c50_cnt/tot_cnt, '%)')\n",
    "print('Number of land plant chips with <25% image masked: ', c25_cnt, '(', 100*c25_cnt/tot_cnt, '%)')\n",
    "#land_chip_2017_04_fltr.describe('mask_fraction').show()"
   ]
  },
  {
   "cell_type": "code",
   "execution_count": null,
   "metadata": {},
   "outputs": [],
   "source": [
    "# If there's >1 tile per site, grab the first record, and remove duplicates\n",
    "# Take B10 with NoData, unmasked\n",
    "\n",
    "# January 2018\n",
    "land_chip_2018_01_c25 = land_chip_2018_01_fltr.filter(col('mask_fraction') < 0.25)\n",
    "land_chip_2018_01_unq = land_chip_2018_01_c25.groupby('uid') \\\n",
    "                                                 .agg(F.first('datetime').alias('datetime_Jan18'),\n",
    "                                                      F.first('B10_uint16').alias('B10_Jan18'),\n",
    "                                                      F.first('id').alias('id_Jan18'),\n",
    "                                                      F.first('B10_path').alias('B10_path_Jan18'))\n",
    "\n",
    "# January 2017\n",
    "land_chip_2017_01_c25 = land_chip_2017_01_fltr.filter(col('mask_fraction') < 0.25)\n",
    "land_chip_2017_01_unq = land_chip_2017_01_c25.groupby('uid') \\\n",
    "                                                 .agg(F.first('datetime').alias('datetime_Jan17'),\n",
    "                                                      F.first('B10_uint16').alias('B10_Jan17'),\n",
    "                                                      F.first('id').alias('id_Jan17'),\n",
    "                                                      F.first('B10_path').alias('B10_path_Jan17'))\n",
    "\n",
    "# April 2017\n",
    "land_chip_2017_04_c25 = land_chip_2017_04_fltr.filter(col('mask_fraction') < 0.25)\n",
    "land_chip_2017_04_unq = land_chip_2017_04_c25.groupby('uid') \\\n",
    "                                                 .agg(F.first('datetime').alias('datetime_Apr17'),\n",
    "                                                      F.first('B10_uint16').alias('B10_Apr17'),\n",
    "                                                      F.first('id').alias('id_Apr17'),\n",
    "                                                      F.first('B10_path').alias('B10_path_Apr17'))"
   ]
  },
  {
   "cell_type": "markdown",
   "metadata": {},
   "source": [
    "## Join TIR chips and normalize"
   ]
  },
  {
   "cell_type": "code",
   "execution_count": null,
   "metadata": {},
   "outputs": [],
   "source": [
    "# Join the chips together into a single RasterFrame\n",
    "# Use inner join to ensure only sites with all three dates are included\n",
    "land_chips_joined = land_chip_2018_01_unq.join(land_chip_2017_01_unq, on=['uid'], how='inner') \\\n",
    "                                         .join(land_chip_2017_04_unq, on=['uid'], how='inner')"
   ]
  },
  {
   "cell_type": "raw",
   "metadata": {},
   "source": [
    "# Note: unsure of importance of normalization now that we're using tiffs; skip for now and address later if necessary"
   ]
  },
  {
   "cell_type": "raw",
   "metadata": {},
   "source": [
    "# Print basics statistics on final sample\n",
    "tot_cnt = land_gpd['uid'].nunique()\n",
    "c25_cnt = land_chips_joined.select(\"uid\").distinct().count()\n",
    "print(\"----------------------------------------------\")\n",
    "print('Total number of land cover sites: ', tot_cnt)\n",
    "print('Number of land cover chips with full imagery available: ', c25_cnt, '(', 100*c25_cnt/tot_cnt, '%)')"
   ]
  },
  {
   "cell_type": "raw",
   "metadata": {},
   "source": [
    "# Show some chips\n",
    "land_chips_joined"
   ]
  },
  {
   "cell_type": "markdown",
   "metadata": {},
   "source": [
    "## Write chips out as GeoTIFFs"
   ]
  },
  {
   "cell_type": "code",
   "execution_count": null,
   "metadata": {},
   "outputs": [],
   "source": [
    "# Output path (putting on scratch to test)\n",
    "output_path = '/scratch/ALD_L8_TIR_landcover_chips_v4_B10_201801_201701_201704'\n",
    "\n",
    "# Create a column of unique filenames\n",
    "# Format: [uid]_land_v4_B10_201801_201701_201704\n",
    "land_chips_joined = land_chips_joined.withColumn('file_path_name', \n",
    "                                                     F.concat_ws('_', F.col('uid'), lit('landcover_v4_B10_201801_201701_201704')))"
   ]
  },
  {
   "cell_type": "code",
   "execution_count": null,
   "metadata": {},
   "outputs": [],
   "source": [
    "# Write out chips\n",
    "land_chips_joined.write.chip(output_path, filenameCol='file_path_name', \n",
    "                               catalog=True, \n",
    "                               metadata=['uid', \n",
    "                                         'id_Jan18', 'datetime_Jan18', 'B10_path_Jan18',\n",
    "                                         'id_Jan17', 'datetime_Jan17', 'B10_path_Jan17',\n",
    "                                         'id_Apr17', 'datetime_Apr17', 'B10_path_Apr17'])"
   ]
  },
  {
   "cell_type": "code",
   "execution_count": null,
   "metadata": {},
   "outputs": [],
   "source": [
    "!ls -lR /scratch/ALD_L8_TIR_landcover_chips_v4_B10_201801_201701_201704"
   ]
  },
  {
   "cell_type": "code",
   "execution_count": null,
   "metadata": {},
   "outputs": [],
   "source": [
    "# Check out what's in one of the chips for fun\n",
    "tiffs = os.listdir(output_path)\n",
    "\n",
    "with rasterio.open(output_path+'/'+tiffs[0]) as src:\n",
    "    for k, v in src.meta.items():\n",
    "        print(k, '\\t\\t', v)\n",
    "        \n",
    "    print('\\n', 'T A G S :')\n",
    "    for k, v in src.tags().items():\n",
    "        print(k, '\\t\\t', v)\n",
    "        \n",
    "    print('\\n B A N D S :')\n",
    "    for b in range(1, src.count + 1):\n",
    "        for k in src.tags(b):\n",
    "            print(\"\\tBand\", b, '\\t\\t', k, '\\t\\t', v)\n",
    "        print(\"\\tBand\", b, '\\t\\t', src.colorinterp[b-1])\n",
    "    ax = show(src.read(1), transform=src.transform)"
   ]
  },
  {
   "cell_type": "code",
   "execution_count": null,
   "metadata": {},
   "outputs": [],
   "source": [
    "!tar -cvf /scratch/ALD_L8_TIR_landcover_chips_v4_B10_201801_201701_201704.tar /scratch/ALD_L8_TIR_landcover_chips_v4_B10_201801_201701_201704"
   ]
  },
  {
   "cell_type": "code",
   "execution_count": null,
   "metadata": {},
   "outputs": [],
   "source": [
    "!ls -lh /scratch/ALD_L8_TIR_landcover_chips_v4_B10_201801_201701_201704.tar"
   ]
  },
  {
   "cell_type": "markdown",
   "metadata": {},
   "source": [
    "_Below workflow is temporary; AWS credentials not working in beta. Copies the tar file to local, and uses another script to upload to S3 using a different instance_"
   ]
  },
  {
   "cell_type": "code",
   "execution_count": null,
   "metadata": {},
   "outputs": [],
   "source": [
    "!cp /scratch/ALD_L8_TIR_landcover_chips_v4_B10_201801_201701_201704.tar /home/jovyan/sfi-asset-level-data/src/main/resources/ALD_L8_TIR_landcover_chips_v4_B10_201801_201701_201704.tar"
   ]
  },
  {
   "cell_type": "markdown",
   "metadata": {},
   "source": [
    "## Upload tar file to S3 bucket"
   ]
  },
  {
   "cell_type": "raw",
   "metadata": {},
   "source": [
    "# Upload tar file to S3 bucket\n",
    "s3 = boto3.resource('s3')\n",
    "bucket = s3.Bucket('sfi-shared-assets')\n",
    "\n",
    "bucket.upload_file('/scratch/ALD_L8_TIR_landcover_chips_v4_B10_201801_201701_201704.tar', \n",
    "                   'tir-macroloc-model/ALD_L8_TIR_landcover_chips_v4_B10_201801_201701_201704.tar')"
   ]
  },
  {
   "cell_type": "raw",
   "metadata": {},
   "source": [
    "! aws s3 ls sfi-shared-assets"
   ]
  }
 ],
 "metadata": {
  "kernelspec": {
   "display_name": "EarthAI Environment",
   "language": "python",
   "name": "python3"
  },
  "language_info": {
   "codemirror_mode": {
    "name": "ipython",
    "version": 3
   },
   "file_extension": ".py",
   "mimetype": "text/x-python",
   "name": "python",
   "nbconvert_exporter": "python",
   "pygments_lexer": "ipython3",
   "version": "3.7.7"
  }
 },
 "nbformat": 4,
 "nbformat_minor": 4
}
