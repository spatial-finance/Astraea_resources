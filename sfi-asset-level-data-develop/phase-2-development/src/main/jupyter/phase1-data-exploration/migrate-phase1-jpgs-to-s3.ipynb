{
 "cells": [
  {
   "cell_type": "markdown",
   "metadata": {},
   "source": [
    "# Migrate jpg files from Phase 1 to shared S3 bucket for SFI ALD project\n",
    "\n",
    "We migrated code created during the Phase 1 exploration phase from https://github.com/sreece101/CIFF-ALD to the collaboration repository here: https://github.com/s22s/sfi-asset-level-data/tree/master.\n",
    "\n",
    "The jpeg files are quite large, so we elected to keep them out of the git repository and store them on the S3 bucket. This notebook uploads the jpgs to this shared s3 bucket."
   ]
  },
  {
   "cell_type": "code",
   "execution_count": null,
   "metadata": {},
   "outputs": [],
   "source": [
    "# Install aws command line if not already installed\n",
    "! pip install awscli"
   ]
  },
  {
   "cell_type": "code",
   "execution_count": null,
   "metadata": {},
   "outputs": [],
   "source": [
    "# Import python packages\n",
    "import os\n",
    "import re"
   ]
  },
  {
   "cell_type": "code",
   "execution_count": null,
   "metadata": {},
   "outputs": [],
   "source": [
    "# Check s3 objects already there\n",
    "! aws s3 ls sfi-shared-assets"
   ]
  },
  {
   "cell_type": "markdown",
   "metadata": {},
   "source": [
    "We can also list the contents of the bucket using the [`boto3` Python library](https://boto3.amazonaws.com/v1/documentation/api/latest/reference/services/s3.html). This is the official AWS Python API."
   ]
  },
  {
   "cell_type": "code",
   "execution_count": null,
   "metadata": {},
   "outputs": [],
   "source": [
    "import boto3\n",
    "\n",
    "s3 = boto3.resource('s3')\n",
    "bucket = s3.Bucket('sfi-shared-assets')\n",
    "\n",
    "# list the first 10 objects\n",
    "for o in bucket.objects.limit(10):\n",
    "    print(o)\n",
    "    if o.key[-4:] in ['.jp2', 'tif']:\n",
    "        print(f's3://{o.bucket_name}/{o.key}')"
   ]
  },
  {
   "cell_type": "markdown",
   "metadata": {},
   "source": [
    "## Put jpgs on bucket\n",
    "\n",
    "*Note: I first uploaded the jpgs from https://github.com/sreece101/CIFF-ALD into EarthAI Notebook to do this step. I've since deleted them from my local storage but keeping this code for examples.*"
   ]
  },
  {
   "cell_type": "code",
   "execution_count": null,
   "metadata": {},
   "outputs": [],
   "source": [
    "# Get list of jpg's in the \"images\" directory\n",
    "images_list = os.listdir('cement-microloc-phase1/images/data')\n",
    "\n",
    "# Upload images jpgs to s3\n",
    "for img in images_list:\n",
    "    if re.search(\"CHN\", img):\n",
    "        bucket.upload_file('cement-microloc-phase1/images/data/'+img, 'cement-microloc-phase1/images/data/'+img)"
   ]
  },
  {
   "cell_type": "code",
   "execution_count": null,
   "metadata": {},
   "outputs": [],
   "source": [
    "# Get list of jpg's in the \"masks\" directory\n",
    "masks_list = os.listdir('cement-microloc-phase1/masks/data')\n",
    "\n",
    "# Upload masks jpgs to s3\n",
    "for img in masks_list:\n",
    "    if re.search(\"CHN\", img):\n",
    "        bucket.upload_file('cement-microloc-phase1/masks/data/'+img, 'cement-microloc-phase1/masks/data/'+img)"
   ]
  },
  {
   "cell_type": "code",
   "execution_count": null,
   "metadata": {},
   "outputs": [],
   "source": [
    "# Get list of jpg's in the \"test\" directory\n",
    "test_list = os.listdir('cement-microloc-phase1/test')\n",
    "\n",
    "# Upload test jpgs to s3\n",
    "for img in test_list:\n",
    "    if re.search(\"CHN\", img):\n",
    "        bucket.upload_file('cement-microloc-phase1/test/'+img, 'cement-microloc-phase1/test/'+img)"
   ]
  },
  {
   "cell_type": "code",
   "execution_count": null,
   "metadata": {},
   "outputs": [],
   "source": [
    "# Count files on s3 for sanity check\n",
    "s3_objects = bucket.objects.all()\n",
    "img_cnt = 0\n",
    "msk_cnt = 0\n",
    "tst_cnt = 0\n",
    "for o in s3_objects:\n",
    "    if re.search(\"images\", o.key):\n",
    "        img_cnt = img_cnt + 1\n",
    "    if re.search(\"masks\", o.key):\n",
    "        msk_cnt = msk_cnt + 1\n",
    "    if re.search(\"test\", o.key):\n",
    "        tst_cnt = tst_cnt + 1\n",
    "        \n",
    "        \n",
    "print('Total number of image chips: ', img_cnt)\n",
    "print('Total number of mask chips: ', msk_cnt)\n",
    "print('Total number of test chips: ', tst_cnt)"
   ]
  },
  {
   "cell_type": "code",
   "execution_count": null,
   "metadata": {},
   "outputs": [],
   "source": []
  }
 ],
 "metadata": {
  "kernelspec": {
   "display_name": "EarthAI Python",
   "language": "python",
   "name": "python3"
  },
  "language_info": {
   "codemirror_mode": {
    "name": "ipython",
    "version": 3
   },
   "file_extension": ".py",
   "mimetype": "text/x-python",
   "name": "python",
   "nbconvert_exporter": "python",
   "pygments_lexer": "ipython3",
   "version": "3.7.7"
  }
 },
 "nbformat": 4,
 "nbformat_minor": 4
}
