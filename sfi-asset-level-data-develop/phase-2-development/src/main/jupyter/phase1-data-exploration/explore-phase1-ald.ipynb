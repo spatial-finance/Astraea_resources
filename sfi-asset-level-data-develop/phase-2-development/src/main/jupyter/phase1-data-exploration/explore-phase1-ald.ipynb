{
 "cells": [
  {
   "cell_type": "markdown",
   "metadata": {},
   "source": [
    "## Import modules"
   ]
  },
  {
   "cell_type": "code",
   "execution_count": null,
   "metadata": {},
   "outputs": [],
   "source": [
    "import pandas as pd"
   ]
  },
  {
   "cell_type": "markdown",
   "metadata": {},
   "source": [
    "## Read in latest curated cement and steel data"
   ]
  },
  {
   "cell_type": "code",
   "execution_count": null,
   "metadata": {},
   "outputs": [],
   "source": [
    "# Read in cement data - v3.0\n",
    "cement_xlsx = \"../../resources/cement_dataset_v3.xlsx\"\n",
    "cement_pd = pd.read_excel(cement_xlsx)\n",
    "\n",
    "# Read in steel data - v3.1\n",
    "steel_xlsx = \"../../resources/steel_dataset_v3.1.xlsx\"\n",
    "steel_pd = pd.read_excel(steel_xlsx)"
   ]
  },
  {
   "cell_type": "markdown",
   "metadata": {},
   "source": [
    "## Examine cement plant statistics"
   ]
  },
  {
   "cell_type": "code",
   "execution_count": null,
   "metadata": {},
   "outputs": [],
   "source": [
    "cement_pd[[\"uid\", \"country\", \"status\", \"source\", \"accuracy\", \"reported_capacity\"]]"
   ]
  },
  {
   "cell_type": "code",
   "execution_count": null,
   "metadata": {},
   "outputs": [],
   "source": [
    "# Total number of cement plants\n",
    "tot_cement_cnt = len(cement_pd)\n",
    "\n",
    "# Count of operating plants\n",
    "opr_cement_cnt = cement_pd.groupby(\"status\")[\"uid\"].nunique()\n",
    "\n",
    "print(\"Total number of cement plants: \", tot_cement_cnt)\n",
    "print(opr_cement_cnt)"
   ]
  },
  {
   "cell_type": "code",
   "execution_count": null,
   "metadata": {},
   "outputs": [],
   "source": [
    "# Exclude plants under contruction\n",
    "opr_cement_pd = cement_pd[cement_pd[\"status\"] == \"Operating\"]\n",
    "\n",
    "# Count of exact vs approximate locations\n",
    "loc_cement_cnt = opr_cement_pd.groupby(\"accuracy\")[\"uid\"].nunique()\n",
    "\n",
    "print(loc_cement_cnt)"
   ]
  },
  {
   "cell_type": "code",
   "execution_count": null,
   "metadata": {},
   "outputs": [],
   "source": [
    "# Cement plants with approximate locations\n",
    "app_cement_pd = opr_cement_pd[opr_cement_pd[\"accuracy\"] == \"Approximate\"]\n",
    "\n",
    "print(\"Number of operating cement plants with approximate locations: \", app_cement_pd[\"uid\"].nunique())\n",
    "\n",
    "app_cement_cnt = app_cement_pd[app_cement_pd[\"reported_capacity\"].notnull()][\"uid\"].nunique()\n",
    "print(\"Number of operating cement plants with approximate locations and reported capacities: \", app_cement_cnt)"
   ]
  },
  {
   "cell_type": "code",
   "execution_count": null,
   "metadata": {},
   "outputs": [],
   "source": [
    "# Number of operating cement plants with exact locations and known capacities from disclosures\n",
    "cap_cement_pd = opr_cement_pd[(opr_cement_pd[\"accuracy\"] == \"Exact\")]\n",
    "                              #& (opr_cement_pd[\"reported_capacity\"].notnull())]\n",
    "\n",
    "print(\"Number of operating cement plants with exact locations: \", cap_cement_pd[\"uid\"].nunique())\n",
    "\n",
    "cap_cement_cnt = cap_cement_pd[cap_cement_pd[\"reported_capacity\"].notnull()][\"uid\"].nunique()\n",
    "print(\"Number of operating cement plants with exact locations and reported capacities: \", cap_cement_cnt)"
   ]
  },
  {
   "cell_type": "markdown",
   "metadata": {},
   "source": [
    "## Examine steel plant statistics"
   ]
  },
  {
   "cell_type": "code",
   "execution_count": null,
   "metadata": {},
   "outputs": [],
   "source": [
    "steel_pd[[\"uid\", \"country\", \"status\", \"accuracy\", \"reported_capacity\"]]"
   ]
  },
  {
   "cell_type": "code",
   "execution_count": null,
   "metadata": {},
   "outputs": [],
   "source": [
    "# Total number of steel plants\n",
    "tot_steel_cnt = len(steel_pd)\n",
    "\n",
    "# Count of operating plants\n",
    "opr_steel_cnt = steel_pd.groupby(\"status\")[\"uid\"].nunique()\n",
    "\n",
    "print(\"Total number of steel plants: \", tot_steel_cnt)\n",
    "print(opr_steel_cnt)"
   ]
  },
  {
   "cell_type": "code",
   "execution_count": null,
   "metadata": {},
   "outputs": [],
   "source": [
    "# Exclude plants under contruction\n",
    "opr_steel_pd = steel_pd[steel_pd[\"status\"] == \"Operating\"]\n",
    "\n",
    "# Count of exact vs approximate locations\n",
    "loc_steel_cnt = opr_steel_pd.groupby(\"accuracy\")[\"uid\"].nunique()\n",
    "\n",
    "print(loc_steel_cnt)"
   ]
  },
  {
   "cell_type": "code",
   "execution_count": null,
   "metadata": {},
   "outputs": [],
   "source": []
  }
 ],
 "metadata": {
  "kernelspec": {
   "display_name": "EarthAI Python",
   "language": "python",
   "name": "python3"
  },
  "language_info": {
   "codemirror_mode": {
    "name": "ipython",
    "version": 3
   },
   "file_extension": ".py",
   "mimetype": "text/x-python",
   "name": "python",
   "nbconvert_exporter": "python",
   "pygments_lexer": "ipython3",
   "version": "3.7.7"
  }
 },
 "nbformat": 4,
 "nbformat_minor": 4
}
