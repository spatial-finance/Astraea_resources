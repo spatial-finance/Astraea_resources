{
 "cells": [
  {
   "cell_type": "markdown",
   "metadata": {},
   "source": [
    "# Creation of RGB Sentinel-2 Chips for Steel\n",
    "\n",
    "This notebook creates the Sentinel-2 RGB image chips for steel plants from the EarthAI catalog.\n",
    "\n",
    "* Steel plants with exact locations in China\n",
    "* Sentinel-2, red, green, and blue bands\n",
    "* Chips are 3-km on a side\n",
    "* Most recent cloud-free data"
   ]
  },
  {
   "cell_type": "code",
   "execution_count": null,
   "metadata": {},
   "outputs": [],
   "source": [
    "# Import required packages\n",
    "from earthai.init import *\n",
    "import earthai.chipping.strategy\n",
    "\n",
    "import pyspark.sql.functions as F\n",
    "from pyspark.sql.window import Window\n",
    "from pyspark.sql.functions import rank, col\n",
    "\n",
    "from pyrasterframes.rf_types import TileUDT\n",
    "from pyspark.sql.functions import udf\n",
    "\n",
    "import geopandas as gpd\n",
    "import pandas as pd\n",
    "import folium\n",
    "import folium.plugins\n",
    "\n",
    "import os\n",
    "import rasterio\n",
    "from rasterio.plot import show\n",
    "\n",
    "import boto3\n",
    "\n",
    "%matplotlib inline"
   ]
  },
  {
   "cell_type": "raw",
   "metadata": {},
   "source": [
    "! pip install awscli"
   ]
  },
  {
   "cell_type": "markdown",
   "metadata": {},
   "source": [
    "## Get steel plant locations in China"
   ]
  },
  {
   "cell_type": "code",
   "execution_count": null,
   "metadata": {},
   "outputs": [],
   "source": [
    "# Steel  assets in China with exact locations\n",
    "steel_geojson = '/home/jovyan/sfi-asset-level-data/src/main/resources/cement_steel_land_geoms/steel_datasetv4_UTM_CHINA_exactlocPOLYS_1200m.geojson'\n",
    "\n",
    "# Read into GeoDataFrame, keep only subset of columns\n",
    "steel_gpd = gpd.read_file(steel_geojson)\n",
    "steel_gpd = steel_gpd[['uid','latitude', 'longitude', 'geometry']]\n",
    "\n",
    "# Convert to WGS84 for use w/ Earth OnDemand API\n",
    "steel_gpd = steel_gpd.to_crs('OGC:CRS84')\n",
    "\n",
    "# Total of 128 steel plants\n",
    "steel_gpd"
   ]
  },
  {
   "cell_type": "code",
   "execution_count": null,
   "metadata": {},
   "outputs": [],
   "source": [
    "# Plot steel polygons\n",
    "style_function = lambda x: {'fillColor': '#f003fc', 'color': '#f003fc'}\n",
    "steel_polys = folium.features.GeoJson(steel_gpd.to_json(), style_function=style_function)\n",
    "m = folium.Map(location=[steel_gpd.geometry.centroid.y.mean(), \n",
    "                         steel_gpd.geometry.centroid.x.mean()],\n",
    "               zoom_start=4)\n",
    "\n",
    "m.add_children(steel_polys)\n",
    "m"
   ]
  },
  {
   "cell_type": "markdown",
   "metadata": {},
   "source": [
    "## Get catalog of Sentinel-2 scenes that intersect with steel plants"
   ]
  },
  {
   "cell_type": "raw",
   "metadata": {},
   "source": [
    "#Inspect available collections in EarthAI Catalog\n",
    "earth_ondemand.collections()"
   ]
  },
  {
   "cell_type": "raw",
   "metadata": {},
   "source": [
    "# Inspect available L8 bands\n",
    "earth_ondemand.bands('sentinel2_l2a')"
   ]
  },
  {
   "cell_type": "raw",
   "metadata": {},
   "source": [
    "# FOR TESTING ONLY - LIMIT NUMBER OF PLANTS\n",
    "steel_gpd = steel_gpd[steel_gpd['uid'].isin(['CHN0744', 'CHN0851','CHN0057','CHN0035'])]\n",
    "steel_gpd"
   ]
  },
  {
   "cell_type": "code",
   "execution_count": null,
   "metadata": {},
   "outputs": [],
   "source": [
    "# Query EarthAI Catalog to find S2 scenes that intersect with steel polygons\n",
    "# Searching over recent 2 months - can increase this if needed to be find high quality data\n",
    "\n",
    "# Below, do NOT impose a maximum cloud cover filter; since sites are small, it's possible that a high-cloud\n",
    "# coverage scene is relatively clear over the small region we need; will select highest quality scenes\n",
    "# after masking steps below\n",
    "\n",
    "# June - July 2020\n",
    "catalog_2020 = earth_ondemand.read_catalog(\n",
    "    steel_gpd.geometry,\n",
    "    start_datetime='2020-06-01', \n",
    "    end_datetime='2020-07-31',\n",
    "    max_cloud_cover=100,\n",
    "    collections='sentinel2_l2a'\n",
    ")"
   ]
  },
  {
   "cell_type": "code",
   "execution_count": null,
   "metadata": {},
   "outputs": [],
   "source": [
    "# Join catalog to steel plant sites\n",
    "steel_cat_2020 = gpd.sjoin(steel_gpd, catalog_2020)\n",
    "\n",
    "# June - July 2020\n",
    "print(\"June - July 2020\")\n",
    "print(\"----------------------------------------------\")\n",
    "# Number of plants with S2 imagery\n",
    "steel_2020_plnt_cnt = steel_cat_2020['uid'].nunique()\n",
    "print(\"Number of steel plants with S2 imagery: \", steel_2020_plnt_cnt)\n",
    "\n",
    "# Number of S2 scenes\n",
    "steel_2020_S2_cnt = steel_cat_2020['id'].nunique()\n",
    "print(\"Total number of catalog entries:\", steel_cat_2020['uid'].count())\n",
    "print(\"Number of unique S2 scenes:\", steel_2020_S2_cnt)"
   ]
  },
  {
   "cell_type": "code",
   "execution_count": null,
   "metadata": {},
   "outputs": [],
   "source": [
    "# Plot steel polygons - testing\n",
    "style_function = lambda x: {'fillColor': '#f003fc', 'color': '#f003fc'}\n",
    "steel_polys = folium.features.GeoJson(steel_gpd.to_json(), style_function=style_function)\n",
    "m = folium.Map(location=[steel_gpd.geometry.centroid.y.mean(), \n",
    "                         steel_gpd.geometry.centroid.x.mean()],\n",
    "               zoom_start=3)\n",
    "\n",
    "# Plot S2 scene boundaries\n",
    "s2_gpd2p = catalog_2020[['id','geometry']]\n",
    "style_function = lambda x: {'fillColor': '#32a852', 'color': '#32a852'}\n",
    "s2_polys = folium.features.GeoJson(s2_gpd2p.to_json(), style_function=style_function)\n",
    "\n",
    "\n",
    "m.add_children(s2_polys)\n",
    "m.add_children(steel_polys)\n",
    "m"
   ]
  },
  {
   "cell_type": "markdown",
   "metadata": {},
   "source": [
    "## Read and create image chips for steel plants"
   ]
  },
  {
   "cell_type": "code",
   "execution_count": null,
   "metadata": {},
   "outputs": [],
   "source": [
    "# Use chip reader with centroid centered extent\n",
    "# Limit to Red, Green, and Blue, and Scene Classification\n",
    "# Want 3000 m per size, 10 m pix = 300 cell size\n",
    "steel_chip_2020 = spark.read.chip(steel_cat_2020, catalog_col_names=['B04_10m','B03_10m','B02_10m'],\n",
    "                                   chipping_strategy=earthai.chipping.strategy.CentroidCentered(300))\n",
    "\n",
    "# Get SCL_20m separately; 3000 / 20 m = 150 cell size; addresses limitations in chip reader\n",
    "steel_chip_scl_2020 = spark.read.chip(steel_cat_2020, catalog_col_names=['SCL_20m'],\n",
    "                                       chipping_strategy=earthai.chipping.strategy.CentroidCentered(150))\n",
    "\n",
    "# Keep only columns of interest\n",
    "steel_chip_2020 = steel_chip_2020.select('uid','latitude','longitude','id','datetime',\\\n",
    "                                           'B04_10m', 'B03_10m', 'B02_10m').repartition('uid')\n",
    "steel_chip_scl_2020 = steel_chip_scl_2020.select('uid','id',\\\n",
    "                                                   'SCL_20m').repartition('uid')\n",
    "\n",
    "# Join, and upsample SCL_20m to 10 m\n",
    "steel_chip_2020 = steel_chip_2020.join(steel_chip_scl_2020, on=['uid','id'], how='inner') \\\n",
    "                                   .withColumn('SCL_10m', rf_resample('SCL_20m', 'B04_10m')) \\\n",
    "                                   .drop('SCL_20m')"
   ]
  },
  {
   "cell_type": "code",
   "execution_count": null,
   "metadata": {},
   "outputs": [],
   "source": [
    "# Mask chips w/ SCL\n",
    "# Example notebook discussing masking in more detail: /home/jovyan/examples/tutorials/geo-ops/masking-sentinel2.ipynb\n",
    "# \n",
    "# Sentinel-2 Level-2A scene classification description: \n",
    "#   https://earth.esa.int/web/sentinel/technical-guides/sentinel-2-msi/level-2a/algorithm  \n",
    "\n",
    "# In order to apply a mask, the tile must have a NoData defined. Sentinel-2 measurement bands have a cell type of uint16raw, \n",
    "# which indicates that there is no NoData value defined. The first lines of the code below sets the cell types to uint16, \n",
    "# whose NoData value is 0. This will cause any zero-valued cells in the measurement band to be considered NoData. In \n",
    "# Sentinel-2, these areas correspond to the BQA fill areas.\n",
    "\n",
    "# The next several lines mask out data according to bit values.\n",
    "# The final lines calculate the total cell count, number of unmasked cells, and masked fraction\n",
    "\n",
    "# Define scene classifications to mask\n",
    "# This masks nodata, saturated/defective, and clouds\n",
    "bad_scl_values = [0, 1, 8, 9, 10]\n",
    "\n",
    "# Mask\n",
    "steel_chip_2020_masked = steel_chip_2020.withColumn('Red', rf_convert_cell_type('B04_10m', 'uint16')) \\\n",
    "                                          .withColumn('Green', rf_convert_cell_type('B03_10m', 'uint16')) \\\n",
    "                                          .withColumn('Blue', rf_convert_cell_type('B02_10m', 'uint16')) \\\n",
    "                                          .withColumn('Red_masked', rf_mask_by_values('Red', 'SCL_10m', bad_scl_values)) \\\n",
    "                                          .withColumn('Green_masked', rf_mask_by_values('Green', 'SCL_10m', bad_scl_values)) \\\n",
    "                                          .withColumn('Blue_masked', rf_mask_by_values('Blue', 'SCL_10m', bad_scl_values)) \\\n",
    "                                          .withColumn('tot_cell_count', rf_data_cells('Red')) \\\n",
    "                                          .withColumn('unmsk_cell_count', rf_data_cells('Red_masked')) \\\n",
    "                                          .withColumn('mask_fraction', \n",
    "                                                      (1.0 - F.col('unmsk_cell_count')/F.col('tot_cell_count')))"
   ]
  },
  {
   "cell_type": "code",
   "execution_count": null,
   "metadata": {},
   "outputs": [],
   "source": [
    "# Find the tile(s) for each plant that has the highest number of unmasked cells\n",
    "# (And handle rare edge-case where returned chip is less than 300 x 300)\n",
    "\n",
    "steel_2020_maxcnt = steel_chip_2020_masked.groupby('uid').max('unmsk_cell_count') \\\n",
    "                                            .withColumnRenamed('max(unmsk_cell_count)', 'max_unmsk_cell_count')\n",
    "steel_chip_2020_masked = steel_chip_2020_masked.join(steel_2020_maxcnt, 'uid', 'left')\n",
    "steel_chip_2020_fltr = steel_chip_2020_masked.filter(F.col('tot_cell_count') == 90000) \\\n",
    "                                               .filter(F.col('unmsk_cell_count') == F.col('max_unmsk_cell_count'))"
   ]
  },
  {
   "cell_type": "raw",
   "metadata": {},
   "source": [
    "# Plots chip samples\n",
    "steel_chip_2020_fltr.select('uid', 'datetime', 'Red', 'Red_masked', 'SCL_10m', 'tot_cell_count', \n",
    "                             'unmsk_cell_count', 'mask_fraction', \n",
    "                             rf_dimensions('Red'), rf_extent('Red'), rf_crs('Red'))"
   ]
  },
  {
   "cell_type": "raw",
   "metadata": {},
   "source": [
    "# Some basic stats on the sample\n",
    "tot_cnt = steel_gpd['uid'].nunique()\n",
    "c00_cnt = steel_chip_2020_fltr.select(\"uid\").distinct().count()\n",
    "c50_cnt = steel_chip_2020_fltr.filter(col('mask_fraction') < 0.5).select(\"uid\").distinct().count()\n",
    "c25_cnt = steel_chip_2020_fltr.filter(col('mask_fraction') < 0.25).select(\"uid\").distinct().count()\n",
    "print(\"June - July 2020\")\n",
    "print(\"----------------------------------------------\")\n",
    "print('Total number of steel plants: ', tot_cnt)\n",
    "print('Number of steel plant chips with <100% image masked:', c00_cnt, '(', 100*c00_cnt/tot_cnt, '%)')\n",
    "print('Number of steel plant chips with <50% image masked: ', c50_cnt, '(', 100*c50_cnt/tot_cnt, '%)')\n",
    "print('Number of steel plant chips with <25% image masked: ', c25_cnt, '(', 100*c25_cnt/tot_cnt, '%)')\n",
    "#steel_chip_2020_fltr.describe('mask_fraction').show()"
   ]
  },
  {
   "cell_type": "code",
   "execution_count": null,
   "metadata": {},
   "outputs": [],
   "source": [
    "# If there's >1 tile per plant, grab the first record, and remove duplicates\n",
    "# Take the Red, Green, and Blue bands with NoData, unmasked\n",
    "\n",
    "steel_chip_2020_c25 = steel_chip_2020_fltr.filter(col('mask_fraction') < 0.25)\n",
    "steel_chip_2020_unq = steel_chip_2020_c25.groupby('uid') \\\n",
    "                                           .agg(F.first('latitude').alias('latitude'),\n",
    "                                                F.first('longitude').alias('longitude'),\n",
    "                                                F.first('id').alias('id'),\n",
    "                                                F.first('datetime').alias('datetime'),\n",
    "                                                F.first('Red').alias('Red'),\n",
    "                                                F.first('Green').alias('Green'),\n",
    "                                                F.first('Blue').alias('Blue'))"
   ]
  },
  {
   "cell_type": "markdown",
   "metadata": {},
   "source": [
    "## Write chips out as GeoTIFFs"
   ]
  },
  {
   "cell_type": "code",
   "execution_count": null,
   "metadata": {},
   "outputs": [],
   "source": [
    "# Output path (putting on scratch to test)\n",
    "output_path = '/scratch/ALD_S2_RGB_steel_chips_v4_20200601_20200731'\n",
    "\n",
    "# Create a column of unique filenames\n",
    "# Format: [uid]_steel_v4_S2_RGB_20200601_20200731\n",
    "steel_chip_2020_unq = steel_chip_2020_unq.withColumn('file_path_name', \n",
    "                                                       F.concat_ws('_', F.col('uid'), lit('steel_v4_S2_RGB_20200601_20200731')))"
   ]
  },
  {
   "cell_type": "code",
   "execution_count": null,
   "metadata": {},
   "outputs": [],
   "source": [
    "# Write out chips\n",
    "steel_chip_2020_unq.write.chip(output_path, filenameCol='file_path_name', \n",
    "                                catalog=True, \n",
    "                                metadata=['uid', 'latitude', 'longitude', 'id', 'datetime'])"
   ]
  },
  {
   "cell_type": "code",
   "execution_count": null,
   "metadata": {},
   "outputs": [],
   "source": [
    "!ls -lR /scratch/ALD_S2_RGB_steel_chips_v4_20200601_20200731"
   ]
  },
  {
   "cell_type": "code",
   "execution_count": null,
   "metadata": {},
   "outputs": [],
   "source": [
    "# Check out what's in one of the chips for fun\n",
    "tiffs = os.listdir(output_path)\n",
    "\n",
    "with rasterio.open(output_path+'/'+tiffs[0]) as src:\n",
    "    for k, v in src.meta.items():\n",
    "        print(k, '\\t\\t', v)\n",
    "        \n",
    "    print('\\n', 'T A G S :')\n",
    "    for k, v in src.tags().items():\n",
    "        print(k, '\\t\\t', v)\n",
    "        \n",
    "    print('\\n B A N D S :')\n",
    "    for b in range(1, src.count + 1):\n",
    "        for k in src.tags(b):\n",
    "            print(\"\\tBand\", b, '\\t\\t', k, '\\t\\t', v)\n",
    "        print(\"\\tBand\", b, '\\t\\t', src.colorinterp[b-1])\n",
    "    ax = show(src.read(1), transform=src.transform)"
   ]
  },
  {
   "cell_type": "code",
   "execution_count": null,
   "metadata": {},
   "outputs": [],
   "source": [
    "!tar -cvf /scratch/ALD_S2_RGB_steel_chips_v4_20200601_20200731.tar /scratch/ALD_S2_RGB_steel_chips_v4_20200601_20200731"
   ]
  },
  {
   "cell_type": "code",
   "execution_count": null,
   "metadata": {},
   "outputs": [],
   "source": [
    "!ls -lh /scratch/ALD_S2_RGB_steel_chips_v4_20200601_20200731.tar"
   ]
  },
  {
   "cell_type": "markdown",
   "metadata": {},
   "source": [
    "_Below workflow is temporary; AWS credentials not working in beta. Copies the tar file to local, and uses another script to upload to S3 using a different instance_"
   ]
  },
  {
   "cell_type": "code",
   "execution_count": null,
   "metadata": {},
   "outputs": [],
   "source": [
    "!cp /scratch/ALD_S2_RGB_steel_chips_v4_20200601_20200731.tar /home/jovyan/sfi-asset-level-data/src/main/resources/ALD_S2_RGB_steel_chips_v4_20200601_20200731.tar"
   ]
  },
  {
   "cell_type": "markdown",
   "metadata": {},
   "source": [
    "## Upload tar file to S3 bucket"
   ]
  },
  {
   "cell_type": "raw",
   "metadata": {},
   "source": [
    "# Upload tar file to S3 bucket\n",
    "s3 = boto3.resource('s3')\n",
    "bucket = s3.Bucket('sfi-shared-assets')\n",
    "\n",
    "bucket.upload_file('/scratch/ALD_S2_RGB_steel_chips_v4_20200601_20200731.tar', \n",
    "                   'S2-macroloc-model/ALD_S2_RGB_steel_chips_v4_20200601_20200731.tar')"
   ]
  },
  {
   "cell_type": "raw",
   "metadata": {},
   "source": [
    "! aws s3 ls sfi-shared-assets"
   ]
  }
 ],
 "metadata": {
  "kernelspec": {
   "display_name": "EarthAI Python",
   "language": "python",
   "name": "python3"
  },
  "language_info": {
   "codemirror_mode": {
    "name": "ipython",
    "version": 3
   },
   "file_extension": ".py",
   "mimetype": "text/x-python",
   "name": "python",
   "nbconvert_exporter": "python",
   "pygments_lexer": "ipython3",
   "version": "3.7.7"
  }
 },
 "nbformat": 4,
 "nbformat_minor": 4
}
