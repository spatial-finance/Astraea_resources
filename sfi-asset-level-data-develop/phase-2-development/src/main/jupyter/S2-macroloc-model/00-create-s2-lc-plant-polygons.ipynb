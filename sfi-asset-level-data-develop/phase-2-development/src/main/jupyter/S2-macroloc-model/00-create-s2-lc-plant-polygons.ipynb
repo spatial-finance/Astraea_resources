{
 "cells": [
  {
   "cell_type": "markdown",
   "metadata": {},
   "source": [
    "# Create Geometries for Landcover Classes, for Sentinel-2 Chips\n",
    "\n",
    "This notebook creates 3.0 x 3.0 sq km landcover class polygons offset from the cement and steel plants for use as negative examples for the S2 model training. Note that these differ from the chips created for the TIR model: we use a larger offset size from the cement plants since the S2 chips are 3 km x 3 km.\n",
    "\n",
    "We create 3 km x 3 km geometries for cement and steel too.\n",
    "\n",
    "## Import libraries"
   ]
  },
  {
   "cell_type": "code",
   "execution_count": null,
   "metadata": {},
   "outputs": [],
   "source": [
    "import geopandas as gpd\n",
    "from geopandas import GeoDataFrame\n",
    "import pandas as pd\n",
    "from shapely.geometry import Point,Polygon, LineString\n",
    "import os, sys\n",
    "import matplotlib.pyplot as plt\n",
    "%matplotlib inline\n",
    "import fiona\n",
    "import numpy as np\n",
    "import time\n",
    "import folium"
   ]
  },
  {
   "cell_type": "markdown",
   "metadata": {},
   "source": [
    "## Define buffer and offset sizes"
   ]
  },
  {
   "cell_type": "code",
   "execution_count": null,
   "metadata": {},
   "outputs": [],
   "source": [
    "# buffer_size x 2 = length of chips centered on steel, cement, or landcover\n",
    "buffer_size = 1500 # in m\n",
    "\n",
    "# offset_size = distance from cement or steel plants to create landcover chips from\n",
    "offset_size = 7500 # in m"
   ]
  },
  {
   "cell_type": "markdown",
   "metadata": {},
   "source": [
    "## Define input and output files"
   ]
  },
  {
   "cell_type": "code",
   "execution_count": null,
   "metadata": {},
   "outputs": [],
   "source": [
    "# Paths to input cement and steel data sets (stored locally)\n",
    "cempath = r'../../resources/'\n",
    "cemfile = r'cement_dataset_v4.xlsx'\n",
    "\n",
    "steelpath = r'../../resources/'\n",
    "steelfile = 'steel_dataset_v4.xlsx'\n",
    "\n",
    "# Paths to output data sets (stored locally)\n",
    "cemout = 'cement_steel_land_geoms/cement_datasetv4_UTM_CHINA_exactlocPOLYS_3000m.geojson'\n",
    "steelout = 'cement_steel_land_geoms/steel_datasetv4_UTM_CHINA_exactlocPOLYS_3000m.geojson'\n",
    "landout = 'cement_steel_land_geoms/landcover_datasetv4_UTM_CHINA_exactlocPOLYS_3000m.geojson'"
   ]
  },
  {
   "cell_type": "markdown",
   "metadata": {},
   "source": [
    "## Define function to create cement and steel polygons"
   ]
  },
  {
   "cell_type": "code",
   "execution_count": null,
   "metadata": {},
   "outputs": [],
   "source": [
    "def create_polys(path, filename, planttype, buffer_size=700):\n",
    "    \n",
    "    #open the file\n",
    "    df = pd.read_excel(os.path.join(path,filename))\n",
    "\n",
    "    #make sure there's no NaN location\n",
    "    df = df[df['latitude'].notnull()]\n",
    "\n",
    "    #define the geometry \n",
    "    geometry = [Point(xy) for xy in zip(df.longitude, df.latitude)] #df.x, df.y\n",
    "\n",
    "    #Create a geodataframe\n",
    "    crs = 'EPSG:4326' #http://www.spatialreference.org/ref/epsg/2263/\n",
    "    geo_df = gpd.GeoDataFrame(df, crs=crs, geometry=geometry)\n",
    "    \n",
    "    #Convert crs to UTM\n",
    "    geo_df_UTM = geo_df.to_crs('EPSG:3395')\n",
    "    print(\"CRS = \", geo_df_UTM.crs)\n",
    "    \n",
    "    #create an AOI box\n",
    "    polygon_buffer= geo_df_UTM.buffer(buffer_size).envelope\n",
    "    print(\"Buffer size = \", buffer_size, \" m\")\n",
    "\n",
    "    #Replace point data with polygon data\n",
    "    geo_df_UTM['geometry'] = polygon_buffer\n",
    "    geo_df_UTM['plantID']=np.arange(len(geo_df_UTM))\n",
    "    \n",
    "    '''Only include China\n",
    "    '''\n",
    "    \n",
    "    df_china = geo_df_UTM[geo_df_UTM.iso3=='CHN']\n",
    "    df_china = df_china[df_china.accuracy=='Exact']\n",
    "    if planttype == 'cement':\n",
    "        print('cement plant')\n",
    "        #for cement only: get integrated plants only\n",
    "        df_china= df_china[df_china.plant_type == 'Integrated']\n",
    "    else:\n",
    "        print('steel plant')\n",
    "    \n",
    "    return df_china"
   ]
  },
  {
   "cell_type": "markdown",
   "metadata": {},
   "source": [
    "## Define function to create landcover polygons"
   ]
  },
  {
   "cell_type": "code",
   "execution_count": null,
   "metadata": {},
   "outputs": [],
   "source": [
    "def get_lc_centrepoints(path, filename, buffer_size=700, offset_size=3500):\n",
    "    \n",
    "    '''Creates landcover samples around cement China plants\n",
    "    '''\n",
    "    \n",
    "    #open the file\n",
    "    df = pd.read_excel(os.path.join(path, filename))\n",
    "\n",
    "    #make sure there's no NaN location\n",
    "    df = df[df['latitude'].notnull()]\n",
    "\n",
    "    #define the geometry \n",
    "    geometry = [Point(xy) for xy in zip(df.longitude, df.latitude)] #df.x, df.y\n",
    "    \n",
    "    #Create a geodataframe\n",
    "    crs = 'EPSG:4326' #http://www.spatialreference.org/ref/epsg/2263/\n",
    "    geo_df = gpd.GeoDataFrame(df, crs=crs, geometry=geometry)\n",
    "    \n",
    "    #Convert crs to UTM\n",
    "    geo_df_UTM = geo_df.to_crs('EPSG:3395')\n",
    "    print('CRS: ', geo_df_UTM.crs)\n",
    "    \n",
    "    #Limit to China\n",
    "    df_china = geo_df_UTM[geo_df_UTM.iso3=='CHN']\n",
    "    df_china = df_china[df_china.accuracy=='Exact']\n",
    "    df_china= df_china[df_china.plant_type == 'Integrated']\n",
    "\n",
    "    #create a HUGE buffer to sample landcover samples\n",
    "    gdf_buffer=df_china.buffer(offset_size).envelope\n",
    "    \n",
    "    '''Intersect large squares so they do not interact with each other\n",
    "    '''\n",
    "    # Note - returned no rows initially; commented out unary_union\n",
    "    \n",
    "    gdf_union = gpd.GeoDataFrame()\n",
    "    \n",
    "    #Union the polygons so any that overlap become one\n",
    "    gdf_union['geometry'] = gdf_buffer#.unary_union\n",
    "    gdf_union.crs='EPSG:3395'\n",
    "    \n",
    "    '''Get the coordinates of the large polygons around which\n",
    "    landcover samples will be generated\n",
    "    '''\n",
    "    \n",
    "    #get the number of nodes in each polygon\n",
    "    point_list = []\n",
    "    IDs = []\n",
    "    for index, row in gdf_union.iterrows():\n",
    "        coords = list(row['geometry'].exterior.coords)        \n",
    "        #create a point for each coordinate\n",
    "        for item in coords:\n",
    "            points = Point(item)\n",
    "            point_list.append(points)\n",
    "            IDs.append(index)\n",
    "    \n",
    "    gdf_points = gpd.GeoDataFrame()\n",
    "    gdf_points['geometry'] = point_list\n",
    "    \n",
    "    #define the coordinates for the points\n",
    "    gdf_points.crs = 'EPSG:3395'\n",
    "    \n",
    "    \n",
    "    ''' Create the buffers around each landcover polygon\n",
    "    '''\n",
    "    \n",
    "    polygon_buffer= gdf_points.buffer(buffer_size).envelope\n",
    "    gdf_polys = gpd.GeoDataFrame()\n",
    "    gdf_polys['id'] = [str(i).zfill(4) for i in range(1,len(polygon_buffer))]\n",
    "    gdf_polys['geometry'] = polygon_buffer\n",
    "    gdf_polys.crs = 'EPSG:3395'\n",
    "    print(\"Buffer size: \", buffer_size, \" m\")\n",
    "    print(\"landcover\")\n",
    "\n",
    "    return gdf_polys"
   ]
  },
  {
   "cell_type": "markdown",
   "metadata": {},
   "source": [
    "## Create polygons and write to geojson"
   ]
  },
  {
   "cell_type": "markdown",
   "metadata": {},
   "source": [
    "### STEEL"
   ]
  },
  {
   "cell_type": "code",
   "execution_count": null,
   "metadata": {
    "scrolled": true
   },
   "outputs": [],
   "source": [
    "# Create polygons\n",
    "steel = create_polys(steelpath, steelfile, 'steel', buffer_size=buffer_size)"
   ]
  },
  {
   "cell_type": "code",
   "execution_count": null,
   "metadata": {},
   "outputs": [],
   "source": [
    "# Write to GeoJson\n",
    "steel.to_file(os.path.join(steelpath, steelout), driver='GeoJSON')"
   ]
  },
  {
   "cell_type": "markdown",
   "metadata": {},
   "source": [
    "### Cement"
   ]
  },
  {
   "cell_type": "code",
   "execution_count": null,
   "metadata": {
    "scrolled": true
   },
   "outputs": [],
   "source": [
    "# Create polygons\n",
    "cem = create_polys(cempath, cemfile, 'cement', buffer_size=buffer_size)"
   ]
  },
  {
   "cell_type": "code",
   "execution_count": null,
   "metadata": {},
   "outputs": [],
   "source": [
    "# Write to GeoJson\n",
    "cem.to_file(os.path.join(cempath, cemout), driver='GeoJSON')"
   ]
  },
  {
   "cell_type": "markdown",
   "metadata": {},
   "source": [
    "### Landcover"
   ]
  },
  {
   "cell_type": "code",
   "execution_count": null,
   "metadata": {
    "scrolled": true
   },
   "outputs": [],
   "source": [
    "# Create polygons\n",
    "lc = get_lc_centrepoints(cempath, cemfile, buffer_size=buffer_size, offset_size=offset_size)"
   ]
  },
  {
   "cell_type": "code",
   "execution_count": null,
   "metadata": {},
   "outputs": [],
   "source": [
    "# Exclude landcover polygons that intersect w/ cement or steel\n",
    "lc_intrsct_cem = gpd.sjoin(lc, cem, how='inner', op='intersects')\n",
    "lc = lc[~lc.id.isin(lc_intrsct_cem['id'])]\n",
    "\n",
    "lc_intrsct_steel = gpd.sjoin(lc, steel, how='inner', op='intersects')\n",
    "lc = lc[~lc.id.isin(lc_intrsct_steel['id'])]"
   ]
  },
  {
   "cell_type": "code",
   "execution_count": null,
   "metadata": {
    "scrolled": true
   },
   "outputs": [],
   "source": [
    "# Write to GeoJson\n",
    "lc.to_file(os.path.join(cempath, landout), driver='GeoJSON')"
   ]
  },
  {
   "cell_type": "markdown",
   "metadata": {},
   "source": [
    "## Visualize polygons"
   ]
  },
  {
   "cell_type": "code",
   "execution_count": null,
   "metadata": {},
   "outputs": [],
   "source": [
    "# Plot cement polygons\n",
    "style_function = lambda x: {'fillColor': '#f003fc', 'color': '#f003fc'}\n",
    "cement_gpd = cem.geometry.to_crs('OGC:CRS84')\n",
    "cement_polys = folium.features.GeoJson(cement_gpd.to_json(), style_function=style_function)\n",
    "m = folium.Map(location=[cement_gpd.geometry.centroid.y.mean(), \n",
    "                         cement_gpd.geometry.centroid.x.mean()],\n",
    "               zoom_start=4)\n",
    "\n",
    "# Plot steel polygons\n",
    "style_function = lambda x: {'fillColor': '#3734eb', 'color': '#3734eb'}\n",
    "steel_gpd = steel.geometry.to_crs('OGC:CRS84')\n",
    "steel_polys = folium.features.GeoJson(steel_gpd.to_json(), style_function=style_function)\n",
    "\n",
    "# Plot landcover polygons\n",
    "style_function = lambda x: {'fillColor': '#68eb34', 'color': '#68eb34'}\n",
    "land_gpd = lc.geometry.to_crs('OGC:CRS84')\n",
    "land_polys = folium.features.GeoJson(land_gpd.to_json(), style_function=style_function)\n",
    "\n",
    "m.add_children(cement_polys)\n",
    "m.add_children(steel_polys)\n",
    "m.add_children(land_polys)\n",
    "m"
   ]
  }
 ],
 "metadata": {
  "kernelspec": {
   "display_name": "EarthAI Environment",
   "language": "python",
   "name": "python3"
  },
  "language_info": {
   "codemirror_mode": {
    "name": "ipython",
    "version": 3
   },
   "file_extension": ".py",
   "mimetype": "text/x-python",
   "name": "python",
   "nbconvert_exporter": "python",
   "pygments_lexer": "ipython3",
   "version": "3.7.7"
  }
 },
 "nbformat": 4,
 "nbformat_minor": 4
}
