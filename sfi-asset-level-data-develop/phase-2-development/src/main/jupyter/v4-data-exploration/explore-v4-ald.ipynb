{
 "cells": [
  {
   "cell_type": "markdown",
   "metadata": {},
   "source": [
    "## Import modules"
   ]
  },
  {
   "cell_type": "code",
   "execution_count": 24,
   "metadata": {},
   "outputs": [],
   "source": [
    "import pandas as pd\n",
    "import numpy as np\n",
    "import geopandas as gpd"
   ]
  },
  {
   "cell_type": "markdown",
   "metadata": {},
   "source": [
    "## Read in v4.1 curated cement and steel data"
   ]
  },
  {
   "cell_type": "code",
   "execution_count": 2,
   "metadata": {},
   "outputs": [],
   "source": [
    "# Read in cement data - v4.1\n",
    "cement_xlsx = \"../../resources/cement_dataset_v4.1.csv\"\n",
    "cement_pd = pd.read_csv(cement_xlsx)\n",
    "\n",
    "# Read in steel data - v4.1\n",
    "steel_xlsx = \"../../resources/steel_dataset_v4.1.csv\"\n",
    "steel_pd = pd.read_csv(steel_xlsx)"
   ]
  },
  {
   "cell_type": "markdown",
   "metadata": {},
   "source": [
    "## Examine cement plant statistics"
   ]
  },
  {
   "cell_type": "markdown",
   "metadata": {},
   "source": [
    "### Global cement plants - operating"
   ]
  },
  {
   "cell_type": "code",
   "execution_count": 3,
   "metadata": {},
   "outputs": [
    {
     "name": "stdout",
     "output_type": "stream",
     "text": [
      "Global count of operating cement plants:  3472\n"
     ]
    }
   ],
   "source": [
    "# Total number of operating cement plants\n",
    "opr_cement_pd = cement_pd[cement_pd[\"status\"] == \"Operating\"]\n",
    "tot_cement_cnt = len(opr_cement_pd[\"uid\"])\n",
    "print(\"Global count of operating cement plants: \", tot_cement_cnt)"
   ]
  },
  {
   "cell_type": "markdown",
   "metadata": {},
   "source": [
    "### China, not-China cement plants"
   ]
  },
  {
   "cell_type": "code",
   "execution_count": 4,
   "metadata": {},
   "outputs": [
    {
     "name": "stdout",
     "output_type": "stream",
     "text": [
      "Count of China/Not-China cement plants: \n"
     ]
    },
    {
     "data": {
      "text/plain": [
       "in_china\n",
       "False    2204\n",
       "True     1268\n",
       "Name: uid, dtype: int64"
      ]
     },
     "execution_count": 4,
     "metadata": {},
     "output_type": "execute_result"
    }
   ],
   "source": [
    "# Count of China versus not-China cement plants\n",
    "opr_cement_pd = opr_cement_pd.assign(in_china = (opr_cement_pd.country == \"China\"))\n",
    "\n",
    "cntry_cement_cnt = opr_cement_pd.groupby(\"in_china\")[\"uid\"].nunique()\n",
    "print(\"Count of China/Not-China cement plants: \")\n",
    "cntry_cement_cnt"
   ]
  },
  {
   "cell_type": "markdown",
   "metadata": {},
   "source": [
    "### China, integrated/not-integrated cement plants"
   ]
  },
  {
   "cell_type": "code",
   "execution_count": 5,
   "metadata": {},
   "outputs": [
    {
     "name": "stdout",
     "output_type": "stream",
     "text": [
      "Count of cement plants by production type in China:\n"
     ]
    },
    {
     "data": {
      "text/plain": [
       "plant_type\n",
       "Grinding       49\n",
       "Integrated    801\n",
       "Name: uid, dtype: int64"
      ]
     },
     "execution_count": 5,
     "metadata": {},
     "output_type": "execute_result"
    }
   ],
   "source": [
    "cement_chn_pd = opr_cement_pd[opr_cement_pd[\"country\"] == \"China\"]\n",
    "cement_chn_pd = cement_chn_pd.assign(plant_type_status = \\\n",
    "                                     np.where(cement_chn_pd[\"plant_type\"].isnull(), \"Unknown\", \"Known\"))\n",
    "                                     \n",
    "intg_cement_cnt = cement_chn_pd.groupby(\"plant_type\")[\"uid\"].nunique()\n",
    "print(\"Count of cement plants by production type in China:\")\n",
    "intg_cement_cnt"
   ]
  },
  {
   "cell_type": "code",
   "execution_count": 6,
   "metadata": {},
   "outputs": [
    {
     "name": "stdout",
     "output_type": "stream",
     "text": [
      "Count of cement plants by known/unknown production types in China:\n"
     ]
    },
    {
     "data": {
      "text/plain": [
       "plant_type_status\n",
       "Known      850\n",
       "Unknown    418\n",
       "Name: uid, dtype: int64"
      ]
     },
     "execution_count": 6,
     "metadata": {},
     "output_type": "execute_result"
    }
   ],
   "source": [
    "unknwn_cement_cnt = cement_chn_pd.groupby(\"plant_type_status\")[\"uid\"].nunique()\n",
    "print(\"Count of cement plants by known/unknown production types in China:\")\n",
    "unknwn_cement_cnt"
   ]
  },
  {
   "cell_type": "markdown",
   "metadata": {},
   "source": [
    "### China, integrated cement, exact/approximate locations"
   ]
  },
  {
   "cell_type": "code",
   "execution_count": 7,
   "metadata": {},
   "outputs": [
    {
     "name": "stdout",
     "output_type": "stream",
     "text": [
      "Count of integrated cement plants in China, by location status:\n"
     ]
    },
    {
     "data": {
      "text/plain": [
       "accuracy\n",
       "Approximate    397\n",
       "Exact          404\n",
       "Name: uid, dtype: int64"
      ]
     },
     "execution_count": 7,
     "metadata": {},
     "output_type": "execute_result"
    }
   ],
   "source": [
    "cement_chn_intg = cement_chn_pd[cement_chn_pd[\"plant_type\"] == \"Integrated\"]\n",
    "exact_chn_intg_cnt = cement_chn_intg.groupby(\"accuracy\")[\"uid\"].nunique()\n",
    "print(\"Count of integrated cement plants in China, by location status:\")\n",
    "exact_chn_intg_cnt"
   ]
  },
  {
   "cell_type": "markdown",
   "metadata": {},
   "source": [
    "### Operating plants with known capacity"
   ]
  },
  {
   "cell_type": "code",
   "execution_count": 8,
   "metadata": {},
   "outputs": [
    {
     "name": "stdout",
     "output_type": "stream",
     "text": [
      "Number of operating cement plants with exact locations and known capacity: 366\n"
     ]
    }
   ],
   "source": [
    "knwn_cap_cement_pd = opr_cement_pd[(opr_cement_pd[\"reported_capacity\"].notnull()) & \\\n",
    "                                   (opr_cement_pd[\"accuracy\"] == \"Exact\")] # & \\\n",
    "                                 #  (opr_cement_pd[\"plant_type\"] == \"Integrated\")]\n",
    "print(\"Number of operating cement plants with exact locations and known capacity:\", len(knwn_cap_cement_pd))"
   ]
  },
  {
   "cell_type": "markdown",
   "metadata": {},
   "source": [
    "### China, grinding or unknown plant type"
   ]
  },
  {
   "cell_type": "code",
   "execution_count": 9,
   "metadata": {},
   "outputs": [
    {
     "name": "stdout",
     "output_type": "stream",
     "text": [
      "Number of operating, grinding or unknown type cement plants in China: 467\n",
      "Count of grinding or unknown type cement plants in China by location status:\n",
      "accuracy\n",
      "Approximate     26\n",
      "Exact          441\n",
      "Name: uid, dtype: int64\n"
     ]
    }
   ],
   "source": [
    "grnd_unknw_type_pd = cement_chn_pd[(cement_chn_pd[\"plant_type\"] == \"Grinding\") | \\\n",
    "                                   (cement_chn_pd[\"plant_type_status\"] == \"Unknown\")]\n",
    "\n",
    "print(\"Number of operating, grinding or unknown type cement plants in China:\", len(grnd_unknw_type_pd))\n",
    "\n",
    "grnd_unkwn_loc_cnt = grnd_unknw_type_pd.groupby(\"accuracy\")[\"uid\"].nunique()\n",
    "print(\"Count of grinding or unknown type cement plants in China by location status:\")\n",
    "print(grnd_unkwn_loc_cnt)"
   ]
  },
  {
   "cell_type": "markdown",
   "metadata": {},
   "source": [
    "### Cement plants in Asia, excluding China"
   ]
  },
  {
   "cell_type": "code",
   "execution_count": 10,
   "metadata": {
    "scrolled": true
   },
   "outputs": [
    {
     "name": "stdout",
     "output_type": "stream",
     "text": [
      "Number of operating cement plants in Asia (excluding China):  877\n"
     ]
    }
   ],
   "source": [
    "asia_cntry_pd = pd.read_csv(\"countries-asia-2020.csv\")\n",
    "asia_cement_pd = opr_cement_pd.merge(asia_cntry_pd, how=\"inner\", on=\"country\")\n",
    "asia_cement_pd = asia_cement_pd[asia_cement_pd[\"country\"] != \"China\"]\n",
    "\n",
    "print(\"Number of operating cement plants in Asia (excluding China): \", len(asia_cement_pd))"
   ]
  },
  {
   "cell_type": "code",
   "execution_count": 11,
   "metadata": {
    "scrolled": true
   },
   "outputs": [
    {
     "name": "stdout",
     "output_type": "stream",
     "text": [
      "Count of cement plants in Asia (excluding China) by location status:\n",
      "accuracy\n",
      "Approximate    135\n",
      "Exact          742\n",
      "Name: uid, dtype: int64\n"
     ]
    }
   ],
   "source": [
    "asia_exct_cnt = asia_cement_pd.groupby(\"accuracy\")[\"uid\"].nunique()\n",
    "print(\"Count of cement plants in Asia (excluding China) by location status:\")\n",
    "print(asia_exct_cnt)"
   ]
  },
  {
   "cell_type": "markdown",
   "metadata": {},
   "source": [
    "### Cement plants, rest of world"
   ]
  },
  {
   "cell_type": "code",
   "execution_count": 12,
   "metadata": {},
   "outputs": [
    {
     "name": "stdout",
     "output_type": "stream",
     "text": [
      "Number of operating cement plants outside Asia:  1327\n",
      "Count of cement plants outside Asia by location status:\n",
      "accuracy\n",
      "Approximate     107\n",
      "Exact          1220\n",
      "Name: uid, dtype: int64\n"
     ]
    }
   ],
   "source": [
    "othr_cement_pd = opr_cement_pd[~opr_cement_pd[\"uid\"].isin(asia_cement_pd[\"uid\"].tolist()) & \\\n",
    "                               ~opr_cement_pd[\"in_china\"]]\n",
    "print(\"Number of operating cement plants outside Asia: \", len(othr_cement_pd))\n",
    "\n",
    "othr_exct_cnt = othr_cement_pd.groupby(\"accuracy\")[\"uid\"].nunique()\n",
    "print(\"Count of cement plants outside Asia by location status:\")\n",
    "print(othr_exct_cnt)"
   ]
  },
  {
   "cell_type": "markdown",
   "metadata": {},
   "source": [
    "## Examine steel plant statistics"
   ]
  },
  {
   "cell_type": "markdown",
   "metadata": {},
   "source": [
    "### Global steel plants - operating"
   ]
  },
  {
   "cell_type": "code",
   "execution_count": 13,
   "metadata": {},
   "outputs": [
    {
     "name": "stdout",
     "output_type": "stream",
     "text": [
      "Global count of operating steel plants:  2032\n"
     ]
    }
   ],
   "source": [
    "# Total number of operating steel plants\n",
    "opr_steel_pd = steel_pd[steel_pd[\"status\"] == \"Operating\"]\n",
    "tot_steel_cnt = len(opr_steel_pd[\"uid\"])\n",
    "print(\"Global count of operating steel plants: \", tot_steel_cnt)"
   ]
  },
  {
   "cell_type": "markdown",
   "metadata": {},
   "source": [
    "### China, not-China steel plants"
   ]
  },
  {
   "cell_type": "code",
   "execution_count": 14,
   "metadata": {},
   "outputs": [
    {
     "name": "stdout",
     "output_type": "stream",
     "text": [
      "Count of China/Not-China steel plants: \n"
     ]
    },
    {
     "data": {
      "text/plain": [
       "in_china\n",
       "False    1721\n",
       "True      311\n",
       "Name: uid, dtype: int64"
      ]
     },
     "execution_count": 14,
     "metadata": {},
     "output_type": "execute_result"
    }
   ],
   "source": [
    "# Count of China versus not-China steel plants\n",
    "opr_steel_pd = opr_steel_pd.assign(in_china = (opr_steel_pd.country == \"China\"))\n",
    "\n",
    "cntry_steel_cnt = opr_steel_pd.groupby(\"in_china\")[\"uid\"].nunique()\n",
    "print(\"Count of China/Not-China steel plants: \")\n",
    "cntry_steel_cnt"
   ]
  },
  {
   "cell_type": "markdown",
   "metadata": {},
   "source": [
    "### China, exact/approximate locations"
   ]
  },
  {
   "cell_type": "code",
   "execution_count": 15,
   "metadata": {},
   "outputs": [
    {
     "name": "stdout",
     "output_type": "stream",
     "text": [
      "Count of steel plants in China, by location status:\n"
     ]
    },
    {
     "data": {
      "text/plain": [
       "accuracy\n",
       "Approximate    183\n",
       "Exact          128\n",
       "Name: uid, dtype: int64"
      ]
     },
     "execution_count": 15,
     "metadata": {},
     "output_type": "execute_result"
    }
   ],
   "source": [
    "steel_chn_pd = opr_steel_pd[opr_steel_pd[\"country\"] == \"China\"]\n",
    "exact_chn_steel_cnt = steel_chn_pd.groupby(\"accuracy\")[\"uid\"].nunique()\n",
    "print(\"Count of steel plants in China, by location status:\")\n",
    "exact_chn_steel_cnt"
   ]
  },
  {
   "cell_type": "markdown",
   "metadata": {},
   "source": [
    "### Steel plants in Asia, excluding China"
   ]
  },
  {
   "cell_type": "code",
   "execution_count": 16,
   "metadata": {},
   "outputs": [
    {
     "name": "stdout",
     "output_type": "stream",
     "text": [
      "Number of operating steel plants in Asia (excluding China):  501\n"
     ]
    }
   ],
   "source": [
    "asia_steel_pd = opr_steel_pd.merge(asia_cntry_pd, how=\"inner\", on=\"country\")\n",
    "asia_steel_pd = asia_steel_pd[asia_steel_pd[\"country\"] != \"China\"]\n",
    "\n",
    "print(\"Number of operating steel plants in Asia (excluding China): \", len(asia_steel_pd))"
   ]
  },
  {
   "cell_type": "code",
   "execution_count": 17,
   "metadata": {},
   "outputs": [
    {
     "name": "stdout",
     "output_type": "stream",
     "text": [
      "Count of steel plants in Asia (excluding China) by location status:\n",
      "accuracy\n",
      "Approximate    133\n",
      "Exact          368\n",
      "Name: uid, dtype: int64\n"
     ]
    }
   ],
   "source": [
    "asia_exct_steel_cnt = asia_steel_pd.groupby(\"accuracy\")[\"uid\"].nunique()\n",
    "print(\"Count of steel plants in Asia (excluding China) by location status:\")\n",
    "print(asia_exct_steel_cnt)"
   ]
  },
  {
   "cell_type": "markdown",
   "metadata": {},
   "source": [
    "### Steel plants, rest of the world"
   ]
  },
  {
   "cell_type": "code",
   "execution_count": 18,
   "metadata": {},
   "outputs": [
    {
     "name": "stdout",
     "output_type": "stream",
     "text": [
      "Number of operating steel plants outside Asia:  1220\n",
      "Count of steel plants outside Asia by location status:\n",
      "accuracy\n",
      "Approximate     192\n",
      "Exact          1028\n",
      "Name: uid, dtype: int64\n"
     ]
    }
   ],
   "source": [
    "othr_steel_pd = opr_steel_pd[~opr_steel_pd[\"uid\"].isin(asia_steel_pd[\"uid\"].tolist()) & \\\n",
    "                               ~opr_steel_pd[\"in_china\"]]\n",
    "print(\"Number of operating steel plants outside Asia: \", len(othr_steel_pd))\n",
    "\n",
    "othr_exct_steel_cnt = othr_steel_pd.groupby(\"accuracy\")[\"uid\"].nunique()\n",
    "print(\"Count of steel plants outside Asia by location status:\")\n",
    "print(othr_exct_steel_cnt)"
   ]
  },
  {
   "cell_type": "markdown",
   "metadata": {},
   "source": [
    "## Get samples for CloudFactory"
   ]
  },
  {
   "cell_type": "code",
   "execution_count": 27,
   "metadata": {},
   "outputs": [],
   "source": [
    "# Integrated cement plants in China with exact locations\n",
    "cement_samp_int_pd = opr_cement_pd[(opr_cement_pd[\"country\"] == \"China\") & \\\n",
    "                                   (opr_cement_pd[\"plant_type\"] == \"Integrated\") & \\\n",
    "                                   (opr_cement_pd[\"accuracy\"] == \"Exact\")].sample(n=5)\n",
    "# Grinding cement plants in China with exact locations\n",
    "cement_samp_grd_pd = opr_cement_pd[(opr_cement_pd[\"country\"] == \"China\") & \\\n",
    "                                   (opr_cement_pd[\"plant_type\"] == \"Grinding\") & \\\n",
    "                                   (opr_cement_pd[\"accuracy\"] == \"Exact\")].sample(n=5)\n",
    "\n",
    "# Concatenate and write to geojson\n",
    "cement_samp_pd = cement_samp_int_pd.append(cement_samp_grd_pd)\n",
    "cement_samp_gpd = gpd.GeoDataFrame(cement_samp_pd, \\\n",
    "                                   geometry=gpd.points_from_xy(cement_samp_pd.longitude, cement_samp_pd.latitude),\n",
    "                                   crs=\"EPSG:4326\")\n",
    "cement_samp_gpd.to_file(\"cement_China_samples.geojson\", driver='GeoJSON')"
   ]
  },
  {
   "cell_type": "code",
   "execution_count": 31,
   "metadata": {},
   "outputs": [],
   "source": [
    "# Steel plants in China with exact locations\n",
    "steel_samp_pd = opr_steel_pd[(opr_steel_pd[\"country\"] == \"China\") & \\\n",
    "                             (opr_steel_pd[\"accuracy\"] == \"Exact\")].sample(n=10)\n",
    "\n",
    "# Write to geojson\n",
    "steel_samp_gpd = gpd.GeoDataFrame(steel_samp_pd, \\\n",
    "                                  geometry=gpd.points_from_xy(steel_samp_pd.longitude, steel_samp_pd.latitude),\n",
    "                                  crs=\"EPSG:4326\")\n",
    "steel_samp_gpd.to_file(\"steel_China_samples.geojson\", driver='GeoJSON')"
   ]
  },
  {
   "cell_type": "code",
   "execution_count": null,
   "metadata": {},
   "outputs": [],
   "source": []
  }
 ],
 "metadata": {
  "kernelspec": {
   "display_name": "EarthAI Environment",
   "language": "python",
   "name": "python3"
  },
  "language_info": {
   "codemirror_mode": {
    "name": "ipython",
    "version": 3
   },
   "file_extension": ".py",
   "mimetype": "text/x-python",
   "name": "python",
   "nbconvert_exporter": "python",
   "pygments_lexer": "ipython3",
   "version": "3.7.7"
  }
 },
 "nbformat": 4,
 "nbformat_minor": 4
}
