{
 "cells": [
  {
   "cell_type": "markdown",
   "metadata": {},
   "source": [
    "## This notebook contains refactored code for:\n",
    "- creating ~1km square box shapefiles for cement and steel data for China\n",
    "- over ~1km is chosen so that the image chips are big enough to then crop down to the standard 256 x 256 pixels once the chips are downloaded\n",
    "- Landcover polygons are also created around cement plants"
   ]
  },
  {
   "cell_type": "code",
   "execution_count": 1,
   "metadata": {},
   "outputs": [],
   "source": [
    "import geopandas as gpd\n",
    "from geopandas import GeoDataFrame\n",
    "import pandas as pd\n",
    "from shapely.geometry import Point,Polygon, LineString\n",
    "import os, sys\n",
    "import matplotlib.pyplot as plt\n",
    "%matplotlib inline\n",
    "import fiona\n",
    "import numpy as np\n",
    "import time\n"
   ]
  },
  {
   "cell_type": "code",
   "execution_count": 44,
   "metadata": {},
   "outputs": [],
   "source": [
    "cempath = r'C:\\\\Users\\\\Maral.Bayaraa\\\\OneDrive - Satellite Applications Catapult\\\\Projects-Maral-Z\\\\SustainableFinance\\\\ALD_Phase2\\\\Cement_dataset_v3_SmithSchool\\\\'\n",
    "\n",
    "steelpath = r'C:\\\\Users\\\\Maral.Bayaraa\\\\OneDrive - Satellite Applications Catapult\\\\Projects-Maral-Z\\\\SustainableFinance\\\\ALD_Phase2\\\\steel_polys\\\\'"
   ]
  },
  {
   "cell_type": "code",
   "execution_count": 53,
   "metadata": {},
   "outputs": [],
   "source": [
    "def create_polys(path,filename,planttype):\n",
    "    \n",
    "\n",
    "    #open the file\n",
    "    df = pd.read_excel(os.path.join(path,filename))\n",
    "\n",
    "\n",
    "    #make sure there's no NaN location\n",
    "    df = df[df['latitude'].notnull()]\n",
    "\n",
    "    #define the geometry \n",
    "    geometry = [Point(xy) for xy in zip(df.longitude, df.latitude)] #df.x, df.y\n",
    "    #Create a geodataframe\n",
    "    crs = {'init': 'epsg:4326'} #http://www.spatialreference.org/ref/epsg/2263/\n",
    "    geo_df = gpd.GeoDataFrame(df, crs=crs, geometry=geometry)\n",
    "    \n",
    "    #Convert crs to UTM\n",
    "    geo_df_UTM = geo_df.to_crs({'init':\"EPSG:3395\"})\n",
    "    print(geo_df_UTM.crs)\n",
    "    \n",
    "    #create an AOI box\n",
    "    #polygon_buffer= geo_df_UTM.buffer(500).envelope\n",
    "    polygon_buffer= geo_df_UTM.buffer(700).envelope\n",
    "\n",
    "    #Replace point data with polygon data\n",
    "    geo_df_UTM['geometry'] = polygon_buffer\n",
    "    \n",
    "    geo_df_UTM['plantID']=np.arange(len(geo_df_UTM))\n",
    "    \n",
    "    '''Only include China\n",
    "    '''\n",
    "    \n",
    "    df_china = geo_df_UTM[geo_df_UTM.iso3=='CHN']\n",
    "    df_china = df_china[df_china.accuracy=='Exact']\n",
    "    if planttype == 'cement':\n",
    "        print('cement plant')\n",
    "        df_china= df_china[df_china.plant_type == 'Integrated']\n",
    "    else:\n",
    "        print('steel plant')\n",
    "    \n",
    "    #for cement only: get integrated plants only\n",
    "    \n",
    "    return df_china"
   ]
  },
  {
   "cell_type": "markdown",
   "metadata": {},
   "source": [
    "### STEEL"
   ]
  },
  {
   "cell_type": "code",
   "execution_count": 54,
   "metadata": {
    "scrolled": true
   },
   "outputs": [
    {
     "name": "stderr",
     "output_type": "stream",
     "text": [
      "C:\\ProgramData\\Anaconda3\\lib\\site-packages\\pyproj\\crs\\crs.py:55: FutureWarning: '+init=<authority>:<code>' syntax is deprecated. '<authority>:<code>' is the preferred initialization method. When making the change, be mindful of axis order changes: https://pyproj4.github.io/pyproj/stable/gotchas.html#axis-order-changes-in-proj-6\n",
      "  return _prepare_from_string(\" \".join(pjargs))\n"
     ]
    },
    {
     "name": "stdout",
     "output_type": "stream",
     "text": [
      "{'init': 'EPSG:3395'}\n",
      "steel plant\n"
     ]
    }
   ],
   "source": [
    "steel = create_polys(steelpath,'steel_dataset_v3.1.xlsx','steel')"
   ]
  },
  {
   "cell_type": "code",
   "execution_count": 40,
   "metadata": {},
   "outputs": [],
   "source": [
    "#a.to_file(os.path.join(path,'2_steeldatasetv3_UTM_CHINA_exactlocPOLYS.geojson'), driver='GeoJSON')\n",
    "steel.to_file(os.path.join(steelpath,'2_steeldatasetv3_UTM_CHINA_exactlocPOLYS_700m.geojson'), driver='GeoJSON')"
   ]
  },
  {
   "cell_type": "markdown",
   "metadata": {},
   "source": [
    "Try to make the shapefile so that it extracts 256 by 256 pixels"
   ]
  },
  {
   "cell_type": "markdown",
   "metadata": {},
   "source": [
    "### cement"
   ]
  },
  {
   "cell_type": "code",
   "execution_count": 55,
   "metadata": {
    "scrolled": true
   },
   "outputs": [
    {
     "name": "stderr",
     "output_type": "stream",
     "text": [
      "C:\\ProgramData\\Anaconda3\\lib\\site-packages\\pyproj\\crs\\crs.py:55: FutureWarning: '+init=<authority>:<code>' syntax is deprecated. '<authority>:<code>' is the preferred initialization method. When making the change, be mindful of axis order changes: https://pyproj4.github.io/pyproj/stable/gotchas.html#axis-order-changes-in-proj-6\n",
      "  return _prepare_from_string(\" \".join(pjargs))\n"
     ]
    },
    {
     "name": "stdout",
     "output_type": "stream",
     "text": [
      "{'init': 'EPSG:3395'}\n",
      "cement plant\n"
     ]
    }
   ],
   "source": [
    "cem = create_polys(cempath,'cement_dataset_v3.xlsx','cement')"
   ]
  },
  {
   "cell_type": "code",
   "execution_count": 51,
   "metadata": {},
   "outputs": [],
   "source": [
    "cem.to_file(os.path.join(cempath,'4_cementdatasetv3_UTM_CHINA_exactlocPOLYS_1km.geojson'), driver='GeoJSON')"
   ]
  },
  {
   "cell_type": "markdown",
   "metadata": {},
   "source": [
    "# landcover"
   ]
  },
  {
   "cell_type": "code",
   "execution_count": 112,
   "metadata": {},
   "outputs": [],
   "source": [
    "def get_lc_centrepoints(path,filename):\n",
    "    '''Creates landcover samples around cement China plants\n",
    "    '''\n",
    "    \n",
    "    #open the file\n",
    "    df = pd.read_excel(os.path.join(path,filename))\n",
    "\n",
    "    #make sure there's no NaN location\n",
    "    df = df[df['latitude'].notnull()]\n",
    "\n",
    "    #define the geometry \n",
    "    geometry = [Point(xy) for xy in zip(df.longitude, df.latitude)] #df.x, df.y\n",
    "    #Create a geodataframe\n",
    "    crs = {'init': 'epsg:4326'} #http://www.spatialreference.org/ref/epsg/2263/\n",
    "    geo_df = gpd.GeoDataFrame(df, crs=crs, geometry=geometry)\n",
    "    \n",
    "    #Convert crs to UTM\n",
    "    geo_df_UTM = geo_df.to_crs({'init':\"EPSG:3395\"})\n",
    "    print(geo_df_UTM.crs)\n",
    "    \n",
    "    df_china = geo_df_UTM[geo_df_UTM.iso3=='CHN']\n",
    "    df_china = df_china[df_china.accuracy=='Exact']\n",
    "    df_china= df_china[df_china.plant_type == 'Integrated']\n",
    "\n",
    "    \n",
    "    #create a HUGE buffer to sample landcover samples\n",
    "    gdf_buffer=df_china.buffer(3500).envelope\n",
    "    \n",
    "    '''Intersect large squares so they do not interact with each other\n",
    "    '''\n",
    "    gdf_union = gpd.GeoDataFrame()\n",
    "    #Union the polygons so any that overlap become one\n",
    "    gdf_union['geometry'] = gdf_buffer.unary_union\n",
    "    gdf_union.crs={'init': 'EPSG:3395'}\n",
    "    \n",
    "    '''Get the coordinates of the large polygons around which\n",
    "    landcover samples will be generated\n",
    "    '''\n",
    "    \n",
    "    #get the number of nodes in each polygon\n",
    "    #coords_list = []\n",
    "    point_list = []\n",
    "    IDs = []\n",
    "    for index, row in gdf_union.iterrows():\n",
    "        #if row['geometry'].type == 'Polygon':\n",
    "        coords = list(row['geometry'].exterior.coords)\n",
    "        #onecoord = row['outlines'].exterior.coords\n",
    "        \n",
    "        #create a point for each coordinate\n",
    "        for item in coords:\n",
    "            points = Point(item)\n",
    "            point_list.append(points)\n",
    "            IDs.append(index)\n",
    "    \n",
    "    gdf_points = gpd.GeoDataFrame()\n",
    "    gdf_points['geometry'] = point_list\n",
    "    #define the coordinates for the points\n",
    "    gdf_points.crs = \"EPSG:3395\"\n",
    "    \n",
    "    \n",
    "    ''' Create the buffers around each landcover polygon\n",
    "    '''\n",
    "    polygon_buffer= gdf_points.buffer(700).envelope\n",
    "    polygon_buffer.crs = \"EPSG:3395\"\n",
    "\n",
    "    \n",
    "    return polygon_buffer\n",
    "    "
   ]
  },
  {
   "cell_type": "code",
   "execution_count": 109,
   "metadata": {
    "scrolled": true
   },
   "outputs": [
    {
     "name": "stderr",
     "output_type": "stream",
     "text": [
      "C:\\ProgramData\\Anaconda3\\lib\\site-packages\\pyproj\\crs\\crs.py:55: FutureWarning: '+init=<authority>:<code>' syntax is deprecated. '<authority>:<code>' is the preferred initialization method. When making the change, be mindful of axis order changes: https://pyproj4.github.io/pyproj/stable/gotchas.html#axis-order-changes-in-proj-6\n",
      "  return _prepare_from_string(\" \".join(pjargs))\n"
     ]
    },
    {
     "name": "stdout",
     "output_type": "stream",
     "text": [
      "{'init': 'EPSG:3395'}\n"
     ]
    }
   ],
   "source": [
    "lc = get_lc_centrepoints(cempath,'cement_dataset_v3.xlsx')"
   ]
  },
  {
   "cell_type": "markdown",
   "metadata": {},
   "source": [
    "    Now need to intersect with steel plants so we remove any lc polygon that touches steel plant samples --- had a look at the current data and actually this seems okay so ignoring here"
   ]
  },
  {
   "cell_type": "code",
   "execution_count": null,
   "metadata": {},
   "outputs": [],
   "source": []
  },
  {
   "cell_type": "code",
   "execution_count": 137,
   "metadata": {},
   "outputs": [],
   "source": [
    "outpath = r'C:\\\\Users\\\\Maral.Bayaraa\\\\OneDrive - Satellite Applications Catapult\\\\Projects-Maral-Z\\\\SustainableFinance\\\\ALD_Phase2\\\\1_ALD_phase2_training_data\\\\'"
   ]
  },
  {
   "cell_type": "code",
   "execution_count": 138,
   "metadata": {
    "scrolled": true
   },
   "outputs": [],
   "source": [
    "lc.to_file(os.path.join(outpath,'Landcover_fromCementdatasetv3_1kmpolys.geojson'), driver='GeoJSON')"
   ]
  },
  {
   "cell_type": "code",
   "execution_count": null,
   "metadata": {},
   "outputs": [],
   "source": []
  },
  {
   "cell_type": "code",
   "execution_count": null,
   "metadata": {},
   "outputs": [],
   "source": []
  },
  {
   "cell_type": "code",
   "execution_count": null,
   "metadata": {},
   "outputs": [],
   "source": []
  },
  {
   "cell_type": "code",
   "execution_count": null,
   "metadata": {},
   "outputs": [],
   "source": []
  },
  {
   "cell_type": "code",
   "execution_count": null,
   "metadata": {},
   "outputs": [],
   "source": []
  },
  {
   "cell_type": "code",
   "execution_count": null,
   "metadata": {},
   "outputs": [],
   "source": []
  },
  {
   "cell_type": "code",
   "execution_count": null,
   "metadata": {},
   "outputs": [],
   "source": []
  }
 ],
 "metadata": {
  "kernelspec": {
   "display_name": "Python 3",
   "language": "python",
   "name": "python3"
  },
  "language_info": {
   "codemirror_mode": {
    "name": "ipython",
    "version": 3
   },
   "file_extension": ".py",
   "mimetype": "text/x-python",
   "name": "python",
   "nbconvert_exporter": "python",
   "pygments_lexer": "ipython3",
   "version": "3.7.4"
  }
 },
 "nbformat": 4,
 "nbformat_minor": 2
}
